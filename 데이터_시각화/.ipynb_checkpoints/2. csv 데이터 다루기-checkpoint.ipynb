{
 "cells": [
  {
   "cell_type": "markdown",
   "metadata": {
    "id": "7YIlhQsV6yJg"
   },
   "source": [
    "### 서울시에서 가장 더웠던 날의 일자와 온도 확인하기\n"
   ]
  },
  {
   "cell_type": "markdown",
   "metadata": {
    "id": "12Wb8YW96zFz"
   },
   "source": [
    "1. csv 모듈을 이용\n",
    "- [모두의 데이터 분석] 51페이지 참조\n",
    "- 데이터: seoul_weather.csv\n",
    "- 폴더위치: content/data/\n",
    "- 맨 윗줄은 header 변수에 저장\n",
    "- 최고 기온/날짜 저장 변수 초기화\n",
    "- 누락된 온도를 찾아 -999로 저장\n",
    "- 문자열로 저장된 온도를 실수형 자료로 변경\n",
    "- 최고 높은 온도와 해당 날짜 찾기 및 출력\n",
    "  * for / if 구문 사용\n"
   ]
  },
  {
   "cell_type": "markdown",
   "metadata": {
    "id": "WOprzg5R1iao"
   },
   "source": [
    "csv 모듈로 데이터 읽어오기"
   ]
  },
  {
   "cell_type": "code",
   "execution_count": 3,
   "metadata": {
    "id": "pYBbTbkQ5Yd_"
   },
   "outputs": [],
   "source": [
    "import csv # 모듈 연결  \n",
    "import time"
   ]
  },
  {
   "cell_type": "code",
   "execution_count": 6,
   "metadata": {
    "colab": {
     "base_uri": "https://localhost:8080/"
    },
    "executionInfo": {
     "elapsed": 309,
     "status": "ok",
     "timestamp": 1647329477994,
     "user": {
      "displayName": "dc w",
      "photoUrl": "https://lh3.googleusercontent.com/a/default-user=s64",
      "userId": "02032790542712423852"
     },
     "user_tz": -540
    },
    "id": "YOT-Vr481jpB",
    "outputId": "7fc67c76-95ae-4231-f718-a652a6b9252a"
   },
   "outputs": [
    {
     "name": "stdout",
     "output_type": "stream",
     "text": [
      "['지점명', '일시', '평균기온(℃)', '최저기온(℃)', '최고기온(℃)'] \n",
      "\n",
      "기상관측을 시작한 이래 서울의 최고 기온은 39.6이고, 날짜는 2018-08-01입니다\n",
      "0.05020499229431152\n"
     ]
    }
   ],
   "source": [
    "# 파일연결 \n",
    "strt = time.time()\n",
    "\n",
    "f = open(\"seoul_weather.csv\", encoding = \"cp949\")\n",
    "data = csv.reader(f)\n",
    "header = next(data)\n",
    "print(header, \"\\n\")\n",
    "\n",
    "# \"최고기온\" 중 가장 높은 온도값/해당 온도의 \"일시\"를 출력\n",
    "# 일자별 최고 온도 찾기 = > 이 온도의 날짜 가져오기\n",
    "\n",
    "max_temp = -999   # 최고 온도를 계산하기 위한 변수(최초 -999 부여)\n",
    "max_date = \"\"     # 최고 온도를 찾았을 때 날짜를 저장할 변수\n",
    "\n",
    "for row in data:\n",
    "  # row 값 => ['서울', '1907-10-01', '13.5', '7.9', '20.7']\n",
    "    try:\n",
    "        row[-1] = float(row[-1])  # row의 마지막 데이터(최고기온)의 dtype => 실수형으로 변경\n",
    "        if max_temp < row[-1]:    # 현재 최고온도가 기본 최고온도보다 높다면 기본온도 변경\n",
    "            max_temp = row[-1]\n",
    "            max_date = row[1]\n",
    "    except:\n",
    "        continue\n",
    "    # row[-1] = -999\n",
    "    # print(row[-1])\n",
    "    \n",
    "    \n",
    "f.close()\n",
    "\n",
    "print(f\"기상관측을 시작한 이래 서울의 최고 기온은 {max_temp}이고, 날짜는 {max_date}입니다\")\n",
    "endt = time.time()\n",
    "print(endt - strt)"
   ]
  },
  {
   "cell_type": "code",
   "execution_count": 10,
   "metadata": {
    "colab": {
     "base_uri": "https://localhost:8080/"
    },
    "executionInfo": {
     "elapsed": 375,
     "status": "ok",
     "timestamp": 1647329479907,
     "user": {
      "displayName": "dc w",
      "photoUrl": "https://lh3.googleusercontent.com/a/default-user=s64",
      "userId": "02032790542712423852"
     },
     "user_tz": -540
    },
    "id": "5c53TV2uAPve",
    "outputId": "21ee2c23-7463-4c20-83a2-6ab42bab691e"
   },
   "outputs": [
    {
     "name": "stdout",
     "output_type": "stream",
     "text": [
      "['지점명', '일시', '평균기온(℃)', '최저기온(℃)', '최고기온(℃)'] \n",
      "\n",
      "기상관측을 시작한 이래 서울의 최고 기온은 39.6이고, 날짜는 2018-08-01 입니다.\n",
      "0.05215311050415039\n"
     ]
    }
   ],
   "source": [
    "## NaN을 if를 이용해 처리\n",
    "\n",
    "# 파일연결\n",
    "\n",
    "strt = time.time()\n",
    "f = open(\"seoul_weather.csv\", encoding=\"cp949\")\n",
    "data = csv.reader(f)\n",
    "header=next(data)\n",
    "print(header, \"\\n\")\n",
    "\n",
    "# \"최고기온\" 중 가장 높은 온도값/해당 온도의 \"일시\"를 출력\n",
    "# 일자별 최고 온도 찾기 = > 이 온도의 날짜 가져오기\n",
    "\n",
    "max_temp=-999     # 최고 온도를 계산하기 위한 변수(최초 -999 부여)\n",
    "max_date=\"\"       # 최고 온도를 찾았을때 날짜를 저장할 변수\n",
    "\n",
    "for row in data:\n",
    "    # row 값 => ['서울', '1907-10-01', '13.5', '7.9', '20.7']\n",
    "    # NaN 값 처리\n",
    "    if row[-1] == \"\":\n",
    "        row[-1] = -999\n",
    "\n",
    "    # row의 마지막 데이터(최고기온)의 dtype => 실수형으로 변경\n",
    "    row[-1] = float(row[-1])   \n",
    "\n",
    "    # 현재 최고온도가 기본 최고온도보다 높다면 기본온도 변경\n",
    "    if max_temp < row[-1]:     \n",
    "        max_temp = row[-1]\n",
    "        max_date = row[1]\n",
    "\n",
    "f.close()\n",
    "\n",
    "print(f\"기상관측을 시작한 이래 서울의 최고 기온은 {max_temp}이고, 날짜는 {max_date} 입니다.\")\n",
    "\n",
    "endt = time.time()\n",
    "print(endt - strt)"
   ]
  },
  {
   "cell_type": "code",
   "execution_count": 12,
   "metadata": {
    "colab": {
     "base_uri": "https://localhost:8080/",
     "height": 205
    },
    "executionInfo": {
     "elapsed": 281,
     "status": "error",
     "timestamp": 1647329493004,
     "user": {
      "displayName": "dc w",
      "photoUrl": "https://lh3.googleusercontent.com/a/default-user=s64",
      "userId": "02032790542712423852"
     },
     "user_tz": -540
    },
    "id": "ywrOuTFj2zV5",
    "outputId": "af51d14a-8db4-4540-d454-38082529903a"
   },
   "outputs": [
    {
     "data": {
      "text/plain": [
       "[['지점명', '일시', '평균기온(℃)', '최저기온(℃)', '최고기온(℃)'],\n",
       " ['서울', '1907-10-01', '13.5', '7.9', '20.7'],\n",
       " ['서울', '1907-10-02', '16.2', '7.9', '22'],\n",
       " ['서울', '1907-10-03', '16.2', '13.1', '21.3'],\n",
       " ['서울', '1907-10-04', '16.5', '11.2', '22']]"
      ]
     },
     "execution_count": 12,
     "metadata": {},
     "output_type": "execute_result"
    }
   ],
   "source": [
    "f = open(\"seoul_weather.csv\", encoding=\"cp949\")\n",
    "data = csv.reader(f)\n",
    "list(data)[:5]"
   ]
  },
  {
   "cell_type": "markdown",
   "metadata": {
    "id": "00kIxwhS62SC"
   },
   "source": [
    "2. pandas 모듈 이용하기\n",
    "- 결측지 처리하기"
   ]
  },
  {
   "cell_type": "code",
   "execution_count": 13,
   "metadata": {
    "colab": {
     "base_uri": "https://localhost:8080/"
    },
    "executionInfo": {
     "elapsed": 284,
     "status": "ok",
     "timestamp": 1647329496746,
     "user": {
      "displayName": "dc w",
      "photoUrl": "https://lh3.googleusercontent.com/a/default-user=s64",
      "userId": "02032790542712423852"
     },
     "user_tz": -540
    },
    "id": "cKfKKiii1umo",
    "outputId": "4e9d4d71-7c0e-4692-c477-7d739c85304c"
   },
   "outputs": [
    {
     "name": "stdout",
     "output_type": "stream",
     "text": [
      "<class 'pandas.core.frame.DataFrame'>\n",
      "RangeIndex: 41382 entries, 0 to 41381\n",
      "Data columns (total 5 columns):\n",
      " #   Column   Non-Null Count  Dtype  \n",
      "---  ------   --------------  -----  \n",
      " 0   지점명      41382 non-null  object \n",
      " 1   일시       41382 non-null  object \n",
      " 2   평균기온(℃)  40626 non-null  float64\n",
      " 3   최저기온(℃)  40625 non-null  float64\n",
      " 4   최고기온(℃)  40624 non-null  float64\n",
      "dtypes: float64(3), object(2)\n",
      "memory usage: 1.6+ MB\n"
     ]
    }
   ],
   "source": [
    "# 모듈 연결 및 파일 읽기\n",
    "import pandas as pd\n",
    "\n",
    "df = pd.read_csv(\"seoul_weather.csv\", encoding = \"cp949\")\n",
    "df.info()"
   ]
  },
  {
   "cell_type": "code",
   "execution_count": 14,
   "metadata": {
    "colab": {
     "base_uri": "https://localhost:8080/"
    },
    "executionInfo": {
     "elapsed": 277,
     "status": "ok",
     "timestamp": 1647329499151,
     "user": {
      "displayName": "dc w",
      "photoUrl": "https://lh3.googleusercontent.com/a/default-user=s64",
      "userId": "02032790542712423852"
     },
     "user_tz": -540
    },
    "id": "JdnQmNTW1r6E",
    "outputId": "4a8d57a0-ee3d-4855-9a4c-f97d22e4e001"
   },
   "outputs": [
    {
     "name": "stdout",
     "output_type": "stream",
     "text": [
      "지점명          0\n",
      "일시           0\n",
      "평균기온(℃)    756\n",
      "최저기온(℃)    757\n",
      "최고기온(℃)    758\n",
      "dtype: int64\n",
      "지점명        0\n",
      "일시         0\n",
      "평균기온(℃)    0\n",
      "최저기온(℃)    1\n",
      "최고기온(℃)    2\n",
      "dtype: int64\n"
     ]
    }
   ],
   "source": [
    "# 결측지(NaN) 처리 => 한행에 3개이상 존재하면 해당 행 삭제\n",
    "print(df.isna().sum())    # 각 필드(열)별 NaN 갯수 확인\n",
    "\n",
    "df = df.dropna(thresh = 3)\n",
    "print(df.isna().sum())    # 삭제후"
   ]
  },
  {
   "cell_type": "markdown",
   "metadata": {
    "id": "aCdtRMTTD1la"
   },
   "source": [
    "# 중요!!!!"
   ]
  },
  {
   "cell_type": "code",
   "execution_count": 16,
   "metadata": {
    "colab": {
     "base_uri": "https://localhost:8080/"
    },
    "executionInfo": {
     "elapsed": 414,
     "status": "ok",
     "timestamp": 1647329501722,
     "user": {
      "displayName": "dc w",
      "photoUrl": "https://lh3.googleusercontent.com/a/default-user=s64",
      "userId": "02032790542712423852"
     },
     "user_tz": -540
    },
    "id": "j2V6-Qhi1r2H",
    "outputId": "f8b35ad6-d5ef-4311-f347-3b4e782be927"
   },
   "outputs": [
    {
     "name": "stdout",
     "output_type": "stream",
     "text": [
      "지점명        0\n",
      "일시         0\n",
      "평균기온(℃)    0\n",
      "최저기온(℃)    1\n",
      "최고기온(℃)    2\n",
      "dtype: int64\n"
     ]
    }
   ],
   "source": [
    "# NaN이 2개 이하인 데이터는 아래와 같이 바로 앞 또는 뒤 행의 값으로 채우기\n",
    "\n",
    "# 결측값의 앞 행의 값으로 채우기 : df.fillna(method='ffill') *\n",
    "# 결측값의 뒷 행의 값으로 채우기 : df.fillna(method='bfill')\n",
    "# 각 열의 평균 값으로 채우기 : df.fillna(df.mean())\n",
    "\n",
    "df.fillna(method= 'ffill')\n",
    "print(df.isna().sum())    # 데이터 수정후"
   ]
  },
  {
   "cell_type": "code",
   "execution_count": 17,
   "metadata": {
    "colab": {
     "base_uri": "https://localhost:8080/"
    },
    "executionInfo": {
     "elapsed": 281,
     "status": "ok",
     "timestamp": 1647329503716,
     "user": {
      "displayName": "dc w",
      "photoUrl": "https://lh3.googleusercontent.com/a/default-user=s64",
      "userId": "02032790542712423852"
     },
     "user_tz": -540
    },
    "id": "TqoHyH8x1vGp",
    "outputId": "bd2fe4c6-6c3b-463a-94c3-dc7b920497ed"
   },
   "outputs": [
    {
     "name": "stdout",
     "output_type": "stream",
     "text": [
      "기상관측을 시작한 이래 서울의 최고 기온은 2018-08-01이고, 날짜는 39.6 입니다.\n"
     ]
    }
   ],
   "source": [
    "df1 = df[df['최고기온(℃)'] == df['최고기온(℃)'].max()][[\"일시\", \"최고기온(℃)\"]]\n",
    "print(f\"기상관측을 시작한 이래 서울의 최고 기온은 {df1.iloc[0,0]}이고, 날짜는 {df1.iloc[0, 1]} 입니다.\")\n",
    "# 결측지(NaN) 처리 => 한행에 3개이상 존재하면 해당 행 삭제\n"
   ]
  },
  {
   "cell_type": "code",
   "execution_count": 18,
   "metadata": {
    "colab": {
     "base_uri": "https://localhost:8080/"
    },
    "executionInfo": {
     "elapsed": 357,
     "status": "ok",
     "timestamp": 1647329505811,
     "user": {
      "displayName": "dc w",
      "photoUrl": "https://lh3.googleusercontent.com/a/default-user=s64",
      "userId": "02032790542712423852"
     },
     "user_tz": -540
    },
    "id": "QbaixrUFFw_Q",
    "outputId": "04dca914-9a91-4528-8eb2-7155e16de40c"
   },
   "outputs": [
    {
     "name": "stdout",
     "output_type": "stream",
     "text": [
      "<class 'pandas.core.frame.DataFrame'>\n",
      "RangeIndex: 41382 entries, 0 to 41381\n",
      "Data columns (total 5 columns):\n",
      " #   Column   Non-Null Count  Dtype  \n",
      "---  ------   --------------  -----  \n",
      " 0   지점명      41382 non-null  object \n",
      " 1   일시       41382 non-null  object \n",
      " 2   평균기온(℃)  40626 non-null  float64\n",
      " 3   최저기온(℃)  40625 non-null  float64\n",
      " 4   최고기온(℃)  40624 non-null  float64\n",
      "dtypes: float64(3), object(2)\n",
      "memory usage: 1.6+ MB\n",
      "지점명          0\n",
      "일시           0\n",
      "평균기온(℃)    756\n",
      "최저기온(℃)    757\n",
      "최고기온(℃)    758\n",
      "dtype: int64\n",
      "기상관측을 시작한 이래 서울의 최고 기온은 2018-08-01이고, 날짜는 39.6 입니다.\n",
      "0.08870410919189453\n"
     ]
    }
   ],
   "source": [
    "strt = time.time()\n",
    "\n",
    "df = pd.read_csv(\"seoul_weather.csv\", encoding=\"cp949\")\n",
    "df.info()\n",
    "\n",
    "# 결측지(NaN) 처리 => 한행에 3개이상 존재하면 해당 행 삭제\n",
    "print(df.isna().sum())   # 각 필드(열)별 NaN 갯수 확인(삭제전)\n",
    "\n",
    "df=df.dropna(thresh=3)\n",
    "#print(df.isna().sum())   # 삭제후\n",
    "df=df.fillna(method='ffill')\n",
    "#print(df.isna().sum())  \n",
    "df1=df[df['최고기온(℃)'] == df['최고기온(℃)'].max()][[\"일시\", \"최고기온(℃)\"]]\n",
    "print(f\"기상관측을 시작한 이래 서울의 최고 기온은 {df1.iloc[0, 0]}이고, 날짜는 {df1.iloc[0, 1]} 입니다.\")\n",
    "\n",
    "endt = time.time()\n",
    "\n",
    "print(endt-strt)"
   ]
  },
  {
   "cell_type": "markdown",
   "metadata": {
    "id": "D3erIyVJ1vl7"
   },
   "source": [
    "# 내 생일의 기온변화 그래프 그리기"
   ]
  },
  {
   "cell_type": "markdown",
   "metadata": {
    "id": "RsDflCb71xEH"
   },
   "source": [
    "- 날씨 데이터 읽어오기\n",
    "\n",
    "> 들여쓴 블록\n",
    "\n",
    "\n",
    "- 헤더 부분(제목)을 next() 함수를 사용해 제외\n",
    "- 내 생일의 최고기온/최저기온 저장 변수 생성"
   ]
  },
  {
   "cell_type": "code",
   "execution_count": 20,
   "metadata": {
    "id": "tPbvWIOG1y4z"
   },
   "outputs": [],
   "source": [
    "# csv 파일 읽어오기\n",
    "\n"
   ]
  },
  {
   "cell_type": "markdown",
   "metadata": {
    "id": "xdWmLit711ND"
   },
   "source": [
    "- 년도별 생일날의 최고기온/최저기온 추출하기\n",
    "- 추출한 데이터 리스트 변수에 저장하기"
   ]
  },
  {
   "cell_type": "markdown",
   "metadata": {
    "id": "aIlUXMxjLCsY"
   },
   "source": [
    "1. 최고/최저/년도별생일 저장 리스트 변수\n",
    "2. data에서 태어난 년도 이후의 생일의 기온 가져오기\n",
    "- 데이터들 중 NaN 값에 대한 처리 방법 고민!!!!\n",
    "- 데이터 형식 => 모두 텍스트 => int/float 수정\n",
    "- 년도만 가져와 int변경 후 이 값이 태어난 년도보다 크면서, 월과 일이 생일과 일치하는지 확인\n",
    " => 일치하면 데이터 추가(년도, 최저기온, 최고기온)\n",
    "- 년도만 가져오려면 ?/ 월만 가져오려면, /일만 가져오려면?\n",
    "3. 시각화\n",
    "- matplotlib을 이용한 차트 작성\n",
    "- 하나의 차트에 최저/최고 같이 출력"
   ]
  },
  {
   "cell_type": "code",
   "execution_count": 21,
   "metadata": {
    "colab": {
     "base_uri": "https://localhost:8080/"
    },
    "executionInfo": {
     "elapsed": 325,
     "status": "ok",
     "timestamp": 1647329511222,
     "user": {
      "displayName": "dc w",
      "photoUrl": "https://lh3.googleusercontent.com/a/default-user=s64",
      "userId": "02032790542712423852"
     },
     "user_tz": -540
    },
    "id": "-kDkkScyPp-o",
    "outputId": "314d131e-7ccc-4ff4-f20f-b741421815fa"
   },
   "outputs": [
    {
     "data": {
      "text/plain": [
       "True"
      ]
     },
     "execution_count": 21,
     "metadata": {},
     "output_type": "execute_result"
    }
   ],
   "source": [
    "int('1907-10-01'.split(\"-\")[0]) >= 2000  # 년도 체크\n",
    "'1907-10-01'.split(\"-\")[1] == \"10\" and '1907-10-01'.split(\"-\")[-1] == \"01\" # 월 체크\n"
   ]
  },
  {
   "cell_type": "code",
   "execution_count": 22,
   "metadata": {
    "colab": {
     "base_uri": "https://localhost:8080/"
    },
    "executionInfo": {
     "elapsed": 348,
     "status": "ok",
     "timestamp": 1647329513166,
     "user": {
      "displayName": "dc w",
      "photoUrl": "https://lh3.googleusercontent.com/a/default-user=s64",
      "userId": "02032790542712423852"
     },
     "user_tz": -540
    },
    "id": "iurEqpRP120L",
    "outputId": "42e3831e-28e2-44d7-a403-f271a4140e93"
   },
   "outputs": [
    {
     "name": "stdout",
     "output_type": "stream",
     "text": [
      "기상관측을 시작한 이래 서울의 최고 기온은 39.6이고, 날짜는 2018-08-01 입니다.\n",
      "기상관측을 시작한 이래 서울의 최저 기온은 -23.1이고, 날짜는 1927-12-31 입니다.\n"
     ]
    }
   ],
   "source": [
    "# 모든 생일날의 최고/최저 온도와 날짜 받아오기\n",
    "import csv\n",
    "f = open(\"seoul_weather.csv\", encoding = \"cp949\")\n",
    "\n",
    "data =csv.reader(f)\n",
    "next(data)\n",
    "\n",
    "max_temp = -999\n",
    "min_temp = 999\n",
    "max_date = \"\"\n",
    "min_date = \"\"\n",
    "for row in data:\n",
    "    # NaN 값 처리\n",
    "    if row[-1] == \"\":\n",
    "        row[-1] = -999\n",
    "  \n",
    "    # row의 마지막 데이터(최고기온)의 dtype => 실수형으로 변경\n",
    "    row[-1] = float(row[-1])   \n",
    "\n",
    "    if row[-2] == \"\":\n",
    "        row[-2] = 999\n",
    "\n",
    "    # row의 -2번째 데이터(최저기온)의 dtype => 실수형으로 변경\n",
    "    row[-2] = float(row[-2])\n",
    "\n",
    "    # 현재 최고온도가 기본 최고온도보다 높다면 기본온도 변경\n",
    "    if max_temp < row[-1]:     \n",
    "        max_temp = row[-1]\n",
    "        max_date = row[1]\n",
    "\n",
    "    # 현재 최저온도가 기본 최저온도보다 낮다면 기본온도 변경\n",
    "    if min_temp > row[-2]:\n",
    "        min_temp = row[-2]\n",
    "        min_date = row[1]\n",
    "    \n",
    "    \n",
    "print(f\"기상관측을 시작한 이래 서울의 최고 기온은 {max_temp}이고, 날짜는 {max_date} 입니다.\")\n",
    "print(f\"기상관측을 시작한 이래 서울의 최저 기온은 {min_temp}이고, 날짜는 {min_date} 입니다.\")"
   ]
  },
  {
   "cell_type": "code",
   "execution_count": 23,
   "metadata": {
    "colab": {
     "base_uri": "https://localhost:8080/"
    },
    "executionInfo": {
     "elapsed": 290,
     "status": "ok",
     "timestamp": 1647329515421,
     "user": {
      "displayName": "dc w",
      "photoUrl": "https://lh3.googleusercontent.com/a/default-user=s64",
      "userId": "02032790542712423852"
     },
     "user_tz": -540
    },
    "id": "qUdYvCy6Ycbl",
    "outputId": "0c716f20-0022-4982-a648-9f0f37617e47"
   },
   "outputs": [
    {
     "name": "stdout",
     "output_type": "stream",
     "text": [
      "[18.1, 14.1, 21.3, 20.7, 9.3, 18.7, 16.3, 16.0, 17.8, 22.7, 15.8, 12.0, 14.3, 16.8, 20.6, 9.6, 17.4, 15.1, 17.5, 24.3, 17.6, 21.4, 19.6, 19.3, 17.9, 20.4, 13.5]\n"
     ]
    }
   ],
   "source": [
    "# 모든 생일날의 최고/최저 온도와 날짜 받아오기\n",
    "import csv\n",
    "\n",
    "f = open(\"seoul_weather.csv\", encoding = \"cp949\")\n",
    "data = csv.reader(f)\n",
    "next(data)\n",
    "\n",
    "max_temp=[];min_temp=[];date_tmp=[]\n",
    "\n",
    "for row in data:    # csv.reader에서 1개씩 읽어오기\n",
    "    # NaN 확인(최고/최저 기온 모두 값이 있다면/NaN이 아니라면)\n",
    "    if row[-2] != \"\" and row[-1] != \"\":\n",
    "        if int(row[1].split(\"-\")[0]) >= 1995:\n",
    "            if row[1][5:7] == \"04\" and row[1][-2:] == \"13\":\n",
    "                max_temp.append(float(row[-1]))     # 최고기온 리스트 추가\n",
    "                min_temp.append(float(row[-2]))     # 최고기온 리스트 추가\n",
    "                date_tmp.append(row[1][:4])        # row[1].split(\"-\")[0]\n",
    "\n",
    "print(max_temp)\n",
    "    \n"
   ]
  },
  {
   "cell_type": "markdown",
   "metadata": {
    "id": "72zG0haK14Nl"
   },
   "source": [
    "- 그래프 그리기\n",
    "\n",
    "* 최고/최저 온도를 출력하는 차트 그리기\n",
    "\n"
   ]
  },
  {
   "cell_type": "code",
   "execution_count": 31,
   "metadata": {
    "colab": {
     "base_uri": "https://localhost:8080/"
    },
    "executionInfo": {
     "elapsed": 361,
     "status": "ok",
     "timestamp": 1647329624028,
     "user": {
      "displayName": "dc w",
      "photoUrl": "https://lh3.googleusercontent.com/a/default-user=s64",
      "userId": "02032790542712423852"
     },
     "user_tz": -540
    },
    "id": "MDD5jAGMb9Zz",
    "outputId": "409e3dea-22eb-4a7d-b628-09b915fe4ba5"
   },
   "outputs": [
    {
     "data": {
      "image/png": "[encoded data removed]",
      "text/plain": [
       "<Figure size 864x360 with 1 Axes>"
      ]
     },
     "metadata": {
      "needs_background": "light"
     },
     "output_type": "display_data"
    }
   ],
   "source": [
    "# 차트에서 한글 사용\n",
    "import matplotlib.pyplot as plt\n",
    "import platform\n",
    "\n",
    "if platform.system() == \"Darwin\":  # 맥\n",
    "    plt.rc('font', family='AppleGothic')\n",
    "elif platform.system() == \"Windows\":  # 윈도우\n",
    "    plt.rc('font', family='Malgun Gothic')\n",
    "elif platform.system() == \"Linux\":  # 리눅스 = 코랩\n",
    "    plt.rc('font', family='Malgun Gothic')\n",
    "\n",
    "\n",
    "plt.figure( figsize = (12, 5))\n",
    "plt.plot(max_temp, \":\" ,label=\"최고기온\")\n",
    "plt.plot(min_temp, \":\", label=\"최저기온\")\n",
    "\n",
    "plt.title(\"생일별 최고/최저 기온_기준: 4월 13일\")\n",
    "plt.legend()\n",
    "plt.xticks(list(range(len(date_tmp))), label=date_tmp, rotation = 45, size = 9)\n",
    "\n",
    "plt.show()\n"
   ]
  },
  {
   "cell_type": "markdown",
   "metadata": {
    "id": "s7cNql1OcF-l"
   },
   "source": []
  },
  {
   "cell_type": "code",
   "execution_count": 28,
   "metadata": {
    "colab": {
     "base_uri": "https://localhost:8080/"
    },
    "executionInfo": {
     "elapsed": 324,
     "status": "ok",
     "timestamp": 1647334252598,
     "user": {
      "displayName": "dc w",
      "photoUrl": "https://lh3.googleusercontent.com/a/default-user=s64",
      "userId": "02032790542712423852"
     },
     "user_tz": -540
    },
    "id": "4flfjndKvHow",
    "outputId": "89b69926-5c21-490d-8488-9d9773d7652b"
   },
   "outputs": [
    {
     "name": "stdout",
     "output_type": "stream",
     "text": [
      "<class 'pandas.core.frame.DataFrame'>\n",
      "RangeIndex: 225 entries, 0 to 224\n",
      "Data columns (total 6 columns):\n",
      " #   Column  Non-Null Count  Dtype  \n",
      "---  ------  --------------  -----  \n",
      " 0   상호      225 non-null    object \n",
      " 1   상표      225 non-null    object \n",
      " 2   구       225 non-null    object \n",
      " 3   셀프여부    225 non-null    object \n",
      " 4   휘발유     225 non-null    float64\n",
      " 5   경유      225 non-null    float64\n",
      "dtypes: float64(2), object(4)\n",
      "memory usage: 10.7+ KB\n"
     ]
    }
   ],
   "source": [
    "### 유가정보\n",
    "\n",
    "df2 = pd.read_csv(\"서울시유류정보.csv\", encoding=\"cp949\")\n",
    "df2.info()"
   ]
  },
  {
   "cell_type": "code",
   "execution_count": 29,
   "metadata": {
    "colab": {
     "base_uri": "https://localhost:8080/",
     "height": 425
    },
    "executionInfo": {
     "elapsed": 304,
     "status": "ok",
     "timestamp": 1647334262873,
     "user": {
      "displayName": "dc w",
      "photoUrl": "https://lh3.googleusercontent.com/a/default-user=s64",
      "userId": "02032790542712423852"
     },
     "user_tz": -540
    },
    "id": "YawfqFQmvnem",
    "outputId": "e151245c-96fe-423c-91ac-5b0d59fb4cfe"
   },
   "outputs": [
    {
     "data": {
      "text/html": [
       "<div>\n",
       "<style scoped>\n",
       "    .dataframe tbody tr th:only-of-type {\n",
       "        vertical-align: middle;\n",
       "    }\n",
       "\n",
       "    .dataframe tbody tr th {\n",
       "        vertical-align: top;\n",
       "    }\n",
       "\n",
       "    .dataframe thead th {\n",
       "        text-align: right;\n",
       "    }\n",
       "</style>\n",
       "<table border=\"1\" class=\"dataframe\">\n",
       "  <thead>\n",
       "    <tr style=\"text-align: right;\">\n",
       "      <th></th>\n",
       "      <th>휘발유</th>\n",
       "      <th>경유</th>\n",
       "    </tr>\n",
       "    <tr>\n",
       "      <th>구</th>\n",
       "      <th></th>\n",
       "      <th></th>\n",
       "    </tr>\n",
       "  </thead>\n",
       "  <tbody>\n",
       "    <tr>\n",
       "      <th>강남구</th>\n",
       "      <td>2147.099888</td>\n",
       "      <td>2038.561369</td>\n",
       "    </tr>\n",
       "    <tr>\n",
       "      <th>강동구</th>\n",
       "      <td>2075.842660</td>\n",
       "      <td>1960.161206</td>\n",
       "    </tr>\n",
       "    <tr>\n",
       "      <th>강북구</th>\n",
       "      <td>2001.230769</td>\n",
       "      <td>1912.153846</td>\n",
       "    </tr>\n",
       "    <tr>\n",
       "      <th>노원구</th>\n",
       "      <td>2035.933333</td>\n",
       "      <td>1938.666667</td>\n",
       "    </tr>\n",
       "    <tr>\n",
       "      <th>도봉구</th>\n",
       "      <td>2020.994368</td>\n",
       "      <td>1934.792049</td>\n",
       "    </tr>\n",
       "    <tr>\n",
       "      <th>마포구</th>\n",
       "      <td>2071.750000</td>\n",
       "      <td>1972.833333</td>\n",
       "    </tr>\n",
       "    <tr>\n",
       "      <th>서초구</th>\n",
       "      <td>2068.696970</td>\n",
       "      <td>1977.393939</td>\n",
       "    </tr>\n",
       "    <tr>\n",
       "      <th>송파구</th>\n",
       "      <td>2013.687500</td>\n",
       "      <td>1911.093750</td>\n",
       "    </tr>\n",
       "    <tr>\n",
       "      <th>양천구</th>\n",
       "      <td>2001.760000</td>\n",
       "      <td>1929.840000</td>\n",
       "    </tr>\n",
       "    <tr>\n",
       "      <th>은평구</th>\n",
       "      <td>2010.758742</td>\n",
       "      <td>1930.426875</td>\n",
       "    </tr>\n",
       "    <tr>\n",
       "      <th>종로구</th>\n",
       "      <td>2224.655402</td>\n",
       "      <td>2105.917431</td>\n",
       "    </tr>\n",
       "  </tbody>\n",
       "</table>\n",
       "</div>"
      ],
      "text/plain": [
       "             휘발유           경유\n",
       "구                            \n",
       "강남구  2147.099888  2038.561369\n",
       "강동구  2075.842660  1960.161206\n",
       "강북구  2001.230769  1912.153846\n",
       "노원구  2035.933333  1938.666667\n",
       "도봉구  2020.994368  1934.792049\n",
       "마포구  2071.750000  1972.833333\n",
       "서초구  2068.696970  1977.393939\n",
       "송파구  2013.687500  1911.093750\n",
       "양천구  2001.760000  1929.840000\n",
       "은평구  2010.758742  1930.426875\n",
       "종로구  2224.655402  2105.917431"
      ]
     },
     "metadata": {},
     "output_type": "display_data"
    }
   ],
   "source": [
    "df3=df2.groupby(\"구\").mean()\n",
    "display(df3)"
   ]
  },
  {
   "cell_type": "code",
   "execution_count": 32,
   "metadata": {
    "colab": {
     "base_uri": "https://localhost:8080/"
    },
    "executionInfo": {
     "elapsed": 367,
     "status": "ok",
     "timestamp": 1647334268290,
     "user": {
      "displayName": "dc w",
      "photoUrl": "https://lh3.googleusercontent.com/a/default-user=s64",
      "userId": "02032790542712423852"
     },
     "user_tz": -540
    },
    "id": "0GpO42LQvpMz",
    "outputId": "caa41898-b1d6-4ffe-8f3f-22aa74bea23d"
   },
   "outputs": [
    {
     "data": {
      "image/png": "[encoded data removed]",
      "text/plain": [
       "<Figure size 864x360 with 1 Axes>"
      ]
     },
     "metadata": {
      "needs_background": "light"
     },
     "output_type": "display_data"
    }
   ],
   "source": [
    "import matplotlib.pyplot as plt\n",
    "\n",
    "plt.figure( figsize = (12, 5))\n",
    "plt.plot(df3['휘발유'], label=\"휘발유\")\n",
    "plt.plot(df3['경유'], label=\"경유\")\n",
    "\n",
    "plt.title(\"서울시 구별 휘발유/경유 평균 가격\", size = 15)\n",
    "plt.legend()\n",
    "\n",
    "plt.show()"
   ]
  },
  {
   "cell_type": "code",
   "execution_count": 33,
   "metadata": {
    "colab": {
     "base_uri": "https://localhost:8080/"
    },
    "executionInfo": {
     "elapsed": 417,
     "status": "ok",
     "timestamp": 1647334271984,
     "user": {
      "displayName": "dc w",
      "photoUrl": "https://lh3.googleusercontent.com/a/default-user=s64",
      "userId": "02032790542712423852"
     },
     "user_tz": -540
    },
    "id": "AcKF6DbzvqHv",
    "outputId": "7536a2c5-8eea-4d9f-c209-eab80fae7327"
   },
   "outputs": [
    {
     "data": {
      "image/png": "[encoded data removed]",
      "text/plain": [
       "<Figure size 864x360 with 1 Axes>"
      ]
     },
     "metadata": {
      "needs_background": "light"
     },
     "output_type": "display_data"
    }
   ],
   "source": [
    "\n",
    "\n",
    "plt.figure( figsize = (12, 5))\n",
    "df3[\"휘발유\"].plot()\n",
    "\n",
    "plt.title(\"서울시 구별 휘발유 평균 가격\", size = 15)\n",
    "plt.legend()\n",
    "\n",
    "plt.show()"
   ]
  }
 ],
 "metadata": {
  "colab": {
   "authorship_tag": "ABX9TyPl4leNqbvmvGY1TazUdeJe",
   "collapsed_sections": [],
   "name": "2. csv 데이터 다루기.ipynb",
   "provenance": []
  },
  "kernelspec": {
   "display_name": "Python 3 (ipykernel)",
   "language": "python",
   "name": "python3"
  },
  "language_info": {
   "codemirror_mode": {
    "name": "ipython",
    "version": 3
   },
   "file_extension": ".py",
   "mimetype": "text/x-python",
   "name": "python",
   "nbconvert_exporter": "python",
   "pygments_lexer": "ipython3",
   "version": "3.9.7"
  }
 },
 "nbformat": 4,
 "nbformat_minor": 1
}
