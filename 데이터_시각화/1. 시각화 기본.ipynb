{
 "cells": [
  {
   "cell_type": "markdown",
   "metadata": {
    "id": "6Vey36miW3I8"
   },
   "source": [
    "### 데이터 시각화\n",
    "- 참고: https://matplotlib.org/stable/index.html\n",
    "- 기본 사용 방법:\n",
    "        import matplotlib.pyplot as plt\n",
    "        plt.plot([값, 값, 값, 값])\n",
    "        plt.show()\n",
    "\n",
    "- 교재(모두의 데이터 분석) 54p~"
   ]
  },
  {
   "cell_type": "code",
   "execution_count": 1,
   "metadata": {
    "colab": {
     "base_uri": "https://localhost:8080/",
     "height": 265
    },
    "executionInfo": {
     "elapsed": 388,
     "status": "ok",
     "timestamp": 1647311247074,
     "user": {
      "displayName": "dc w",
      "photoUrl": "https://lh3.googleusercontent.com/a/default-user=s64",
      "userId": "02032790542712423852"
     },
     "user_tz": -540
    },
    "id": "ewW3SHnRWWzk",
    "outputId": "26128e72-1caf-457e-b9a4-1a682b734392"
   },
   "outputs": [
    {
     "data": {
      "image/png": "[encoded data removed]",
      "text/plain": [
       "<Figure size 432x288 with 1 Axes>"
      ]
     },
     "metadata": {
      "needs_background": "light"
     },
     "output_type": "display_data"
    }
   ],
   "source": [
    "import matplotlib.pyplot as plt\n",
    "\n",
    "x = [1,2 ,3, 4, 5, 6]\n",
    "y = [4,7,6,8,2,9]\n",
    "plt.plot(x, y, \"ro\")    # 차트 출력\n",
    "plt.show()"
   ]
  },
  {
   "cell_type": "code",
   "execution_count": 2,
   "metadata": {
    "colab": {
     "base_uri": "https://localhost:8080/",
     "height": 265
    },
    "executionInfo": {
     "elapsed": 568,
     "status": "ok",
     "timestamp": 1647311758030,
     "user": {
      "displayName": "dc w",
      "photoUrl": "https://lh3.googleusercontent.com/a/default-user=s64",
      "userId": "02032790542712423852"
     },
     "user_tz": -540
    },
    "id": "CiJRJaXiYwGG",
    "outputId": "3eac86bf-e266-4f27-9b6f-dd2f7fbf857f"
   },
   "outputs": [
    {
     "data": {
      "image/png": "[encoded data removed]",
      "text/plain": [
       "<Figure size 432x288 with 1 Axes>"
      ]
     },
     "metadata": {
      "needs_background": "light"
     },
     "output_type": "display_data"
    }
   ],
   "source": [
    "import matplotlib.pyplot as plt\n",
    "\n",
    "x = [0,1,2,3,4,5]\n",
    "y1 = [4,7,6,8,2,9]\n",
    "y2 = [6, 9, 12, 18, 22, 14]\n",
    "y3 = [9, 22, 3, 16, 10, 15]\n",
    "\n",
    "\n",
    "plt.plot(x, y1, \"r--\", x, y2, \"bs\", x, y3, \"g^\")    # y값 차트 출력\n",
    "plt.show()"
   ]
  },
  {
   "cell_type": "code",
   "execution_count": null,
   "metadata": {
    "id": "jbWujORPZ1Im"
   },
   "outputs": [],
   "source": []
  }
 ],
 "metadata": {
  "colab": {
   "authorship_tag": "ABX9TyPbOOozH/5Xl/p/YIKodCQc",
   "collapsed_sections": [],
   "name": "1. 시각화 기본.ipynb",
   "provenance": []
  },
  "kernelspec": {
   "display_name": "Python 3 (ipykernel)",
   "language": "python",
   "name": "python3"
  },
  "language_info": {
   "codemirror_mode": {
    "name": "ipython",
    "version": 3
   },
   "file_extension": ".py",
   "mimetype": "text/x-python",
   "name": "python",
   "nbconvert_exporter": "python",
   "pygments_lexer": "ipython3",
   "version": "3.9.7"
  }
 },
 "nbformat": 4,
 "nbformat_minor": 1
}
