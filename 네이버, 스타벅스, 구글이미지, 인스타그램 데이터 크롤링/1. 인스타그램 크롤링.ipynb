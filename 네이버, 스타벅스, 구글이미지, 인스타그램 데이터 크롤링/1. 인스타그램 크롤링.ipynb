{
 "cells": [
  {
   "cell_type": "markdown",
   "id": "b9b0458c",
   "metadata": {},
   "source": [
    "### 인스타그램 해시태그 크롤링\n",
    "- 셀레니움을 이용한 크롤링\n",
    "- 결과에 대한 단어 분석"
   ]
  },
  {
   "cell_type": "code",
   "execution_count": 1,
   "id": "aa0ef32c",
   "metadata": {},
   "outputs": [],
   "source": [
    "from selenium.webdriver import Chrome\n",
    "from selenium.webdriver.common.by import By\n",
    "from bs4 import BeautifulSoup as bs \n",
    "import pandas as pd\n",
    "import re\n",
    "import time\n",
    "import sys"
   ]
  },
  {
   "cell_type": "code",
   "execution_count": 2,
   "id": "90c06f48",
   "metadata": {},
   "outputs": [],
   "source": [
    "# 화면 아래쪽으로 스크롤\n",
    "def page_Down():\n",
    "    driver.execute_script(\"window.scrollTo(0, document.body.scrollHeight)\")\n",
    "    time.sleep(2)"
   ]
  },
  {
   "cell_type": "markdown",
   "id": "6c280243",
   "metadata": {},
   "source": [
    "### 1. 인스타그램 로그인"
   ]
  },
  {
   "cell_type": "code",
   "execution_count": 12,
   "id": "baed277c",
   "metadata": {},
   "outputs": [],
   "source": [
    "# 드라이버 실행\n",
    "driver = Chrome(\"./chromedriver\")\n",
    "url = \"instagram\"\n",
    "# 인스타그램 접속\n",
    "driver.get(\"https://www.instagram.com/\")\n",
    "time.sleep(2)"
   ]
  },
  {
   "cell_type": "code",
   "execution_count": 33,
   "id": "799b2158",
   "metadata": {},
   "outputs": [],
   "source": [
    "# 인스타그램 로그인\n",
    "userID = \"아이디\"\n",
    "userPW = \"비밀번호\"\n",
    "\n",
    "# driver.find_element_by_css_selector(\"#loginForm > div > div:nth-child(1) > div > label > input\").click()\n",
    "input_id = driver.find_element(By.CSS_SELECTOR,\" #loginForm > div > div:nth-child(1) > div > label > input\")\n",
    "input_id.clear()\n",
    "input_id.send_keys(userID)\n",
    "\n",
    "input_pw = driver.find_element(By.CSS_SELECTOR, \"#logihnForm > div > div:nth-child(2) > div > label > input\")\n",
    "input_pw.clear()\n",
    "input_pw.send_keys(userPW)\n",
    "\n",
    "input_pw.submit() # 데이터 전송\n",
    "time.sleep(3)\n",
    "\n",
    "driver.find_element(By.CSS_SELECTOR, \"#react-root > section > main > div > div > div > div > button\").click()\n"
   ]
  },
  {
   "cell_type": "markdown",
   "id": "e7791eba",
   "metadata": {},
   "source": [
    "#### 2. 인스타그램에서 검색 url로 접속하기"
   ]
  },
  {
   "cell_type": "code",
   "execution_count": 39,
   "id": "31db0800",
   "metadata": {},
   "outputs": [
    {
     "name": "stdout",
     "output_type": "stream",
     "text": [
      "검색어 입력:제주도맛집\n"
     ]
    }
   ],
   "source": [
    "# 인스타 검색 url 확인 및 사용자 키워드 적용\n",
    "keyword = input(\"검색어 입력:\")\n",
    "url = \"https://www.instagram.com/explore/tags/\" + keyword\n",
    "driver.get(url)"
   ]
  },
  {
   "cell_type": "markdown",
   "id": "7eb87f11",
   "metadata": {},
   "source": [
    "#### 3. 게시글 가져오기"
   ]
  },
  {
   "cell_type": "code",
   "execution_count": 40,
   "id": "6fb7bde6",
   "metadata": {},
   "outputs": [],
   "source": [
    "# 첫번째 게시물 클릭\n",
    "driver.find_element(By.CSS_SELECTOR, \"div._9AhH0\").click()\n",
    "time.sleep(3)"
   ]
  },
  {
   "cell_type": "code",
   "execution_count": 61,
   "id": "1fafac3b",
   "metadata": {},
   "outputs": [
    {
     "data": {
      "text/plain": [
       "'<협찬>재철 식재료로 매일 신선한 스시,숙성회를 맛보실수 있는 스시오타루🏠제주 제주시 인다2길 30🏠제주 제주시 아라일동 6117-8🕓매일 11:30 - 22:00(브레이크타임 15:00 - 17:00)☎064-752-5271🌟포장가능🌟스시오타루#제주맛집 #제주도맛집 #제주시맛집 #제주오마카세 #제주도오마카세#제주스시 #아라동맛집 #연동맛집#제주시청맛집 #신제주맛집 #구제주맛집#제주도시락 #제주도도시락 #제주회포장#제주초밥 #제주도초밥'"
      ]
     },
     "execution_count": 61,
     "metadata": {},
     "output_type": "execute_result"
    }
   ],
   "source": [
    "# 첫번째 게시물 정보 가져오기\n",
    "html = driver.page_source\n",
    "soup = bs(html, \"html.parser\")\n",
    "# print(soup)\n",
    "\n",
    "# content = soup.select(\"div.C4VMK > div.MOdxS > span\")\n",
    "content = soup.find(\"div\", class_=\"C4VMK\").find_all(\"span\")[1].text\n",
    "content"
   ]
  },
  {
   "cell_type": "code",
   "execution_count": 186,
   "id": "3cc89001",
   "metadata": {},
   "outputs": [],
   "source": [
    "# 다음 게시물로 이동\n",
    "# driver.find_element(By.CSS_SELECTOR, \"body > div.RnEpo._Yhr4 > div.Z2Inc._7c9RR > div > div.l8mY4.feth3 > button > div > span > svg\").click()\n",
    "driver.find_element(By.XPATH, \"/html/body/div[6]/div[2]/div/div/button\").click()\n",
    "# time.sleep(3)\n"
   ]
  },
  {
   "cell_type": "code",
   "execution_count": 183,
   "id": "ccaaef26",
   "metadata": {},
   "outputs": [],
   "source": [
    "# 두번째 이후 게시물 이동\n",
    "driver.find_element(By.XPATH, \"/html/body/div[6]/div[2]/div/div[2]/button\").click()"
   ]
  },
  {
   "cell_type": "code",
   "execution_count": 191,
   "id": "0ab2f150",
   "metadata": {},
   "outputs": [],
   "source": [
    "def get_first(driver):\n",
    "    driver.find_element(By.CSS_SELECTOR, \"div._9AhH0\").click()\n",
    "    time.sleep(3)"
   ]
  },
  {
   "cell_type": "code",
   "execution_count": 211,
   "id": "7dca7e7d",
   "metadata": {},
   "outputs": [],
   "source": [
    "def get_content(driver):\n",
    "    html = driver.page_source\n",
    "    soup = bs(html, \"html.parser\")\n",
    "    \n",
    "    content = soup.find(\"div\", class_=\"C4VMK\").find_all(\"span\")[1].text\n",
    "    if content.split(\"#\")[0][:4] == \"<협찬>\" or content.split(\"#\")[0][:4] == \"<광고>\":\n",
    "        pass\n",
    "    else:\n",
    "        print(content.split(\"#\"[0]))  # 내용만 출력하기\n",
    "    \n",
    "    \n",
    "    # 협찬/광고가 아닌 데이터만 출력하기\n",
    "    content_txt = content.split(\"#\"[0])\n",
    "    print(content_txt[:4])\n",
    "    print()"
   ]
  },
  {
   "cell_type": "code",
   "execution_count": 203,
   "id": "89ed15a2",
   "metadata": {},
   "outputs": [],
   "source": [
    "def get_next(driver, cnt):\n",
    "    if cnt == 0:\n",
    "        driver.find_element(By.XPATH, \"/html/body/div[6]/div[2]/div/div/button\").click()\n",
    "        time.sleep(3)\n",
    "    else:\n",
    "        driver.find_element(By.XPATH, \"/html/body/div[6]/div[2]/div/div[2]/button\").click()\n",
    "        time.sleep(3)"
   ]
  },
  {
   "cell_type": "code",
   "execution_count": 212,
   "id": "95c5b04e",
   "metadata": {},
   "outputs": [
    {
     "name": "stdout",
     "output_type": "stream",
     "text": [
      "검색어 입력:제주도맛집\n",
      "['<협찬>재철 식재료로 매일 신선한 스시,숙성회를 맛보실수 있는 스시오타루🏠제주 제주시 인다2길 30🏠제주 제주시 아라일동 6117-8🕓매일 11:30 - 22:00(브레이크타임 15:00 - 17:00)☎064-752-5271🌟포장가능🌟스시오타루', '제주맛집 ', '제주도맛집 ', '제주시맛집 ']\n",
      "\n",
      "['', '제주도맛집🍜 제주도민맛집💯 제주순메밀막국수🍜🎐 100% 제주산 순메밀로만 만들어낸🎐 입에 넣는순간 차이을 알게되는🎐 제주도민도 인정하는 전통깊은 맛집🎈..', '카멜리아힐맛집.[20kg당 한포대 5만원] 밀가루 70% 수입메밀 30% 를 쓰는 일반 가게와는 다르게🔺저희 제주순메밀막국수에서는 [20kg당 25만원] 🍜국내산 100% 순메밀🍜을 사용하기 때문에 더욱 진하고 건강한 맛을 느끼실 수 있습니다😋저희 순메밀막국수는 코로나방역지침을 준수하여 영업하고 있습니다💖____________________________________주소 : 제주 서귀포시 안덕면 서광리 1413-3전화 : 064-792-0600____________________________________', '안덕면맛집', '제주도서쪽맛집 ', '제주국제학교맛집 ', '오설록근처맛집 ', '제주도오설록맛집', '제주도국수']\n",
      "['', '제주도맛집🍜 제주도민맛집💯 제주순메밀막국수🍜🎐 100% 제주산 순메밀로만 만들어낸🎐 입에 넣는순간 차이을 알게되는🎐 제주도민도 인정하는 전통깊은 맛집🎈..', '카멜리아힐맛집.[20kg당 한포대 5만원] 밀가루 70% 수입메밀 30% 를 쓰는 일반 가게와는 다르게🔺저희 제주순메밀막국수에서는 [20kg당 25만원] 🍜국내산 100% 순메밀🍜을 사용하기 때문에 더욱 진하고 건강한 맛을 느끼실 수 있습니다😋저희 순메밀막국수는 코로나방역지침을 준수하여 영업하고 있습니다💖____________________________________주소 : 제주 서귀포시 안덕면 서광리 1413-3전화 : 064-792-0600____________________________________', '안덕면맛집']\n",
      "\n",
      "['<광고>제주분식\\xa0https://jejubunsig.modoo.at/\\xa0📌제주시 귀아랑길 23 (제주공항 5분거리)안녕하세요 제주분식입니다.* 제주분식은 제주산 식자재를 사용하여 안전하고 건강한 먹거리를 추구하는 제주산 로컬푸드 분식카페입니다.*제주공항에서 차로 5분거리에위치하고있어서 제주를 찾는 여행객분들이나 여행중이신분들에게 빠르고 간편한 식사와 포장메뉴를 제공합니다.* 주요메뉴- 모당모당 = 모당준다라는 제주도 사투리로써 제주분식의 모듬분식을 표현하는 제주분식만의 시그니처메뉴입니다.참고로 모당모당에는 떡볶이,순대,튀김,면사리가 함께들어갑니다.- 돔베라면, 매운돔베라면(돔베란? 갓삶은 돼지고기를 나무도마에 얹어 덩어리째 썰어 먹는 제주도 향토지역음식입니다.)생면과 제주돔베고기의 진한육수가 어우러지는 메뉴입니다.- 돔베김밥제주돔베고기를 듬뿍넣은 제주분식만의 메뉴입니다.\\xa0 - 전복김밥 = 매일아침 신선한 전복을 구매하여 정성껏손질후 볶은후 싱싱한 김밥을 만들고있습니다.- 제주해물라면 = 싱싱한 여러 가지해산물이 들어있고 특별한육수맛이 생면과 어울리는 제주분식만의 메뉴\\xa0\\xa0 * 제주 로컬푸드 분식카페 제주분식.\\xa0064-726-2120주소 - 제주시 귀아랑길 23 (제주공항 5분거리), 영업시간은 10:00부터~16:00까지입니다.\\xa0 * 제주분식을 좋아해주시는분들은 10대~20대 SNS를 좋아하시는 여성분들과 커플분들이며, 그리고 어린이를 동반한가족고객분들 그외 2~3대 대가족여행을 함께다니는 가족분들이 많이 찾고계십니다.\\xa0제주여행중 꼭 들려야하는 분식 맛집 알려줌‼제주 로컬푸드로 만든 분식카페 공항근처 제주분식 ⠀간편하게 먹기 좋은 메뉴들로 여행객들이 꼭 찾는 곳!싱싱한 제주 식자재로 만들어 안전,건강한 먹거리뿐맛있는거 싹 모은 모듬분식 모당모당 과 돔베라면돔베김밥,전복김밥,해물라면도 믿먹템👍🏻👍🏻비줠도 좋아서 커플들, 가족여행객들도 많이 찾는다공⠀⠀📌제주시 귀아랑길 23 (제주공항 5분거리)📌매일 10:00 - 16:00📌064-726-2120', '제주맛집 ', '제주도맛집 ', '제주시맛집']\n",
      "\n",
      "['<협찬>재철 식재료로 매일 신선한 스시,숙성회를 맛보실수 있는 스시오타루🏠제주 제주시 인다2길 30🏠제주 제주시 아라일동 6117-8🕓매일 11:30 - 22:00(브레이크타임 15:00 - 17:00)☎064-752-5271🌟포장가능🌟스시오타루', '제주맛집 ', '제주도맛집 ', '제주시맛집 ']\n",
      "\n",
      "['.🐙제주 소금바치순이네🐙불향가득한 매콤한 돌문어볶음!!소면에 양념+밥+돌문어 같이 먹으면 대박임👍도민들도 추천하는 맛집이야!@@@같이 갈 사람 태그@@@주소 : 제주시 구좌읍 해맞이해안로 2196..', '제주맛집 ', '제주도맛집 ', '제주공항근처맛집 ', '제주시맛집 ', '애월맛집 ', '중문맛집 ', '제주공항맛집 ', '서귀포맛집 ', '산방산맛집 ', '신제주맛집 ', '제주시청맛집 ', '제주애월맛집 ', '월정리맛집 ', '제주여행 ', '제주핫플']\n",
      "['.🐙제주 소금바치순이네🐙불향가득한 매콤한 돌문어볶음!!소면에 양념+밥+돌문어 같이 먹으면 대박임👍도민들도 추천하는 맛집이야!@@@같이 갈 사람 태그@@@주소 : 제주시 구좌읍 해맞이해안로 2196..', '제주맛집 ', '제주도맛집 ', '제주공항근처맛집 ']\n",
      "\n"
     ]
    }
   ],
   "source": [
    "# 인스타 검색 url 확인 및 사용자 키워드 적용\n",
    "keyword = input(\"검색어 입력:\")\n",
    "url = \"https://www.instagram.com/explore/tags/\" + keyword\n",
    "driver.get(url)\n",
    "time.sleep(7)\n",
    "\n",
    "get_first(driver)\n",
    "for i in range(5):\n",
    "    get_content(driver)\n",
    "    get_next(driver, i)"
   ]
  },
  {
   "cell_type": "code",
   "execution_count": 294,
   "id": "27b138c4",
   "metadata": {},
   "outputs": [
    {
     "name": "stdout",
     "output_type": "stream",
     "text": [
      "검색어 입력:제주도맛집\n",
      "스크롤 다운 건수:1\n",
      "로그인 되었습니까?[y/n]:y\n"
     ]
    }
   ],
   "source": [
    "keyword = input(\"검색어 입력:\")\n",
    "cntdown = int(input(\"스크롤 다운 건수:\"))\n",
    "\n",
    "driver=Chrome(\"./chromedriver\")\n",
    "\n",
    "# 인스타그램 접속\n",
    "driver.get(\"https://www.instagram.com/\")\n",
    "time.sleep(2)\n",
    "\n",
    "# 인스타그램 로그인\n",
    "userID=\"아이디\"\n",
    "userPW=\"비밀번호\"\n",
    "\n",
    "# 아이디 입력\n",
    "input_id=driver.find_element(By.CSS_SELECTOR, \"#loginForm > div > div:nth-child(1) > div > label > input\")\n",
    "input_id.send_keys(userID)\n",
    "\n",
    "# 패스워드 입력\n",
    "input_pw=driver.find_element(By.CSS_SELECTOR, \"#loginForm > div > div:nth-child(2) > div > label > input\")\n",
    "input_pw.send_keys(userPW)\n",
    "\n",
    "# 로그인 정보 전송 / 로그인 버튼을 클릭해도 됨\n",
    "input_pw.submit()  \n",
    "time.sleep(3)\n",
    "\n",
    "state = input(\"로그인 되었습니까?[y/n]:\")\n",
    "if state == \"n\" or state == \"ㅜ\" or state == \"N\":\n",
    "    print(\"작업을 종료합니다.\")\n",
    "    driver.close()\n",
    "    sys.exit()"
   ]
  },
  {
   "cell_type": "code",
   "execution_count": 295,
   "id": "8010e8fa",
   "metadata": {},
   "outputs": [],
   "source": [
    "# 인스타 검색 url 확인 및 사용자 키워드 적용\n",
    "\n",
    "url=\"https://www.instagram.com/explore/tags/\" + keyword\n",
    "driver.get(url)\n",
    "time.sleep(5)\n",
    "\n",
    "body = driver.find_element(By.TAG_NAME, \"body\")"
   ]
  },
  {
   "cell_type": "code",
   "execution_count": 296,
   "id": "b617f044",
   "metadata": {},
   "outputs": [
    {
     "data": {
      "text/plain": [
       "['https://www.instagram.com/p/CbrJDVqAt2S/',\n",
       " 'https://www.instagram.com/p/CbqxeCshE2y/',\n",
       " 'https://www.instagram.com/p/Cboikw_DONk/',\n",
       " 'https://www.instagram.com/p/CbqxeEBBeA5/',\n",
       " 'https://www.instagram.com/p/CbojUN_hnHm/',\n",
       " 'https://www.instagram.com/p/CbqxeCvhPGD/',\n",
       " 'https://www.instagram.com/p/CbqsybIhLct/',\n",
       " 'https://www.instagram.com/p/CbrCnDepiCL/',\n",
       " 'https://www.instagram.com/p/CboUX-2rINL/',\n",
       " 'https://www.instagram.com/p/CbrTrhlrT6z/',\n",
       " 'https://www.instagram.com/p/CbrTkT0rBxh/',\n",
       " 'https://www.instagram.com/p/CbrTq9pvupy/',\n",
       " 'https://www.instagram.com/p/CbrTVZ-vxGu/',\n",
       " 'https://www.instagram.com/p/CbrTZrTrItE/',\n",
       " 'https://www.instagram.com/p/CbrTfyOr_vM/',\n",
       " 'https://www.instagram.com/p/CbrS2Z-vpwW/',\n",
       " 'https://www.instagram.com/p/CbrS61cL_Hf/',\n",
       " 'https://www.instagram.com/p/CbrS4g-L0j3/',\n",
       " 'https://www.instagram.com/p/CbrSr5XLSus/',\n",
       " 'https://www.instagram.com/p/CbrSnSyrSZF/',\n",
       " 'https://www.instagram.com/p/CbrSoMUvLvM/',\n",
       " 'https://www.instagram.com/p/CbrSVLGL98U/',\n",
       " 'https://www.instagram.com/p/CbrSNDIrZGC/',\n",
       " 'https://www.instagram.com/p/CbrSIyNL34P/',\n",
       " 'https://www.instagram.com/p/CbrSF6wBJRX/',\n",
       " 'https://www.instagram.com/p/CbrSSPjLp1j/',\n",
       " 'https://www.instagram.com/p/CbrR7_npwcj/',\n",
       " 'https://www.instagram.com/p/CbrR3ASPOtw/',\n",
       " 'https://www.instagram.com/p/CbrRvbZL9dg/',\n",
       " 'https://www.instagram.com/p/CbrRscRLSD0/',\n",
       " 'https://www.instagram.com/p/CbrRjlYLPFj/',\n",
       " 'https://www.instagram.com/p/CbqsMuaBF7w/',\n",
       " 'https://www.instagram.com/p/CboXxzgvkmD/',\n",
       " 'https://www.instagram.com/p/CbrRsC4rqrD/',\n",
       " 'https://www.instagram.com/p/CbrRiicJxuX/',\n",
       " 'https://www.instagram.com/p/CbrRerSrsXh/',\n",
       " 'https://www.instagram.com/p/CbrRUF0LDdr/',\n",
       " 'https://www.instagram.com/p/CbrRGkhhCCJ/',\n",
       " 'https://www.instagram.com/p/CbrRFGArVcf/',\n",
       " 'https://www.instagram.com/p/CbrQ1muL4WB/',\n",
       " 'https://www.instagram.com/p/CbrQ-cav3cC/',\n",
       " 'https://www.instagram.com/p/CbrQ5s2r7IG/',\n",
       " 'https://www.instagram.com/p/CbrQ-Xpp-wo/',\n",
       " 'https://www.instagram.com/p/CbrQ1r2JpS5/',\n",
       " 'https://www.instagram.com/p/CbrQmrHr8Sy/']"
      ]
     },
     "execution_count": 296,
     "metadata": {},
     "output_type": "execute_result"
    }
   ],
   "source": [
    "# 하이퍼 링크 호출\n",
    "link_url = []\n",
    "\n",
    "for down in range(cntdown):\n",
    "    page_Down()\n",
    "    contents = body.find_elements(By.CLASS_NAME, \"v1Nh3\")\n",
    "    \n",
    "    # 게시글 리스트 URL 추출\n",
    "    for content in contents:\n",
    "        url = content.find_element(By.TAG_NAME, \"a\").get_attribute(\"href\")\n",
    "        link_url.append(url)\n",
    "        \n",
    "link_url"
   ]
  },
  {
   "cell_type": "code",
   "execution_count": 297,
   "id": "0acf2489",
   "metadata": {},
   "outputs": [
    {
     "data": {
      "text/plain": [
       "'https://www.instagram.com/p/CbrJDVqAt2S/'"
      ]
     },
     "execution_count": 297,
     "metadata": {},
     "output_type": "execute_result"
    }
   ],
   "source": [
    "contents = body.find_elements(By.CLASS_NAME, \"v1Nh3\")\n",
    "contents[0].find_element(By.TAG_NAME, \"a\").get_attribute(\"href\")"
   ]
  },
  {
   "cell_type": "code",
   "execution_count": 298,
   "id": "f74a2ad4",
   "metadata": {},
   "outputs": [],
   "source": [
    "link_url=list(set(link_url)) # 중복 데이터 제거\n",
    "conttxt = []\n",
    "for i in range(5):\n",
    "    driver.get(link_url[i])\n",
    "    time.sleep(2)\n",
    "    \n",
    "    html = driver.page_source\n",
    "    soup = bs(html, \"html.parser\")\n",
    "    conttxt.append(soup.find(\"div\", class_=\"C4VMK\").find_all(\"span\")[1].text)"
   ]
  },
  {
   "cell_type": "code",
   "execution_count": 299,
   "id": "539c3d1a",
   "metadata": {},
   "outputs": [
    {
     "data": {
      "text/plain": [
       "'Purple Moss VintageRalph Lauren Hoodie Zipup unisexSize  M  L 남성기준기장  64cm소매  64cm가슴  57cm어깨  48cm위 실측을 꼭 참고해주세요!!모든 문의는 DM으로 문의주세요1200  20002100Mon  Sun 연중무휴띄제주시 애월읍 하귀로 53수입빈티지샵 퍼플모스Country Origin  EU  US  ASIA#퍼플모스구매삽가능'"
      ]
     },
     "execution_count": 299,
     "metadata": {},
     "output_type": "execute_result"
    }
   ],
   "source": [
    "re.sub('[^0-9a-zA-Zㄱ-ㅣ가-힣#?! ]',\"\",conttxt[0])"
   ]
  },
  {
   "cell_type": "code",
   "execution_count": 300,
   "id": "c485cf39",
   "metadata": {},
   "outputs": [
    {
     "data": {
      "text/plain": [
       "'jeju_insaeng'"
      ]
     },
     "execution_count": 300,
     "metadata": {},
     "output_type": "execute_result"
    }
   ],
   "source": [
    "# 아이디 가져오기\n",
    "soup.find(\"div\", class_=\"C4VMK\").find(\"a\").get_text()"
   ]
  },
  {
   "cell_type": "code",
   "execution_count": 301,
   "id": "844c120b",
   "metadata": {},
   "outputs": [
    {
     "data": {
      "text/plain": [
       "'제주 인생밥집⠀⠀⠀⠀⠀⠀⠀⠀⠀⠀⠀⠀⠀⠀⠀⠀⠀🕚 OPEN - 11:00⠀⠀⠀⠀⠀⠀⠀⠀⠀⠀⠀⠀🕕 CLOSED - 17:00⠀⠀⠀⠀⠀⠀⠀⠀⠀⠀⠀⠀⠀⠀⠀⠀⠀브레이크타임 없어요.⠀⠀⠀⠀⠀⠀⠀⠀⠀⠀⠀⠀⠀⠀⠀⠀⠀예약은 받지 않고 오시는 순서대로 식사가능 하세요.⠀⠀⠀⠀⠀⠀⠀⠀⠀⠀⠀⠀⠀⠀⠀⠀⠀싱싱한 해물과 신선한 야채로 그날 준비한 재료가 소진되면 조기마감 합니다. ⠀⠀⠀⠀⠀⠀⠀⠀⠀⠀⠀⠀⠀⠀⠀⠀⠀⠀⠀⠀⠀⠀⠀⠀⠀⠀⠀⠀⠀⠀⠀⠀⠀⠀🥣전복해물볶음밥 / 전복물회 / 전복딱새우장 정식⠀⠀⠀⠀⠀⠀⠀⠀⠀⠀⠀⠀⠀⠀⠀⠀⠀사는게니나노 ~ ♬인생밥집 주소는 제주시 한림읍 문교길6 ..⠀⠀⠀⠀⠀⠀⠀⠀⠀⠀⠀⠀⠀⠀⠀⠀⠀🅿️ 무료 공영 주차장 위치!! .⠀⠀⠀⠀⠀⠀⠀⠀⠀⠀⠀⠀⠀⠀⠀⠀⠀🚗 제주시 한림읍 한림리 1197-4🚘 제주시 한림읍 한림리 1198-3🚙 제주시 한림읍 한림리 943-9.걸어서 2분이내 거리에요~♡♡'"
      ]
     },
     "execution_count": 301,
     "metadata": {},
     "output_type": "execute_result"
    }
   ],
   "source": [
    "# 본문 가져오기\n",
    "soup.find('div',class_=\"MOdxS\").find('span').text.split(\"#\")[0]"
   ]
  },
  {
   "cell_type": "code",
   "execution_count": 302,
   "id": "aaf42aaf",
   "metadata": {},
   "outputs": [
    {
     "name": "stdout",
     "output_type": "stream",
     "text": [
      "#제주\n",
      "#제주도\n",
      "#jeju\n",
      "#제주살이\n",
      "#제주맛집\n",
      "#제주도맛집\n",
      "#한림맛집\n",
      "#애월맛집\n",
      "#대구\n",
      "#중문맛집\n",
      "#산방산맛집\n",
      "#월정리\n",
      "#신화월드맛집\n",
      "#제주신혼여행\n",
      "#협재해수욕장근처맛집\n",
      "#협재해변\n",
      "#금능해수욕장\n",
      "#좋아요\n",
      "#일상\n",
      "#일상스타그램\n",
      "#먹스타그램\n",
      "#맛스타그램\n",
      "#전복장\n",
      "#딱새우장\n",
      "#제주가족여행\n",
      "#제주우정여행\n",
      "#제주혼밥\n",
      "#협재혼밥\n"
     ]
    }
   ],
   "source": [
    "# 해시태그 가져오기\n",
    "tags = soup.find('div',class_=\"MOdxS\").find_all('a')\n",
    "for tag in tags:\n",
    "    if \"#\" in tag.text:\n",
    "        print(tag.text)"
   ]
  }
 ],
 "metadata": {
  "kernelspec": {
   "display_name": "Python 3 (ipykernel)",
   "language": "python",
   "name": "python3"
  },
  "language_info": {
   "codemirror_mode": {
    "name": "ipython",
    "version": 3
   },
   "file_extension": ".py",
   "mimetype": "text/x-python",
   "name": "python",
   "nbconvert_exporter": "python",
   "pygments_lexer": "ipython3",
   "version": "3.9.7"
  }
 },
 "nbformat": 4,
 "nbformat_minor": 5
}
