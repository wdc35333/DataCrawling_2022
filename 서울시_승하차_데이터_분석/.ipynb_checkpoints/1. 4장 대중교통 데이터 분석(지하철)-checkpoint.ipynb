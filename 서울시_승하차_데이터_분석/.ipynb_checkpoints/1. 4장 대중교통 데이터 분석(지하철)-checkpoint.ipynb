{
 "cells": [
  {
   "cell_type": "markdown",
   "id": "48e2ef49",
   "metadata": {},
   "source": [
    "# 대중교통(서울지하철) 데이터 처리 및 시각화\n",
    "\n",
    "- csv 모듈을 이용한 데이터 처리\n",
    "- 데이터: 서울시 공공데이터 검색 => 지하철 유무임 검색 => csv 형식 파일 다운로드"
   ]
  },
  {
   "cell_type": "markdown",
   "id": "35ce1da9",
   "metadata": {},
   "source": [
    "### 1. 데이터 읽어오기 및 데이터 형식 변경\n",
    "- 첫번쨰행(제목)은 title에 저장\n",
    "- 나머지 데이터는 리스트형으로 변경해 사용"
   ]
  },
  {
   "cell_type": "code",
   "execution_count": 2,
   "id": "e03dd3a7",
   "metadata": {},
   "outputs": [
    {
     "name": "stdout",
     "output_type": "stream",
     "text": [
      "['사용월', '호선명', '지하철역', '유임승차인원', '무임승차인원', '유임하차인원', '무임하차인원', '작업일자']\n",
      "[['202202', '1호선', '종로3가', '335905', '211468', '308127', '197301', '20220303'], ['202202', '1호선', '동대문', '164652', '85659', '152193', '83921', '20220303'], ['202202', '1호선', '서울역', '783814', '129597', '734548', '121859', '20220303'], ['202202', '1호선', '신설동', '209871', '88550', '207172', '85219', '20220303'], ['202202', '1호선', '종각', '583790', '93238', '565882', '87907', '20220303']]\n"
     ]
    }
   ],
   "source": [
    "import csv\n",
    "import pandas as pd\n",
    "\n",
    "# 절대경로\n",
    "# f=open(\"/Users/wondongchan/Desktop/multi/0317/subwayfree.csv\", encoding = \"cp949\")\n",
    "\n",
    "# 상대경로에서 파일 읽어오기\n",
    "f = open(\"./data/subwayfree.csv\", encoding = \"cp949\")\n",
    "data = csv.reader(f)\n",
    "\n",
    "# 첫행 title에 저장\n",
    "title = next(data)\n",
    "# 나머지 데이터는 리스트형으로 변경\n",
    "data = list(data)\n",
    "f.close()\n",
    "\n",
    "print(title)\n",
    "print(data[:5])"
   ]
  },
  {
   "cell_type": "markdown",
   "id": "76175c13",
   "metadata": {},
   "source": [
    "data의 4번~ 7번까지 \"로 묶인 데이터 => 정수형 데이터로 변경"
   ]
  },
  {
   "cell_type": "code",
   "execution_count": 3,
   "id": "bf2778f3",
   "metadata": {},
   "outputs": [],
   "source": [
    "# !pip install numpy"
   ]
  },
  {
   "cell_type": "code",
   "execution_count": 4,
   "id": "a85b1830",
   "metadata": {},
   "outputs": [
    {
     "name": "stdout",
     "output_type": "stream",
     "text": [
      "(56998, 8)\n",
      "2\n"
     ]
    }
   ],
   "source": [
    "# 차원 확인\n",
    "import numpy as np\n",
    "print(np.array(data).shape)  # (행, 열)\n",
    "print(np.array(data).ndim)   # 차원 확인\n"
   ]
  },
  {
   "cell_type": "code",
   "execution_count": 5,
   "id": "5d9c5b22",
   "metadata": {},
   "outputs": [
    {
     "name": "stdout",
     "output_type": "stream",
     "text": [
      "[['202202', '1호선', '종로3가', 335905, 211468, 308127, 197301, '20220303'], ['202202', '1호선', '동대문', 164652, 85659, 152193, 83921, '20220303'], ['202202', '1호선', '서울역', 783814, 129597, 734548, 121859, '20220303'], ['202202', '1호선', '신설동', 209871, 88550, 207172, 85219, '20220303'], ['202202', '1호선', '종각', 583790, 93238, 565882, 87907, '20220303']]\n"
     ]
    }
   ],
   "source": [
    "# 정수형 데이터 변경하기\n",
    "\n",
    "for row in data:\n",
    "    for i in range(3,7):\n",
    "        row[i] = int(row[i])\n",
    "\n",
    "print(data[:5])"
   ]
  },
  {
   "cell_type": "markdown",
   "id": "8e75146b",
   "metadata": {},
   "source": [
    "### 2. 데이터 분석"
   ]
  },
  {
   "cell_type": "markdown",
   "id": "47e3f4fa",
   "metadata": {},
   "source": [
    "유임 승차 비율이 가장 높은 역 정보 출력\n",
    "- 비율 = 유임승차인원 / 무임승차인원\n",
    "- 비율 = 유임승차 / (유임 + 무임)승차인원\n",
    "- 비율이 가장 높은 라인/역이름/비율"
   ]
  },
  {
   "cell_type": "code",
   "execution_count": 6,
   "id": "a9786443",
   "metadata": {},
   "outputs": [
    {
     "name": "stdout",
     "output_type": "stream",
     "text": [
      "['202202', '1호선', '종로3가', 335905, 211468, 308127, 197301, '20220303'] 0.61\n",
      "['202202', '1호선', '동대문', 164652, 85659, 152193, 83921, '20220303'] 0.66\n",
      "['202202', '1호선', '서울역', 783814, 129597, 734548, 121859, '20220303'] 0.86\n",
      "['202202', '1호선', '종각', 583790, 93238, 565882, 87907, '20220303'] 0.86\n",
      "['202202', '1호선', '시청', 377162, 54426, 384421, 53390, '20220303'] 0.87\n",
      "['202202', '2호선', '잠실(송파구청)', 1383281, 126825, 1351970, 120786, '20220303'] 0.92\n",
      "['202202', '2호선', '삼성(무역센터)', 981108, 81755, 981775, 75105, '20220303'] 0.92\n",
      "['202202', '2호선', '합정', 643930, 48341, 674433, 47883, '20220303'] 0.93\n",
      "['202202', '2호선', '홍대입구', 1235312, 68030, 1265503, 65322, '20220303'] 0.95\n",
      "['202202', '7호선', '상동', 19, 1, 0, 0, '20220303'] 0.95\n",
      "['202202', '경부선', '서울역', 148368, 7191, 44210, 1823, '20220303'] 0.95\n",
      "['202111', '3호선', '충무로', 33, 1, 0, 0, '20211203'] 0.97\n",
      "['202110', '6호선', '연신내', 47, 1, 0, 0, '20211103'] 0.98\n",
      "['201809', '3호선', '충무로', 55, 1, 0, 0, '20181003'] 0.98\n",
      "['201806', '3호선', '충무로', 60, 1, 0, 0, '20180703'] 0.98\n",
      "['201501', '9호선', '염창', 369970, 345474, 51868, 50529, '20150206'] 0.98\n"
     ]
    }
   ],
   "source": [
    "# 비율 = 유임승차인원 / 무임승차인원\n",
    "maxs = 0\n",
    "rate = 0 \n",
    "maxlst = row\n",
    "for row in data:\n",
    "    if row[4] == 0:    # 무인승차 0이면 다음 값으로 이동\n",
    "        continue\n",
    "    rate = row[3] / (row[3] + row[4])\n",
    "    if rate > maxs:\n",
    "        maxs = rate\n",
    "        maxlst = row\n",
    "        print (row, round(maxs, 2))    # round(값, 반올림 위치): 값을 입력한 위치에서 반올림\n",
    "\n",
    "print (row, round(maxs, 2))    # round(값, 반올림 위치): 값을 입력한 위치에서 반올림"
   ]
  },
  {
   "cell_type": "code",
   "execution_count": 7,
   "id": "fbe85b27",
   "metadata": {},
   "outputs": [
    {
     "name": "stdout",
     "output_type": "stream",
     "text": [
      "역이름:종로3가, 라인:1호선, 비율:0.61\n",
      "역이름:동대문, 라인:1호선, 비율:0.66\n",
      "역이름:서울역, 라인:1호선, 비율:0.86\n",
      "역이름:종각, 라인:1호선, 비율:0.86\n",
      "역이름:시청, 라인:1호선, 비율:0.87\n",
      "역이름:잠실(송파구청), 라인:2호선, 비율:0.92\n",
      "역이름:삼성(무역센터), 라인:2호선, 비율:0.92\n",
      "역이름:합정, 라인:2호선, 비율:0.93\n",
      "역이름:홍대입구, 라인:2호선, 비율:0.95\n",
      "역이름:서울역, 라인:경부선, 비율:0.95\n",
      "역이름:마곡나루(서울식물원), 라인:공항철도 1호선, 비율:0.95\n",
      "역이름:마곡나루(서울식물원), 라인:공항철도 1호선, 비율:0.96\n",
      "역이름:마곡나루, 라인:공항철도 1호선, 비율:0.96\n",
      "역이름:한양대, 라인:2호선, 비율:0.96\n",
      "역이름:한양대, 라인:2호선, 비율:0.96\n",
      "역이름:한양대, 라인:2호선, 비율:0.96\n",
      "역이름:한양대, 라인:2호선, 비율:0.96\n",
      "역이름:한양대, 라인:2호선, 비율:0.96\n"
     ]
    }
   ],
   "source": [
    "## (유임+무임) 값이 10만명 이상인 데이터들 중에서 선택\n",
    "maxs = 0\n",
    "rate = 0 \n",
    "maxlst = row\n",
    "for row in data:\n",
    "    if row[4] != 0 and (row[3] + row[4]) >= 100000:\n",
    "        rate = row[3] / (row[3] + row[4])\n",
    "        \n",
    "    if rate > maxs:\n",
    "        maxs = rate\n",
    "        maxlst = row\n",
    "        print (f'역이름:{row[2]}, 라인:{row[1]}, 비율:{round(maxs, 2)}')\n",
    "\n",
    "print (f'역이름:{maxlst[2]}, 라인:{maxlst[1]}, 비율:{round(maxs, 2)}')"
   ]
  },
  {
   "cell_type": "code",
   "execution_count": 8,
   "id": "bb448a87",
   "metadata": {},
   "outputs": [
    {
     "name": "stdout",
     "output_type": "stream",
     "text": [
      "역이름:종로3가, 라인:1호선, 비율:0.39\n",
      "역이름:청량리(서울시립대입구), 라인:1호선, 비율:0.43\n",
      "역이름:제기동, 라인:1호선, 비율:0.52\n",
      "역이름:동묘앞, 라인:1호선, 비율:0.55\n",
      "역이름:제기동, 라인:1호선, 비율:0.56\n",
      "역이름:소요산, 라인:경원선, 비율:0.66\n",
      "역이름:소요산, 라인:경원선, 비율:0.68\n",
      "역이름:소요산, 라인:경원선, 비율:0.68\n"
     ]
    }
   ],
   "source": [
    "## 무료 비율이 높은 역/호선/비율 출력\n",
    "maxs = 0\n",
    "rate = 0 \n",
    "maxlst = row\n",
    "for row in data:\n",
    "    if row[4] != 0 and (row[3] + row[4]) >= 100000:\n",
    "        rate = row[4] / (row[3] + row[4])\n",
    "        \n",
    "    if rate > maxs:\n",
    "        maxs = rate\n",
    "        maxlst = row\n",
    "        print (f'역이름:{row[2]}, 라인:{row[1]}, 비율:{round(maxs, 2)}')\n",
    "\n",
    "print (f'역이름:{maxlst[2]}, 라인:{maxlst[1]}, 비율:{round(maxs, 2)}')"
   ]
  },
  {
   "cell_type": "markdown",
   "id": "5da08f84",
   "metadata": {},
   "source": [
    "모든 역을 기준으로 유임승차/유임하차/무임승차/무임하차 인원이 가장 많은 역 찾기"
   ]
  },
  {
   "cell_type": "code",
   "execution_count": 9,
   "id": "c371dd67",
   "metadata": {},
   "outputs": [
    {
     "name": "stdout",
     "output_type": "stream",
     "text": [
      "유임승차 - 사용월: 201501 / 라인: 2호선 / 역이름: 강남역 / 인원수: 3266271\n",
      "\n",
      "무임승차 - 사용월: 201501 / 라인: 2호선 / 역이름: 강남역 / 인원수: 3353256\n",
      "\n",
      "유임하차 - 사용월: 201607 / 라인: 2호선 / 역이름: 강남역 / 인원수: 3265282\n",
      "\n",
      "무임하차 - 사용월: 201901 / 라인: 1호선 / 역이름: 제기동역 / 인원수: 400607\n",
      "\n"
     ]
    }
   ],
   "source": [
    "label = [\"유임승차\", \"무임승차\", \"유임하차\", \"무임하차\"]\n",
    "mxstation = [\"\"] * 4\n",
    "mx = [0] * 4\n",
    "for row in data:\n",
    "    for i in range(3,7):\n",
    "        if row[i] > mx[i-3]:\n",
    "            mx[i-3] = row[i]\n",
    "            mxstation[i-3] = f\"사용월: {row[0]} / 라인: {row[1]} / 역이름: {row[2]}역 / 인원수: {mx[i-3]}\"\n",
    "\n",
    "for i in range(4):\n",
    "    print(f\"{label[i]} - {mxstation[i]}\\n\")\n",
    "        \n",
    "#     if row[3] >= mx[0]:    #유임승차\n",
    "#         mx[0] = row[3]\n",
    "#     mxstation[0] = mx[0]\n",
    "    \n",
    "#     if row[4] >= mx[1]:    #무임승차\n",
    "#         mx[1] = row[4]\n",
    "#     mxstation[1] = mx[1]\n",
    "    \n",
    "#     if row[5] >= mx[2]:    #유임하차\n",
    "#         mx[2] = row[5]\n",
    "#     mxstation[2] = mx[2]\n",
    "    \n",
    "#     if row[6] >= mx[3]:    #무임하차\n",
    "#         mx[3] = row[6]\n",
    "#     mxstation[3] = mx[3]\n",
    "\n",
    "# print (f'유임승차: {mxstation[0]} / {mx[0]}명\\n무임승차: {mxstation[1]} / {mx[1]}명\\n유임하차: {mxstation[2]} / {mx[2]}명\\n무임하차: {mxstation[3]} / {mx[3]}명')"
   ]
  },
  {
   "cell_type": "markdown",
   "id": "eacb8494",
   "metadata": {},
   "source": [
    "선택한 라인에 있는 역을 기준으로 유무임 승하차 비율 계산"
   ]
  },
  {
   "cell_type": "code",
   "execution_count": 10,
   "id": "4c6ba982",
   "metadata": {},
   "outputs": [
    {
     "name": "stdout",
     "output_type": "stream",
     "text": [
      "호선명을 입력하세요.:4호선\n",
      "호선명:  4호선\n",
      "유임승차 - 사용월: 201512 / 라인: 4호선 / 역이름: 혜화역 / 인원수: 1461258\n",
      "\n",
      "무임승차 - 사용월: 201505 / 라인: 4호선 / 역이름: 혜화역 / 인원수: 1391468\n",
      "\n",
      "유임하차 - 사용월: 201512 / 라인: 4호선 / 역이름: 혜화역 / 인원수: 1521596\n",
      "\n",
      "무임하차 - 사용월: 201703 / 라인: 4호선 / 역이름: 수유(강북구청)역 / 인원수: 271122\n",
      "\n"
     ]
    }
   ],
   "source": [
    "label = [\"유임승차\", \"무임승차\", \"유임하차\", \"무임하차\"]\n",
    "mxstation = [\"\"] * 4\n",
    "mx = [0] * 4\n",
    "staname = input(\"호선명을 입력하세요.:\")\n",
    "for row in data:\n",
    "    for i in range(3,7):\n",
    "        if row[i] > mx[i-3] and row[1] == staname:\n",
    "            mx[i-3] = row[i]\n",
    "            mxstation[i-3] = f\"사용월: {row[0]} / 라인: {row[1]} / 역이름: {row[2]}역 / 인원수: {mx[i-3]}\"\n",
    "print(\"호선명: \",staname)\n",
    "for i in range(4):\n",
    "    print(f\"{label[i]} - {mxstation[i]}\\n\")"
   ]
  },
  {
   "cell_type": "code",
   "execution_count": 11,
   "id": "842089df",
   "metadata": {},
   "outputs": [
    {
     "name": "stdout",
     "output_type": "stream",
     "text": [
      "호선명을 입력하세요.:7호선\n",
      "호선명:  7호선\n",
      "유임승차 - 사용년월: 201512 / 라인: 7호선 / 역이름: 가산디지털단지역 / 인원수: 1245731\n",
      "\n",
      "무임승차 - 사용년월: 201503 / 라인: 7호선 / 역이름: 가산디지털단지역 / 인원수: 1220144\n",
      "\n",
      "유임하차 - 사용년월: 201603 / 라인: 7호선 / 역이름: 가산디지털단지역 / 인원수: 1246060\n",
      "\n",
      "무임하차 - 사용년월: 201905 / 라인: 7호선 / 역이름: 광명사거리역 / 인원수: 170486\n",
      "\n"
     ]
    }
   ],
   "source": [
    "# 에러 처리\n",
    "# 호선명 입력시 오류가 발생하면 \"호선명을 잘못 입력하셨습니다.\"\n",
    "# 라는 메세지 전달 후 다시 입력 받기\n",
    "# 개별적으로 작성하세요.\n",
    "\n",
    "label = [\"유임승차\", \"무임승차\", \"유임하차\", \"무임하차\"]\n",
    "mxstation = [\"\"] * 4\n",
    "mx = [0] * 4\n",
    "staname = input(\"호선명을 입력하세요.:\")\n",
    "for row in data:\n",
    "    for i in range(3,7):\n",
    "        if row[i] > mx[i-3] and staname in row[1]:\n",
    "            mx[i-3] = row[i]\n",
    "            mxstation[i-3] = f\"사용년월: {row[0]} / 라인: {row[1]} / 역이름: {row[2]}역 / 인원수: {mx[i-3]}\"\n",
    "print(\"호선명: \",staname)\n",
    "for i in range(4):\n",
    "    print(f\"{label[i]} - {mxstation[i]}\\n\")"
   ]
  },
  {
   "cell_type": "code",
   "execution_count": 12,
   "id": "f0d065ea",
   "metadata": {},
   "outputs": [
    {
     "name": "stdout",
     "output_type": "stream",
     "text": [
      "호선명을 입력하세요.:1호선\n",
      "호선명:  1호선\n",
      "유임승차 - ['201501', '1호선', '서울역', 1890411, 1667163, 238403, 220008]/1890411\n",
      "\n",
      "무임승차 - ['201503', '1호선', '서울역', 1880246, 1682965, 251663, 232039]/1682965\n",
      "\n",
      "유임하차 - ['201512', '1호선', '서울역', 1795435, 235606, 1574932, 216587]/1574932\n",
      "\n",
      "무임하차 - ['201901', '1호선', '제기동', 293540, 374571, 288217, 400607]/400607\n",
      "\n"
     ]
    }
   ],
   "source": [
    "label = [\"유임승차\", \"무임승차\", \"유임하차\", \"무임하차\"]\n",
    "mxstation = [\"\"] * 4\n",
    "mx = [0] * 4\n",
    "staname = input(\"호선명을 입력하세요.:\")\n",
    "for row in data:\n",
    "    for i in range(3,7):\n",
    "        if row[i] > mx[i-3] and staname in row[1]:\n",
    "            mx[i-3] = row[i]\n",
    "            mxstation[i-3] = row[:-1]\n",
    "print(\"호선명: \",staname)\n",
    "for i in range(4):\n",
    "    print(f\"{label[i]} - {mxstation[i]}/{mx[i]}\\n\")"
   ]
  },
  {
   "cell_type": "code",
   "execution_count": 13,
   "id": "d8cdfd4b",
   "metadata": {},
   "outputs": [
    {
     "data": {
      "text/plain": [
       "[1890411, 1667163, 238403, 220008]"
      ]
     },
     "execution_count": 13,
     "metadata": {},
     "output_type": "execute_result"
    }
   ],
   "source": [
    "mxstation[0][3:]"
   ]
  },
  {
   "cell_type": "code",
   "execution_count": 14,
   "id": "09b9bfca",
   "metadata": {},
   "outputs": [
    {
     "data": {
      "image/png": "[encoded data removed]",
      "text/plain": [
       "<Figure size 360x216 with 1 Axes>"
      ]
     },
     "metadata": {
      "needs_background": "light"
     },
     "output_type": "display_data"
    },
    {
     "data": {
      "image/png": "[encoded data removed]",
      "text/plain": [
       "<Figure size 360x216 with 1 Axes>"
      ]
     },
     "metadata": {
      "needs_background": "light"
     },
     "output_type": "display_data"
    }
   ],
   "source": [
    "## bar 차트 작성하기\n",
    "#!pip install matplotlib\n",
    "import matplotlib.pyplot as plt\n",
    "from matplotlib import font_manager as fm, rc\n",
    "\n",
    "rc('font', family='AppleGothic')\n",
    "\n",
    "plt.figure(figsize=(5, 3))\n",
    "plt.bar(label, mxstation[0][3:], color = [\"r\", \"g\", \"y\", \"b\"])\n",
    "plt.title(label[0], size = 14)\n",
    "plt.show()\n",
    "\n",
    "plt.figure(figsize=(5, 3))\n",
    "plt.bar(label, mxstation[0][3:], color = ['#14CCC0', '#389993', '#FF1C6A', '#CC14AF'])\n",
    "plt.title(label[1], size = 14)\n",
    "plt.show()"
   ]
  },
  {
   "cell_type": "code",
   "execution_count": 15,
   "id": "9cf9bc9a",
   "metadata": {},
   "outputs": [
    {
     "name": "stdout",
     "output_type": "stream",
     "text": [
      "호선명을 입력하세요.:2호선\n",
      "\n",
      "호선명:  2호선\n",
      "유임승차 - ['201501', '2호선', '강남', 3266271, 3353256, 164508, 149186]\n",
      "\n",
      "무임승차 - ['201501', '2호선', '강남', 3266271, 3353256, 164508, 149186]\n",
      "\n",
      "유임하차 - ['201607', '2호선', '강남', 3221329, 162517, 3265282, 145604]\n",
      "\n",
      "무임하차 - ['201912', '2호선', '신림', 1936739, 267868, 1864147, 271159]\n",
      "\n"
     ]
    }
   ],
   "source": [
    "import csv\n",
    "import pandas as pd\n",
    "\n",
    "# 절대경로\n",
    "# f=open(\"/Users/wondongchan/Desktop/multi/0317/subwayfree.csv\", encoding = \"cp949\")\n",
    "\n",
    "# 상대경로에서 파일 읽어오기\n",
    "f = open(\"./data/subwayfree.csv\", encoding = \"cp949\")\n",
    "data = csv.reader(f)\n",
    "\n",
    "# 첫행 title에 저장\n",
    "title = next(data)\n",
    "# 나머지 데이터는 리스트형으로 변경\n",
    "data = list(data)\n",
    "f.close()\n",
    "\n",
    "\n",
    "label = [\"유임승차\", \"무임승차\", \"유임하차\", \"무임하차\"]\n",
    "mxstation = [\"\"] * 4\n",
    "mx = [0] * 4\n",
    "staname = input(\"호선명을 입력하세요.:\")\n",
    "        \n",
    "    \n",
    "for row in data:\n",
    "    for i in range(3,7):\n",
    "        row[i] = int(row[i])    # 정수형 데이터 변경하기\n",
    "        \n",
    "    for i in range(3,7):\n",
    "        if row[i] > mx[i-3] and staname in row[1]:\n",
    "            mx[i-3] = row[i]\n",
    "            mxstation[i-3] = row[:-1]\n",
    "            \n",
    "print(\"\\n호선명: \",staname)\n",
    "for i in range(4):\n",
    "    print(f\"{label[i]} - {mxstation[i]}\\n\")"
   ]
  },
  {
   "cell_type": "markdown",
   "id": "e835ed6b",
   "metadata": {},
   "source": [
    "# 호선명 고유값 찾기"
   ]
  },
  {
   "cell_type": "code",
   "execution_count": 16,
   "id": "d7a7213f",
   "metadata": {},
   "outputs": [
    {
     "data": {
      "image/png": "[encoded data removed]",
      "text/plain": [
       "<Figure size 360x144 with 1 Axes>"
      ]
     },
     "metadata": {
      "needs_background": "light"
     },
     "output_type": "display_data"
    },
    {
     "data": {
      "image/png": "[encoded data removed]",
      "text/plain": [
       "<Figure size 360x144 with 1 Axes>"
      ]
     },
     "metadata": {
      "needs_background": "light"
     },
     "output_type": "display_data"
    },
    {
     "data": {
      "image/png": "[encoded data removed]",
      "text/plain": [
       "<Figure size 360x144 with 1 Axes>"
      ]
     },
     "metadata": {
      "needs_background": "light"
     },
     "output_type": "display_data"
    },
    {
     "data": {
      "image/png": "[encoded data removed]",
      "text/plain": [
       "<Figure size 360x144 with 1 Axes>"
      ]
     },
     "metadata": {
      "needs_background": "light"
     },
     "output_type": "display_data"
    }
   ],
   "source": [
    "## bar 차트 작성하기\n",
    "#!pip install matplotlib\n",
    "import matplotlib.pyplot as plt\n",
    "from matplotlib import font_manager as fm, rc\n",
    "\n",
    "rc('font', family='AppleGothic')\n",
    "\n",
    "for i in range(4):\n",
    "    plt.figure(figsize=(5,2))\n",
    "    plt.bar(label, mxstation[i][3:], color = [\"r\", \"g\", \"y\", \"b\"])\n",
    "    plt.title(label[i], size = 14)\n",
    "    \n",
    "    # 차트 저장(반드시 show 명령 전에 와야함)\n",
    "#     plt.savefig(label[i] + mxstation[i][1] + \"_\" + mxstation[i][2] + \".jpg\")\n",
    "    plt.show()"
   ]
  },
  {
   "cell_type": "markdown",
   "id": "f70b8d23",
   "metadata": {},
   "source": [
    "### 각 유/무임승차, 유무임하차가 각각 가장 많은 날짜의 데이터를 이용해 차트 작성(막대)"
   ]
  }
 ],
 "metadata": {
  "kernelspec": {
   "display_name": "Python 3 (ipykernel)",
   "language": "python",
   "name": "python3"
  },
  "language_info": {
   "codemirror_mode": {
    "name": "ipython",
    "version": 3
   },
   "file_extension": ".py",
   "mimetype": "text/x-python",
   "name": "python",
   "nbconvert_exporter": "python",
   "pygments_lexer": "ipython3",
   "version": "3.9.7"
  }
 },
 "nbformat": 4,
 "nbformat_minor": 5
}
