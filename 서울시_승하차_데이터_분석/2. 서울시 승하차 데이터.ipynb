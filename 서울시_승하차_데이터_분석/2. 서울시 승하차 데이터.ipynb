{
 "cells": [
  {
   "cell_type": "code",
   "execution_count": 51,
   "id": "b42191ae",
   "metadata": {},
   "outputs": [
    {
     "name": "stdout",
     "output_type": "stream",
     "text": [
      "       사용일자  노선명          역명  승차총승객수  하차총승객수        등록일자\n",
      "0  20190901  9호선          개화  3483.0  2942.0  20190904.0\n",
      "1  20190901  6호선  봉화산(서울의료원)  5543.0  5261.0  20190904.0\n",
      "2  20190901  8호선          수진  4314.0  3922.0  20190904.0\n",
      "3  20190901  8호선          신흥  3419.0  3664.0  20190904.0\n",
      "4  20190901  8호선       단대오거리  6496.0  6310.0  20190904.0\n",
      "            사용일자  노선명   역명  승차총승객수  하차총승객수        등록일자\n",
      "523336  20210131  중앙선   팔당  1039.0  1089.0  20210203.0\n",
      "523337  20210131  중앙선  운길산   866.0   797.0  20210203.0\n",
      "523338  20210131  중앙선   양수  1207.0  1122.0  20210203.0\n",
      "523339  20210131  중앙선   신원   249.0   160.0  20210203.0\n",
      "523340  20210131  중앙선   국수   420.0   384.0  20210203.0\n",
      "사용일자       object\n",
      "노선명        object\n",
      "역명         object\n",
      "승차총승객수    float64\n",
      "하차총승객수    float64\n",
      "등록일자      float64\n",
      "dtype: object\n",
      "조회역 입력:서울\n"
     ]
    },
    {
     "name": "stderr",
     "output_type": "stream",
     "text": [
      "/Users/wondongchan/opt/anaconda3/lib/python3.9/site-packages/matplotlib/backends/backend_agg.py:240: RuntimeWarning: Glyph 8722 missing from current font.\n",
      "  font.set_text(s, 0.0, flags=flags)\n",
      "/Users/wondongchan/opt/anaconda3/lib/python3.9/site-packages/matplotlib/backends/backend_agg.py:203: RuntimeWarning: Glyph 8722 missing from current font.\n",
      "  font.set_text(s, 0, flags=flags)\n"
     ]
    },
    {
     "data": {
      "image/png": "[encoded data removed]",
      "text/plain": [
       "<Figure size 432x288 with 1 Axes>"
      ]
     },
     "metadata": {
      "needs_background": "light"
     },
     "output_type": "display_data"
    }
   ],
   "source": [
    "import pandas as pd\n",
    "import matplotlib.pyplot as plt\n",
    "import os\n",
    "from matplotlib import font_manager as fm, rc\n",
    "import csv\n",
    "\n",
    "\n",
    "\n",
    "### 한글 표기\n",
    "rc('font', family='AppleGothic')\n",
    "\n",
    "def Csv_reset(fn):\n",
    "    ### csv 파일 전처리 함수\n",
    "    f = open('./subway/'+fn, encoding='utf-8')\n",
    "    data = csv.reader(f)\n",
    "    # \"사용일자\"', '노선명', '역명', '승차총승객수', '하차총승객수', '등록일자'\n",
    "\n",
    "    next(data)\n",
    "    data_lst = []\n",
    "    for row in data:\n",
    "        data_lst.append(row[:6])\n",
    "\n",
    "    df = pd.DataFrame(data_lst, columns=['사용일자', '노선명', '역명', '승차총승객수', '하차총승객수', '등록일자'])\n",
    "    df.to_csv('./subway/'+fn, encoding='cp949', index=False)\n",
    "    f.close()\n",
    "\n",
    "def file_read():\n",
    "    ### subway 폴더에 있는 모든 파일 하나로 만들기\n",
    "    filePath='./subway/'\n",
    "    fileName=os.listdir(filePath)  # subway 폴더의 모든 파일 및 하위 폴더 정보를 리스트형으로 가져와 저장\n",
    "\n",
    "    df1=pd.DataFrame()\n",
    "\n",
    "    for fn in fileName:\n",
    "        ### try ~ except : 예외처리 구문\n",
    "        #print(fn)\n",
    "        try:   # 정상코드 수행\n",
    "            df2=pd.read_csv(filePath+fn, encoding='cp949')\n",
    "        except: # try 구문에서 에러 발생시 처리하기 위한 구문\n",
    "            Csv_reset(fn)\n",
    "            df2 = pd.read_csv(filePath + fn, encoding='cp949')\n",
    "        # 데이터 한개의 파일로 만들기\n",
    "        df1=pd.concat([df1, df2])\n",
    "\n",
    "    df1=df1.reset_index(drop=True)\n",
    "\n",
    "    return df1\n",
    "\n",
    "def subway_sch1(dfdata, subway_name):\n",
    "    df2=dfdata[dfdata['역명']==subway_name]\n",
    "    #print(df2.info())\n",
    "    df2 = df2.astype({'승차총승객수': 'int64','사용일자':'str'})\n",
    "    df2.plot(x='사용일자', y='승차총승객수')\n",
    "    plt.show()\n",
    "\n",
    "def subway_sch2(dfdata, subway_name):\n",
    "    df2=dfdata[dfdata['역명']==subway_name]\n",
    "    #print(df2.info())\n",
    "    df2 = df2.astype({'승차총승객수': 'int64','사용일자':'str'})\n",
    "    df2=df2.groupby('사용일자')[['승차총승객수','하차총승객수']].sum()\n",
    "    df2.plot()\n",
    "    plt.show()\n",
    "\n",
    "\n",
    "### 사용자 함수 호출 부분\n",
    "df1=file_read()\n",
    "print(df1.head())\n",
    "print(df1.tail())\n",
    "\n",
    "print(df1.dtypes)\n",
    "\n",
    "subway_name=input('조회역 입력:')\n",
    "subway_sch2(df1, subway_name)"
   ]
  },
  {
   "cell_type": "code",
   "execution_count": null,
   "id": "4b6761f7",
   "metadata": {},
   "outputs": [],
   "source": []
  }
 ],
 "metadata": {
  "kernelspec": {
   "display_name": "Python 3 (ipykernel)",
   "language": "python",
   "name": "python3"
  },
  "language_info": {
   "codemirror_mode": {
    "name": "ipython",
    "version": 3
   },
   "file_extension": ".py",
   "mimetype": "text/x-python",
   "name": "python",
   "nbconvert_exporter": "python",
   "pygments_lexer": "ipython3",
   "version": "3.9.7"
  }
 },
 "nbformat": 4,
 "nbformat_minor": 5
}
