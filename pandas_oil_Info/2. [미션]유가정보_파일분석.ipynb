{
 "cells": [
  {
   "cell_type": "markdown",
   "metadata": {
    "id": "7357UpG1cjzk"
   },
   "source": [
    "### 코랩에서 한글 사용하기\n",
    "- 한글 글꼴 설치 => [런타임]-[런타임 다시 시작] 클릭\n"
   ]
  },
  {
   "cell_type": "markdown",
   "metadata": {
    "id": "Wcxj7ETCcmHE"
   },
   "source": [
    "### 서울시 유가정보(11개 구) 분서"
   ]
  },
  {
   "cell_type": "markdown",
   "metadata": {
    "id": "8C8iiJxDcnaX"
   },
   "source": [
    "#### [미션1] 서울시 유가정보 가져와 1개로 합치기\n",
    "1. \"/content\" 폴더에 \"data\" 폴더 생성후 파일 업로드 \n",
    "2. data 폴더에 있는 데이터 읽어와 oildf에 모두 저장\n",
    "3. 데이터는 concat()을 이용해 데이터의 아래에 추가\n",
    "4. encoding: cp949 또는 utf8이 같이 있어 에러 발생\n",
    "        try: ~ except: ~ 로 해결\n",
    "\n"
   ]
  },
  {
   "cell_type": "markdown",
   "metadata": {
    "id": "yobdzVEqcpPC"
   },
   "source": [
    "- data 폴더에 있는 파일명/하위폴더명 가져오기: os모듈\n",
    "- for문을 이용 첫번째 파일부터 순차적으로 읽어와 oildf에 concat 진행\n",
    "- 파일을 읽을시 encoding 에러\n",
    "        try: \n",
    "            utf-8 형식 읽어오기\n",
    "        except:\n",
    "            cp949 형식 읽어오기\n",
    "- 빈 DataFrame 변수 생성\n",
    "        oildf=pd.DataFrame()"
   ]
  },
  {
   "cell_type": "code",
   "execution_count": 13,
   "metadata": {
    "colab": {
     "base_uri": "https://localhost:8080/",
     "height": 612
    },
    "executionInfo": {
     "elapsed": 322,
     "status": "ok",
     "timestamp": 1647334025147,
     "user": {
      "displayName": "dc w",
      "photoUrl": "https://lh3.googleusercontent.com/a/default-user=s64",
      "userId": "02032790542712423852"
     },
     "user_tz": -540
    },
    "id": "3akl78OwglHE",
    "outputId": "1b3f0b42-62e9-4f8b-984b-1521e8d1c083"
   },
   "outputs": [
    {
     "data": {
      "text/html": [
       "<div>\n",
       "<style scoped>\n",
       "    .dataframe tbody tr th:only-of-type {\n",
       "        vertical-align: middle;\n",
       "    }\n",
       "\n",
       "    .dataframe tbody tr th {\n",
       "        vertical-align: top;\n",
       "    }\n",
       "\n",
       "    .dataframe thead th {\n",
       "        text-align: right;\n",
       "    }\n",
       "</style>\n",
       "<table border=\"1\" class=\"dataframe\">\n",
       "  <thead>\n",
       "    <tr style=\"text-align: right;\">\n",
       "      <th></th>\n",
       "      <th>지역</th>\n",
       "      <th>상호</th>\n",
       "      <th>주소</th>\n",
       "      <th>상표</th>\n",
       "      <th>전화번호</th>\n",
       "      <th>셀프여부</th>\n",
       "      <th>고급휘발유</th>\n",
       "      <th>휘발유</th>\n",
       "      <th>경유</th>\n",
       "      <th>실내등유</th>\n",
       "    </tr>\n",
       "  </thead>\n",
       "  <tbody>\n",
       "    <tr>\n",
       "      <th>0</th>\n",
       "      <td>서울특별시</td>\n",
       "      <td>현대오일뱅크(주)직영 산성셀프주유소</td>\n",
       "      <td>서울 강남구 헌릉로 730</td>\n",
       "      <td>현대오일뱅크</td>\n",
       "      <td>222264963</td>\n",
       "      <td>Y</td>\n",
       "      <td>2140.0</td>\n",
       "      <td>1955.0</td>\n",
       "      <td>1900.0</td>\n",
       "      <td>NaN</td>\n",
       "    </tr>\n",
       "    <tr>\n",
       "      <th>1</th>\n",
       "      <td>서울특별시</td>\n",
       "      <td>(주)보성 세곡주유소</td>\n",
       "      <td>서울 강남구  헌릉로 731 (세곡동)</td>\n",
       "      <td>SK에너지</td>\n",
       "      <td>24456870</td>\n",
       "      <td>Y</td>\n",
       "      <td>NaN</td>\n",
       "      <td>1955.0</td>\n",
       "      <td>1900.0</td>\n",
       "      <td>NaN</td>\n",
       "    </tr>\n",
       "    <tr>\n",
       "      <th>2</th>\n",
       "      <td>서울특별시</td>\n",
       "      <td>방죽주유소</td>\n",
       "      <td>서울 강남구 밤고개로 215 (율현동)</td>\n",
       "      <td>GS칼텍스</td>\n",
       "      <td>24593434</td>\n",
       "      <td>Y</td>\n",
       "      <td>NaN</td>\n",
       "      <td>1987.0</td>\n",
       "      <td>1919.0</td>\n",
       "      <td>NaN</td>\n",
       "    </tr>\n",
       "  </tbody>\n",
       "</table>\n",
       "</div>"
      ],
      "text/plain": [
       "      지역                   상호                     주소      상표       전화번호 셀프여부  \\\n",
       "0  서울특별시  현대오일뱅크(주)직영 산성셀프주유소         서울 강남구 헌릉로 730  현대오일뱅크  222264963    Y   \n",
       "1  서울특별시          (주)보성 세곡주유소  서울 강남구  헌릉로 731 (세곡동)   SK에너지   24456870    Y   \n",
       "2  서울특별시                방죽주유소  서울 강남구 밤고개로 215 (율현동)   GS칼텍스   24593434    Y   \n",
       "\n",
       "    고급휘발유     휘발유      경유 실내등유  \n",
       "0  2140.0  1955.0  1900.0  NaN  \n",
       "1     NaN  1955.0  1900.0  NaN  \n",
       "2     NaN  1987.0  1919.0  NaN  "
      ]
     },
     "metadata": {},
     "output_type": "display_data"
    },
    {
     "name": "stdout",
     "output_type": "stream",
     "text": [
      "<class 'pandas.core.frame.DataFrame'>\n",
      "RangeIndex: 225 entries, 0 to 224\n",
      "Data columns (total 10 columns):\n",
      " #   Column  Non-Null Count  Dtype \n",
      "---  ------  --------------  ----- \n",
      " 0   지역      225 non-null    object\n",
      " 1   상호      225 non-null    object\n",
      " 2   주소      225 non-null    object\n",
      " 3   상표      225 non-null    object\n",
      " 4   전화번호    225 non-null    object\n",
      " 5   셀프여부    225 non-null    object\n",
      " 6   고급휘발유   203 non-null    object\n",
      " 7   휘발유     220 non-null    object\n",
      " 8   경유      221 non-null    object\n",
      " 9   실내등유    189 non-null    object\n",
      "dtypes: object(10)\n",
      "memory usage: 17.7+ KB\n"
     ]
    }
   ],
   "source": [
    "import pandas as pd\n",
    "import os\n",
    "\n",
    "fnames=os.listdir(\"./data\")\n",
    "\n",
    "oildf = pd.DataFrame()\n",
    "\n",
    "for fname in fnames:\n",
    "    try:\n",
    "        df0=pd.read_csv(\"./data/\" + fname, header=2)\n",
    "    except:\n",
    "        df0=pd.read_csv(\"./data/\" + fname, header=2, encoding=\"cp949\")\n",
    "        \n",
    "    oildf=pd.concat([oildf, df0])  # 옵션: ignore_index=True : index 재설정\n",
    "\n",
    "del df0\n",
    "\n",
    "oildf.reset_index(drop=True, inplace=True)\n",
    "\n",
    "display(oildf.head(3))\n",
    "oildf.info()"
   ]
  },
  {
   "cell_type": "code",
   "execution_count": 14,
   "metadata": {},
   "outputs": [
    {
     "name": "stdout",
     "output_type": "stream",
     "text": [
      "['지역_위치별(주유소) (1).csv', '지역_위치별(주유소) (6).csv', '지역_위치별(주유소) (10).csv', '지역_위치별(주유소) (7).csv', '지역_위치별(주유소).csv', '지역_위치별(주유소) (4).csv', '지역_위치별(주유소) (8).csv', '지역_위치별(주유소) (9).csv', '지역_위치별(주유소) (5).csv', '지역_위치별(주유소) (2).csv', '지역_위치별(주유소) (3).csv']\n"
     ]
    }
   ],
   "source": [
    "print(fnames)"
   ]
  },
  {
   "cell_type": "markdown",
   "metadata": {
    "id": "yxNG1fEKcq4y"
   },
   "source": [
    "#### [미션2] 데이터 전처리\n",
    "- NaN 값 포함된 데이터 전체 삭제\n",
    "- \"구\" 필드 생성하기\n",
    "- 데이터 출력 필드: 상호, 상표, 구, 셀프여부, 휘발유, 경우 만 출력\n",
    "- \"휘발유\", \"경유\": float64로 변경\n",
    "- \"휘발유\", \"경유\" 데이터의 \"-\"를 평균값으로 수정\n"
   ]
  },
  {
   "cell_type": "code",
   "execution_count": 15,
   "metadata": {
    "colab": {
     "base_uri": "https://localhost:8080/"
    },
    "executionInfo": {
     "elapsed": 258,
     "status": "ok",
     "timestamp": 1647334031432,
     "user": {
      "displayName": "dc w",
      "photoUrl": "https://lh3.googleusercontent.com/a/default-user=s64",
      "userId": "02032790542712423852"
     },
     "user_tz": -540
    },
    "id": "3Z7TpO1CfAIK",
    "outputId": "61934003-2524-4bde-e1cb-e70bd91b0fca"
   },
   "outputs": [
    {
     "data": {
      "text/plain": [
       "지역        0\n",
       "상호        0\n",
       "주소        0\n",
       "상표        0\n",
       "전화번호      0\n",
       "셀프여부      0\n",
       "고급휘발유    22\n",
       "휘발유       5\n",
       "경유        4\n",
       "실내등유     36\n",
       "dtype: int64"
      ]
     },
     "execution_count": 15,
     "metadata": {},
     "output_type": "execute_result"
    }
   ],
   "source": [
    "## 필드명 NaN 갯수 확인\n",
    "oildf.isna().sum()"
   ]
  },
  {
   "cell_type": "code",
   "execution_count": 16,
   "metadata": {
    "executionInfo": {
     "elapsed": 274,
     "status": "ok",
     "timestamp": 1647334045779,
     "user": {
      "displayName": "dc w",
      "photoUrl": "https://lh3.googleusercontent.com/a/default-user=s64",
      "userId": "02032790542712423852"
     },
     "user_tz": -540
    },
    "id": "Q7lO8oZYfQ2d"
   },
   "outputs": [],
   "source": [
    "## loc[] 함수를 이용해 주소에서 구 추출하기\n",
    "gutxt = []\n",
    "for i in oildf.index:\n",
    "    gutxt.append( oildf.loc[i, '주소'].split(\" \")[1] )"
   ]
  },
  {
   "cell_type": "code",
   "execution_count": 17,
   "metadata": {
    "executionInfo": {
     "elapsed": 3,
     "status": "ok",
     "timestamp": 1647334049095,
     "user": {
      "displayName": "dc w",
      "photoUrl": "https://lh3.googleusercontent.com/a/default-user=s64",
      "userId": "02032790542712423852"
     },
     "user_tz": -540
    },
    "id": "x0c0czEfBKgl"
   },
   "outputs": [],
   "source": [
    "# 한줄쓰기로 표현\n",
    "gutxt=[ oildf.loc[i, '주소'].split(\" \")[1] for i in oildf.index ]"
   ]
  },
  {
   "cell_type": "code",
   "execution_count": 18,
   "metadata": {
    "executionInfo": {
     "elapsed": 269,
     "status": "ok",
     "timestamp": 1647334054259,
     "user": {
      "displayName": "dc w",
      "photoUrl": "https://lh3.googleusercontent.com/a/default-user=s64",
      "userId": "02032790542712423852"
     },
     "user_tz": -540
    },
    "id": "IPnPxACSBUHU"
   },
   "outputs": [],
   "source": [
    "# iloc[] 함수를 이용해 주소에서 구 추출하기\n",
    "gutxt=[ oildf.iloc[i, 2].split(\" \")[1] for i in range(len(oildf)) ]"
   ]
  },
  {
   "cell_type": "code",
   "execution_count": 19,
   "metadata": {
    "executionInfo": {
     "elapsed": 307,
     "status": "ok",
     "timestamp": 1647334059340,
     "user": {
      "displayName": "dc w",
      "photoUrl": "https://lh3.googleusercontent.com/a/default-user=s64",
      "userId": "02032790542712423852"
     },
     "user_tz": -540
    },
    "id": "BQgkbEwugd7S"
   },
   "outputs": [],
   "source": [
    "# \"구\" 필드 추가\n",
    "oildf[\"구\"]=gutxt"
   ]
  },
  {
   "cell_type": "code",
   "execution_count": 20,
   "metadata": {
    "executionInfo": {
     "elapsed": 258,
     "status": "ok",
     "timestamp": 1647334067085,
     "user": {
      "displayName": "dc w",
      "photoUrl": "https://lh3.googleusercontent.com/a/default-user=s64",
      "userId": "02032790542712423852"
     },
     "user_tz": -540
    },
    "id": "LGXsTj6-nW5g"
   },
   "outputs": [],
   "source": [
    "# 필드명으로 DataFrame 생성하기\n",
    "oildf1=oildf[['상호','상표',\"구\",'셀프여부', '휘발유', '경유']]"
   ]
  },
  {
   "cell_type": "code",
   "execution_count": 21,
   "metadata": {
    "colab": {
     "base_uri": "https://localhost:8080/"
    },
    "executionInfo": {
     "elapsed": 267,
     "status": "ok",
     "timestamp": 1647334072694,
     "user": {
      "displayName": "dc w",
      "photoUrl": "https://lh3.googleusercontent.com/a/default-user=s64",
      "userId": "02032790542712423852"
     },
     "user_tz": -540
    },
    "id": "WThtGYlemfNa",
    "outputId": "873d4c9e-6770-4ea4-ec8d-cc9ba2ad7033"
   },
   "outputs": [
    {
     "data": {
      "text/plain": [
       "상호      object\n",
       "상표      object\n",
       "구       object\n",
       "셀프여부    object\n",
       "휘발유     object\n",
       "경유      object\n",
       "dtype: object"
      ]
     },
     "execution_count": 21,
     "metadata": {},
     "output_type": "execute_result"
    }
   ],
   "source": [
    "# iloc를 이용한 DataFrame 생성하기\n",
    "oildf2=oildf.iloc[:, [1, 3,-1, 5, 7, 8]]\n",
    "oildf2.dtypes"
   ]
  },
  {
   "cell_type": "code",
   "execution_count": 22,
   "metadata": {
    "colab": {
     "base_uri": "https://localhost:8080/",
     "height": 144
    },
    "executionInfo": {
     "elapsed": 360,
     "status": "ok",
     "timestamp": 1647334077540,
     "user": {
      "displayName": "dc w",
      "photoUrl": "https://lh3.googleusercontent.com/a/default-user=s64",
      "userId": "02032790542712423852"
     },
     "user_tz": -540
    },
    "id": "kprWEgTCoSzS",
    "outputId": "75f28616-c3d7-41b8-e4fb-9b9dc517f7a8"
   },
   "outputs": [
    {
     "data": {
      "text/html": [
       "<div>\n",
       "<style scoped>\n",
       "    .dataframe tbody tr th:only-of-type {\n",
       "        vertical-align: middle;\n",
       "    }\n",
       "\n",
       "    .dataframe tbody tr th {\n",
       "        vertical-align: top;\n",
       "    }\n",
       "\n",
       "    .dataframe thead th {\n",
       "        text-align: right;\n",
       "    }\n",
       "</style>\n",
       "<table border=\"1\" class=\"dataframe\">\n",
       "  <thead>\n",
       "    <tr style=\"text-align: right;\">\n",
       "      <th></th>\n",
       "      <th>상호</th>\n",
       "      <th>상표</th>\n",
       "      <th>구</th>\n",
       "      <th>셀프여부</th>\n",
       "      <th>휘발유</th>\n",
       "      <th>경유</th>\n",
       "    </tr>\n",
       "  </thead>\n",
       "  <tbody>\n",
       "    <tr>\n",
       "      <th>0</th>\n",
       "      <td>현대오일뱅크(주)직영 산성셀프주유소</td>\n",
       "      <td>현대오일뱅크</td>\n",
       "      <td>강남구</td>\n",
       "      <td>Y</td>\n",
       "      <td>1955.0</td>\n",
       "      <td>1900.0</td>\n",
       "    </tr>\n",
       "  </tbody>\n",
       "</table>\n",
       "</div>"
      ],
      "text/plain": [
       "                    상호      상표    구 셀프여부     휘발유      경유\n",
       "0  현대오일뱅크(주)직영 산성셀프주유소  현대오일뱅크  강남구    Y  1955.0  1900.0"
      ]
     },
     "metadata": {},
     "output_type": "display_data"
    },
    {
     "data": {
      "text/html": [
       "<div>\n",
       "<style scoped>\n",
       "    .dataframe tbody tr th:only-of-type {\n",
       "        vertical-align: middle;\n",
       "    }\n",
       "\n",
       "    .dataframe tbody tr th {\n",
       "        vertical-align: top;\n",
       "    }\n",
       "\n",
       "    .dataframe thead th {\n",
       "        text-align: right;\n",
       "    }\n",
       "</style>\n",
       "<table border=\"1\" class=\"dataframe\">\n",
       "  <thead>\n",
       "    <tr style=\"text-align: right;\">\n",
       "      <th></th>\n",
       "      <th>상호</th>\n",
       "      <th>상표</th>\n",
       "      <th>구</th>\n",
       "      <th>셀프여부</th>\n",
       "      <th>휘발유</th>\n",
       "      <th>경유</th>\n",
       "    </tr>\n",
       "  </thead>\n",
       "  <tbody>\n",
       "    <tr>\n",
       "      <th>0</th>\n",
       "      <td>현대오일뱅크(주)직영 산성셀프주유소</td>\n",
       "      <td>현대오일뱅크</td>\n",
       "      <td>강남구</td>\n",
       "      <td>Y</td>\n",
       "      <td>1955.0</td>\n",
       "      <td>1900.0</td>\n",
       "    </tr>\n",
       "  </tbody>\n",
       "</table>\n",
       "</div>"
      ],
      "text/plain": [
       "                    상호      상표    구 셀프여부     휘발유      경유\n",
       "0  현대오일뱅크(주)직영 산성셀프주유소  현대오일뱅크  강남구    Y  1955.0  1900.0"
      ]
     },
     "metadata": {},
     "output_type": "display_data"
    }
   ],
   "source": [
    "display(oildf1.head(1))\n",
    "display(oildf2.head(1))"
   ]
  },
  {
   "cell_type": "code",
   "execution_count": 23,
   "metadata": {
    "executionInfo": {
     "elapsed": 372,
     "status": "ok",
     "timestamp": 1647334088463,
     "user": {
      "displayName": "dc w",
      "photoUrl": "https://lh3.googleusercontent.com/a/default-user=s64",
      "userId": "02032790542712423852"
     },
     "user_tz": -540
    },
    "id": "-Iuq7v2VoAN0"
   },
   "outputs": [],
   "source": [
    "# NaN값 0으로 변경\n",
    "oildf2=oildf2.fillna(0)"
   ]
  },
  {
   "cell_type": "code",
   "execution_count": 24,
   "metadata": {
    "executionInfo": {
     "elapsed": 340,
     "status": "ok",
     "timestamp": 1647334101315,
     "user": {
      "displayName": "dc w",
      "photoUrl": "https://lh3.googleusercontent.com/a/default-user=s64",
      "userId": "02032790542712423852"
     },
     "user_tz": -540
    },
    "id": "BYQrGVNfn4N8"
   },
   "outputs": [],
   "source": [
    "# 휘발유/경우 데이터에서 \"-\" 값만 찾아 0으로 변경\n",
    "oildf2.loc[oildf2.휘발유==\"-\",'휘발유']=0\n",
    "oildf2.loc[oildf2[\"경유\"]==\"-\",'경유']=0"
   ]
  },
  {
   "cell_type": "markdown",
   "metadata": {
    "id": "iDcaztUIhL-O"
   },
   "source": [
    "Index(['지역', '상호', '주소', '상표', '전화번호', '셀프여부', '고급휘발유', '휘발유', '경유', '실내등유'],"
   ]
  },
  {
   "cell_type": "code",
   "execution_count": 25,
   "metadata": {
    "colab": {
     "base_uri": "https://localhost:8080/"
    },
    "executionInfo": {
     "elapsed": 262,
     "status": "ok",
     "timestamp": 1647334106921,
     "user": {
      "displayName": "dc w",
      "photoUrl": "https://lh3.googleusercontent.com/a/default-user=s64",
      "userId": "02032790542712423852"
     },
     "user_tz": -540
    },
    "id": "Dqsbl02Fw5LV",
    "outputId": "19cb2244-90ff-454c-bc19-306c9e7b4e7d"
   },
   "outputs": [
    {
     "data": {
      "text/plain": [
       "array([1955.0, 1987.0, 2028.0, 2038.0, 2040.0, 2045.0, 2047.0, 2052.0,\n",
       "       2055.0, 2062.0, 2079.0, 2089.0, 2097.0, 2108.0, 2158.0, 2194.0,\n",
       "       2228.0, 2239.0, 2243.0, 2288.0, 2296.0, 2329.0, 2380.0, 2393.0,\n",
       "       2394.0, 2398.0, 2545.0, 0, 1978.0, 1985.0, 1988.0, 1993.0, 1997.0,\n",
       "       1998.0, 1999.0, 2023.0, 2025.0, 2027.0, 2148.0, '1949', '1954',\n",
       "       '1973', '1985', '2014', '2018', '2025', '2027', '2048', '2068',\n",
       "       '1945', '1995', '1998', '1999', '2007', '2011', '2028', '2039',\n",
       "       '2045', '2053', '2065', '2069', '2085', 2039, 2059, 2069, 2199,\n",
       "       2299, 1989, 1995, 2009, '2089', '2119', '2120', '2345', '2378',\n",
       "       '2395', '2398', 1926, 1975, 1979, 1986, 1996, 2018, 2029, 2048,\n",
       "       2099, 2177, 2008, 2010, 2020, 2022, 2031, 2035, 2071, 2073, 2074,\n",
       "       2088, 2095, 2138, 2198, 2238, 2298, 2477, 2065.0, 2098.0, 2172.0,\n",
       "       1968, 2015, 2090], dtype=object)"
      ]
     },
     "execution_count": 25,
     "metadata": {},
     "output_type": "execute_result"
    }
   ],
   "source": [
    "# 고유값 확인하기\n",
    "oildf2['휘발유'].unique()"
   ]
  },
  {
   "cell_type": "code",
   "execution_count": 26,
   "metadata": {
    "colab": {
     "base_uri": "https://localhost:8080/"
    },
    "executionInfo": {
     "elapsed": 352,
     "status": "ok",
     "timestamp": 1647334110978,
     "user": {
      "displayName": "dc w",
      "photoUrl": "https://lh3.googleusercontent.com/a/default-user=s64",
      "userId": "02032790542712423852"
     },
     "user_tz": -540
    },
    "id": "nkfYRQIRw6MY",
    "outputId": "0362403d-445f-4d67-a719-2e1c776b286d"
   },
   "outputs": [
    {
     "data": {
      "text/plain": [
       "상호       object\n",
       "상표       object\n",
       "구        object\n",
       "셀프여부     object\n",
       "휘발유     float64\n",
       "경유      float64\n",
       "dtype: object"
      ]
     },
     "execution_count": 26,
     "metadata": {},
     "output_type": "execute_result"
    }
   ],
   "source": [
    "# 휘발유/경우 실수형 자료로 변경하기\n",
    "oildf2=oildf2.astype({\"휘발유\":float, \"경유\":float})\n",
    "oildf2.dtypes  # 데이터 타입 확인하기"
   ]
  },
  {
   "cell_type": "code",
   "execution_count": 27,
   "metadata": {
    "executionInfo": {
     "elapsed": 260,
     "status": "ok",
     "timestamp": 1647334116203,
     "user": {
      "displayName": "dc w",
      "photoUrl": "https://lh3.googleusercontent.com/a/default-user=s64",
      "userId": "02032790542712423852"
     },
     "user_tz": -540
    },
    "id": "VoSzVenFw7MB"
   },
   "outputs": [],
   "source": [
    "# 휘발유/경유 데이터에서 0인 값을 평균값으로 변경하기\n",
    "oildf2.loc[oildf2.휘발유 == 0,'휘발유'] = oildf2.loc[oildf2.휘발유 != 0,'휘발유'].mean()\n",
    "oildf2.loc[oildf2[\"경유\"] == 0,'경유'] = oildf2.loc[oildf2[\"경유\"] != 0,'경유'].mean()"
   ]
  },
  {
   "cell_type": "code",
   "execution_count": 28,
   "metadata": {
    "colab": {
     "base_uri": "https://localhost:8080/",
     "height": 49
    },
    "executionInfo": {
     "elapsed": 269,
     "status": "ok",
     "timestamp": 1647334120602,
     "user": {
      "displayName": "dc w",
      "photoUrl": "https://lh3.googleusercontent.com/a/default-user=s64",
      "userId": "02032790542712423852"
     },
     "user_tz": -540
    },
    "id": "z5RnA2RCw8ep",
    "outputId": "69424648-e4d6-423b-d241-7fa3e0b56f21"
   },
   "outputs": [
    {
     "data": {
      "text/html": [
       "<div>\n",
       "<style scoped>\n",
       "    .dataframe tbody tr th:only-of-type {\n",
       "        vertical-align: middle;\n",
       "    }\n",
       "\n",
       "    .dataframe tbody tr th {\n",
       "        vertical-align: top;\n",
       "    }\n",
       "\n",
       "    .dataframe thead th {\n",
       "        text-align: right;\n",
       "    }\n",
       "</style>\n",
       "<table border=\"1\" class=\"dataframe\">\n",
       "  <thead>\n",
       "    <tr style=\"text-align: right;\">\n",
       "      <th></th>\n",
       "      <th>상호</th>\n",
       "      <th>상표</th>\n",
       "      <th>구</th>\n",
       "      <th>셀프여부</th>\n",
       "      <th>휘발유</th>\n",
       "      <th>경유</th>\n",
       "    </tr>\n",
       "  </thead>\n",
       "  <tbody>\n",
       "  </tbody>\n",
       "</table>\n",
       "</div>"
      ],
      "text/plain": [
       "Empty DataFrame\n",
       "Columns: [상호, 상표, 구, 셀프여부, 휘발유, 경유]\n",
       "Index: []"
      ]
     },
     "execution_count": 28,
     "metadata": {},
     "output_type": "execute_result"
    }
   ],
   "source": [
    "# 0인 값이 인는지 확인\n",
    "oildf2.loc[oildf2[\"경유\"] == \"-\", :]   "
   ]
  },
  {
   "cell_type": "code",
   "execution_count": 29,
   "metadata": {
    "colab": {
     "base_uri": "https://localhost:8080/",
     "height": 80
    },
    "executionInfo": {
     "elapsed": 488,
     "status": "ok",
     "timestamp": 1647334125488,
     "user": {
      "displayName": "dc w",
      "photoUrl": "https://lh3.googleusercontent.com/a/default-user=s64",
      "userId": "02032790542712423852"
     },
     "user_tz": -540
    },
    "id": "VSibgRwSw9j6",
    "outputId": "bc9ced9b-e503-4a0a-df7b-f99c4aa121a5"
   },
   "outputs": [
    {
     "data": {
      "text/html": [
       "<div>\n",
       "<style scoped>\n",
       "    .dataframe tbody tr th:only-of-type {\n",
       "        vertical-align: middle;\n",
       "    }\n",
       "\n",
       "    .dataframe tbody tr th {\n",
       "        vertical-align: top;\n",
       "    }\n",
       "\n",
       "    .dataframe thead th {\n",
       "        text-align: right;\n",
       "    }\n",
       "</style>\n",
       "<table border=\"1\" class=\"dataframe\">\n",
       "  <thead>\n",
       "    <tr style=\"text-align: right;\">\n",
       "      <th></th>\n",
       "      <th>상호</th>\n",
       "      <th>상표</th>\n",
       "      <th>구</th>\n",
       "      <th>셀프여부</th>\n",
       "      <th>휘발유</th>\n",
       "      <th>경유</th>\n",
       "    </tr>\n",
       "  </thead>\n",
       "  <tbody>\n",
       "    <tr>\n",
       "      <th>33</th>\n",
       "      <td>제이제이주유소</td>\n",
       "      <td>현대오일뱅크</td>\n",
       "      <td>강남구</td>\n",
       "      <td>N</td>\n",
       "      <td>2545.0</td>\n",
       "      <td>2335.0</td>\n",
       "    </tr>\n",
       "  </tbody>\n",
       "</table>\n",
       "</div>"
      ],
      "text/plain": [
       "         상호      상표    구 셀프여부     휘발유      경유\n",
       "33  제이제이주유소  현대오일뱅크  강남구    N  2545.0  2335.0"
      ]
     },
     "execution_count": 29,
     "metadata": {},
     "output_type": "execute_result"
    }
   ],
   "source": [
    "# oildf2에서 휘발유 최고가 검색\n",
    "oildf2[oildf2[\"휘발유\"] == oildf2[\"휘발유\"].max()]"
   ]
  },
  {
   "cell_type": "code",
   "execution_count": 30,
   "metadata": {
    "colab": {
     "base_uri": "https://localhost:8080/",
     "height": 237
    },
    "executionInfo": {
     "elapsed": 292,
     "status": "ok",
     "timestamp": 1647334129034,
     "user": {
      "displayName": "dc w",
      "photoUrl": "https://lh3.googleusercontent.com/a/default-user=s64",
      "userId": "02032790542712423852"
     },
     "user_tz": -540
    },
    "id": "lvgBWJy8w-sV",
    "outputId": "e7f7435a-96c8-445c-d7cd-13e6f2060d2c"
   },
   "outputs": [
    {
     "data": {
      "text/html": [
       "<div>\n",
       "<style scoped>\n",
       "    .dataframe tbody tr th:only-of-type {\n",
       "        vertical-align: middle;\n",
       "    }\n",
       "\n",
       "    .dataframe tbody tr th {\n",
       "        vertical-align: top;\n",
       "    }\n",
       "\n",
       "    .dataframe thead th {\n",
       "        text-align: right;\n",
       "    }\n",
       "</style>\n",
       "<table border=\"1\" class=\"dataframe\">\n",
       "  <thead>\n",
       "    <tr style=\"text-align: right;\">\n",
       "      <th></th>\n",
       "      <th>휘발유</th>\n",
       "      <th>경유</th>\n",
       "    </tr>\n",
       "    <tr>\n",
       "      <th>구</th>\n",
       "      <th></th>\n",
       "      <th></th>\n",
       "    </tr>\n",
       "  </thead>\n",
       "  <tbody>\n",
       "    <tr>\n",
       "      <th>강남구</th>\n",
       "      <td>2147.099888</td>\n",
       "      <td>2038.561369</td>\n",
       "    </tr>\n",
       "    <tr>\n",
       "      <th>강동구</th>\n",
       "      <td>2075.842660</td>\n",
       "      <td>1960.161206</td>\n",
       "    </tr>\n",
       "    <tr>\n",
       "      <th>강북구</th>\n",
       "      <td>2001.230769</td>\n",
       "      <td>1912.153846</td>\n",
       "    </tr>\n",
       "    <tr>\n",
       "      <th>노원구</th>\n",
       "      <td>2035.933333</td>\n",
       "      <td>1938.666667</td>\n",
       "    </tr>\n",
       "    <tr>\n",
       "      <th>도봉구</th>\n",
       "      <td>2020.994368</td>\n",
       "      <td>1934.792049</td>\n",
       "    </tr>\n",
       "  </tbody>\n",
       "</table>\n",
       "</div>"
      ],
      "text/plain": [
       "             휘발유           경유\n",
       "구                            \n",
       "강남구  2147.099888  2038.561369\n",
       "강동구  2075.842660  1960.161206\n",
       "강북구  2001.230769  1912.153846\n",
       "노원구  2035.933333  1938.666667\n",
       "도봉구  2020.994368  1934.792049"
      ]
     },
     "execution_count": 30,
     "metadata": {},
     "output_type": "execute_result"
    }
   ],
   "source": [
    "# \"구\" 필드를 기준으로 평균 값 계산\n",
    "guGroup=oildf2.groupby(by=\"구\").mean()   # 그룹 항목이 index로 설정\n",
    "guGroup.head()"
   ]
  },
  {
   "cell_type": "code",
   "execution_count": 31,
   "metadata": {
    "colab": {
     "base_uri": "https://localhost:8080/",
     "height": 112
    },
    "executionInfo": {
     "elapsed": 294,
     "status": "ok",
     "timestamp": 1647334133479,
     "user": {
      "displayName": "dc w",
      "photoUrl": "https://lh3.googleusercontent.com/a/default-user=s64",
      "userId": "02032790542712423852"
     },
     "user_tz": -540
    },
    "id": "ifPTqpAgw_nZ",
    "outputId": "0e7ef536-a75e-43e6-d935-891aad08b45c"
   },
   "outputs": [
    {
     "data": {
      "text/html": [
       "<div>\n",
       "<style scoped>\n",
       "    .dataframe tbody tr th:only-of-type {\n",
       "        vertical-align: middle;\n",
       "    }\n",
       "\n",
       "    .dataframe tbody tr th {\n",
       "        vertical-align: top;\n",
       "    }\n",
       "\n",
       "    .dataframe thead th {\n",
       "        text-align: right;\n",
       "    }\n",
       "</style>\n",
       "<table border=\"1\" class=\"dataframe\">\n",
       "  <thead>\n",
       "    <tr style=\"text-align: right;\">\n",
       "      <th></th>\n",
       "      <th>휘발유</th>\n",
       "      <th>경유</th>\n",
       "    </tr>\n",
       "    <tr>\n",
       "      <th>구</th>\n",
       "      <th></th>\n",
       "      <th></th>\n",
       "    </tr>\n",
       "  </thead>\n",
       "  <tbody>\n",
       "    <tr>\n",
       "      <th>강북구</th>\n",
       "      <td>2001.230769</td>\n",
       "      <td>1912.153846</td>\n",
       "    </tr>\n",
       "  </tbody>\n",
       "</table>\n",
       "</div>"
      ],
      "text/plain": [
       "             휘발유           경유\n",
       "구                            \n",
       "강북구  2001.230769  1912.153846"
      ]
     },
     "execution_count": 31,
     "metadata": {},
     "output_type": "execute_result"
    }
   ],
   "source": [
    "# 강북구 데이터만 출력\n",
    "guGroup.loc[[\"강북구\"]]"
   ]
  },
  {
   "cell_type": "code",
   "execution_count": 32,
   "metadata": {
    "colab": {
     "base_uri": "https://localhost:8080/",
     "height": 143
    },
    "executionInfo": {
     "elapsed": 299,
     "status": "ok",
     "timestamp": 1647334138550,
     "user": {
      "displayName": "dc w",
      "photoUrl": "https://lh3.googleusercontent.com/a/default-user=s64",
      "userId": "02032790542712423852"
     },
     "user_tz": -540
    },
    "id": "whNWWSAoxArU",
    "outputId": "9505b974-ec2e-421a-b7c5-69d506607912"
   },
   "outputs": [
    {
     "data": {
      "text/html": [
       "<div>\n",
       "<style scoped>\n",
       "    .dataframe tbody tr th:only-of-type {\n",
       "        vertical-align: middle;\n",
       "    }\n",
       "\n",
       "    .dataframe tbody tr th {\n",
       "        vertical-align: top;\n",
       "    }\n",
       "\n",
       "    .dataframe thead th {\n",
       "        text-align: right;\n",
       "    }\n",
       "</style>\n",
       "<table border=\"1\" class=\"dataframe\">\n",
       "  <thead>\n",
       "    <tr style=\"text-align: right;\">\n",
       "      <th></th>\n",
       "      <th>휘발유</th>\n",
       "      <th>경유</th>\n",
       "    </tr>\n",
       "    <tr>\n",
       "      <th>구</th>\n",
       "      <th></th>\n",
       "      <th></th>\n",
       "    </tr>\n",
       "  </thead>\n",
       "  <tbody>\n",
       "    <tr>\n",
       "      <th>강북구</th>\n",
       "      <td>2001.230769</td>\n",
       "      <td>1912.153846</td>\n",
       "    </tr>\n",
       "    <tr>\n",
       "      <th>양천구</th>\n",
       "      <td>2001.760000</td>\n",
       "      <td>1929.840000</td>\n",
       "    </tr>\n",
       "  </tbody>\n",
       "</table>\n",
       "</div>"
      ],
      "text/plain": [
       "             휘발유           경유\n",
       "구                            \n",
       "강북구  2001.230769  1912.153846\n",
       "양천구  2001.760000  1929.840000"
      ]
     },
     "execution_count": 32,
     "metadata": {},
     "output_type": "execute_result"
    }
   ],
   "source": [
    "# 강북구 / 양천구 출력\n",
    "guGroup.loc[[\"강북구\",\"양천구\"]]"
   ]
  },
  {
   "cell_type": "code",
   "execution_count": 33,
   "metadata": {
    "colab": {
     "base_uri": "https://localhost:8080/"
    },
    "executionInfo": {
     "elapsed": 269,
     "status": "ok",
     "timestamp": 1647334142336,
     "user": {
      "displayName": "dc w",
      "photoUrl": "https://lh3.googleusercontent.com/a/default-user=s64",
      "userId": "02032790542712423852"
     },
     "user_tz": -540
    },
    "id": "2DgHsmHWxB7a",
    "outputId": "9a6519ea-45fd-446f-808f-5ff9002cb4b6"
   },
   "outputs": [
    {
     "data": {
      "text/plain": [
       "Index(['강남구', '강동구', '강북구', '노원구', '도봉구', '마포구', '서초구', '송파구', '양천구', '은평구',\n",
       "       '종로구'],\n",
       "      dtype='object', name='구')"
      ]
     },
     "execution_count": 33,
     "metadata": {},
     "output_type": "execute_result"
    }
   ],
   "source": [
    "guGroup.index"
   ]
  },
  {
   "cell_type": "code",
   "execution_count": 34,
   "metadata": {
    "colab": {
     "base_uri": "https://localhost:8080/"
    },
    "executionInfo": {
     "elapsed": 267,
     "status": "ok",
     "timestamp": 1647334145745,
     "user": {
      "displayName": "dc w",
      "photoUrl": "https://lh3.googleusercontent.com/a/default-user=s64",
      "userId": "02032790542712423852"
     },
     "user_tz": -540
    },
    "id": "aeheeeM-xC3O",
    "outputId": "9479c7d2-6deb-4c62-a19c-e7785c073671"
   },
   "outputs": [
    {
     "data": {
      "text/plain": [
       "구\n",
       "강북구    2001.230769\n",
       "노원구    2035.933333\n",
       "도봉구    2020.994368\n",
       "마포구    2071.750000\n",
       "서초구    2068.696970\n",
       "Name: 휘발유, dtype: float64"
      ]
     },
     "execution_count": 34,
     "metadata": {},
     "output_type": "execute_result"
    }
   ],
   "source": [
    "# 강북구 ~ 서초구까지 의 휘발유값 출력\n",
    "guGroup.loc[\"강북구\":\"서초구\", \"휘발유\"]"
   ]
  },
  {
   "cell_type": "code",
   "execution_count": 35,
   "metadata": {
    "colab": {
     "base_uri": "https://localhost:8080/"
    },
    "executionInfo": {
     "elapsed": 266,
     "status": "ok",
     "timestamp": 1647334150148,
     "user": {
      "displayName": "dc w",
      "photoUrl": "https://lh3.googleusercontent.com/a/default-user=s64",
      "userId": "02032790542712423852"
     },
     "user_tz": -540
    },
    "id": "dN27Lu_TxDsq",
    "outputId": "fbe33f29-9ed7-4436-e49e-c537a44a903c"
   },
   "outputs": [
    {
     "data": {
      "text/plain": [
       "구\n",
       "강남구    37\n",
       "강동구    14\n",
       "강북구    13\n",
       "노원구    15\n",
       "도봉구    18\n",
       "마포구    12\n",
       "서초구    33\n",
       "송파구    32\n",
       "양천구    25\n",
       "은평구    17\n",
       "종로구     9\n",
       "Name: 상표, dtype: int64"
      ]
     },
     "execution_count": 35,
     "metadata": {},
     "output_type": "execute_result"
    }
   ],
   "source": [
    "# 구별 주유소 갯수\n",
    "oildf2.groupby([\"구\"])[\"상표\"].count()"
   ]
  },
  {
   "cell_type": "code",
   "execution_count": 36,
   "metadata": {
    "colab": {
     "base_uri": "https://localhost:8080/",
     "height": 1000
    },
    "executionInfo": {
     "elapsed": 399,
     "status": "ok",
     "timestamp": 1647334154472,
     "user": {
      "displayName": "dc w",
      "photoUrl": "https://lh3.googleusercontent.com/a/default-user=s64",
      "userId": "02032790542712423852"
     },
     "user_tz": -540
    },
    "id": "FbfnimhFxEwJ",
    "outputId": "491444b0-b169-4f2e-ebb5-b81333da4b48"
   },
   "outputs": [
    {
     "data": {
      "text/html": [
       "<div>\n",
       "<style scoped>\n",
       "    .dataframe tbody tr th:only-of-type {\n",
       "        vertical-align: middle;\n",
       "    }\n",
       "\n",
       "    .dataframe tbody tr th {\n",
       "        vertical-align: top;\n",
       "    }\n",
       "\n",
       "    .dataframe thead th {\n",
       "        text-align: right;\n",
       "    }\n",
       "</style>\n",
       "<table border=\"1\" class=\"dataframe\">\n",
       "  <thead>\n",
       "    <tr style=\"text-align: right;\">\n",
       "      <th></th>\n",
       "      <th></th>\n",
       "      <th>휘발유</th>\n",
       "      <th>경유</th>\n",
       "    </tr>\n",
       "    <tr>\n",
       "      <th>구</th>\n",
       "      <th>상표</th>\n",
       "      <th></th>\n",
       "      <th></th>\n",
       "    </tr>\n",
       "  </thead>\n",
       "  <tbody>\n",
       "    <tr>\n",
       "      <th rowspan=\"4\" valign=\"top\">강남구</th>\n",
       "      <th>GS칼텍스</th>\n",
       "      <td>9</td>\n",
       "      <td>9</td>\n",
       "    </tr>\n",
       "    <tr>\n",
       "      <th>SK에너지</th>\n",
       "      <td>15</td>\n",
       "      <td>15</td>\n",
       "    </tr>\n",
       "    <tr>\n",
       "      <th>SOIL</th>\n",
       "      <td>5</td>\n",
       "      <td>5</td>\n",
       "    </tr>\n",
       "    <tr>\n",
       "      <th>현대오일뱅크</th>\n",
       "      <td>8</td>\n",
       "      <td>8</td>\n",
       "    </tr>\n",
       "    <tr>\n",
       "      <th rowspan=\"4\" valign=\"top\">강동구</th>\n",
       "      <th>GS칼텍스</th>\n",
       "      <td>5</td>\n",
       "      <td>5</td>\n",
       "    </tr>\n",
       "    <tr>\n",
       "      <th>S-OIL</th>\n",
       "      <td>2</td>\n",
       "      <td>2</td>\n",
       "    </tr>\n",
       "    <tr>\n",
       "      <th>SK에너지</th>\n",
       "      <td>3</td>\n",
       "      <td>3</td>\n",
       "    </tr>\n",
       "    <tr>\n",
       "      <th>현대오일뱅크</th>\n",
       "      <td>4</td>\n",
       "      <td>4</td>\n",
       "    </tr>\n",
       "    <tr>\n",
       "      <th rowspan=\"4\" valign=\"top\">강북구</th>\n",
       "      <th>GS칼텍스</th>\n",
       "      <td>3</td>\n",
       "      <td>3</td>\n",
       "    </tr>\n",
       "    <tr>\n",
       "      <th>S-OIL</th>\n",
       "      <td>3</td>\n",
       "      <td>3</td>\n",
       "    </tr>\n",
       "    <tr>\n",
       "      <th>SK에너지</th>\n",
       "      <td>3</td>\n",
       "      <td>3</td>\n",
       "    </tr>\n",
       "    <tr>\n",
       "      <th>현대오일뱅크</th>\n",
       "      <td>4</td>\n",
       "      <td>4</td>\n",
       "    </tr>\n",
       "    <tr>\n",
       "      <th rowspan=\"4\" valign=\"top\">노원구</th>\n",
       "      <th>GS칼텍스</th>\n",
       "      <td>6</td>\n",
       "      <td>6</td>\n",
       "    </tr>\n",
       "    <tr>\n",
       "      <th>S-OIL</th>\n",
       "      <td>3</td>\n",
       "      <td>3</td>\n",
       "    </tr>\n",
       "    <tr>\n",
       "      <th>SK에너지</th>\n",
       "      <td>3</td>\n",
       "      <td>3</td>\n",
       "    </tr>\n",
       "    <tr>\n",
       "      <th>현대오일뱅크</th>\n",
       "      <td>3</td>\n",
       "      <td>3</td>\n",
       "    </tr>\n",
       "    <tr>\n",
       "      <th rowspan=\"4\" valign=\"top\">도봉구</th>\n",
       "      <th>GS칼텍스</th>\n",
       "      <td>3</td>\n",
       "      <td>3</td>\n",
       "    </tr>\n",
       "    <tr>\n",
       "      <th>S-OIL</th>\n",
       "      <td>5</td>\n",
       "      <td>5</td>\n",
       "    </tr>\n",
       "    <tr>\n",
       "      <th>SK에너지</th>\n",
       "      <td>3</td>\n",
       "      <td>3</td>\n",
       "    </tr>\n",
       "    <tr>\n",
       "      <th>현대오일뱅크</th>\n",
       "      <td>7</td>\n",
       "      <td>7</td>\n",
       "    </tr>\n",
       "    <tr>\n",
       "      <th rowspan=\"4\" valign=\"top\">마포구</th>\n",
       "      <th>GS칼텍스</th>\n",
       "      <td>1</td>\n",
       "      <td>1</td>\n",
       "    </tr>\n",
       "    <tr>\n",
       "      <th>S-OIL</th>\n",
       "      <td>3</td>\n",
       "      <td>3</td>\n",
       "    </tr>\n",
       "    <tr>\n",
       "      <th>SK에너지</th>\n",
       "      <td>5</td>\n",
       "      <td>5</td>\n",
       "    </tr>\n",
       "    <tr>\n",
       "      <th>현대오일뱅크</th>\n",
       "      <td>3</td>\n",
       "      <td>3</td>\n",
       "    </tr>\n",
       "    <tr>\n",
       "      <th rowspan=\"5\" valign=\"top\">서초구</th>\n",
       "      <th>GS칼텍스</th>\n",
       "      <td>13</td>\n",
       "      <td>13</td>\n",
       "    </tr>\n",
       "    <tr>\n",
       "      <th>S-OIL</th>\n",
       "      <td>5</td>\n",
       "      <td>5</td>\n",
       "    </tr>\n",
       "    <tr>\n",
       "      <th>SK에너지</th>\n",
       "      <td>9</td>\n",
       "      <td>9</td>\n",
       "    </tr>\n",
       "    <tr>\n",
       "      <th>알뜰(ex)</th>\n",
       "      <td>1</td>\n",
       "      <td>1</td>\n",
       "    </tr>\n",
       "    <tr>\n",
       "      <th>현대오일뱅크</th>\n",
       "      <td>5</td>\n",
       "      <td>5</td>\n",
       "    </tr>\n",
       "    <tr>\n",
       "      <th rowspan=\"4\" valign=\"top\">송파구</th>\n",
       "      <th>GS칼텍스</th>\n",
       "      <td>9</td>\n",
       "      <td>9</td>\n",
       "    </tr>\n",
       "    <tr>\n",
       "      <th>S-OIL</th>\n",
       "      <td>5</td>\n",
       "      <td>5</td>\n",
       "    </tr>\n",
       "    <tr>\n",
       "      <th>SK에너지</th>\n",
       "      <td>10</td>\n",
       "      <td>10</td>\n",
       "    </tr>\n",
       "    <tr>\n",
       "      <th>현대오일뱅크</th>\n",
       "      <td>8</td>\n",
       "      <td>8</td>\n",
       "    </tr>\n",
       "    <tr>\n",
       "      <th rowspan=\"5\" valign=\"top\">양천구</th>\n",
       "      <th>GS칼텍스</th>\n",
       "      <td>5</td>\n",
       "      <td>5</td>\n",
       "    </tr>\n",
       "    <tr>\n",
       "      <th>S-OIL</th>\n",
       "      <td>1</td>\n",
       "      <td>1</td>\n",
       "    </tr>\n",
       "    <tr>\n",
       "      <th>SK에너지</th>\n",
       "      <td>9</td>\n",
       "      <td>9</td>\n",
       "    </tr>\n",
       "    <tr>\n",
       "      <th>알뜰주유소</th>\n",
       "      <td>1</td>\n",
       "      <td>1</td>\n",
       "    </tr>\n",
       "    <tr>\n",
       "      <th>현대오일뱅크</th>\n",
       "      <td>9</td>\n",
       "      <td>9</td>\n",
       "    </tr>\n",
       "    <tr>\n",
       "      <th rowspan=\"5\" valign=\"top\">은평구</th>\n",
       "      <th>GS칼텍스</th>\n",
       "      <td>6</td>\n",
       "      <td>6</td>\n",
       "    </tr>\n",
       "    <tr>\n",
       "      <th>S-OIL</th>\n",
       "      <td>2</td>\n",
       "      <td>2</td>\n",
       "    </tr>\n",
       "    <tr>\n",
       "      <th>SK에너지</th>\n",
       "      <td>5</td>\n",
       "      <td>5</td>\n",
       "    </tr>\n",
       "    <tr>\n",
       "      <th>자가상표</th>\n",
       "      <td>1</td>\n",
       "      <td>1</td>\n",
       "    </tr>\n",
       "    <tr>\n",
       "      <th>현대오일뱅크</th>\n",
       "      <td>3</td>\n",
       "      <td>3</td>\n",
       "    </tr>\n",
       "    <tr>\n",
       "      <th rowspan=\"4\" valign=\"top\">종로구</th>\n",
       "      <th>GS칼텍스</th>\n",
       "      <td>2</td>\n",
       "      <td>2</td>\n",
       "    </tr>\n",
       "    <tr>\n",
       "      <th>S-OIL</th>\n",
       "      <td>2</td>\n",
       "      <td>2</td>\n",
       "    </tr>\n",
       "    <tr>\n",
       "      <th>SK에너지</th>\n",
       "      <td>3</td>\n",
       "      <td>3</td>\n",
       "    </tr>\n",
       "    <tr>\n",
       "      <th>현대오일뱅크</th>\n",
       "      <td>2</td>\n",
       "      <td>2</td>\n",
       "    </tr>\n",
       "  </tbody>\n",
       "</table>\n",
       "</div>"
      ],
      "text/plain": [
       "            휘발유  경유\n",
       "구   상표             \n",
       "강남구 GS칼텍스     9   9\n",
       "    SK에너지    15  15\n",
       "    SOIL      5   5\n",
       "    현대오일뱅크    8   8\n",
       "강동구 GS칼텍스     5   5\n",
       "    S-OIL     2   2\n",
       "    SK에너지     3   3\n",
       "    현대오일뱅크    4   4\n",
       "강북구 GS칼텍스     3   3\n",
       "    S-OIL     3   3\n",
       "    SK에너지     3   3\n",
       "    현대오일뱅크    4   4\n",
       "노원구 GS칼텍스     6   6\n",
       "    S-OIL     3   3\n",
       "    SK에너지     3   3\n",
       "    현대오일뱅크    3   3\n",
       "도봉구 GS칼텍스     3   3\n",
       "    S-OIL     5   5\n",
       "    SK에너지     3   3\n",
       "    현대오일뱅크    7   7\n",
       "마포구 GS칼텍스     1   1\n",
       "    S-OIL     3   3\n",
       "    SK에너지     5   5\n",
       "    현대오일뱅크    3   3\n",
       "서초구 GS칼텍스    13  13\n",
       "    S-OIL     5   5\n",
       "    SK에너지     9   9\n",
       "    알뜰(ex)    1   1\n",
       "    현대오일뱅크    5   5\n",
       "송파구 GS칼텍스     9   9\n",
       "    S-OIL     5   5\n",
       "    SK에너지    10  10\n",
       "    현대오일뱅크    8   8\n",
       "양천구 GS칼텍스     5   5\n",
       "    S-OIL     1   1\n",
       "    SK에너지     9   9\n",
       "    알뜰주유소     1   1\n",
       "    현대오일뱅크    9   9\n",
       "은평구 GS칼텍스     6   6\n",
       "    S-OIL     2   2\n",
       "    SK에너지     5   5\n",
       "    자가상표      1   1\n",
       "    현대오일뱅크    3   3\n",
       "종로구 GS칼텍스     2   2\n",
       "    S-OIL     2   2\n",
       "    SK에너지     3   3\n",
       "    현대오일뱅크    2   2"
      ]
     },
     "execution_count": 36,
     "metadata": {},
     "output_type": "execute_result"
    }
   ],
   "source": [
    "# 구별/상표별 주유소 갯수\n",
    "oildf2.groupby([\"구\", \"상표\"])[[\"휘발유\", \"경유\"]].count()"
   ]
  },
  {
   "cell_type": "code",
   "execution_count": 37,
   "metadata": {
    "colab": {
     "base_uri": "https://localhost:8080/",
     "height": 1000
    },
    "executionInfo": {
     "elapsed": 279,
     "status": "ok",
     "timestamp": 1647334158935,
     "user": {
      "displayName": "dc w",
      "photoUrl": "https://lh3.googleusercontent.com/a/default-user=s64",
      "userId": "02032790542712423852"
     },
     "user_tz": -540
    },
    "id": "lbz4rF22xFym",
    "outputId": "ef461af3-39c7-4970-d2a8-f8de82552a46"
   },
   "outputs": [
    {
     "data": {
      "text/html": [
       "<div>\n",
       "<style scoped>\n",
       "    .dataframe tbody tr th:only-of-type {\n",
       "        vertical-align: middle;\n",
       "    }\n",
       "\n",
       "    .dataframe tbody tr th {\n",
       "        vertical-align: top;\n",
       "    }\n",
       "\n",
       "    .dataframe thead th {\n",
       "        text-align: right;\n",
       "    }\n",
       "</style>\n",
       "<table border=\"1\" class=\"dataframe\">\n",
       "  <thead>\n",
       "    <tr style=\"text-align: right;\">\n",
       "      <th></th>\n",
       "      <th>구</th>\n",
       "      <th>상표</th>\n",
       "      <th>휘발유</th>\n",
       "    </tr>\n",
       "  </thead>\n",
       "  <tbody>\n",
       "    <tr>\n",
       "      <th>0</th>\n",
       "      <td>강남구</td>\n",
       "      <td>GS칼텍스</td>\n",
       "      <td>9</td>\n",
       "    </tr>\n",
       "    <tr>\n",
       "      <th>1</th>\n",
       "      <td>강남구</td>\n",
       "      <td>SK에너지</td>\n",
       "      <td>15</td>\n",
       "    </tr>\n",
       "    <tr>\n",
       "      <th>2</th>\n",
       "      <td>강남구</td>\n",
       "      <td>SOIL</td>\n",
       "      <td>5</td>\n",
       "    </tr>\n",
       "    <tr>\n",
       "      <th>3</th>\n",
       "      <td>강남구</td>\n",
       "      <td>현대오일뱅크</td>\n",
       "      <td>8</td>\n",
       "    </tr>\n",
       "    <tr>\n",
       "      <th>4</th>\n",
       "      <td>강동구</td>\n",
       "      <td>GS칼텍스</td>\n",
       "      <td>5</td>\n",
       "    </tr>\n",
       "    <tr>\n",
       "      <th>5</th>\n",
       "      <td>강동구</td>\n",
       "      <td>S-OIL</td>\n",
       "      <td>2</td>\n",
       "    </tr>\n",
       "    <tr>\n",
       "      <th>6</th>\n",
       "      <td>강동구</td>\n",
       "      <td>SK에너지</td>\n",
       "      <td>3</td>\n",
       "    </tr>\n",
       "    <tr>\n",
       "      <th>7</th>\n",
       "      <td>강동구</td>\n",
       "      <td>현대오일뱅크</td>\n",
       "      <td>4</td>\n",
       "    </tr>\n",
       "    <tr>\n",
       "      <th>8</th>\n",
       "      <td>강북구</td>\n",
       "      <td>GS칼텍스</td>\n",
       "      <td>3</td>\n",
       "    </tr>\n",
       "    <tr>\n",
       "      <th>9</th>\n",
       "      <td>강북구</td>\n",
       "      <td>S-OIL</td>\n",
       "      <td>3</td>\n",
       "    </tr>\n",
       "    <tr>\n",
       "      <th>10</th>\n",
       "      <td>강북구</td>\n",
       "      <td>SK에너지</td>\n",
       "      <td>3</td>\n",
       "    </tr>\n",
       "    <tr>\n",
       "      <th>11</th>\n",
       "      <td>강북구</td>\n",
       "      <td>현대오일뱅크</td>\n",
       "      <td>4</td>\n",
       "    </tr>\n",
       "    <tr>\n",
       "      <th>12</th>\n",
       "      <td>노원구</td>\n",
       "      <td>GS칼텍스</td>\n",
       "      <td>6</td>\n",
       "    </tr>\n",
       "    <tr>\n",
       "      <th>13</th>\n",
       "      <td>노원구</td>\n",
       "      <td>S-OIL</td>\n",
       "      <td>3</td>\n",
       "    </tr>\n",
       "    <tr>\n",
       "      <th>14</th>\n",
       "      <td>노원구</td>\n",
       "      <td>SK에너지</td>\n",
       "      <td>3</td>\n",
       "    </tr>\n",
       "    <tr>\n",
       "      <th>15</th>\n",
       "      <td>노원구</td>\n",
       "      <td>현대오일뱅크</td>\n",
       "      <td>3</td>\n",
       "    </tr>\n",
       "    <tr>\n",
       "      <th>16</th>\n",
       "      <td>도봉구</td>\n",
       "      <td>GS칼텍스</td>\n",
       "      <td>3</td>\n",
       "    </tr>\n",
       "    <tr>\n",
       "      <th>17</th>\n",
       "      <td>도봉구</td>\n",
       "      <td>S-OIL</td>\n",
       "      <td>5</td>\n",
       "    </tr>\n",
       "    <tr>\n",
       "      <th>18</th>\n",
       "      <td>도봉구</td>\n",
       "      <td>SK에너지</td>\n",
       "      <td>3</td>\n",
       "    </tr>\n",
       "    <tr>\n",
       "      <th>19</th>\n",
       "      <td>도봉구</td>\n",
       "      <td>현대오일뱅크</td>\n",
       "      <td>7</td>\n",
       "    </tr>\n",
       "    <tr>\n",
       "      <th>20</th>\n",
       "      <td>마포구</td>\n",
       "      <td>GS칼텍스</td>\n",
       "      <td>1</td>\n",
       "    </tr>\n",
       "    <tr>\n",
       "      <th>21</th>\n",
       "      <td>마포구</td>\n",
       "      <td>S-OIL</td>\n",
       "      <td>3</td>\n",
       "    </tr>\n",
       "    <tr>\n",
       "      <th>22</th>\n",
       "      <td>마포구</td>\n",
       "      <td>SK에너지</td>\n",
       "      <td>5</td>\n",
       "    </tr>\n",
       "    <tr>\n",
       "      <th>23</th>\n",
       "      <td>마포구</td>\n",
       "      <td>현대오일뱅크</td>\n",
       "      <td>3</td>\n",
       "    </tr>\n",
       "    <tr>\n",
       "      <th>24</th>\n",
       "      <td>서초구</td>\n",
       "      <td>GS칼텍스</td>\n",
       "      <td>13</td>\n",
       "    </tr>\n",
       "    <tr>\n",
       "      <th>25</th>\n",
       "      <td>서초구</td>\n",
       "      <td>S-OIL</td>\n",
       "      <td>5</td>\n",
       "    </tr>\n",
       "    <tr>\n",
       "      <th>26</th>\n",
       "      <td>서초구</td>\n",
       "      <td>SK에너지</td>\n",
       "      <td>9</td>\n",
       "    </tr>\n",
       "    <tr>\n",
       "      <th>27</th>\n",
       "      <td>서초구</td>\n",
       "      <td>알뜰(ex)</td>\n",
       "      <td>1</td>\n",
       "    </tr>\n",
       "    <tr>\n",
       "      <th>28</th>\n",
       "      <td>서초구</td>\n",
       "      <td>현대오일뱅크</td>\n",
       "      <td>5</td>\n",
       "    </tr>\n",
       "    <tr>\n",
       "      <th>29</th>\n",
       "      <td>송파구</td>\n",
       "      <td>GS칼텍스</td>\n",
       "      <td>9</td>\n",
       "    </tr>\n",
       "    <tr>\n",
       "      <th>30</th>\n",
       "      <td>송파구</td>\n",
       "      <td>S-OIL</td>\n",
       "      <td>5</td>\n",
       "    </tr>\n",
       "    <tr>\n",
       "      <th>31</th>\n",
       "      <td>송파구</td>\n",
       "      <td>SK에너지</td>\n",
       "      <td>10</td>\n",
       "    </tr>\n",
       "    <tr>\n",
       "      <th>32</th>\n",
       "      <td>송파구</td>\n",
       "      <td>현대오일뱅크</td>\n",
       "      <td>8</td>\n",
       "    </tr>\n",
       "    <tr>\n",
       "      <th>33</th>\n",
       "      <td>양천구</td>\n",
       "      <td>GS칼텍스</td>\n",
       "      <td>5</td>\n",
       "    </tr>\n",
       "    <tr>\n",
       "      <th>34</th>\n",
       "      <td>양천구</td>\n",
       "      <td>S-OIL</td>\n",
       "      <td>1</td>\n",
       "    </tr>\n",
       "    <tr>\n",
       "      <th>35</th>\n",
       "      <td>양천구</td>\n",
       "      <td>SK에너지</td>\n",
       "      <td>9</td>\n",
       "    </tr>\n",
       "    <tr>\n",
       "      <th>36</th>\n",
       "      <td>양천구</td>\n",
       "      <td>알뜰주유소</td>\n",
       "      <td>1</td>\n",
       "    </tr>\n",
       "    <tr>\n",
       "      <th>37</th>\n",
       "      <td>양천구</td>\n",
       "      <td>현대오일뱅크</td>\n",
       "      <td>9</td>\n",
       "    </tr>\n",
       "    <tr>\n",
       "      <th>38</th>\n",
       "      <td>은평구</td>\n",
       "      <td>GS칼텍스</td>\n",
       "      <td>6</td>\n",
       "    </tr>\n",
       "    <tr>\n",
       "      <th>39</th>\n",
       "      <td>은평구</td>\n",
       "      <td>S-OIL</td>\n",
       "      <td>2</td>\n",
       "    </tr>\n",
       "    <tr>\n",
       "      <th>40</th>\n",
       "      <td>은평구</td>\n",
       "      <td>SK에너지</td>\n",
       "      <td>5</td>\n",
       "    </tr>\n",
       "    <tr>\n",
       "      <th>41</th>\n",
       "      <td>은평구</td>\n",
       "      <td>자가상표</td>\n",
       "      <td>1</td>\n",
       "    </tr>\n",
       "    <tr>\n",
       "      <th>42</th>\n",
       "      <td>은평구</td>\n",
       "      <td>현대오일뱅크</td>\n",
       "      <td>3</td>\n",
       "    </tr>\n",
       "    <tr>\n",
       "      <th>43</th>\n",
       "      <td>종로구</td>\n",
       "      <td>GS칼텍스</td>\n",
       "      <td>2</td>\n",
       "    </tr>\n",
       "    <tr>\n",
       "      <th>44</th>\n",
       "      <td>종로구</td>\n",
       "      <td>S-OIL</td>\n",
       "      <td>2</td>\n",
       "    </tr>\n",
       "    <tr>\n",
       "      <th>45</th>\n",
       "      <td>종로구</td>\n",
       "      <td>SK에너지</td>\n",
       "      <td>3</td>\n",
       "    </tr>\n",
       "    <tr>\n",
       "      <th>46</th>\n",
       "      <td>종로구</td>\n",
       "      <td>현대오일뱅크</td>\n",
       "      <td>2</td>\n",
       "    </tr>\n",
       "  </tbody>\n",
       "</table>\n",
       "</div>"
      ],
      "text/plain": [
       "      구      상표  휘발유\n",
       "0   강남구   GS칼텍스    9\n",
       "1   강남구   SK에너지   15\n",
       "2   강남구    SOIL    5\n",
       "3   강남구  현대오일뱅크    8\n",
       "4   강동구   GS칼텍스    5\n",
       "5   강동구   S-OIL    2\n",
       "6   강동구   SK에너지    3\n",
       "7   강동구  현대오일뱅크    4\n",
       "8   강북구   GS칼텍스    3\n",
       "9   강북구   S-OIL    3\n",
       "10  강북구   SK에너지    3\n",
       "11  강북구  현대오일뱅크    4\n",
       "12  노원구   GS칼텍스    6\n",
       "13  노원구   S-OIL    3\n",
       "14  노원구   SK에너지    3\n",
       "15  노원구  현대오일뱅크    3\n",
       "16  도봉구   GS칼텍스    3\n",
       "17  도봉구   S-OIL    5\n",
       "18  도봉구   SK에너지    3\n",
       "19  도봉구  현대오일뱅크    7\n",
       "20  마포구   GS칼텍스    1\n",
       "21  마포구   S-OIL    3\n",
       "22  마포구   SK에너지    5\n",
       "23  마포구  현대오일뱅크    3\n",
       "24  서초구   GS칼텍스   13\n",
       "25  서초구   S-OIL    5\n",
       "26  서초구   SK에너지    9\n",
       "27  서초구  알뜰(ex)    1\n",
       "28  서초구  현대오일뱅크    5\n",
       "29  송파구   GS칼텍스    9\n",
       "30  송파구   S-OIL    5\n",
       "31  송파구   SK에너지   10\n",
       "32  송파구  현대오일뱅크    8\n",
       "33  양천구   GS칼텍스    5\n",
       "34  양천구   S-OIL    1\n",
       "35  양천구   SK에너지    9\n",
       "36  양천구   알뜰주유소    1\n",
       "37  양천구  현대오일뱅크    9\n",
       "38  은평구   GS칼텍스    6\n",
       "39  은평구   S-OIL    2\n",
       "40  은평구   SK에너지    5\n",
       "41  은평구    자가상표    1\n",
       "42  은평구  현대오일뱅크    3\n",
       "43  종로구   GS칼텍스    2\n",
       "44  종로구   S-OIL    2\n",
       "45  종로구   SK에너지    3\n",
       "46  종로구  현대오일뱅크    2"
      ]
     },
     "execution_count": 37,
     "metadata": {},
     "output_type": "execute_result"
    }
   ],
   "source": [
    "# 구별/상표별 주유소 갯수 계산후 by 값을 데이터로 변경(reset_index() 실행)\n",
    "oildf2.groupby([\"구\", \"상표\"], as_index=False)[\"휘발유\"].count()"
   ]
  },
  {
   "cell_type": "code",
   "execution_count": 38,
   "metadata": {
    "colab": {
     "base_uri": "https://localhost:8080/",
     "height": 520
    },
    "executionInfo": {
     "elapsed": 282,
     "status": "ok",
     "timestamp": 1647334163770,
     "user": {
      "displayName": "dc w",
      "photoUrl": "https://lh3.googleusercontent.com/a/default-user=s64",
      "userId": "02032790542712423852"
     },
     "user_tz": -540
    },
    "id": "fKfhIUjoxHLN",
    "outputId": "5d3d7eb5-0a8a-46f2-807f-79df9d705ad0"
   },
   "outputs": [
    {
     "data": {
      "text/html": [
       "<div>\n",
       "<style scoped>\n",
       "    .dataframe tbody tr th:only-of-type {\n",
       "        vertical-align: middle;\n",
       "    }\n",
       "\n",
       "    .dataframe tbody tr th {\n",
       "        vertical-align: top;\n",
       "    }\n",
       "\n",
       "    .dataframe thead th {\n",
       "        text-align: right;\n",
       "    }\n",
       "</style>\n",
       "<table border=\"1\" class=\"dataframe\">\n",
       "  <thead>\n",
       "    <tr style=\"text-align: right;\">\n",
       "      <th></th>\n",
       "      <th>상호</th>\n",
       "      <th>상표</th>\n",
       "      <th>구</th>\n",
       "      <th>셀프여부</th>\n",
       "      <th>휘발유</th>\n",
       "      <th>경유</th>\n",
       "    </tr>\n",
       "  </thead>\n",
       "  <tbody>\n",
       "    <tr>\n",
       "      <th>210</th>\n",
       "      <td>한신주유소</td>\n",
       "      <td>SK에너지</td>\n",
       "      <td>노원구</td>\n",
       "      <td>Y</td>\n",
       "      <td>1968.0</td>\n",
       "      <td>1838.0</td>\n",
       "    </tr>\n",
       "    <tr>\n",
       "      <th>211</th>\n",
       "      <td>삼육주유소</td>\n",
       "      <td>SK에너지</td>\n",
       "      <td>노원구</td>\n",
       "      <td>Y</td>\n",
       "      <td>1975.0</td>\n",
       "      <td>1845.0</td>\n",
       "    </tr>\n",
       "    <tr>\n",
       "      <th>212</th>\n",
       "      <td>태릉솔밭주유소</td>\n",
       "      <td>S-OIL</td>\n",
       "      <td>노원구</td>\n",
       "      <td>Y</td>\n",
       "      <td>1995.0</td>\n",
       "      <td>1895.0</td>\n",
       "    </tr>\n",
       "    <tr>\n",
       "      <th>213</th>\n",
       "      <td>화랑대주유소</td>\n",
       "      <td>현대오일뱅크</td>\n",
       "      <td>노원구</td>\n",
       "      <td>Y</td>\n",
       "      <td>1995.0</td>\n",
       "      <td>1895.0</td>\n",
       "    </tr>\n",
       "    <tr>\n",
       "      <th>214</th>\n",
       "      <td>이엠석유(주)배꽃나라주유소</td>\n",
       "      <td>GS칼텍스</td>\n",
       "      <td>노원구</td>\n",
       "      <td>Y</td>\n",
       "      <td>2009.0</td>\n",
       "      <td>1909.0</td>\n",
       "    </tr>\n",
       "    <tr>\n",
       "      <th>215</th>\n",
       "      <td>현대오일뱅크㈜직영 하계주유소</td>\n",
       "      <td>현대오일뱅크</td>\n",
       "      <td>노원구</td>\n",
       "      <td>N</td>\n",
       "      <td>2015.0</td>\n",
       "      <td>1925.0</td>\n",
       "    </tr>\n",
       "    <tr>\n",
       "      <th>216</th>\n",
       "      <td>월계주유소</td>\n",
       "      <td>GS칼텍스</td>\n",
       "      <td>노원구</td>\n",
       "      <td>Y</td>\n",
       "      <td>2015.0</td>\n",
       "      <td>1915.0</td>\n",
       "    </tr>\n",
       "    <tr>\n",
       "      <th>217</th>\n",
       "      <td>SK에너지㈜직영 상계주유소</td>\n",
       "      <td>SK에너지</td>\n",
       "      <td>노원구</td>\n",
       "      <td>N</td>\n",
       "      <td>2025.0</td>\n",
       "      <td>1965.0</td>\n",
       "    </tr>\n",
       "    <tr>\n",
       "      <th>218</th>\n",
       "      <td>남선석유(주)구도일주유소 불암</td>\n",
       "      <td>S-OIL</td>\n",
       "      <td>노원구</td>\n",
       "      <td>Y</td>\n",
       "      <td>2025.0</td>\n",
       "      <td>1965.0</td>\n",
       "    </tr>\n",
       "    <tr>\n",
       "      <th>219</th>\n",
       "      <td>노원주유소</td>\n",
       "      <td>GS칼텍스</td>\n",
       "      <td>노원구</td>\n",
       "      <td>N</td>\n",
       "      <td>2038.0</td>\n",
       "      <td>1949.0</td>\n",
       "    </tr>\n",
       "    <tr>\n",
       "      <th>220</th>\n",
       "      <td>상계동주유소</td>\n",
       "      <td>현대오일뱅크</td>\n",
       "      <td>노원구</td>\n",
       "      <td>N</td>\n",
       "      <td>2090.0</td>\n",
       "      <td>1990.0</td>\n",
       "    </tr>\n",
       "    <tr>\n",
       "      <th>221</th>\n",
       "      <td>하계삼호주유소</td>\n",
       "      <td>GS칼텍스</td>\n",
       "      <td>노원구</td>\n",
       "      <td>N</td>\n",
       "      <td>2095.0</td>\n",
       "      <td>1995.0</td>\n",
       "    </tr>\n",
       "    <tr>\n",
       "      <th>222</th>\n",
       "      <td>성북역주유소</td>\n",
       "      <td>GS칼텍스</td>\n",
       "      <td>노원구</td>\n",
       "      <td>N</td>\n",
       "      <td>2098.0</td>\n",
       "      <td>1998.0</td>\n",
       "    </tr>\n",
       "    <tr>\n",
       "      <th>223</th>\n",
       "      <td>(주)소모에너지 수락산셀프주유소</td>\n",
       "      <td>GS칼텍스</td>\n",
       "      <td>노원구</td>\n",
       "      <td>Y</td>\n",
       "      <td>2098.0</td>\n",
       "      <td>1998.0</td>\n",
       "    </tr>\n",
       "    <tr>\n",
       "      <th>224</th>\n",
       "      <td>신성주유소</td>\n",
       "      <td>S-OIL</td>\n",
       "      <td>노원구</td>\n",
       "      <td>Y</td>\n",
       "      <td>2098.0</td>\n",
       "      <td>1998.0</td>\n",
       "    </tr>\n",
       "  </tbody>\n",
       "</table>\n",
       "</div>"
      ],
      "text/plain": [
       "                    상호      상표    구 셀프여부     휘발유      경유\n",
       "210              한신주유소   SK에너지  노원구    Y  1968.0  1838.0\n",
       "211              삼육주유소   SK에너지  노원구    Y  1975.0  1845.0\n",
       "212            태릉솔밭주유소   S-OIL  노원구    Y  1995.0  1895.0\n",
       "213             화랑대주유소  현대오일뱅크  노원구    Y  1995.0  1895.0\n",
       "214     이엠석유(주)배꽃나라주유소   GS칼텍스  노원구    Y  2009.0  1909.0\n",
       "215    현대오일뱅크㈜직영 하계주유소  현대오일뱅크  노원구    N  2015.0  1925.0\n",
       "216              월계주유소   GS칼텍스  노원구    Y  2015.0  1915.0\n",
       "217     SK에너지㈜직영 상계주유소   SK에너지  노원구    N  2025.0  1965.0\n",
       "218   남선석유(주)구도일주유소 불암   S-OIL  노원구    Y  2025.0  1965.0\n",
       "219              노원주유소   GS칼텍스  노원구    N  2038.0  1949.0\n",
       "220             상계동주유소  현대오일뱅크  노원구    N  2090.0  1990.0\n",
       "221            하계삼호주유소   GS칼텍스  노원구    N  2095.0  1995.0\n",
       "222             성북역주유소   GS칼텍스  노원구    N  2098.0  1998.0\n",
       "223  (주)소모에너지 수락산셀프주유소   GS칼텍스  노원구    Y  2098.0  1998.0\n",
       "224              신성주유소   S-OIL  노원구    Y  2098.0  1998.0"
      ]
     },
     "execution_count": 38,
     "metadata": {},
     "output_type": "execute_result"
    }
   ],
   "source": [
    "# 그룹 안에서 원한는 데이터 확인\n",
    "oildf2.groupby(\"구\").get_group(\"노원구\")"
   ]
  },
  {
   "cell_type": "code",
   "execution_count": 41,
   "metadata": {
    "executionInfo": {
     "elapsed": 2,
     "status": "ok",
     "timestamp": 1647334169439,
     "user": {
      "displayName": "dc w",
      "photoUrl": "https://lh3.googleusercontent.com/a/default-user=s64",
      "userId": "02032790542712423852"
     },
     "user_tz": -540
    },
    "id": "N7DHehDYxIF6"
   },
   "outputs": [],
   "source": [
    "# oildf2 csv 파일로 저장하기\n",
    "oildf2.to_csv(\"서울시유류정보.csv\", index=False, encoding=\"cp949\")"
   ]
  },
  {
   "cell_type": "code",
   "execution_count": null,
   "metadata": {
    "id": "cz8aMdAqxKnT"
   },
   "outputs": [],
   "source": []
  }
 ],
 "metadata": {
  "colab": {
   "authorship_tag": "ABX9TyOl4Har7jrqJ1uOadXa+YEP",
   "collapsed_sections": [],
   "name": "2. [미션]유가정보_파일분석.ipynb",
   "provenance": []
  },
  "kernelspec": {
   "display_name": "Python 3 (ipykernel)",
   "language": "python",
   "name": "python3"
  },
  "language_info": {
   "codemirror_mode": {
    "name": "ipython",
    "version": 3
   },
   "file_extension": ".py",
   "mimetype": "text/x-python",
   "name": "python",
   "nbconvert_exporter": "python",
   "pygments_lexer": "ipython3",
   "version": "3.9.7"
  }
 },
 "nbformat": 4,
 "nbformat_minor": 1
}
