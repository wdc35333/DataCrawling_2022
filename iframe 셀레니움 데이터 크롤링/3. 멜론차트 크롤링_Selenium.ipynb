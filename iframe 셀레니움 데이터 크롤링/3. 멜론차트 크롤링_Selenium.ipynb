{
 "cells": [
  {
   "cell_type": "markdown",
   "id": "c3ee06f2",
   "metadata": {},
   "source": []
  },
  {
   "cell_type": "code",
   "execution_count": 2,
   "id": "003ba1fb",
   "metadata": {},
   "outputs": [],
   "source": [
    "from selenium import webdriver\n",
    "from bs4 import BeautifulSoup as bs\n",
    "import pandas as pd\n",
    "import requests\n",
    "import time"
   ]
  },
  {
   "cell_type": "code",
   "execution_count": 9,
   "id": "88ff4c5d",
   "metadata": {},
   "outputs": [
    {
     "name": "stderr",
     "output_type": "stream",
     "text": [
      "/var/folders/ht/f6ymsczd4fs5mmyzkxh60md00000gn/T/ipykernel_92438/4002557486.py:1: DeprecationWarning: executable_path has been deprecated, please pass in a Service object\n",
      "  driver = webdriver.Chrome(\"../chromedriver\")\n"
     ]
    }
   ],
   "source": [
    "driver = webdriver.Chrome(\"../chromedriver\")\n",
    "time.sleep(2)\n",
    "url = \"https://www.melon.com/chart/day/index.htm\"\n",
    "driver.get(url)\n",
    "driver.implicitly_wait(10)"
   ]
  },
  {
   "cell_type": "code",
   "execution_count": 24,
   "id": "d190a0e3",
   "metadata": {},
   "outputs": [
    {
     "name": "stderr",
     "output_type": "stream",
     "text": [
      "/var/folders/ht/f6ymsczd4fs5mmyzkxh60md00000gn/T/ipykernel_92438/718447056.py:1: DeprecationWarning: executable_path has been deprecated, please pass in a Service object\n",
      "  driver = webdriver.Chrome(\"../chromedriver\")\n"
     ]
    },
    {
     "name": "stdout",
     "output_type": "stream",
     "text": [
      "1 \n",
      "TOMBOY\n",
      " (여자)아이들 \n",
      "I NEVER DIE\n",
      "\n"
     ]
    }
   ],
   "source": [
    "driver = webdriver.Chrome(\"../chromedriver\")\n",
    "time.sleep(2)\n",
    "url = \"https://www.melon.com/chart/day/index.htm\"\n",
    "driver.get(url)\n",
    "driver.implicitly_wait(10)\n",
    "html = driver.page_source\n",
    "soup = bs(html, \"html.parser\")\n",
    "driver.quit()\n",
    "tbody_soup = soup.find('tbody')\n",
    "tr_soup = tbody_soup.find_all('tr')\n",
    "\n",
    "\n",
    "rank = tr_soup[0].find(\"span\", class_=\"rank\").get_text()\n",
    "title = tr_soup[0].find(\"div\", class_=\"ellipsis rank01\").get_text()\n",
    "artist = tr_soup[0].find(\"span\", class_=\"checkEllipsis\").get_text()\n",
    "album = tr_soup[0].find(\"div\", class_=\"ellipsis rank03\").get_text()\n",
    "\n",
    "print(rank, title,artist,album)"
   ]
  },
  {
   "cell_type": "markdown",
   "id": "cd4ea618",
   "metadata": {},
   "source": [
    "### [미션] 멜론 순위 전체 데이터 가져오기"
   ]
  },
  {
   "cell_type": "code",
   "execution_count": 25,
   "id": "dd15ac2a",
   "metadata": {},
   "outputs": [
    {
     "name": "stderr",
     "output_type": "stream",
     "text": [
      "/var/folders/ht/f6ymsczd4fs5mmyzkxh60md00000gn/T/ipykernel_92438/912606803.py:1: DeprecationWarning: executable_path has been deprecated, please pass in a Service object\n",
      "  driver = webdriver.Chrome(\"../chromedriver\")\n"
     ]
    },
    {
     "data": {
      "text/html": [
       "<div>\n",
       "<style scoped>\n",
       "    .dataframe tbody tr th:only-of-type {\n",
       "        vertical-align: middle;\n",
       "    }\n",
       "\n",
       "    .dataframe tbody tr th {\n",
       "        vertical-align: top;\n",
       "    }\n",
       "\n",
       "    .dataframe thead th {\n",
       "        text-align: right;\n",
       "    }\n",
       "</style>\n",
       "<table border=\"1\" class=\"dataframe\">\n",
       "  <thead>\n",
       "    <tr style=\"text-align: right;\">\n",
       "      <th></th>\n",
       "      <th>순위</th>\n",
       "      <th>곡명</th>\n",
       "      <th>아티스트</th>\n",
       "      <th>앨범</th>\n",
       "    </tr>\n",
       "  </thead>\n",
       "  <tbody>\n",
       "    <tr>\n",
       "      <th>0</th>\n",
       "      <td>1</td>\n",
       "      <td>TOMBOY</td>\n",
       "      <td>(여자)아이들</td>\n",
       "      <td>I NEVER DIE</td>\n",
       "    </tr>\n",
       "    <tr>\n",
       "      <th>1</th>\n",
       "      <td>2</td>\n",
       "      <td>GANADARA (Feat. 아이유)</td>\n",
       "      <td>박재범</td>\n",
       "      <td>GANADARA</td>\n",
       "    </tr>\n",
       "    <tr>\n",
       "      <th>2</th>\n",
       "      <td>3</td>\n",
       "      <td>Feel My Rhythm</td>\n",
       "      <td>Red Velvet (레드벨벳)</td>\n",
       "      <td>‘The ReVe Festival 2022 - Feel My Rhythm’</td>\n",
       "    </tr>\n",
       "    <tr>\n",
       "      <th>3</th>\n",
       "      <td>4</td>\n",
       "      <td>INVU</td>\n",
       "      <td>태연 (TAEYEON)</td>\n",
       "      <td>INVU - The 3rd Album</td>\n",
       "    </tr>\n",
       "    <tr>\n",
       "      <th>4</th>\n",
       "      <td>5</td>\n",
       "      <td>듣고 싶을까</td>\n",
       "      <td>MSG워너비(M.O.M)</td>\n",
       "      <td>듣고 싶을까</td>\n",
       "    </tr>\n",
       "    <tr>\n",
       "      <th>...</th>\n",
       "      <td>...</td>\n",
       "      <td>...</td>\n",
       "      <td>...</td>\n",
       "      <td>...</td>\n",
       "    </tr>\n",
       "    <tr>\n",
       "      <th>95</th>\n",
       "      <td>96</td>\n",
       "      <td>별빛 같은 나의 사랑아</td>\n",
       "      <td>임영웅</td>\n",
       "      <td>별빛 같은 나의 사랑아</td>\n",
       "    </tr>\n",
       "    <tr>\n",
       "      <th>96</th>\n",
       "      <td>97</td>\n",
       "      <td>HERO</td>\n",
       "      <td>임영웅</td>\n",
       "      <td>HERO</td>\n",
       "    </tr>\n",
       "    <tr>\n",
       "      <th>97</th>\n",
       "      <td>98</td>\n",
       "      <td>끝사랑</td>\n",
       "      <td>임영웅</td>\n",
       "      <td>사랑의 콜센타 PART61</td>\n",
       "    </tr>\n",
       "    <tr>\n",
       "      <th>98</th>\n",
       "      <td>99</td>\n",
       "      <td>쉬어 (Feat. MINO) (Prod. GRAY)</td>\n",
       "      <td>아넌딜라이트(Anandelight), unofficialboyy, BE'O (비오)...</td>\n",
       "      <td>쇼미더머니 10 Episode 1</td>\n",
       "    </tr>\n",
       "    <tr>\n",
       "      <th>99</th>\n",
       "      <td>100</td>\n",
       "      <td>그날에 나는 맘이 편했을까</td>\n",
       "      <td>이예준</td>\n",
       "      <td>그날에 나는 맘이 편했을까</td>\n",
       "    </tr>\n",
       "  </tbody>\n",
       "</table>\n",
       "<p>100 rows × 4 columns</p>\n",
       "</div>"
      ],
      "text/plain": [
       "     순위                            곡명  \\\n",
       "0     1                        TOMBOY   \n",
       "1     2          GANADARA (Feat. 아이유)   \n",
       "2     3                Feel My Rhythm   \n",
       "3     4                          INVU   \n",
       "4     5                        듣고 싶을까   \n",
       "..  ...                           ...   \n",
       "95   96                  별빛 같은 나의 사랑아   \n",
       "96   97                          HERO   \n",
       "97   98                           끝사랑   \n",
       "98   99  쉬어 (Feat. MINO) (Prod. GRAY)   \n",
       "99  100                그날에 나는 맘이 편했을까   \n",
       "\n",
       "                                                 아티스트  \\\n",
       "0                                             (여자)아이들   \n",
       "1                                                 박재범   \n",
       "2                                   Red Velvet (레드벨벳)   \n",
       "3                                        태연 (TAEYEON)   \n",
       "4                                       MSG워너비(M.O.M)   \n",
       "..                                                ...   \n",
       "95                                                임영웅   \n",
       "96                                                임영웅   \n",
       "97                                                임영웅   \n",
       "98  아넌딜라이트(Anandelight), unofficialboyy, BE'O (비오)...   \n",
       "99                                                이예준   \n",
       "\n",
       "                                           앨범  \n",
       "0                                 I NEVER DIE  \n",
       "1                                    GANADARA  \n",
       "2   ‘The ReVe Festival 2022 - Feel My Rhythm’  \n",
       "3                        INVU - The 3rd Album  \n",
       "4                                      듣고 싶을까  \n",
       "..                                        ...  \n",
       "95                               별빛 같은 나의 사랑아  \n",
       "96                                       HERO  \n",
       "97                             사랑의 콜센타 PART61  \n",
       "98                         쇼미더머니 10 Episode 1  \n",
       "99                             그날에 나는 맘이 편했을까  \n",
       "\n",
       "[100 rows x 4 columns]"
      ]
     },
     "execution_count": 25,
     "metadata": {},
     "output_type": "execute_result"
    }
   ],
   "source": [
    "driver = webdriver.Chrome(\"../chromedriver\")\n",
    "time.sleep(2)\n",
    "url = \"https://www.melon.com/chart/day/index.htm\"\n",
    "driver.get(url)\n",
    "driver.implicitly_wait(10)\n",
    "html = driver.page_source\n",
    "soup = bs(html, \"html.parser\")\n",
    "driver.quit()\n",
    "\n",
    "tbody_soup = soup.find('tbody')\n",
    "tr_soup = tbody_soup.find_all('tr')\n",
    "ranking = []\n",
    "\n",
    "for tr in tr_soup:\n",
    "    rank = tr.find(\"span\", class_=\"rank\").get_text()\n",
    "    title = tr.find(\"div\", class_=\"ellipsis rank01\").get_text().replace(\"\\n\",\"\")\n",
    "    artist = tr.find(\"span\", class_=\"checkEllipsis\").get_text()\n",
    "    album = tr.find(\"div\", class_=\"ellipsis rank03\").get_text().replace(\"\\n\",\"\")\n",
    "    ranking.append({\"순위\":rank, \"곡명\":title,\"아티스트\":artist,\"앨범\":album})\n",
    "\n",
    "df = pd.DataFrame(ranking)\n",
    "df"
   ]
  },
  {
   "cell_type": "code",
   "execution_count": null,
   "id": "f2c3efac",
   "metadata": {},
   "outputs": [],
   "source": []
  }
 ],
 "metadata": {
  "kernelspec": {
   "display_name": "Python 3 (ipykernel)",
   "language": "python",
   "name": "python3"
  },
  "language_info": {
   "codemirror_mode": {
    "name": "ipython",
    "version": 3
   },
   "file_extension": ".py",
   "mimetype": "text/x-python",
   "name": "python",
   "nbconvert_exporter": "python",
   "pygments_lexer": "ipython3",
   "version": "3.9.7"
  }
 },
 "nbformat": 4,
 "nbformat_minor": 5
}
