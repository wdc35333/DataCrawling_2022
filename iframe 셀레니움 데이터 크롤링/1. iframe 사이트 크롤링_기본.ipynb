{
 "cells": [
  {
   "cell_type": "markdown",
   "id": "cd71fdfc",
   "metadata": {},
   "source": [
    "# iframe 사이트 크롤링"
   ]
  },
  {
   "cell_type": "code",
   "execution_count": 14,
   "id": "1f774fdc",
   "metadata": {},
   "outputs": [],
   "source": [
    "import requests\n",
    "from bs4 import BeautifulSoup as bs\n",
    "\n",
    "html = requests.get(\"https://blog.naver.com/ohseongae\")\n",
    "soup = bs(html.text, \"html.parser\")\n",
    "\n",
    "# soup = soup.find(\"iframe\", id = \"mainFrame\")[\"src\"]\n",
    "\n",
    "url = \"http://blog.naver.com/\" + soup.find(\"iframe\", id = \"mainFrame\")[\"src\"]"
   ]
  },
  {
   "cell_type": "code",
   "execution_count": 34,
   "id": "e8e8a752",
   "metadata": {},
   "outputs": [
    {
     "data": {
      "text/plain": [
       "'     전시기간 2022. 03. 25  ~  04. 23관람시간 : 화 - 토요일 10:00 ~ 18:00(매주 일, 월요일 휴관)무료관람  아트사이드 갤러리는 2022년 3월 25일부터 4월 23일까지 최진욱 작가의 개인전인 <학교를 떠나며>展을 개최한다. 이번 전시는 오랫동안 학생들을 만나왔던 작가가 교수직을 떠나는 소회를 담아 보고, 듣고, 느낀 것들을 표현한 작품들이 전시된다. 중견작가인 최진욱은 항상 자신의 주변을 그려왔다. 그는 일상의 찰나를 캐치하여 그곳에 놓여있는 객체를 놀랍도록 생생하게 묘사한다. 평범한 장면일 수 있는 동네, 수업 시간, 상해임시정부, 경복궁의 풍경 등을 그렸으며 동시대의 리얼리티를 구체적으로 그려냄으로써 역사적 뉘앙스를 전달하는 작업을 해왔다. 본 기획전은 작가가 최근 들어 마주한 현실과 그로부터 파생된 감정들을 밀도 있게 캔버스 위에 녹여낸다. 그리고 작가의 시선을 투영해 무던하게 묘사된 장면들은 우리로 하여금 불완전함에 대한 수용에 관하여 생각하게 한다.     '"
      ]
     },
     "execution_count": 34,
     "metadata": {},
     "output_type": "execute_result"
    }
   ],
   "source": [
    "html = requests.get(url)\n",
    "soup = bs(html.text, \"html.parser\")\n",
    "main_soup = soup.select(\"#post-view222682205124 > div > div > div.se-main-container\")  \n",
    "# select로 검색한 soup는 리스트로 제공되므로 반드시 뒤에 [0]을 붙여서 검색해야한다 (예: main_soup[0].find_all(...)) \n",
    "txt_soup = main_soup[0].find_all(\"div\", class_=\"se-component se-text se-l-default\")\n",
    "txt_soup[1].get_text().replace(\"\\n\", \" \").replace(\"\\u200b\", \" \").replace(\"\\r\", \" \")"
   ]
  },
  {
   "cell_type": "code",
   "execution_count": 36,
   "id": "6c642d4f",
   "metadata": {},
   "outputs": [
    {
     "data": {
      "text/plain": [
       "'\\n\\n\\n\\n\\n\\u200b\\u200b\\u200b서울 통의동 아트사이드 갤러리 3월 전시회최진욱 개인전 <학교를 떠나며>\\u200b\\n\\n\\n\\n \\n\\n\\n\\n\\n\\n\\n\\n\\n\\n\\n\\n\\n\\n\\n\\u200b전시기간\\r2022. 03. 25  ~  04. 23관람시간 : 화 - 토요일 10:00 ~ 18:00(매주 일, 월요일 휴관)무료관람\\u200b\\u200b아트사이드 갤러리는 2022년 3월 25일부터 4월 23일까지 최진욱 작가의 개인전인 <학교를 떠나며>展을 개최한다. 이번 전시는 오랫동안 학생들을 만나왔던 작가가 교수직을 떠나는 소회를 담아 보고, 듣고, 느낀 것들을 표현한 작품들이 전시된다. 중견작가인 최진욱은 항상 자신의 주변을 그려왔다. 그는 일상의 찰나를 캐치하여 그곳에 놓여있는 객체를 놀랍도록 생생하게 묘사한다. 평범한 장면일 수 있는 동네, 수업 시간, 상해임시정부, 경복궁의 풍경 등을 그렸으며 동시대의 리얼리티를 구체적으로 그려냄으로써 역사적 뉘앙스를 전달하는 작업을 해왔다. 본 기획전은 작가가 최근 들어 마주한 현실과 그로부터 파생된 감정들을 밀도 있게 캔버스 위에 녹여낸다. 그리고 작가의 시선을 투영해 무던하게 묘사된 장면들은 우리로 하여금 불완전함에 대한 수용에 관하여 생각하게 한다.\\u200b\\n\\n\\n\\n \\n\\n\\n\\n\\n\\n\\n\\n\\n\\n\\n\\n\\n\\n\\n\\n\\n\\n\\n\\n\\n\\n\\n\\n\\n\\n\\n\\n\\n\\n사진출처 - 아트사이드갤러리\\n\\n\\n\\n\\n\\n\\n\\n ˙ 풍부한 색채, 움직이는 붓터치가 살아있는 인상을 묘사하다  최진욱 작가의 작품은 한눈에 보기에 서양의 인상주의 작품들이 떠오를 만큼 순간의 인상이 잘 담겨있다. 세세한 선이 보이지는 않으나 특유의 과감한 붓터치가 인물의 역동감과 사물의 동작성을 잘 나타낸다. 여기에 다채로운 색채감각이 더해져 빈틈없이 화지를 채운다. 마치 눈앞에서 작품 속 광경들이 펼쳐지는 듯하다. 현장감이 느껴지는 스케치와 원색의 대비가 사물 본연의 특징들을 더욱 극대화하며, 그림 속 배경이 되는 날씨와 전체적인 분위기까지도 매우 뚜렷하게 전달된다. 객체들이 세밀하게 묘사되어 있지 않아도 그의 회화작업들이 사실적으로 느껴지는 이유다.\\u200b\\n\\n\\n\\n \\n\\n\\n\\n\\n\\n\\n\\n\\n\\n\\n\\n\\n\\n\\n\\n\\n\\n\\n\\n\\n\\n\\n\\n\\n\\n\\n\\n\\n\\n사진출처 - 아트사이드갤러리\\n\\n\\n\\n\\n\\n\\n\\n ˙ 한눈에 예쁘지는 않아도, 자세히 볼 때 의미있는 감동의 회화작들  이번 전시에서 작가는 상황 속 자신을 가감 없이 마주한다. 교직을 떠난 뒤에 그는 작업실에 머무는 시간이 많아졌고 평소 자신의 주변을 그려왔기에 제자들과의 시간, 작업실 풍경 등이 작품 속 대상이 됐다. 전시작 <학교를 떠나며> 시리즈에서 화실풍경은 지속적으로 묘사된다. 특히 본 전시작 <374 학교를 떠나며 3>에서는 작품 속에서 작가가 자신을 화면 중심에, 좌우로 학생들을 그림으로써 시간과 사건의 재통합이 이루어진다. 그는 소박한 진실들을 그림 속에 담아왔기에 이렇게 완성된 작품들 역시 최진욱 작가다운 작업일 것이다. 어떠한 기교보다도 자신의 감정들을 투박하게 드러내며 은퇴라는 삶의 변화 앞, 누구나 마주할법한 공허와 혼란의 감정들을 숨김없이 묘사한다. 이러한 작가만의 스타일을 이해하며 작품을 깊이 들여다보는 것이 이번 전시에서 더욱 의미가 있다. 이번 전시를 통해 작가 내면의 흐름에 초점을 맞춰 전시를 들여다보며, 풀잎을 볼 때도 가슴이 떨린다는 최진욱 작가의 감수성과 오랜시간 묵묵하게 자신만의 컬러를 지켜내며 시간들을 기록해온 가치를 재발견하는 기회가 될 것이다.\\u200b\\n\\n\\n\\n \\n\\n\\n\\n\\n\\n\\n\\n\\n\\n\\n\\n\\n\\n\\n\\n\\n \\n\\n\\n\\n\\n\\n\\n\\n\\n\\n\\n\\n\\n\\n\\n사진출처 - 아트사이드갤러리\\n\\n\\n \\n\\n\\n\\n ˙ 세상엔 이런 작가도 있다, 타협하지 않고 자신만의 스타일을 지켜오다  최진욱은 평생 유행에 흔들리지 않고 자신의 스타일을 지켜왔다. 평생을 묵묵하고 솔직하게 묘사해온 자아와 시대의 모습은 관람객들로 하여금 큰 울림을 전달한다. 본 전시의 전시작 <379 피, 땀, 눈물>은 88만원 세대를 그렸던 과거의 작품을 ‘땀’으로 KTX 승무원의 삭발식 장면을 그렸던 작품을 ‘눈물’로 재작업, 그리고 1992년 자신의 딸들과 찍은 가족사진을 ‘피’로 완성한 3부작을 만나볼 수 있다. 특히 이 작품은 가로 6미터에 달하여 작가의 시선으로 마주한 사회의 현장들을 관람자에게 고스란히 전달한다. 이 밖에도 기자의 언론수호를 위한 희생과 투쟁과정을 그린 <384 한국의 3대풍경>, 작업실의 풍경을 독특한 컬러감으로 묘사한 <호퍼 달력> 시리즈와 <381 천장에 가까운 그림> 등이 전시된다. 본 전시는 관람자로 하여금 각자의 해석과 이야기를 만들어 볼 수 있을법한 약 23여점의 회화작들을 통해 성실하고 끈질기게 주변을 담아온 그의 작품 속 삶의 생명력을 만나볼 수 있다.\\u200b\\n\\n\\n\\n \\n\\n\\n\\n\\n\\n\\n\\n\\n\\n\\n\\n\\n\\n\\n\\n\\n\\n\\n\\n\\n\\n \\n\\n\\n\\n\\n\\n\\n\\n\\n\\n\\n\\n\\n\\n\\n\\n\\n\\n\\n\\n\\n\\n \\n\\n\\n\\n\\n\\n\\n\\n\\n\\n\\n\\n\\n\\n\\n사진출처 - 아트사이드갤러리\\n\\n\\n \\n\\n\\n\\n \\u200b\\u200b\\n\\n\\n\\n \\n\\n\\n\\n\\n\\n\\n\\n\\n\\n \\n\\n\\n\\n\\u200b\\u200b\\n\\n\\n\\n \\n\\n\\n\\n\\n\\n\\n\\n\\n\\n\\n'"
      ]
     },
     "execution_count": 36,
     "metadata": {},
     "output_type": "execute_result"
    }
   ],
   "source": [
    "html = requests.get(url)\n",
    "soup = bs(html.text, \"html.parser\")\n",
    "\n",
    "soup.select(\"#post-view222682205124 > div > div > div.se-main-container\")[0].text"
   ]
  },
  {
   "cell_type": "code",
   "execution_count": 39,
   "id": "2d329f22",
   "metadata": {},
   "outputs": [
    {
     "data": {
      "text/plain": [
       "'\\n\\n\\n\\n\\u200b\\u200b\\u200b서울 통의동 아트사이드 갤러리 3월 전시회최진욱 개인전 <학교를 떠나며>\\u200b\\n\\n\\n\\n'"
      ]
     },
     "execution_count": 39,
     "metadata": {},
     "output_type": "execute_result"
    }
   ],
   "source": [
    "main_soup = soup.select(\"#post-view222682205124 > div > div > div.se-main-container\")  \n",
    "# select로 검색한 soup는 리스트로 제공되므로 반드시 뒤에 [0]을 붙여서 검색해야한다 (예: main_soup[0].find_all(...))\n",
    "\n",
    "txt_soup = main_soup[0].find_all(\"div\", class_=\"se-component se-text se-l-default\")\n",
    "txt_soup[0].get_text()"
   ]
  },
  {
   "cell_type": "markdown",
   "id": "1d6d8b51",
   "metadata": {},
   "source": [
    "## 블로그 검색 및 내용 가져와 저장하기\n",
    "1. 검색어를 통해 블로그 내용 가져와 저장하기\n",
    "2. 검색된 블로그에서 제목 추출\n",
    "3. 세부 내용으로 들어가 텍스트 크롤 진행\n",
    "4. 제목/내용으로 구분해 저장(키워드.txt 저장)"
   ]
  },
  {
   "cell_type": "code",
   "execution_count": 59,
   "id": "87730a1f",
   "metadata": {},
   "outputs": [],
   "source": [
    "# 필요 모듈연결\n",
    "import requests\n",
    "from bs4 import BeautifulSoup as BS\n",
    "from urllib.parse import quote\n",
    "import pandas as pd\n"
   ]
  },
  {
   "cell_type": "markdown",
   "id": "851b9058",
   "metadata": {},
   "source": [
    "### 블로그 검색 후 나타나는 첫번째 페이지의 제목과 내용 추출"
   ]
  },
  {
   "cell_type": "code",
   "execution_count": 63,
   "id": "e36e7f9e",
   "metadata": {},
   "outputs": [
    {
     "data": {
      "text/plain": [
       "[]"
      ]
     },
     "execution_count": 63,
     "metadata": {},
     "output_type": "execute_result"
    }
   ],
   "source": [
    "url = \"https://section.blog.naver.com/Search/Post.naver?pageNo=1&rangeType=ALL&orderBy=sim&keyword=국내 여행지\"\n",
    "\n",
    "html = requests.get(url)\n",
    "if html.status_code != 200:\n",
    "    exit('데이터를 받아오지 못했습니다.')\n",
    "\n",
    "soup = BS(html.text, \"html.parser\")\n",
    "# main_soup = soup.select(\"#content > section > div.area_list_search\")\n",
    "post_soup = soup.find_all('div', class_=\"list_search_post\")\n",
    "post_soup  # 데이터를 못 가져왔음!"
   ]
  },
  {
   "cell_type": "code",
   "execution_count": null,
   "id": "8c92ad27",
   "metadata": {},
   "outputs": [],
   "source": [
    "blog_soup = soup.select(\"#content > section > div.area_list_search)\")\n",
    "blog_soup[0]"
   ]
  }
 ],
 "metadata": {
  "kernelspec": {
   "display_name": "Python 3 (ipykernel)",
   "language": "python",
   "name": "python3"
  },
  "language_info": {
   "codemirror_mode": {
    "name": "ipython",
    "version": 3
   },
   "file_extension": ".py",
   "mimetype": "text/x-python",
   "name": "python",
   "nbconvert_exporter": "python",
   "pygments_lexer": "ipython3",
   "version": "3.9.7"
  }
 },
 "nbformat": 4,
 "nbformat_minor": 5
}
