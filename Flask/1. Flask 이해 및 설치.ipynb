{
 "cells": [
  {
   "cell_type": "markdown",
   "id": "3d389a90",
   "metadata": {},
   "source": [
    "## Flask\n",
    "- 2004년 오스트리아의 오픈소스 개발자 아르민 로나허(Armin Ronacher)가 만든 웹 프레임워크\n",
    "- 플라스크는 장고(Django)와 더불어 파이썬 웹 프레임워크의 양대 산맥으로 자리매김\n",
    "- 장고라는 웹 프레임워크는 프레임워크 자체에 폼과 데이터베이스를 처리하는 기능이 포함되어 있으나 플라스크에는 폼(form), 데이터베이스(database)를 처리하는 기능이 없다.\n",
    "- 플라스크에는 최소한의 규칙만 있으므로 개발의 자유도는 다른 프레임워크보다 높은 편임"
   ]
  },
  {
   "cell_type": "code",
   "execution_count": 16,
   "id": "71df091b",
   "metadata": {},
   "outputs": [
    {
     "name": "stdout",
     "output_type": "stream",
     "text": [
      "Collecting git+https://github.com/gstaff/flask-ngrok\n",
      "  Cloning https://github.com/gstaff/flask-ngrok to /private/var/folders/rt/5jvyxhl160n0wkcqnqvygf8m0000gn/T/pip-req-build-76fladyl\n",
      "  Running command git clone -q https://github.com/gstaff/flask-ngrok /private/var/folders/rt/5jvyxhl160n0wkcqnqvygf8m0000gn/T/pip-req-build-76fladyl\n",
      "  Resolved https://github.com/gstaff/flask-ngrok to commit 33a2e70898c4fb72b645715dacd8789769a99350\n",
      "Requirement already satisfied: Flask>=0.8 in /Users/wondongchan/opt/anaconda3/envs/kdig/lib/python3.9/site-packages (from flask-ngrok==0.0.26) (2.1.1)\n",
      "Requirement already satisfied: requests in /Users/wondongchan/opt/anaconda3/envs/kdig/lib/python3.9/site-packages (from flask-ngrok==0.0.26) (2.27.1)\n",
      "Requirement already satisfied: click>=8.0 in /Users/wondongchan/opt/anaconda3/envs/kdig/lib/python3.9/site-packages (from Flask>=0.8->flask-ngrok==0.0.26) (8.1.0)\n",
      "Requirement already satisfied: Werkzeug>=2.0 in /Users/wondongchan/opt/anaconda3/envs/kdig/lib/python3.9/site-packages (from Flask>=0.8->flask-ngrok==0.0.26) (2.1.1)\n",
      "Requirement already satisfied: Jinja2>=3.0 in /Users/wondongchan/opt/anaconda3/envs/kdig/lib/python3.9/site-packages (from Flask>=0.8->flask-ngrok==0.0.26) (3.0.3)\n",
      "Requirement already satisfied: itsdangerous>=2.0 in /Users/wondongchan/opt/anaconda3/envs/kdig/lib/python3.9/site-packages (from Flask>=0.8->flask-ngrok==0.0.26) (2.1.2)\n",
      "Requirement already satisfied: importlib-metadata>=3.6.0 in /Users/wondongchan/opt/anaconda3/envs/kdig/lib/python3.9/site-packages (from Flask>=0.8->flask-ngrok==0.0.26) (4.8.2)\n",
      "Requirement already satisfied: zipp>=0.5 in /Users/wondongchan/opt/anaconda3/envs/kdig/lib/python3.9/site-packages (from importlib-metadata>=3.6.0->Flask>=0.8->flask-ngrok==0.0.26) (3.7.0)\n",
      "Requirement already satisfied: MarkupSafe>=2.0 in /Users/wondongchan/opt/anaconda3/envs/kdig/lib/python3.9/site-packages (from Jinja2>=3.0->Flask>=0.8->flask-ngrok==0.0.26) (2.0.1)\n",
      "Requirement already satisfied: idna<4,>=2.5 in /Users/wondongchan/opt/anaconda3/envs/kdig/lib/python3.9/site-packages (from requests->flask-ngrok==0.0.26) (3.3)\n",
      "Requirement already satisfied: certifi>=2017.4.17 in /Users/wondongchan/opt/anaconda3/envs/kdig/lib/python3.9/site-packages (from requests->flask-ngrok==0.0.26) (2021.10.8)\n",
      "Requirement already satisfied: urllib3<1.27,>=1.21.1 in /Users/wondongchan/opt/anaconda3/envs/kdig/lib/python3.9/site-packages (from requests->flask-ngrok==0.0.26) (1.26.8)\n",
      "Requirement already satisfied: charset-normalizer~=2.0.0 in /Users/wondongchan/opt/anaconda3/envs/kdig/lib/python3.9/site-packages (from requests->flask-ngrok==0.0.26) (2.0.4)\n",
      "Building wheels for collected packages: flask-ngrok\n",
      "  Building wheel for flask-ngrok (setup.py) ... \u001b[?25ldone\n",
      "\u001b[?25h  Created wheel for flask-ngrok: filename=flask_ngrok-0.0.26-py3-none-any.whl size=5676 sha256=481097a24ef5a6b9989d183304e3e3d62904657b6947cb0898e1b64c4db07718\n",
      "  Stored in directory: /private/var/folders/rt/5jvyxhl160n0wkcqnqvygf8m0000gn/T/pip-ephem-wheel-cache-d1vv6xjb/wheels/7f/11/a9/aa92bc16523775d17cf9ca8288bd34db0b21229cb9ee5231fa\n",
      "Successfully built flask-ngrok\n",
      "Installing collected packages: flask-ngrok\n",
      "  Attempting uninstall: flask-ngrok\n",
      "    Found existing installation: flask-ngrok 0.0.25\n",
      "    Uninstalling flask-ngrok-0.0.25:\n",
      "      Successfully uninstalled flask-ngrok-0.0.25\n",
      "Successfully installed flask-ngrok-0.0.26\n"
     ]
    }
   ],
   "source": [
    "# flask 설치\n",
    "# !pip install flask\n",
    "# !pip install flask_ngrok\n",
    "!pip install git+https://github.com/gstaff/flask-ngrok"
   ]
  },
  {
   "cell_type": "markdown",
   "id": "ba123502",
   "metadata": {},
   "source": []
  },
  {
   "cell_type": "code",
   "execution_count": 2,
   "id": "a4aa546e",
   "metadata": {},
   "outputs": [],
   "source": [
    "from flask import Flask\n",
    "\n",
    "def create_app():\n",
    "    app = Flask(__name__)\n",
    "    \n",
    "    @app.route('/')\n",
    "    def hello_pybo():\n",
    "        return 'hello, Pybo!'\n",
    "    \n",
    "    return app"
   ]
  },
  {
   "cell_type": "code",
   "execution_count": 17,
   "id": "5063993d",
   "metadata": {},
   "outputs": [],
   "source": [
    "from flask import Flask, render_template, url_for, request\n",
    "from flask_ngrok import run_with_ngrok"
   ]
  },
  {
   "cell_type": "code",
   "execution_count": 19,
   "id": "8e9a31cf",
   "metadata": {},
   "outputs": [
    {
     "name": "stdout",
     "output_type": "stream",
     "text": [
      " * Serving Flask app '__main__' (lazy loading)\n",
      " * Environment: production\n",
      "\u001b[31m   WARNING: This is a development server. Do not use it in a production deployment.\u001b[0m\n",
      "\u001b[2m   Use a production WSGI server instead.\u001b[0m\n",
      " * Debug mode: off\n"
     ]
    },
    {
     "name": "stderr",
     "output_type": "stream",
     "text": [
      " * Running on http://127.0.0.1:5000 (Press CTRL+C to quit)\n",
      "Exception in thread Thread-11:\n",
      "Traceback (most recent call last):\n",
      "  File \"/Users/wondongchan/opt/anaconda3/envs/kdig/lib/python3.9/threading.py\", line 973, in _bootstrap_inner\n",
      "    self.run()\n",
      "  File \"/Users/wondongchan/opt/anaconda3/envs/kdig/lib/python3.9/threading.py\", line 1286, in run\n",
      "    self.function(*self.args, **self.kwargs)\n",
      "  File \"/Users/wondongchan/opt/anaconda3/envs/kdig/lib/python3.9/site-packages/flask_ngrok.py\", line 70, in start_ngrok\n",
      "    return download_path\n",
      "  File \"/Users/wondongchan/opt/anaconda3/envs/kdig/lib/python3.9/site-packages/flask_ngrok.py\", line 31, in _run_ngrok\n",
      "    ngrok_path = str(Path(tempfile.gettempdir(), \"ngrok\"))\n",
      "  File \"/Users/wondongchan/opt/anaconda3/envs/kdig/lib/python3.9/subprocess.py\", line 951, in __init__\n",
      "    self._execute_child(args, executable, preexec_fn, close_fds,\n",
      "  File \"/Users/wondongchan/opt/anaconda3/envs/kdig/lib/python3.9/subprocess.py\", line 1821, in _execute_child\n",
      "    raise child_exception_type(errno_num, err_msg, err_filename)\n",
      "PermissionError: [Errno 13] Permission denied: '/var/folders/rt/5jvyxhl160n0wkcqnqvygf8m0000gn/T/ngrok/ngrok'\n",
      "[2022-04-15 10:19:08,408] ERROR in app: Exception on / [GET]\n",
      "Traceback (most recent call last):\n",
      "  File \"/Users/wondongchan/opt/anaconda3/envs/kdig/lib/python3.9/site-packages/flask/app.py\", line 2077, in wsgi_app\n",
      "    response = self.full_dispatch_request()\n",
      "  File \"/Users/wondongchan/opt/anaconda3/envs/kdig/lib/python3.9/site-packages/flask/app.py\", line 1525, in full_dispatch_request\n",
      "    rv = self.handle_user_exception(e)\n",
      "  File \"/Users/wondongchan/opt/anaconda3/envs/kdig/lib/python3.9/site-packages/flask/app.py\", line 1523, in full_dispatch_request\n",
      "    rv = self.dispatch_request()\n",
      "  File \"/Users/wondongchan/opt/anaconda3/envs/kdig/lib/python3.9/site-packages/flask/app.py\", line 1509, in dispatch_request\n",
      "    return self.ensure_sync(self.view_functions[rule.endpoint])(**req.view_args)\n",
      "  File \"/var/folders/rt/5jvyxhl160n0wkcqnqvygf8m0000gn/T/ipykernel_53356/2682879130.py\", line 6, in index\n",
      "    return render_template('./myproject/home.html')\n",
      "  File \"/Users/wondongchan/opt/anaconda3/envs/kdig/lib/python3.9/site-packages/flask/templating.py\", line 149, in render_template\n",
      "    ctx.app.jinja_env.get_or_select_template(template_name_or_list),\n",
      "  File \"/Users/wondongchan/opt/anaconda3/envs/kdig/lib/python3.9/site-packages/jinja2/environment.py\", line 1068, in get_or_select_template\n",
      "    return self.get_template(template_name_or_list, parent, globals)\n",
      "  File \"/Users/wondongchan/opt/anaconda3/envs/kdig/lib/python3.9/site-packages/jinja2/environment.py\", line 997, in get_template\n",
      "    return self._load_template(name, globals)\n",
      "  File \"/Users/wondongchan/opt/anaconda3/envs/kdig/lib/python3.9/site-packages/jinja2/environment.py\", line 958, in _load_template\n",
      "    template = self.loader.load(self, name, self.make_globals(globals))\n",
      "  File \"/Users/wondongchan/opt/anaconda3/envs/kdig/lib/python3.9/site-packages/jinja2/loaders.py\", line 125, in load\n",
      "    source, filename, uptodate = self.get_source(environment, name)\n",
      "  File \"/Users/wondongchan/opt/anaconda3/envs/kdig/lib/python3.9/site-packages/flask/templating.py\", line 59, in get_source\n",
      "    return self._get_source_fast(environment, template)\n",
      "  File \"/Users/wondongchan/opt/anaconda3/envs/kdig/lib/python3.9/site-packages/flask/templating.py\", line 95, in _get_source_fast\n",
      "    raise TemplateNotFound(template)\n",
      "jinja2.exceptions.TemplateNotFound: ./myproject/home.html\n",
      "127.0.0.1 - - [15/Apr/2022 10:19:08] \"GET / HTTP/1.1\" 500 -\n"
     ]
    }
   ],
   "source": [
    "app = Flask(__name__)\n",
    "run_with_ngrok(app)\n",
    "\n",
    "@app.route(\"/\") # 특정 주소에 접속하면 바로 다음 줄에 있는 함수를 호출하는 플라스크의 데코레이터\n",
    "def index():\n",
    "    return render_template('./myproject/home.html')\n",
    "\n",
    "app.run()"
   ]
  },
  {
   "cell_type": "code",
   "execution_count": 14,
   "id": "0d54d4d0",
   "metadata": {},
   "outputs": [
    {
     "name": "stdout",
     "output_type": "stream",
     "text": [
      "1. Flask 이해 및 설치.ipynb      \u001b[34mmyproject\u001b[m\u001b[m\r\n"
     ]
    }
   ],
   "source": []
  },
  {
   "cell_type": "code",
   "execution_count": null,
   "id": "2e6cd0c3",
   "metadata": {},
   "outputs": [],
   "source": []
  }
 ],
 "metadata": {
  "kernelspec": {
   "display_name": "Python 3 (ipykernel)",
   "language": "python",
   "name": "python3"
  },
  "language_info": {
   "codemirror_mode": {
    "name": "ipython",
    "version": 3
   },
   "file_extension": ".py",
   "mimetype": "text/x-python",
   "name": "python",
   "nbconvert_exporter": "python",
   "pygments_lexer": "ipython3",
   "version": "3.9.7"
  }
 },
 "nbformat": 4,
 "nbformat_minor": 5
}
