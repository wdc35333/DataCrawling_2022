{
 "cells": [
  {
   "cell_type": "markdown",
   "id": "e4c1b5c7",
   "metadata": {},
   "source": [
    "### 네이버 API를 이용한 지식인 정보 검색\n",
    "- 네이버 개발자센터에 가입 및 인증서 발급"
   ]
  },
  {
   "cell_type": "code",
   "execution_count": 3,
   "id": "516851a1",
   "metadata": {},
   "outputs": [],
   "source": [
    "import os\n",
    "import sys\n",
    "import json\n",
    "import urllib.request\n",
    "import requests\n",
    "import pandas as pd"
   ]
  },
  {
   "cell_type": "markdown",
   "id": "bed04206",
   "metadata": {},
   "source": [
    "### urllib.request"
   ]
  },
  {
   "cell_type": "code",
   "execution_count": 4,
   "id": "299797a6",
   "metadata": {},
   "outputs": [],
   "source": [
    "client_id = \"56fdCdrw5yUynfpm88Xr\"\n",
    "client_secret = \"aeN6nOYHvM\"\n",
    "\n",
    "encText = urllib.parse.quote(\"제주도\")\n",
    "url = \"https://openapi.naver.com/v1/search/kin?query=\" + encText # json 결과\n",
    "#url = \"https://openapi.naver.com/v1/search/kin.xml?query=\" + encText # xml 결과\n",
    "    \n",
    "request = urllib.request.Request(url)\n",
    "request.add_header(\"X-Naver-Client-Id\",client_id)\n",
    "request.add_header(\"X-Naver-Client-Secret\",client_secret)\n",
    "response = urllib.request.urlopen(request)\n",
    "\n",
    "rescode = response.getcode()\n",
    "if(rescode==200):\n",
    "    response_body = response.read()\n",
    "else:\n",
    "    print(\"Error Code:\" + rescode)"
   ]
  },
  {
   "cell_type": "code",
   "execution_count": 5,
   "id": "7cf6c5c1",
   "metadata": {},
   "outputs": [
    {
     "data": {
      "text/plain": [
       "1154909"
      ]
     },
     "execution_count": 5,
     "metadata": {},
     "output_type": "execute_result"
    }
   ],
   "source": [
    "res_json=json.loads(response_body)\n",
    "res_json[\"total\"]"
   ]
  },
  {
   "cell_type": "markdown",
   "id": "ca73c4a6",
   "metadata": {},
   "source": [
    "### requests"
   ]
  },
  {
   "cell_type": "code",
   "execution_count": 6,
   "id": "23978d71",
   "metadata": {},
   "outputs": [
    {
     "data": {
      "text/plain": [
       "1154909"
      ]
     },
     "execution_count": 6,
     "metadata": {},
     "output_type": "execute_result"
    }
   ],
   "source": [
    "encText = urllib.parse.quote(\"제주도\")\n",
    "\n",
    "url = \"https://openapi.naver.com/v1/search/kin?query=\" + encText # json 결과\n",
    "#url = \"https://openapi.naver.com/v1/search/kin.xml?query=\" + encText # xml 결과\n",
    "    \n",
    "headers = {\"X-Naver-Client-Id\":\"TWoFiP4PRGZBGB6H_JSm\", \n",
    "           \"X-Naver-Client-Secret\":\"TOXDluSLJh\"}\n",
    "\n",
    "res_json=requests.get(url, headers=headers)\n",
    "\n",
    "if res_json.status_code == 200:\n",
    "    res_content = res_json.json()\n",
    "else:\n",
    "        print(\"Error Code:\" + str(res_json.status_code))\n",
    "        sys.exit(0)\n",
    "        \n",
    "res_content[\"total\"]"
   ]
  },
  {
   "cell_type": "markdown",
   "id": "a7984580",
   "metadata": {},
   "source": [
    "### 세부 정보를 위한 url 요청"
   ]
  },
  {
   "cell_type": "code",
   "execution_count": 7,
   "id": "3bb919dd",
   "metadata": {},
   "outputs": [
    {
     "name": "stdout",
     "output_type": "stream",
     "text": [
      "dict_keys(['lastBuildDate', 'total', 'start', 'display', 'items'])\n",
      "dict_keys(['title', 'link', 'description'])\n"
     ]
    }
   ],
   "source": [
    "# 데이터의 key 값 확인\n",
    "print(res_content.keys())\n",
    "print(res_content['items'][0].keys())"
   ]
  },
  {
   "cell_type": "code",
   "execution_count": 8,
   "id": "a12bc3b5",
   "metadata": {},
   "outputs": [
    {
     "name": "stdout",
     "output_type": "stream",
     "text": [
      "<b>제주도</b> 신혼여행 질문입니다.\n",
      "\n",
      "https://kin.naver.com/qna/detail.naver?d1id=9&dirId=90112&docId=413278778&qb=7KCc7KO864+E&enc=utf8&section=kin.qna&rank=1&search_sort=0&spq=0\n",
      "\n",
      "... 신혼여행을 5월1일날 <b>제주도</b>로 가게되었는데 그때의 <b>제주도</b> 날씨는 많이 더울까요? 꽃은 어떤 것들이 많이... 질문하신 [<b>제주도</b> 날씨] 관련 답변 드리도록 하겠습니다. 5월에 <b>제주도</b>로 신혼여행을 떠나시는군요? 3월에서 5월까지... \n"
     ]
    }
   ],
   "source": [
    "# 각각의 데이터 확인\n",
    "print(res_content['items'][0]['title'])\n",
    "print()\n",
    "print(res_content['items'][0]['link'])\n",
    "print()\n",
    "print(res_content['items'][0]['description'])"
   ]
  },
  {
   "cell_type": "code",
   "execution_count": 9,
   "id": "aec1f732",
   "metadata": {},
   "outputs": [
    {
     "data": {
      "text/plain": [
       "['https://kin.naver.com/qna/detail.naver?d1id=9&dirId=90112&docId=413278778&qb=7KCc7KO864+E&enc=utf8&section=kin.qna&rank=1&search_sort=0&spq=0',\n",
       " 'https://kin.naver.com/qna/detail.naver?d1id=12&dirId=1214&docId=418165097&qb=7KCc7KO864+E&enc=utf8&section=kin.qna&rank=2&search_sort=0&spq=0',\n",
       " 'https://kin.naver.com/qna/detail.naver?d1id=12&dirId=1214&docId=418021099&qb=7KCc7KO864+E&enc=utf8&section=kin.qna&rank=3&search_sort=0&spq=0',\n",
       " 'https://kin.naver.com/qna/detail.naver?d1id=10&dirId=100201&docId=416790742&qb=7KCc7KO864+E&enc=utf8&section=kin.qna&rank=4&search_sort=0&spq=0',\n",
       " 'https://kin.naver.com/qna/detail.naver?d1id=8&dirId=813&docId=418354005&qb=7KCc7KO864+E&enc=utf8&section=kin.qna&rank=5&search_sort=0&spq=0',\n",
       " 'https://kin.naver.com/qna/detail.naver?d1id=8&dirId=815&docId=416441444&qb=7KCc7KO864+E&enc=utf8&section=kin.qna&rank=6&search_sort=0&spq=0',\n",
       " 'https://kin.naver.com/qna/detail.naver?d1id=12&dirId=121602&docId=410479221&qb=7KCc7KO864+E&enc=utf8&section=kin.qna&rank=7&search_sort=0&spq=0',\n",
       " 'https://kin.naver.com/qna/detail.naver?d1id=9&dirId=90112&docId=416970656&qb=7KCc7KO864+E&enc=utf8&section=kin.qna&rank=8&search_sort=0&spq=0',\n",
       " 'https://kin.naver.com/qna/detail.naver?d1id=9&dirId=90112&docId=416821913&qb=7KCc7KO864+E&enc=utf8&section=kin.qna&rank=9&search_sort=0&spq=0',\n",
       " 'https://kin.naver.com/qna/detail.naver?d1id=9&dirId=9020602&docId=413295158&qb=7KCc7KO864+E&enc=utf8&section=kin.qna&rank=10&search_sort=0&spq=0']"
      ]
     },
     "execution_count": 9,
     "metadata": {},
     "output_type": "execute_result"
    }
   ],
   "source": [
    "# url 정보 전체 출력\n",
    "url_lst = []\n",
    "for item in res_content['items']:\n",
    "    url_lst.append(item['link'])\n",
    "url_lst"
   ]
  },
  {
   "cell_type": "markdown",
   "id": "59d6aea5",
   "metadata": {},
   "source": [
    "### 가져온 정보에서 제목/링크/요약를 DataFrame로 저장"
   ]
  },
  {
   "cell_type": "code",
   "execution_count": 10,
   "id": "74d7e6ec",
   "metadata": {
    "scrolled": true
   },
   "outputs": [
    {
     "data": {
      "text/html": [
       "<div>\n",
       "<style scoped>\n",
       "    .dataframe tbody tr th:only-of-type {\n",
       "        vertical-align: middle;\n",
       "    }\n",
       "\n",
       "    .dataframe tbody tr th {\n",
       "        vertical-align: top;\n",
       "    }\n",
       "\n",
       "    .dataframe thead th {\n",
       "        text-align: right;\n",
       "    }\n",
       "</style>\n",
       "<table border=\"1\" class=\"dataframe\">\n",
       "  <thead>\n",
       "    <tr style=\"text-align: right;\">\n",
       "      <th></th>\n",
       "      <th>title</th>\n",
       "      <th>link</th>\n",
       "      <th>description</th>\n",
       "    </tr>\n",
       "  </thead>\n",
       "  <tbody>\n",
       "    <tr>\n",
       "      <th>0</th>\n",
       "      <td>&lt;b&gt;제주도&lt;/b&gt; 신혼여행 질문입니다.</td>\n",
       "      <td>https://kin.naver.com/qna/detail.naver?d1id=9&amp;...</td>\n",
       "      <td>... 신혼여행을 5월1일날 &lt;b&gt;제주도&lt;/b&gt;로 가게되었는데 그때의 &lt;b&gt;제주도&lt;...</td>\n",
       "    </tr>\n",
       "    <tr>\n",
       "      <th>1</th>\n",
       "      <td>&lt;b&gt;제주도&lt;/b&gt; 싸게 가는법</td>\n",
       "      <td>https://kin.naver.com/qna/detail.naver?d1id=12...</td>\n",
       "      <td>이번주에 &lt;b&gt;제주도&lt;/b&gt; 가려고 하는데 &lt;b&gt;제주도&lt;/b&gt;표 제일 싸게 사는법 ...</td>\n",
       "    </tr>\n",
       "  </tbody>\n",
       "</table>\n",
       "</div>"
      ],
      "text/plain": [
       "                    title                                               link  \\\n",
       "0  <b>제주도</b> 신혼여행 질문입니다.  https://kin.naver.com/qna/detail.naver?d1id=9&...   \n",
       "1       <b>제주도</b> 싸게 가는법  https://kin.naver.com/qna/detail.naver?d1id=12...   \n",
       "\n",
       "                                         description  \n",
       "0  ... 신혼여행을 5월1일날 <b>제주도</b>로 가게되었는데 그때의 <b>제주도<...  \n",
       "1  이번주에 <b>제주도</b> 가려고 하는데 <b>제주도</b>표 제일 싸게 사는법 ...  "
      ]
     },
     "execution_count": 10,
     "metadata": {},
     "output_type": "execute_result"
    }
   ],
   "source": [
    "df=pd.DataFrame(res_content['items'])\n",
    "df.head(2)"
   ]
  },
  {
   "cell_type": "markdown",
   "id": "c64bd63b",
   "metadata": {},
   "source": [
    "## 네이버 API에서 20개 정보 가져와 질문정보/답변정보 저장하기\n",
    "- txt 형식으로 저장(키워드_질문.txt, 키워드_답변.txt)"
   ]
  },
  {
   "cell_type": "code",
   "execution_count": 11,
   "id": "12a4fe6d",
   "metadata": {},
   "outputs": [],
   "source": [
    "import os\n",
    "import sys\n",
    "import json\n",
    "import urllib.request\n",
    "import requests\n",
    "import pandas as pd\n",
    "from bs4 import BeautifulSoup as bs\n",
    "import re"
   ]
  },
  {
   "cell_type": "code",
   "execution_count": 12,
   "id": "224855f0",
   "metadata": {},
   "outputs": [],
   "source": [
    "# 네이버 API 로그인 후 link 정보 가져와 돌려주기\n",
    "def get_Nav_client(encText, sPage):\n",
    "    url = \"https://openapi.naver.com/v1/search/kin?query=\" + encText # json 결과\n",
    "    url = url + \"&start=\" + str(sPage) + \"&display=20\"\n",
    "\n",
    "    headers = {\"X-Naver-Client-Id\":\"56fdCdrw5yUynfpm88Xr\", \n",
    "               \"X-Naver-Client-Secret\":\"aeN6nOYHvM\"}\n",
    "\n",
    "    res_content=requests.get(url, headers=headers)\n",
    "\n",
    "    if res_content.status_code == 200:\n",
    "        res_json = res_content.json()\n",
    "    else:\n",
    "        print(\"Error Code:\" + str(res_json.status_code))\n",
    "        sys.exit(0)\n",
    "    \n",
    "    df=pd.DataFrame(res_json['items'])\n",
    "    \n",
    "    return list(df['link'])"
   ]
  },
  {
   "cell_type": "code",
   "execution_count": 13,
   "id": "4cdbc6e5",
   "metadata": {},
   "outputs": [],
   "source": [
    "#link를 이용해 세부 내용 가져와 파일에 기록하기\n",
    "def get_write(url):\n",
    "    kin_html = requests.get(url)\n",
    "\n",
    "    fq = open('./제주도_질문.txt', \"a\")\n",
    "    fa = open('./제주도_답변.txt', \"a\")\n",
    "\n",
    "    if kin_html.status_code != 200 :\n",
    "        print(\"Error Code:\" + str(res_json.status_code))\n",
    "        sys.exit(\"데이터가 없어 강제 종료합니다.\")\n",
    "\n",
    "    kin_soup = bs(kin_html.text, \"html.parser\")\n",
    "\n",
    "    # 제목 가져오기\n",
    "    try:\n",
    "        kin_tit = kin_soup.find(\"div\", class_=\"title\").get_text().replace(\"\\n\", \"\").replace(\"\\t\", \"\")\n",
    "        fq.write(kin_tit+\"\\n\")\n",
    "    except:\n",
    "        fq.write(\"\\n\")\n",
    "\n",
    "    kin_body=kin_soup.find('div', class_=\"c-heading__content\")\n",
    "\n",
    "    # 질문 내용\n",
    "    try:\n",
    "        kin_body=kin_soup.find('div', class_=\"c-heading__content\").text.replace(\"\\n\", \"\").replace(\"\\t\", \"\")\n",
    "        fq.write(kin_body)\n",
    "    except:\n",
    "        fq.write(\"\\n\")\n",
    "\n",
    "    # 답변 내용\n",
    "\n",
    "    for kin_ans in kin_soup.find_all('div', class_=\"se-component se-text se-l-default\"):\n",
    "        fa.write(re.sub(\"[^가-힣 ]\",\"\",kin_ans.text))\n",
    "    fq.write(\"\\n\")\n",
    "\n",
    "    fq.close()\n",
    "    fa.close()"
   ]
  },
  {
   "cell_type": "code",
   "execution_count": 15,
   "id": "c5fe12ff",
   "metadata": {},
   "outputs": [
    {
     "name": "stdout",
     "output_type": "stream",
     "text": [
      "=== End ===\n"
     ]
    }
   ],
   "source": [
    "encText = urllib.parse.quote(\"제주도\")\n",
    "reg_link=get_Nav_client(encText, 1)\n",
    "\n",
    "# 기록할 빈 파일 생성\n",
    "fq = open('./제주도_질문.txt', \"w\")\n",
    "fa = open('./제주도_답변.txt', \"w\")\n",
    "fq.close()\n",
    "fa.close()\n",
    "\n",
    "# link를 이용해 세부 내용 가져와 파일에 기록하기\n",
    "for link in reg_link:\n",
    "    get_write(link)\n",
    "\n",
    "print(\"=== End ===\")"
   ]
  }
 ],
 "metadata": {
  "kernelspec": {
   "display_name": "Python 3 (ipykernel)",
   "language": "python",
   "name": "python3"
  },
  "language_info": {
   "codemirror_mode": {
    "name": "ipython",
    "version": 3
   },
   "file_extension": ".py",
   "mimetype": "text/x-python",
   "name": "python",
   "nbconvert_exporter": "python",
   "pygments_lexer": "ipython3",
   "version": "3.9.7"
  }
 },
 "nbformat": 4,
 "nbformat_minor": 5
}
