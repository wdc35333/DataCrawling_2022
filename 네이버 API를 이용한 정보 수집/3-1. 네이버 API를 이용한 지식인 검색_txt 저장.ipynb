{
 "cells": [
  {
   "cell_type": "code",
   "execution_count": 1,
   "id": "147907ee",
   "metadata": {},
   "outputs": [],
   "source": [
    "from bs4 import BeautifulSoup as bs\n",
    "from urllib import request\n",
    "from urllib.request import quote\n",
    "import urllib\n",
    "import requests\n",
    "import pandas as pd\n",
    "import re\n",
    "import os\n",
    "import sys\n",
    "import json"
   ]
  },
  {
   "cell_type": "code",
   "execution_count": 2,
   "id": "0406016a",
   "metadata": {},
   "outputs": [],
   "source": [
    "# 네이버 API 로그인 후 link 정보 가져와 돌려주기\n",
    "def get_Nav_client(encText, sPage):\n",
    "    # 기록할 빈 파일 생성\n",
    "    fq = open('./제주도_질문.txt', \"w\")\n",
    "    fa = open('./제주도_답변.txt', \"w\")\n",
    "\n",
    "    url = \"https://openapi.naver.com/v1/search/kin?query=\" + encText # json 결과\n",
    "    url = url + \"&start=\" + str(sPage) + \"&display=100\"\n",
    "\n",
    "    headers = {\"X-Naver-Client-Id\":\"56fdCdrw5yUynfpm88Xr\", \n",
    "               \"X-Naver-Client-Secret\":\"aeN6nOYHvM\"}\n",
    "\n",
    "    res_content=requests.get(url, headers=headers)\n",
    "\n",
    "    if res_content.status_code == 200:\n",
    "        res_json = res_content.json()\n",
    "    else:\n",
    "        print(\"Error Code:\" + str(res_json.status_code))\n",
    "        sys.exit(0)\n",
    "    \n",
    "    fq.close()\n",
    "    fa.close()\n",
    "    \n",
    "    df=pd.DataFrame(res_json['items'])\n",
    "       \n",
    "    return list(df['link'])"
   ]
  },
  {
   "cell_type": "code",
   "execution_count": 3,
   "id": "b25edb2e",
   "metadata": {},
   "outputs": [],
   "source": [
    "#link를 이용해 세부 내용 가져와 파일에 기록하기\n",
    "def get_write(encText, link):\n",
    "    kin_html = requests.get(link)\n",
    "\n",
    "    fq = open('./' + encText + '_질문.txt', \"a\")\n",
    "    fa = open('./' + encText + '_답변.txt', \"a\")\n",
    "\n",
    "    if kin_html.status_code != 200 :\n",
    "        fq.write('\\w')\n",
    "        fa.write('\\w')\n",
    "    else:\n",
    "        kin_soup = bs(kin_html.text, \"html.parser\")\n",
    "\n",
    "        # 제목 가져오기\n",
    "        try:\n",
    "            kin_tit = kin_soup.find(\"div\", class_=\"title\").get_text().replace(\"\\n\", \"\").replace(\"\\t\", \"\")\n",
    "            fq.write(kin_tit+\"\\n\")\n",
    "        except:\n",
    "            fq.write(\"\\n\")\n",
    "\n",
    "        kin_body=kin_soup.find('div', class_=\"c-heading__content\")\n",
    "\n",
    "        # 질문 내용\n",
    "        try:\n",
    "            kin_body=kin_soup.find('div', class_=\"c-heading__content\").text.replace(\"\\n\", \"\").replace(\"\\t\", \"\")\n",
    "            fq.write(kin_body)\n",
    "        except:\n",
    "            fq.write(\"\\n\")\n",
    "\n",
    "        # 답변 내용\n",
    "\n",
    "        for kin_ans in kin_soup.find_all('div', class_=\"se-component se-text se-l-default\"):\n",
    "            fa.write(re.sub(\"[^가-힣 ]\",\"\",kin_ans.text))\n",
    "            fa.write('\\n')\n",
    "        fq.write(\"\\n\")\n",
    "\n",
    "        fq.close()\n",
    "        fa.close()"
   ]
  },
  {
   "cell_type": "code",
   "execution_count": 5,
   "id": "94d6cf0c",
   "metadata": {},
   "outputs": [
    {
     "name": "stdout",
     "output_type": "stream",
     "text": [
      "=== End ===\n"
     ]
    }
   ],
   "source": [
    "if __name__ == \"__main__\":\n",
    "    # encText = urllib.parse.quote(\"제주도\")\n",
    "    encText = quote(\"제주도\")\n",
    "    for i in range(1, 100, 100):\n",
    "\n",
    "        reg_link=get_Nav_client(encText, i)\n",
    "\n",
    "        # link를 이용해 세부 내용 가져와 파일에 기록하기\n",
    "        for link in reg_link:\n",
    "            get_write(encText, link)\n",
    "\n",
    "    print(\"=== End ===\")"
   ]
  },
  {
   "cell_type": "code",
   "execution_count": null,
   "id": "fd59224c",
   "metadata": {},
   "outputs": [],
   "source": []
  },
  {
   "cell_type": "code",
   "execution_count": null,
   "id": "cf4a1903",
   "metadata": {},
   "outputs": [],
   "source": []
  }
 ],
 "metadata": {
  "kernelspec": {
   "display_name": "Python 3 (ipykernel)",
   "language": "python",
   "name": "python3"
  },
  "language_info": {
   "codemirror_mode": {
    "name": "ipython",
    "version": 3
   },
   "file_extension": ".py",
   "mimetype": "text/x-python",
   "name": "python",
   "nbconvert_exporter": "python",
   "pygments_lexer": "ipython3",
   "version": "3.9.7"
  }
 },
 "nbformat": 4,
 "nbformat_minor": 5
}
