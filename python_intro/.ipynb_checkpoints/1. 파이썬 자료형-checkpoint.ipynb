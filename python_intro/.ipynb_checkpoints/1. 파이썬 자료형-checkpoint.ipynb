{
 "cells": [
  {
   "cell_type": "markdown",
   "metadata": {
    "id": "ggkX-9wsKIcN"
   },
   "source": [
    "### 변수\n",
    "- 프로그램 내에서 계산시 사용되는 숫자 등을 임시로 저장하는 공간\n",
    "- 변수의 형식을 정의하지 않고 사용(python)\n",
    "- 문자(대, 소문자 구분), 숫자, 언더바(_)를 사용할 수 있다.\n",
    "- 첫 자리에는 숫자를 사용할 수 없다.\n",
    "- 파이썬 키워드는 변수 명으로 사용할 수 없다."
   ]
  },
  {
   "cell_type": "markdown",
   "metadata": {
    "id": "dZyDSDZ5HqAP"
   },
   "source": [
    "###파이썬 데이터 자료형\n",
    "- 숫자형/문자형/리스트형/딕셔너리형"
   ]
  },
  {
   "cell_type": "markdown",
   "metadata": {
    "id": "29KGdeB8JVb8"
   },
   "source": [
    "#### 숫자형\n",
    "- 숫자형: 정수/실수/8진수/16진수"
   ]
  },
  {
   "cell_type": "code",
   "execution_count": 1,
   "metadata": {
    "colab": {
     "base_uri": "https://localhost:8080/"
    },
    "executionInfo": {
     "elapsed": 249,
     "status": "ok",
     "timestamp": 1646620247116,
     "user": {
      "displayName": "dc w",
      "photoUrl": "https://lh3.googleusercontent.com/a/default-user=s64",
      "userId": "02032790542712423852"
     },
     "user_tz": -540
    },
    "id": "5sO2cETKJ633",
    "outputId": "9fcdaba3-4cb8-41f0-fae9-e7362da041bb"
   },
   "outputs": [
    {
     "name": "stdout",
     "output_type": "stream",
     "text": [
      "<class 'int'>\n",
      "<class 'float'>\n",
      "<class 'float'> 135.0\n",
      "135.3\n"
     ]
    }
   ],
   "source": [
    "int1= 123\n",
    "int2= 12.3\n",
    "float1= 12.\n",
    "\n",
    "# type(): 데이터 자료형을 출력\n",
    "print(type(int1))\n",
    "print(type(int2))\n",
    "print(type(int1+float1), int1+float1)\n",
    "\n",
    "print(int1+int2) # 숫자형 자료의 + 기호: 산술연산 +(더하기)"
   ]
  },
  {
   "cell_type": "markdown",
   "metadata": {
    "id": "MUR_v1s4Hymg"
   },
   "source": [
    "####문자형\n",
    "- 쌍따옴표/홑따옴표로 묶여있는 자료\n",
    "- 인덱싱: 문자열의 각 위치를 의미(번호 부여)\n",
    "- 슬라이싱: 문자열에서 특정한 문자/단어/문장을 잘라오는 것"
   ]
  },
  {
   "cell_type": "code",
   "execution_count": 2,
   "metadata": {
    "colab": {
     "base_uri": "https://localhost:8080/"
    },
    "executionInfo": {
     "elapsed": 3,
     "status": "ok",
     "timestamp": 1646620288355,
     "user": {
      "displayName": "dc w",
      "photoUrl": "https://lh3.googleusercontent.com/a/default-user=s64",
      "userId": "02032790542712423852"
     },
     "user_tz": -540
    },
    "id": "uvGzdkg9My-Z",
    "outputId": "a0e27704-0202-4e1d-da09-b80b6d6c943e"
   },
   "outputs": [
    {
     "name": "stdout",
     "output_type": "stream",
     "text": [
      "<class 'str'> \n",
      " <class 'str'>\n",
      "파이썬 데이터 분석123\n"
     ]
    }
   ],
   "source": [
    "str1= \"123\"\n",
    "str2= '파이썬 데이터 분석'\n",
    "\n",
    "print(type(str1),\"\\n\", type(str2))\n",
    "print(str2+str1) # 문자형 자료의 + 기호: 문자열 연결 연산"
   ]
  },
  {
   "cell_type": "code",
   "execution_count": 3,
   "metadata": {
    "colab": {
     "base_uri": "https://localhost:8080/"
    },
    "executionInfo": {
     "elapsed": 266,
     "status": "ok",
     "timestamp": 1646620782722,
     "user": {
      "displayName": "dc w",
      "photoUrl": "https://lh3.googleusercontent.com/a/default-user=s64",
      "userId": "02032790542712423852"
     },
     "user_tz": -540
    },
    "id": "HR_CJWLAOKo6",
    "outputId": "3a8e02d7-d868-490c-864c-6ceeb405894c"
   },
   "outputs": [
    {
     "name": "stdout",
     "output_type": "stream",
     "text": [
      "123123\n",
      "246\n"
     ]
    }
   ],
   "source": [
    "# 숫자형+문자형 계산: 기본 계산 불가\n",
    "# print(int1+str1)\n",
    "\n",
    "# str(값): 입력된 값을 문자형으로 변경\n",
    "print(str(int1)+str1)\n",
    "\n",
    "# int(값): 입력된 숫자출력 문자형 값을 완전한 숫자형(정수)으로 변경\n",
    "# float(값): 실수형  숫자자료로 변경\n",
    "print(int1+int(str1))"
   ]
  },
  {
   "cell_type": "markdown",
   "metadata": {
    "id": "klhFsKi6Q1pr"
   },
   "source": [
    "##### 인덱싱/슬라이싱"
   ]
  },
  {
   "cell_type": "code",
   "execution_count": 4,
   "metadata": {
    "colab": {
     "base_uri": "https://localhost:8080/"
    },
    "executionInfo": {
     "elapsed": 255,
     "status": "ok",
     "timestamp": 1646621439559,
     "user": {
      "displayName": "dc w",
      "photoUrl": "https://lh3.googleusercontent.com/a/default-user=s64",
      "userId": "02032790542712423852"
     },
     "user_tz": -540
    },
    "id": "RRhtvvzOQys4",
    "outputId": "8cf11937-735f-46de-d2e8-19f246e64912"
   },
   "outputs": [
    {
     "name": "stdout",
     "output_type": "stream",
     "text": [
      "파이썬 데이터 분석\n",
      "파\n",
      "데\n",
      "석\n",
      "파이썬\n",
      "파이썬\n",
      "분석\n"
     ]
    }
   ],
   "source": [
    "print(str2)\n",
    "print(str2[0]) #문자 출력시 []후 위치 index 입력\n",
    "print(str2[4])\n",
    "print(str2[-1]) #print(str2[9])\n",
    "# 여러 문자열 출력: 변수[시작위치:종료위치]\n",
    "print(str2[0:3])\n",
    "print(str2[:3])\n",
    "print(str2[-2:])"
   ]
  },
  {
   "cell_type": "markdown",
   "metadata": {
    "id": "f4Gk-fuElFAx"
   },
   "source": [
    "#### 문자열 관련 함수"
   ]
  },
  {
   "cell_type": "code",
   "execution_count": 5,
   "metadata": {
    "colab": {
     "base_uri": "https://localhost:8080/"
    },
    "executionInfo": {
     "elapsed": 315,
     "status": "ok",
     "timestamp": 1646631416929,
     "user": {
      "displayName": "dc w",
      "photoUrl": "https://lh3.googleusercontent.com/a/default-user=s64",
      "userId": "02032790542712423852"
     },
     "user_tz": -540
    },
    "id": "jBAAI2SWliBl",
    "outputId": "a3e73e78-2ed6-4e47-d76d-ef919f12c45f"
   },
   "outputs": [
    {
     "name": "stdout",
     "output_type": "stream",
     "text": [
      "2\n",
      "0\n"
     ]
    },
    {
     "data": {
      "text/plain": [
       "10"
      ]
     },
     "execution_count": 5,
     "metadata": {},
     "output_type": "execute_result"
    }
   ],
   "source": [
    "str1=\"문자 숫자 리스트 문자열 텍스트 정수형\"\n",
    "# str1.count('단어'): 문자열에서 단가가 몇개 있는지 확인\n",
    "print(str1.count(\"문자\"))\n",
    "print(str1.find(\"문자\"))\n",
    "\n",
    "# find(\"문자\"): 문자열에서 찾는 문자의 위치 출력\n",
    "str1.find(\"문자\", 3)"
   ]
  },
  {
   "cell_type": "code",
   "execution_count": 6,
   "metadata": {
    "colab": {
     "base_uri": "https://localhost:8080/"
    },
    "executionInfo": {
     "elapsed": 293,
     "status": "ok",
     "timestamp": 1646631437095,
     "user": {
      "displayName": "dc w",
      "photoUrl": "https://lh3.googleusercontent.com/a/default-user=s64",
      "userId": "02032790542712423852"
     },
     "user_tz": -540
    },
    "id": "jbHUQFOloGgo",
    "outputId": "2f463121-5149-4fac-8c2d-7efd82cf6b01"
   },
   "outputs": [
    {
     "name": "stdout",
     "output_type": "stream",
     "text": [
      "문자-숫자-리스트-문자열-텍스트-정수형\n",
      "1-2-3-4-5\n",
      "21\n",
      "숫자 숫자 리스트 숫자열 텍스트 정수형\n",
      "문자 숫자 리스트 문자열 텍스트 정수형\n"
     ]
    }
   ],
   "source": [
    "# split(): 문자열 나누기\n",
    "spstr1= str1.split(\" \")\n",
    "spstr1\n",
    "\n",
    "# join(): 문자열 삽입, 문자 사이에 특정 기호등을 삽입할 때 사용\n",
    "str2= \"12345\"\n",
    "\n",
    "print(\"-\".join(spstr1))\n",
    "print(\"-\".join(str2))\n",
    "\n",
    "# len(): 데이터 길이\n",
    "print(len(str1))\n",
    "\n",
    "#replace(\"대상문자\", \"변경문자\"): 문자열 바꾸기\n",
    "print(str1.replace(\"문자\",\"숫자\"))\n",
    "print(str1)"
   ]
  },
  {
   "cell_type": "markdown",
   "metadata": {
    "id": "RRevV54vIMwk"
   },
   "source": [
    "####리스트형\n",
    "- 복합형 데이터 구조\n",
    "- 입력시 대괄호([])로 묶어서 입력\n",
    "- 리스트변수 = [값1,값2,값3,...]\n",
    "- 인수(값)로는 문자,숫자,리스트,튜플,딕셔너리 등 다양 데이터 형식을 가질 수 있음\n",
    "- 인덱싱/슬라이싱"
   ]
  },
  {
   "cell_type": "code",
   "execution_count": 7,
   "metadata": {
    "colab": {
     "base_uri": "https://localhost:8080/"
    },
    "executionInfo": {
     "elapsed": 260,
     "status": "ok",
     "timestamp": 1646633302933,
     "user": {
      "displayName": "dc w",
      "photoUrl": "https://lh3.googleusercontent.com/a/default-user=s64",
      "userId": "02032790542712423852"
     },
     "user_tz": -540
    },
    "id": "4u8Zs4EisLS-",
    "outputId": "9e89bcd7-ba27-4b5f-b83b-d000091f3022"
   },
   "outputs": [
    {
     "name": "stdout",
     "output_type": "stream",
     "text": [
      "<class 'list'>\n",
      "<class 'list'>\n",
      "멀티캠퍼스\n",
      "[10, 20]\n",
      "[100, 200, 300]\n",
      "200\n",
      "[10, 20, '멀티캠퍼스', 'python', [100, 200, 300]]\n",
      "[10, 20, '멀티캠퍼스', 'python', [100, 200, 300], '서정동']\n",
      "[1, 2, 3, 4, 5]\n",
      "['김보연', '민창기', '서정동', '이순신', '홍길동']\n",
      "[6, 1, 2, 3, 4, 5]\n",
      "['김보연', '민창기', '이순신', '홍길동']\n"
     ]
    }
   ],
   "source": [
    "lst1=[1,2,3,4,5]\n",
    "lst2=[10,20,\"멀티캠퍼스\",\"파이썬\",[100,200,300]]\n",
    "lst3=[\"이순신\", \"홍길동\", \"서정동\", \"김보연\", \"민창기\"]\n",
    "\n",
    "print(type(lst1))\n",
    "print(type(lst2))\n",
    "\n",
    "# 인덱싱/슬라이싱\n",
    "print(lst2[2])\n",
    "print(lst2[0:2]) #print(lst2[:2])\n",
    "print(lst2[-1])\n",
    "print(lst2[-1][1]) # 2차원 구조의 데이터 출력\n",
    "\n",
    "# 리스트형 데이터 수정\n",
    "lst2[3] = \"python\"\n",
    "print(lst2)\n",
    "\n",
    "# append(): 리스트의 끝에 값 추가\n",
    "lst2.append(\"서정동\")\n",
    "print(lst2)\n",
    "\n",
    "lst1.sort()  # 오름차순 정렬\n",
    "print(lst1)\n",
    "\n",
    "lst3.sort()  # 오름차순 정렬\n",
    "print(lst3)\n",
    "\n",
    "# 객체.insert(위치,값): 중간 삽입\n",
    "lst1.insert(0,6)\n",
    "print(lst1)\n",
    "# 개체 삭제\n",
    "del lst2\n",
    "del lst3[2]\n",
    "print(lst3)"
   ]
  },
  {
   "cell_type": "code",
   "execution_count": 8,
   "metadata": {
    "colab": {
     "base_uri": "https://localhost:8080/"
    },
    "executionInfo": {
     "elapsed": 260,
     "status": "ok",
     "timestamp": 1646629881215,
     "user": {
      "displayName": "dc w",
      "photoUrl": "https://lh3.googleusercontent.com/a/default-user=s64",
      "userId": "02032790542712423852"
     },
     "user_tz": -540
    },
    "id": "T1GnSCFNyCQ-",
    "outputId": "719985d3-6659-4d42-badc-2af7c2c99e0c"
   },
   "outputs": [
    {
     "name": "stdout",
     "output_type": "stream",
     "text": [
      "[[1, '홍길동', '남'], [2, '이순신', '남'], [3, '심순이', '여']]\n",
      "홍길동\n"
     ]
    }
   ],
   "source": [
    "# 차원 구조 리스트\n",
    "lst=[[1,\"홍길동\",\"남\"], [2,\"이순신\",\"남\"], [3,\"심순이\",\"여\"]]\n",
    "\n",
    "print(lst)\n",
    "print(lst[0][1])"
   ]
  },
  {
   "cell_type": "markdown",
   "metadata": {
    "id": "IXDF15qPyjbL"
   },
   "source": [
    "####모듈 설치 및 연결\n",
    "- pandas 모듈: 2차원 구조의 데이터 관리\n",
    "- 모듈연결: import 모듈명 as 별명\n",
    "- import pandas as pd"
   ]
  },
  {
   "cell_type": "code",
   "execution_count": 9,
   "metadata": {
    "colab": {
     "base_uri": "https://localhost:8080/",
     "height": 143
    },
    "executionInfo": {
     "elapsed": 302,
     "status": "ok",
     "timestamp": 1646630148379,
     "user": {
      "displayName": "dc w",
      "photoUrl": "https://lh3.googleusercontent.com/a/default-user=s64",
      "userId": "02032790542712423852"
     },
     "user_tz": -540
    },
    "id": "oHTlVngnyv7B",
    "outputId": "301b6141-4007-4f11-b134-216e870ac798"
   },
   "outputs": [
    {
     "data": {
      "text/html": [
       "<div>\n",
       "<style scoped>\n",
       "    .dataframe tbody tr th:only-of-type {\n",
       "        vertical-align: middle;\n",
       "    }\n",
       "\n",
       "    .dataframe tbody tr th {\n",
       "        vertical-align: top;\n",
       "    }\n",
       "\n",
       "    .dataframe thead th {\n",
       "        text-align: right;\n",
       "    }\n",
       "</style>\n",
       "<table border=\"1\" class=\"dataframe\">\n",
       "  <thead>\n",
       "    <tr style=\"text-align: right;\">\n",
       "      <th></th>\n",
       "      <th>번호</th>\n",
       "      <th>이름</th>\n",
       "      <th>성별</th>\n",
       "    </tr>\n",
       "  </thead>\n",
       "  <tbody>\n",
       "    <tr>\n",
       "      <th>0</th>\n",
       "      <td>1</td>\n",
       "      <td>홍길동</td>\n",
       "      <td>남</td>\n",
       "    </tr>\n",
       "    <tr>\n",
       "      <th>1</th>\n",
       "      <td>2</td>\n",
       "      <td>이순신</td>\n",
       "      <td>남</td>\n",
       "    </tr>\n",
       "    <tr>\n",
       "      <th>2</th>\n",
       "      <td>3</td>\n",
       "      <td>심순이</td>\n",
       "      <td>여</td>\n",
       "    </tr>\n",
       "  </tbody>\n",
       "</table>\n",
       "</div>"
      ],
      "text/plain": [
       "   번호   이름 성별\n",
       "0   1  홍길동  남\n",
       "1   2  이순신  남\n",
       "2   3  심순이  여"
      ]
     },
     "execution_count": 9,
     "metadata": {},
     "output_type": "execute_result"
    }
   ],
   "source": [
    "# !pip install pandas : 모듈 미설치시 사용\n",
    "import pandas as pd\n",
    "\n",
    "df1 = pd.DataFrame(lst, columns=[\"번호\",\"이름\",\"성별\"])\n",
    "df1"
   ]
  },
  {
   "cell_type": "markdown",
   "metadata": {
    "id": "j9o4JZVRz6wD"
   },
   "source": [
    "####튜플형\n",
    "- 리스트형 자료와 동일하나 수정이 불가능함 (자료 추가는 가능)\n",
    "- 변수=(인수,인수,인수,...)"
   ]
  },
  {
   "cell_type": "code",
   "execution_count": 10,
   "metadata": {
    "colab": {
     "base_uri": "https://localhost:8080/"
    },
    "executionInfo": {
     "elapsed": 270,
     "status": "ok",
     "timestamp": 1646631172836,
     "user": {
      "displayName": "dc w",
      "photoUrl": "https://lh3.googleusercontent.com/a/default-user=s64",
      "userId": "02032790542712423852"
     },
     "user_tz": -540
    },
    "id": "jZ8ZGfbR3bNT",
    "outputId": "89186ce9-5c30-4a7c-f8df-edb1c6e9df53"
   },
   "outputs": [
    {
     "name": "stdout",
     "output_type": "stream",
     "text": [
      "10\n"
     ]
    }
   ],
   "source": [
    "aa=(10, 20, 30)\n",
    "print(aa[0])\n",
    "# aa[1]=25  # 에러/수정 불가능"
   ]
  },
  {
   "cell_type": "markdown",
   "metadata": {
    "id": "DVFsT-wm3Mi-"
   },
   "source": [
    "#### 딕셔너리형\n",
    "- 복합 자료형\n",
    "- 입력시 중괄호({ })로 묶어서 입력\n",
    "- 딕셔너리변수={\"key1\":값1, \"key2\":값2, ....}\n",
    "- key: 대표 이름\n",
    "- 값: key가 가리키는 값, 숫자/문자/리스트/딕셔너러 등\n"
   ]
  },
  {
   "cell_type": "code",
   "execution_count": 11,
   "metadata": {
    "colab": {
     "base_uri": "https://localhost:8080/"
    },
    "executionInfo": {
     "elapsed": 304,
     "status": "ok",
     "timestamp": 1646630860086,
     "user": {
      "displayName": "dc w",
      "photoUrl": "https://lh3.googleusercontent.com/a/default-user=s64",
      "userId": "02032790542712423852"
     },
     "user_tz": -540
    },
    "id": "h8mZmb2D1AuX",
    "outputId": "a9d3ca2f-3fd0-440c-d318-2b2b96b683df"
   },
   "outputs": [
    {
     "name": "stdout",
     "output_type": "stream",
     "text": [
      "dict_keys(['번호', '이름', '성별', '국어'])\n",
      "dict_values([1, '홍길동', '남', 100])\n",
      "\n",
      "dict_keys(['번호', '이름', '성별', '국어'])\n",
      "dict_values([[1, 2, 3, 4, 5], ['AAA', 'BBB', 'CCC', 'DDD', 'EEE'], ['남', '여', '남', '여', '남'], [100, 95, 85, 75, 80]])\n",
      "['AAA', 'BBB', 'CCC', 'DDD', 'EEE']\n"
     ]
    }
   ],
   "source": [
    "dict1={\"번호\":1, \"이름\":\"홍길동\", \"성별\":\"남\", \"국어\":100}\n",
    "dict2={\"번호\":[1,2,3,4,5],\n",
    "       \"이름\":[\"AAA\",\"BBB\",\"CCC\",\"DDD\",\"EEE\"],\n",
    "       \"성별\":[\"남\",\"여\",\"남\",\"여\",\"남\"],\n",
    "       \"국어\":[100,95,85,75,80]}\n",
    "print(dict1.keys()) # key 이름 출력\n",
    "print(dict1.values()) # 값 전체 출력\n",
    "print()\n",
    "print(dict2.keys()) # key 이름 출력\n",
    "print(dict2.values()) # 값 전체 출력\n",
    "\n",
    "print(dict2[\"이름\"]) # 특정 키에 해당하는 값만 출력"
   ]
  },
  {
   "cell_type": "markdown",
   "metadata": {
    "id": "PC6mFxKV03Xb"
   },
   "source": [
    "###pandas 모듈\n",
    "- 모듈 연결: import pandas as pd\n",
    "- DataFrame 구조(행과 열로 데이터를 관리하는 2차원 구조)"
   ]
  },
  {
   "cell_type": "code",
   "execution_count": 12,
   "metadata": {
    "colab": {
     "base_uri": "https://localhost:8080/",
     "height": 206
    },
    "executionInfo": {
     "elapsed": 5,
     "status": "ok",
     "timestamp": 1646633404447,
     "user": {
      "displayName": "dc w",
      "photoUrl": "https://lh3.googleusercontent.com/a/default-user=s64",
      "userId": "02032790542712423852"
     },
     "user_tz": -540
    },
    "id": "JMkzFFMC_3LF",
    "outputId": "64151ed0-be94-4125-d007-b11090922640"
   },
   "outputs": [
    {
     "data": {
      "text/html": [
       "<div>\n",
       "<style scoped>\n",
       "    .dataframe tbody tr th:only-of-type {\n",
       "        vertical-align: middle;\n",
       "    }\n",
       "\n",
       "    .dataframe tbody tr th {\n",
       "        vertical-align: top;\n",
       "    }\n",
       "\n",
       "    .dataframe thead th {\n",
       "        text-align: right;\n",
       "    }\n",
       "</style>\n",
       "<table border=\"1\" class=\"dataframe\">\n",
       "  <thead>\n",
       "    <tr style=\"text-align: right;\">\n",
       "      <th></th>\n",
       "      <th>번호</th>\n",
       "      <th>이름</th>\n",
       "      <th>성별</th>\n",
       "      <th>국어</th>\n",
       "    </tr>\n",
       "  </thead>\n",
       "  <tbody>\n",
       "    <tr>\n",
       "      <th>0</th>\n",
       "      <td>1</td>\n",
       "      <td>AAA</td>\n",
       "      <td>남</td>\n",
       "      <td>100</td>\n",
       "    </tr>\n",
       "    <tr>\n",
       "      <th>1</th>\n",
       "      <td>2</td>\n",
       "      <td>BBB</td>\n",
       "      <td>여</td>\n",
       "      <td>95</td>\n",
       "    </tr>\n",
       "    <tr>\n",
       "      <th>2</th>\n",
       "      <td>3</td>\n",
       "      <td>CCC</td>\n",
       "      <td>남</td>\n",
       "      <td>85</td>\n",
       "    </tr>\n",
       "    <tr>\n",
       "      <th>3</th>\n",
       "      <td>4</td>\n",
       "      <td>DDD</td>\n",
       "      <td>여</td>\n",
       "      <td>75</td>\n",
       "    </tr>\n",
       "    <tr>\n",
       "      <th>4</th>\n",
       "      <td>5</td>\n",
       "      <td>EEE</td>\n",
       "      <td>남</td>\n",
       "      <td>80</td>\n",
       "    </tr>\n",
       "  </tbody>\n",
       "</table>\n",
       "</div>"
      ],
      "text/plain": [
       "   번호   이름 성별   국어\n",
       "0   1  AAA  남  100\n",
       "1   2  BBB  여   95\n",
       "2   3  CCC  남   85\n",
       "3   4  DDD  여   75\n",
       "4   5  EEE  남   80"
      ]
     },
     "execution_count": 12,
     "metadata": {},
     "output_type": "execute_result"
    }
   ],
   "source": [
    "# pandas를 이용한 데이터프레임 구조 변경\n",
    "\n",
    "df1 = pd.DataFrame(dict2)\n",
    "df1"
   ]
  },
  {
   "cell_type": "code",
   "execution_count": null,
   "metadata": {
    "id": "fVUMjyW2_8XO"
   },
   "outputs": [],
   "source": []
  }
 ],
 "metadata": {
  "colab": {
   "authorship_tag": "ABX9TyOHpsrZL88yUDjAGLA7yhbs",
   "collapsed_sections": [],
   "mount_file_id": "1UuDM3NnNJWNA7BjutfkOtaKmbGdkv1BT",
   "name": "1. 파이썬 자료형.ipynb",
   "provenance": [],
   "toc_visible": true
  },
  "kernelspec": {
   "display_name": "Python 3 (ipykernel)",
   "language": "python",
   "name": "python3"
  },
  "language_info": {
   "codemirror_mode": {
    "name": "ipython",
    "version": 3
   },
   "file_extension": ".py",
   "mimetype": "text/x-python",
   "name": "python",
   "nbconvert_exporter": "python",
   "pygments_lexer": "ipython3",
   "version": "3.9.7"
  }
 },
 "nbformat": 4,
 "nbformat_minor": 1
}
