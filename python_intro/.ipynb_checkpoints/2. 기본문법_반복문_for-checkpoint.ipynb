{
 "cells": [
  {
   "cell_type": "markdown",
   "metadata": {
    "id": "hXAPfQdqB7nf"
   },
   "source": [
    "### 반복문(for)\n",
    "- for 변수 in 객체명: 반복할 실행문\n",
    "- for 변수 in range(): 반복할 실행문"
   ]
  },
  {
   "cell_type": "code",
   "execution_count": 11,
   "metadata": {
    "colab": {
     "base_uri": "https://localhost:8080/"
    },
    "executionInfo": {
     "elapsed": 403,
     "status": "ok",
     "timestamp": 1646703427074,
     "user": {
      "displayName": "dc w",
      "photoUrl": "https://lh3.googleusercontent.com/a/default-user=s64",
      "userId": "02032790542712423852"
     },
     "user_tz": -540
    },
    "id": "sVZT0EfiB-IS",
    "outputId": "4643b6a8-e4ea-42cf-aa05-fcea2f44d8f3"
   },
   "outputs": [
    {
     "name": "stdout",
     "output_type": "stream",
     "text": [
      "서정동 님! 안녕하세요.\n",
      "김이프 님! 안녕하세요.\n",
      "심순이 님! 안녕하세요.\n",
      "박찬식 님! 안녕하세요.\n",
      "홍순준 님! 안녕하세요.\n",
      "서정동님~ 안녕하세요\n",
      "김이프님~ 안녕하세요\n",
      "심순이님~ 안녕하세요\n",
      "박찬식님~ 안녕하세요\n",
      "홍순준님~ 안녕하세요\n",
      "==== END ====\n"
     ]
    }
   ],
   "source": [
    "name=[\"서정동\", \"김이프\", \"심순이\", \"박찬식\", \"홍순준\"]\n",
    "Age=[50,40,30,20,10]\n",
    "\n",
    "# name 객체를 이용한 출력\n",
    "# format()를 이용한 출력\n",
    "print(name[0],\"님! 안녕하세요.\")\n",
    "print(name[1],\"님! 안녕하세요.\")\n",
    "print(name[2],\"님! 안녕하세요.\")\n",
    "print(name[3],\"님! 안녕하세요.\")\n",
    "print(name[4],\"님! 안녕하세요.\")\n",
    "\n",
    "for nm in name:\n",
    "    print(\"{0}님~ 안녕하세요\".format(nm))\n",
    "\n",
    "print(\"==== END ====\")"
   ]
  },
  {
   "cell_type": "code",
   "execution_count": 12,
   "metadata": {
    "colab": {
     "base_uri": "https://localhost:8080/"
    },
    "executionInfo": {
     "elapsed": 397,
     "status": "ok",
     "timestamp": 1646703429997,
     "user": {
      "displayName": "dc w",
      "photoUrl": "https://lh3.googleusercontent.com/a/default-user=s64",
      "userId": "02032790542712423852"
     },
     "user_tz": -540
    },
    "id": "l-ny2ayDEYUs",
    "outputId": "85bde709-63bd-4c1c-9dfe-75ebbe2d990c"
   },
   "outputs": [
    {
     "name": "stdout",
     "output_type": "stream",
     "text": [
      "서정동 님의 나이는  50 입니다.\n",
      "서정동님의 나이는 50세입니다.\n",
      "서정동님의 나이는 50세입니다.\n",
      "김이프님의 나이는 40세입니다.\n",
      "심순이님의 나이는 30세입니다.\n",
      "박찬식님의 나이는 20세입니다.\n",
      "홍순준님의 나이는 10세입니다.\n"
     ]
    }
   ],
   "source": [
    "print(name[0],\"님의 나이는 \", Age[0], \"입니다.\")\n",
    "print(\"{1}님의 나이는 {0}세입니다.\".format(Age[0],name[0]))\n",
    "print(f\"{name[0]}님의 나이는 {Age[0]}세입니다.\")\n",
    "print(f\"{name[1]}님의 나이는 {Age[1]}세입니다.\")\n",
    "print(f\"{name[2]}님의 나이는 {Age[2]}세입니다.\")\n",
    "print(f\"{name[3]}님의 나이는 {Age[3]}세입니다.\")\n",
    "print(f\"{name[4]}님의 나이는 {Age[4]}세입니다.\")\n"
   ]
  },
  {
   "cell_type": "code",
   "execution_count": 13,
   "metadata": {
    "colab": {
     "base_uri": "https://localhost:8080/"
    },
    "executionInfo": {
     "elapsed": 3,
     "status": "ok",
     "timestamp": 1646703431793,
     "user": {
      "displayName": "dc w",
      "photoUrl": "https://lh3.googleusercontent.com/a/default-user=s64",
      "userId": "02032790542712423852"
     },
     "user_tz": -540
    },
    "id": "PN1CLrh_Gjht",
    "outputId": "9ebb6f6f-82d5-4e7c-c82f-1c285a65fcfa"
   },
   "outputs": [
    {
     "name": "stdout",
     "output_type": "stream",
     "text": [
      "[0, 1, 2, 3, 4, 5, 6, 7, 8, 9]\n",
      "[5, 6, 7, 8, 9]\n",
      "[1, 3, 5, 7, 9]\n"
     ]
    }
   ],
   "source": [
    "# range() 함수 활용\n",
    "# list() : 입력된 데이터를 리스트 구조로 변경\n",
    "\n",
    "print(list(range(10)))      # 0부터 10개의 정수 생성\n",
    "print(list(range(5,10)))    # 0부터 10개의 정수를 생성하고 5부터 출력\n",
    "print(list(range(1,10,2)))  # 0부터 10개의 정수를 생성하고 1부터 2씩 증가하면서 출력"
   ]
  },
  {
   "cell_type": "code",
   "execution_count": 14,
   "metadata": {
    "colab": {
     "base_uri": "https://localhost:8080/"
    },
    "executionInfo": {
     "elapsed": 3,
     "status": "ok",
     "timestamp": 1646703433482,
     "user": {
      "displayName": "dc w",
      "photoUrl": "https://lh3.googleusercontent.com/a/default-user=s64",
      "userId": "02032790542712423852"
     },
     "user_tz": -540
    },
    "id": "1eDAkWpvHuDE",
    "outputId": "8e288fdd-7c35-43c3-f989-61df7bf424ea"
   },
   "outputs": [
    {
     "name": "stdout",
     "output_type": "stream",
     "text": [
      "서정동님의 나이는 50세입니다.\n",
      "김이프님의 나이는 40세입니다.\n",
      "심순이님의 나이는 30세입니다.\n",
      "박찬식님의 나이는 20세입니다.\n",
      "홍순준님의 나이는 10세입니다.\n",
      "=== END ===\n"
     ]
    }
   ],
   "source": [
    "for i in range (5):\n",
    "    print(f\"{name[i]}님의 나이는 {Age[i]}세입니다.\")\n",
    "\n",
    "print(\"=== END ===\")"
   ]
  },
  {
   "cell_type": "code",
   "execution_count": 15,
   "metadata": {
    "colab": {
     "base_uri": "https://localhost:8080/"
    },
    "executionInfo": {
     "elapsed": 400,
     "status": "ok",
     "timestamp": 1646703435753,
     "user": {
      "displayName": "dc w",
      "photoUrl": "https://lh3.googleusercontent.com/a/default-user=s64",
      "userId": "02032790542712423852"
     },
     "user_tz": -540
    },
    "id": "Rkl8KSX7I8ly",
    "outputId": "3d600dad-ba5c-4660-f7ca-8dc28671bedf"
   },
   "outputs": [
    {
     "name": "stdout",
     "output_type": "stream",
     "text": [
      "5\n",
      "서정동님의 나이는 50세입니다.\n",
      "김이프님의 나이는 40세입니다.\n",
      "심순이님의 나이는 30세입니다.\n",
      "박찬식님의 나이는 20세입니다.\n",
      "홍순준님의 나이는 10세입니다.\n",
      "=== END ===\n"
     ]
    }
   ],
   "source": [
    "print(len(name))  # name 변수에 입력된 데이터 개수 출력\n",
    "for i in range(len(name)):\n",
    "    print(f\"{name[i]}님의 나이는 {Age[i]}세입니다.\")\n",
    "\n",
    "print(\"=== END ===\")"
   ]
  },
  {
   "cell_type": "markdown",
   "metadata": {
    "id": "ug96-yLjPcgR"
   },
   "source": [
    "#### Pillow 이미지 처리 모듈\n",
    "- 참조: https://pillow.readthedocs.io/en/stable/index.html\n"
   ]
  },
  {
   "cell_type": "code",
   "execution_count": 16,
   "metadata": {
    "id": "NdpIP-7_RVfU"
   },
   "outputs": [],
   "source": [
    "#!pip install Pillow    # Pillow 모듈이 없을 경우 설치"
   ]
  },
  {
   "cell_type": "code",
   "execution_count": 17,
   "metadata": {
    "colab": {
     "base_uri": "https://localhost:8080/"
    },
    "executionInfo": {
     "elapsed": 648,
     "status": "ok",
     "timestamp": 1646703439874,
     "user": {
      "displayName": "dc w",
      "photoUrl": "https://lh3.googleusercontent.com/a/default-user=s64",
      "userId": "02032790542712423852"
     },
     "user_tz": -540
    },
    "id": "Duh6_PgyQdnj",
    "outputId": "86d19f1f-ac6b-47a7-e63e-ede3b082de56"
   },
   "outputs": [
    {
     "name": "stdout",
     "output_type": "stream",
     "text": [
      "(512, 271)\n"
     ]
    }
   ],
   "source": [
    "from PIL import Image   # 모듈 연결\n",
    "\n",
    "# 이미지 열기\n",
    "#tmp=Image.open('/content/drive/MyDrive/multi/0307/data/pic1.jpg')   # 절대경로\n",
    "tmp=Image.open('./data/pic1.jpg')   # 상대경로, cd로 이동한 디렉토리 하위 경로\n",
    "\n",
    "# 이미지를 잘 열었는지 이미지 크기(속성)를 출력\n",
    "print(tmp.size)"
   ]
  },
  {
   "cell_type": "code",
   "execution_count": 18,
   "metadata": {
    "colab": {
     "base_uri": "https://localhost:8080/"
    },
    "executionInfo": {
     "elapsed": 1471,
     "status": "ok",
     "timestamp": 1646703443805,
     "user": {
      "displayName": "dc w",
      "photoUrl": "https://lh3.googleusercontent.com/a/default-user=s64",
      "userId": "02032790542712423852"
     },
     "user_tz": -540
    },
    "id": "vyQa5ryrRMsk",
    "outputId": "dd3e5a75-3ec3-4653-96f2-c30819a4d5e0"
   },
   "outputs": [
    {
     "name": "stdout",
     "output_type": "stream",
     "text": [
      "(512, 271)\n",
      "(630, 338)\n",
      "(275, 183)\n"
     ]
    }
   ],
   "source": [
    "tmp=Image.open('./data/pic1.jpg')\n",
    "print(tmp.size)\n",
    "tmp=Image.open('./data/pic2.jpg')\n",
    "print(tmp.size)\n",
    "tmp=Image.open('./data/pic3.jpg')\n",
    "print(tmp.size)"
   ]
  },
  {
   "cell_type": "code",
   "execution_count": 19,
   "metadata": {
    "colab": {
     "base_uri": "https://localhost:8080/"
    },
    "executionInfo": {
     "elapsed": 10,
     "status": "ok",
     "timestamp": 1646703445625,
     "user": {
      "displayName": "dc w",
      "photoUrl": "https://lh3.googleusercontent.com/a/default-user=s64",
      "userId": "02032790542712423852"
     },
     "user_tz": -540
    },
    "id": "sgjWzLZrUiVB",
    "outputId": "a5f21a6a-6eb9-4685-aa05-d3face8e9844"
   },
   "outputs": [
    {
     "name": "stdout",
     "output_type": "stream",
     "text": [
      "./data/pic1.jpg\n",
      "(512, 271)\n",
      "(630, 338)\n",
      "(275, 183)\n",
      "=== END ===\n"
     ]
    }
   ],
   "source": [
    "fnames=[\"pic1\",\"pic2\",\"pic3\"]\n",
    "print(\"./data/\" + fnames[0] + \".jpg\")\n",
    "for fname in fnames:\n",
    "    tmp=Image.open(\"./data/\" + fname + \".jpg\")\n",
    "    print(tmp.size)\n",
    "print(\"=== END ===\")"
   ]
  },
  {
   "cell_type": "code",
   "execution_count": 20,
   "metadata": {
    "colab": {
     "base_uri": "https://localhost:8080/"
    },
    "executionInfo": {
     "elapsed": 2,
     "status": "ok",
     "timestamp": 1646703447175,
     "user": {
      "displayName": "dc w",
      "photoUrl": "https://lh3.googleusercontent.com/a/default-user=s64",
      "userId": "02032790542712423852"
     },
     "user_tz": -540
    },
    "id": "yKTT4mzpUuOt",
    "outputId": "6a178908-c900-4abb-9fb8-bd2d824da76d"
   },
   "outputs": [
    {
     "name": "stdout",
     "output_type": "stream",
     "text": [
      "(512, 271)\n",
      "(630, 338)\n",
      "(275, 183)\n",
      "=== END ===\n"
     ]
    }
   ],
   "source": [
    "# for문을 이용한 이미지 출력\n",
    "fnames=[\"pic1\",\"pic2\",\"pic3\"]\n",
    "\n",
    "for fname in fnames:\n",
    "    tmp=Image.open(\"./data/\" + fname + \".jpg\")\n",
    "    print(tmp.size)\n",
    "\n",
    "print(\"=== END ===\")"
   ]
  },
  {
   "cell_type": "code",
   "execution_count": 21,
   "metadata": {
    "colab": {
     "base_uri": "https://localhost:8080/"
    },
    "executionInfo": {
     "elapsed": 544,
     "status": "ok",
     "timestamp": 1646703450246,
     "user": {
      "displayName": "dc w",
      "photoUrl": "https://lh3.googleusercontent.com/a/default-user=s64",
      "userId": "02032790542712423852"
     },
     "user_tz": -540
    },
    "id": "IqfyTTV1WwWe",
    "outputId": "dfa29bc1-d7e7-44c2-e450-337f42853049"
   },
   "outputs": [
    {
     "name": "stdout",
     "output_type": "stream",
     "text": [
      "(512, 271)\n",
      "=== END ===\n"
     ]
    }
   ],
   "source": [
    "# 기본 이미지 사이즈를 200*200 으로 수정 후 저장(pic1_200.jpg)\n",
    "fnames=[\"pic1\",\"pic2\",\"pic3\"]\n",
    "\n",
    "tmp=Image.open(\"./data/\"+fnames[0]+\".jpg\")  # 첫 번째 파일 읽어오기\n",
    "print(tmp.size)\n",
    "\n",
    "tmpResize= tmp.resize((200,200))   # 이미지 사이즈 변경\n",
    "tmpResize.save(\"./data/\"+fnames[0]+\"_200.jpg\")\n",
    "\n",
    "print(\"=== END ===\")\n"
   ]
  },
  {
   "cell_type": "code",
   "execution_count": 23,
   "metadata": {
    "colab": {
     "base_uri": "https://localhost:8080/"
    },
    "executionInfo": {
     "elapsed": 2383,
     "status": "ok",
     "timestamp": 1646703456442,
     "user": {
      "displayName": "dc w",
      "photoUrl": "https://lh3.googleusercontent.com/a/default-user=s64",
      "userId": "02032790542712423852"
     },
     "user_tz": -540
    },
    "id": "2hVszrJKZHX6",
    "outputId": "9ce5359a-0416-48ac-9079-cb2eb9da25a3"
   },
   "outputs": [
    {
     "name": "stdout",
     "output_type": "stream",
     "text": [
      "=== origin files END ===\n",
      "=== size_200 version files END ===\n",
      "[(512, 271), (630, 338), (275, 183)]\n",
      "[(200, 200), (200, 200), (200, 200)]\n"
     ]
    }
   ],
   "source": [
    "fnames=[\"pic1\",\"pic2\",\"pic3\"] # 데이터가 있는 리스트 변수\n",
    "imgSize=[]    # 리스트 형식의 변수만 선언\n",
    "imgSize_200=[]\n",
    "for fname in fnames:\n",
    "    tmp=Image.open(\"./data/\"+ fname+\".jpg\")\n",
    "    imgSize.append(tmp.size)    # imgSize 변수 끝에 데이터 추가\n",
    "\n",
    "    tmpResize= tmp.resize((200,200))   # 이미지 사이즈 변경\n",
    "    tmpResize.save(\"./data/\"+fname+\"_200.jpg\")    # 변경된 이미지 저장\n",
    "\n",
    "print(\"=== origin files END ===\")\n",
    "\n",
    "for fname in fnames:\n",
    "    tmp2=Image.open(\"./data/\" + fname+\"_200.jpg\")\n",
    "    imgSize_200.append(tmp2.size)\n",
    "\n",
    "print(\"=== size_200 version files END ===\")\n",
    "print(imgSize)\n",
    "print(imgSize_200)"
   ]
  },
  {
   "cell_type": "code",
   "execution_count": 24,
   "metadata": {
    "colab": {
     "base_uri": "https://localhost:8080/",
     "height": 143
    },
    "executionInfo": {
     "elapsed": 926,
     "status": "ok",
     "timestamp": 1646703460209,
     "user": {
      "displayName": "dc w",
      "photoUrl": "https://lh3.googleusercontent.com/a/default-user=s64",
      "userId": "02032790542712423852"
     },
     "user_tz": -540
    },
    "id": "Qv7BZccRZ8qX",
    "outputId": "9cc6dec1-6ee5-4c27-dc96-63eae8d5f9c8"
   },
   "outputs": [
    {
     "data": {
      "text/html": [
       "<div>\n",
       "<style scoped>\n",
       "    .dataframe tbody tr th:only-of-type {\n",
       "        vertical-align: middle;\n",
       "    }\n",
       "\n",
       "    .dataframe tbody tr th {\n",
       "        vertical-align: top;\n",
       "    }\n",
       "\n",
       "    .dataframe thead th {\n",
       "        text-align: right;\n",
       "    }\n",
       "</style>\n",
       "<table border=\"1\" class=\"dataframe\">\n",
       "  <thead>\n",
       "    <tr style=\"text-align: right;\">\n",
       "      <th></th>\n",
       "      <th>가로</th>\n",
       "      <th>세로</th>\n",
       "    </tr>\n",
       "  </thead>\n",
       "  <tbody>\n",
       "    <tr>\n",
       "      <th>0</th>\n",
       "      <td>512</td>\n",
       "      <td>271</td>\n",
       "    </tr>\n",
       "    <tr>\n",
       "      <th>1</th>\n",
       "      <td>630</td>\n",
       "      <td>338</td>\n",
       "    </tr>\n",
       "    <tr>\n",
       "      <th>2</th>\n",
       "      <td>275</td>\n",
       "      <td>183</td>\n",
       "    </tr>\n",
       "  </tbody>\n",
       "</table>\n",
       "</div>"
      ],
      "text/plain": [
       "    가로   세로\n",
       "0  512  271\n",
       "1  630  338\n",
       "2  275  183"
      ]
     },
     "execution_count": 24,
     "metadata": {},
     "output_type": "execute_result"
    }
   ],
   "source": [
    "import pandas as pd\n",
    "\n",
    "df1=pd.DataFrame(imgSize, columns=[\"가로\",\"세로\"])\n",
    "df2=pd.DataFrame(imgSize_200, columns=[\"가로\",\"세로\"])\n",
    "df1"
   ]
  },
  {
   "cell_type": "code",
   "execution_count": 30,
   "metadata": {
    "colab": {
     "base_uri": "https://localhost:8080/",
     "height": 415
    },
    "executionInfo": {
     "elapsed": 11088,
     "status": "ok",
     "timestamp": 1646703473395,
     "user": {
      "displayName": "dc w",
      "photoUrl": "https://lh3.googleusercontent.com/a/default-user=s64",
      "userId": "02032790542712423852"
     },
     "user_tz": -540
    },
    "id": "AN1Wmrd4dnU1",
    "outputId": "fcf8381b-5324-480f-a7fe-34dc1e335b49"
   },
   "outputs": [
    {
     "name": "stdout",
     "output_type": "stream",
     "text": [
      "=== END ===\n",
      "[(377, 400), (584, 400), (433, 400), (356, 400), (564, 400), (533, 400), (537, 400), (533, 400), (510, 400), (599, 400)]\n",
      "[(300, 300), (300, 300), (300, 300), (300, 300), (300, 300), (300, 300), (300, 300), (300, 300), (300, 300), (300, 300)]\n"
     ]
    },
    {
     "data": {
      "text/html": [
       "<div>\n",
       "<style scoped>\n",
       "    .dataframe tbody tr th:only-of-type {\n",
       "        vertical-align: middle;\n",
       "    }\n",
       "\n",
       "    .dataframe tbody tr th {\n",
       "        vertical-align: top;\n",
       "    }\n",
       "\n",
       "    .dataframe thead th {\n",
       "        text-align: right;\n",
       "    }\n",
       "</style>\n",
       "<table border=\"1\" class=\"dataframe\">\n",
       "  <thead>\n",
       "    <tr style=\"text-align: right;\">\n",
       "      <th></th>\n",
       "      <th>가로</th>\n",
       "      <th>세로</th>\n",
       "    </tr>\n",
       "  </thead>\n",
       "  <tbody>\n",
       "    <tr>\n",
       "      <th>0</th>\n",
       "      <td>300</td>\n",
       "      <td>300</td>\n",
       "    </tr>\n",
       "    <tr>\n",
       "      <th>1</th>\n",
       "      <td>300</td>\n",
       "      <td>300</td>\n",
       "    </tr>\n",
       "    <tr>\n",
       "      <th>2</th>\n",
       "      <td>300</td>\n",
       "      <td>300</td>\n",
       "    </tr>\n",
       "    <tr>\n",
       "      <th>3</th>\n",
       "      <td>300</td>\n",
       "      <td>300</td>\n",
       "    </tr>\n",
       "    <tr>\n",
       "      <th>4</th>\n",
       "      <td>300</td>\n",
       "      <td>300</td>\n",
       "    </tr>\n",
       "    <tr>\n",
       "      <th>5</th>\n",
       "      <td>300</td>\n",
       "      <td>300</td>\n",
       "    </tr>\n",
       "    <tr>\n",
       "      <th>6</th>\n",
       "      <td>300</td>\n",
       "      <td>300</td>\n",
       "    </tr>\n",
       "    <tr>\n",
       "      <th>7</th>\n",
       "      <td>300</td>\n",
       "      <td>300</td>\n",
       "    </tr>\n",
       "    <tr>\n",
       "      <th>8</th>\n",
       "      <td>300</td>\n",
       "      <td>300</td>\n",
       "    </tr>\n",
       "    <tr>\n",
       "      <th>9</th>\n",
       "      <td>300</td>\n",
       "      <td>300</td>\n",
       "    </tr>\n",
       "  </tbody>\n",
       "</table>\n",
       "</div>"
      ],
      "text/plain": [
       "    가로   세로\n",
       "0  300  300\n",
       "1  300  300\n",
       "2  300  300\n",
       "3  300  300\n",
       "4  300  300\n",
       "5  300  300\n",
       "6  300  300\n",
       "7  300  300\n",
       "8  300  300\n",
       "9  300  300"
      ]
     },
     "execution_count": 30,
     "metadata": {},
     "output_type": "execute_result"
    }
   ],
   "source": [
    "imgDogSize=[]    # 리스트 형식의 변수만 선언\n",
    "imgDogSize_300=[]\n",
    "for i in range(1,11):\n",
    "    tmp=Image.open(f\"./images/dog{i}.jpg\")\n",
    "    imgDogSize.append(tmp.size)    # imgSize 변수 끝에 데이터 추가\n",
    "\n",
    "    tmpResize= tmp.resize((300,300))   # 이미지 사이즈 변경\n",
    "    tmpResize.save(f\"./images/dog{i}_300.jpg\")    # 변경된 이미지 저장\n",
    "    tmp2=Image.open(f\"./images/dog{i}_300.jpg\")\n",
    "    imgDogSize_300.append(tmp2.size)\n",
    "\n",
    "print(\"=== END ===\")\n",
    "\n",
    "print(imgDogSize)\n",
    "print(imgDogSize_300)\n",
    "\n",
    "df3=pd.DataFrame(imgDogSize, columns=[\"가로\",\"세로\"])\n",
    "df4=pd.DataFrame(imgDogSize_300, columns=[\"가로\",\"세로\"])\n",
    "df4"
   ]
  },
  {
   "cell_type": "code",
   "execution_count": null,
   "metadata": {},
   "outputs": [],
   "source": []
  }
 ],
 "metadata": {
  "colab": {
   "authorship_tag": "ABX9TyM8TMrt3GdleYn4ihCq7zfM",
   "collapsed_sections": [],
   "mount_file_id": "1WfFBzaqzlfV8qtyfDA0YqGZOvv1AaoF-",
   "name": "2. 기본문법_반복문_for.ipynb",
   "provenance": []
  },
  "kernelspec": {
   "display_name": "Python 3 (ipykernel)",
   "language": "python",
   "name": "python3"
  },
  "language_info": {
   "codemirror_mode": {
    "name": "ipython",
    "version": 3
   },
   "file_extension": ".py",
   "mimetype": "text/x-python",
   "name": "python",
   "nbconvert_exporter": "python",
   "pygments_lexer": "ipython3",
   "version": "3.9.7"
  }
 },
 "nbformat": 4,
 "nbformat_minor": 1
}
