{
 "cells": [
  {
   "cell_type": "code",
   "execution_count": 1,
   "id": "288681c9",
   "metadata": {
    "id": "288681c9"
   },
   "outputs": [],
   "source": [
    "import pandas as pd\n",
    "import numpy as np\n",
    "import urllib3\n",
    "import json\n",
    "import sys"
   ]
  },
  {
   "cell_type": "markdown",
   "id": "8bcb7c30",
   "metadata": {
    "id": "8bcb7c30"
   },
   "source": [
    "언어 분석 기술 문어/구어 중 한가지만 선택해 사용"
   ]
  },
  {
   "cell_type": "code",
   "execution_count": 2,
   "id": "589c93f9",
   "metadata": {
    "id": "589c93f9"
   },
   "outputs": [],
   "source": [
    "## 언어 분석 기술(문어)\n",
    "openApiURL = \"http://aiopen.etri.re.kr:8000/WiseNLU\" \n",
    "\n",
    "## 언어 분석 기술(구어)\n",
    "openApiURL = \"http://aiopen.etri.re.kr:8000/WiseNLU_spoken\""
   ]
  },
  {
   "cell_type": "markdown",
   "id": "0c689989",
   "metadata": {
    "id": "0c689989"
   },
   "source": [
    "인증키 및 분석 코드 요청"
   ]
  },
  {
   "cell_type": "code",
   "execution_count": 3,
   "id": "4b579b92",
   "metadata": {
    "id": "4b579b92"
   },
   "outputs": [],
   "source": [
    "accessKey = \"fdf16766-d73d-48be-a4b3-c03276a6cfb2\"  # 발급받은 개인 API key \n",
    "analysisCode = \"ner\"    # 언어분석코드, ner=>객체명 인식"
   ]
  },
  {
   "cell_type": "markdown",
   "id": "1f89fd6e",
   "metadata": {
    "id": "1f89fd6e"
   },
   "source": [
    "사용자 텍스트 입력"
   ]
  },
  {
   "cell_type": "code",
   "execution_count": 4,
   "id": "34cd0ca0",
   "metadata": {
    "colab": {
     "base_uri": "https://localhost:8080/",
     "height": 244
    },
    "executionInfo": {
     "elapsed": 843,
     "status": "error",
     "timestamp": 1649827590484,
     "user": {
      "displayName": "서정동",
      "userId": "09574773154017110695"
     },
     "user_tz": -540
    },
    "id": "34cd0ca0",
    "outputId": "1bf2b852-e646-406c-8a69-e53d2f869591"
   },
   "outputs": [
    {
     "ename": "FileNotFoundError",
     "evalue": "[Errno 2] No such file or directory: '2022_신년사.txt'",
     "output_type": "error",
     "traceback": [
      "\u001b[0;31m---------------------------------------------------------------------------\u001b[0m",
      "\u001b[0;31mFileNotFoundError\u001b[0m                         Traceback (most recent call last)",
      "Input \u001b[0;32mIn [4]\u001b[0m, in \u001b[0;36m<cell line: 1>\u001b[0;34m()\u001b[0m\n\u001b[0;32m----> 1\u001b[0m f\u001b[38;5;241m=\u001b[39m\u001b[38;5;28;43mopen\u001b[39;49m\u001b[43m(\u001b[49m\u001b[38;5;124;43m\"\u001b[39;49m\u001b[38;5;124;43m2022_신년사.txt\u001b[39;49m\u001b[38;5;124;43m\"\u001b[39;49m\u001b[43m,\u001b[49m\u001b[43m \u001b[49m\u001b[43mencoding\u001b[49m\u001b[38;5;241;43m=\u001b[39;49m\u001b[38;5;124;43m'\u001b[39;49m\u001b[38;5;124;43mutf-8\u001b[39;49m\u001b[38;5;124;43m'\u001b[39;49m\u001b[43m)\u001b[49m\n\u001b[1;32m      3\u001b[0m text\u001b[38;5;241m=\u001b[39m\u001b[38;5;124m\"\u001b[39m\u001b[38;5;124m\"\u001b[39m\n\u001b[1;32m      4\u001b[0m txt\u001b[38;5;241m=\u001b[39mf\u001b[38;5;241m.\u001b[39mreadlines()\n",
      "\u001b[0;31mFileNotFoundError\u001b[0m: [Errno 2] No such file or directory: '2022_신년사.txt'"
     ]
    }
   ],
   "source": [
    "f=open(\"2022_신년사.txt\", encoding='utf-8')\n",
    "\n",
    "text=\"\"\n",
    "txt=f.readlines()\n",
    "for t in txt:\n",
    "    if len(t)!=1:\n",
    "        text += t\n",
    "f.close\n",
    "\n",
    "#print(text)"
   ]
  },
  {
   "cell_type": "markdown",
   "id": "69f2be82",
   "metadata": {
    "id": "69f2be82"
   },
   "source": [
    "키 인증 및 테스트를 이용한 개체명 요청"
   ]
  },
  {
   "cell_type": "code",
   "execution_count": null,
   "id": "b38ace80",
   "metadata": {
    "id": "b38ace80"
   },
   "outputs": [],
   "source": [
    "requestJson = {\n",
    "    \"access_key\": accessKey,\n",
    "    \"argument\": {\n",
    "        \"text\": text,\n",
    "        \"analysis_code\": analysisCode\n",
    "    }\n",
    "}"
   ]
  },
  {
   "cell_type": "markdown",
   "id": "e8899faa",
   "metadata": {
    "id": "e8899faa"
   },
   "source": [
    "urllib3 모듈을 이용한 분석 결과 요청"
   ]
  },
  {
   "cell_type": "code",
   "execution_count": null,
   "id": "3bd98b8d",
   "metadata": {
    "id": "3bd98b8d"
   },
   "outputs": [],
   "source": [
    "http = urllib3.PoolManager()\n",
    "response = http.request(\"POST\", openApiURL,\n",
    "    headers={\"Content-Type\": \"application/json; charset=UTF-8\"},\n",
    "    body=json.dumps(requestJson)\n",
    ")"
   ]
  },
  {
   "cell_type": "markdown",
   "id": "54709cb7",
   "metadata": {
    "id": "54709cb7"
   },
   "source": [
    "결과 확인\n",
    "- 언어 분석 API 레퍼런스: https://aiopen.etri.re.kr/guide_wiseNLU.php 참조"
   ]
  },
  {
   "cell_type": "code",
   "execution_count": null,
   "id": "07a5524b",
   "metadata": {
    "id": "07a5524b"
   },
   "outputs": [],
   "source": [
    "## 요청 결과 확인\n",
    "print(f'[responseCode] {response.status}')"
   ]
  },
  {
   "cell_type": "code",
   "execution_count": null,
   "id": "f85b83db",
   "metadata": {
    "id": "f85b83db"
   },
   "outputs": [],
   "source": [
    "## 전체 결과 내용 확인\n",
    "#json.loads(response.data)"
   ]
  },
  {
   "cell_type": "code",
   "execution_count": null,
   "id": "475dd3f0",
   "metadata": {
    "id": "475dd3f0",
    "outputId": "f3ffec08-b1f0-4a25-eb92-f57826ae42f7",
    "scrolled": true
   },
   "outputs": [
    {
     "data": {
      "text/html": [
       "<div>\n",
       "<style scoped>\n",
       "    .dataframe tbody tr th:only-of-type {\n",
       "        vertical-align: middle;\n",
       "    }\n",
       "\n",
       "    .dataframe tbody tr th {\n",
       "        vertical-align: top;\n",
       "    }\n",
       "\n",
       "    .dataframe thead th {\n",
       "        text-align: right;\n",
       "    }\n",
       "</style>\n",
       "<table border=\"1\" class=\"dataframe\">\n",
       "  <thead>\n",
       "    <tr style=\"text-align: right;\">\n",
       "      <th></th>\n",
       "      <th>id</th>\n",
       "      <th>text</th>\n",
       "      <th>type</th>\n",
       "      <th>begin</th>\n",
       "      <th>end</th>\n",
       "      <th>weight</th>\n",
       "      <th>common_noun</th>\n",
       "    </tr>\n",
       "  </thead>\n",
       "  <tbody>\n",
       "    <tr>\n",
       "      <th>0</th>\n",
       "      <td>0.0</td>\n",
       "      <td>국민</td>\n",
       "      <td>CV_POSITION</td>\n",
       "      <td>3.0</td>\n",
       "      <td>3.0</td>\n",
       "      <td>0.183493</td>\n",
       "      <td>0.0</td>\n",
       "    </tr>\n",
       "    <tr>\n",
       "      <th>1</th>\n",
       "      <td>0.0</td>\n",
       "      <td>2022년</td>\n",
       "      <td>DT_YEAR</td>\n",
       "      <td>0.0</td>\n",
       "      <td>1.0</td>\n",
       "      <td>0.586978</td>\n",
       "      <td>0.0</td>\n",
       "    </tr>\n",
       "    <tr>\n",
       "      <th>2</th>\n",
       "      <td>1.0</td>\n",
       "      <td>새해</td>\n",
       "      <td>DT_YEAR</td>\n",
       "      <td>3.0</td>\n",
       "      <td>3.0</td>\n",
       "      <td>0.389230</td>\n",
       "      <td>0.0</td>\n",
       "    </tr>\n",
       "    <tr>\n",
       "      <th>3</th>\n",
       "      <td>0.0</td>\n",
       "      <td>세계사</td>\n",
       "      <td>FD_SOCIAL_SCIENCE</td>\n",
       "      <td>3.0</td>\n",
       "      <td>4.0</td>\n",
       "      <td>1.000000</td>\n",
       "      <td>0.0</td>\n",
       "    </tr>\n",
       "    <tr>\n",
       "      <th>4</th>\n",
       "      <td>1.0</td>\n",
       "      <td>새해</td>\n",
       "      <td>DT_YEAR</td>\n",
       "      <td>15.0</td>\n",
       "      <td>15.0</td>\n",
       "      <td>0.325508</td>\n",
       "      <td>0.0</td>\n",
       "    </tr>\n",
       "    <tr>\n",
       "      <th>...</th>\n",
       "      <td>...</td>\n",
       "      <td>...</td>\n",
       "      <td>...</td>\n",
       "      <td>...</td>\n",
       "      <td>...</td>\n",
       "      <td>...</td>\n",
       "      <td>...</td>\n",
       "    </tr>\n",
       "    <tr>\n",
       "      <th>153</th>\n",
       "      <td>3.0</td>\n",
       "      <td>대한민국</td>\n",
       "      <td>LCP_COUNTRY</td>\n",
       "      <td>22.0</td>\n",
       "      <td>22.0</td>\n",
       "      <td>0.263815</td>\n",
       "      <td>0.0</td>\n",
       "    </tr>\n",
       "    <tr>\n",
       "      <th>154</th>\n",
       "      <td>0.0</td>\n",
       "      <td>정부</td>\n",
       "      <td>OGG_POLITICS</td>\n",
       "      <td>1.0</td>\n",
       "      <td>1.0</td>\n",
       "      <td>0.206463</td>\n",
       "      <td>0.0</td>\n",
       "    </tr>\n",
       "    <tr>\n",
       "      <th>155</th>\n",
       "      <td>1.0</td>\n",
       "      <td>4개월</td>\n",
       "      <td>DT_DURATION</td>\n",
       "      <td>5.0</td>\n",
       "      <td>6.0</td>\n",
       "      <td>0.457804</td>\n",
       "      <td>0.0</td>\n",
       "    </tr>\n",
       "    <tr>\n",
       "      <th>156</th>\n",
       "      <td>2.0</td>\n",
       "      <td>정부</td>\n",
       "      <td>OGG_POLITICS</td>\n",
       "      <td>20.0</td>\n",
       "      <td>20.0</td>\n",
       "      <td>0.383044</td>\n",
       "      <td>0.0</td>\n",
       "    </tr>\n",
       "    <tr>\n",
       "      <th>157</th>\n",
       "      <td>0.0</td>\n",
       "      <td>정부</td>\n",
       "      <td>OGG_POLITICS</td>\n",
       "      <td>16.0</td>\n",
       "      <td>16.0</td>\n",
       "      <td>0.195720</td>\n",
       "      <td>0.0</td>\n",
       "    </tr>\n",
       "  </tbody>\n",
       "</table>\n",
       "<p>158 rows × 7 columns</p>\n",
       "</div>"
      ],
      "text/plain": [
       "      id   text               type  begin   end    weight  common_noun\n",
       "0    0.0     국민        CV_POSITION    3.0   3.0  0.183493          0.0\n",
       "1    0.0  2022년            DT_YEAR    0.0   1.0  0.586978          0.0\n",
       "2    1.0     새해            DT_YEAR    3.0   3.0  0.389230          0.0\n",
       "3    0.0    세계사  FD_SOCIAL_SCIENCE    3.0   4.0  1.000000          0.0\n",
       "4    1.0     새해            DT_YEAR   15.0  15.0  0.325508          0.0\n",
       "..   ...    ...                ...    ...   ...       ...          ...\n",
       "153  3.0   대한민국        LCP_COUNTRY   22.0  22.0  0.263815          0.0\n",
       "154  0.0     정부       OGG_POLITICS    1.0   1.0  0.206463          0.0\n",
       "155  1.0    4개월        DT_DURATION    5.0   6.0  0.457804          0.0\n",
       "156  2.0     정부       OGG_POLITICS   20.0  20.0  0.383044          0.0\n",
       "157  0.0     정부       OGG_POLITICS   16.0  16.0  0.195720          0.0\n",
       "\n",
       "[158 rows x 7 columns]"
      ]
     },
     "execution_count": 16,
     "metadata": {},
     "output_type": "execute_result"
    }
   ],
   "source": [
    "### 객체명에 해당하는 값 가져오기\n",
    "json_data=json.loads(response.data)\n",
    "\n",
    "prn_data=[]\n",
    "for obj in json_data[\"return_object\"][\"sentence\"]:\n",
    "    for dic in obj[\"NE\"]:\n",
    "        prn_data.append(dic)\n",
    "        \n",
    "df1=pd.DataFrame(prn_data)\n",
    "df1"
   ]
  },
  {
   "cell_type": "code",
   "execution_count": null,
   "id": "f606e9ae",
   "metadata": {
    "id": "f606e9ae",
    "outputId": "df5c65df-2e6e-4bc1-8b7c-9ad72211366d"
   },
   "outputs": [
    {
     "data": {
      "text/html": [
       "<div>\n",
       "<style scoped>\n",
       "    .dataframe tbody tr th:only-of-type {\n",
       "        vertical-align: middle;\n",
       "    }\n",
       "\n",
       "    .dataframe tbody tr th {\n",
       "        vertical-align: top;\n",
       "    }\n",
       "\n",
       "    .dataframe thead th {\n",
       "        text-align: right;\n",
       "    }\n",
       "</style>\n",
       "<table border=\"1\" class=\"dataframe\">\n",
       "  <thead>\n",
       "    <tr style=\"text-align: right;\">\n",
       "      <th></th>\n",
       "      <th>id</th>\n",
       "      <th>lemma</th>\n",
       "      <th>type</th>\n",
       "      <th>position</th>\n",
       "      <th>weight</th>\n",
       "    </tr>\n",
       "  </thead>\n",
       "  <tbody>\n",
       "    <tr>\n",
       "      <th>0</th>\n",
       "      <td>0.0</td>\n",
       "      <td>존경</td>\n",
       "      <td>NNG</td>\n",
       "      <td>0.0</td>\n",
       "      <td>0.047732</td>\n",
       "    </tr>\n",
       "    <tr>\n",
       "      <th>1</th>\n",
       "      <td>1.0</td>\n",
       "      <td>하</td>\n",
       "      <td>XSV</td>\n",
       "      <td>6.0</td>\n",
       "      <td>0.047732</td>\n",
       "    </tr>\n",
       "    <tr>\n",
       "      <th>2</th>\n",
       "      <td>2.0</td>\n",
       "      <td>는</td>\n",
       "      <td>ETM</td>\n",
       "      <td>9.0</td>\n",
       "      <td>0.066615</td>\n",
       "    </tr>\n",
       "    <tr>\n",
       "      <th>3</th>\n",
       "      <td>3.0</td>\n",
       "      <td>국민</td>\n",
       "      <td>NNG</td>\n",
       "      <td>13.0</td>\n",
       "      <td>0.120348</td>\n",
       "    </tr>\n",
       "    <tr>\n",
       "      <th>4</th>\n",
       "      <td>4.0</td>\n",
       "      <td>여러분</td>\n",
       "      <td>NP</td>\n",
       "      <td>20.0</td>\n",
       "      <td>0.059449</td>\n",
       "    </tr>\n",
       "    <tr>\n",
       "      <th>...</th>\n",
       "      <td>...</td>\n",
       "      <td>...</td>\n",
       "      <td>...</td>\n",
       "      <td>...</td>\n",
       "      <td>...</td>\n",
       "    </tr>\n",
       "    <tr>\n",
       "      <th>3082</th>\n",
       "      <td>7.0</td>\n",
       "      <td>.</td>\n",
       "      <td>SF</td>\n",
       "      <td>14578.0</td>\n",
       "      <td>1.000000</td>\n",
       "    </tr>\n",
       "    <tr>\n",
       "      <th>3083</th>\n",
       "      <td>0.0</td>\n",
       "      <td>감사</td>\n",
       "      <td>NNG</td>\n",
       "      <td>14580.0</td>\n",
       "      <td>0.061609</td>\n",
       "    </tr>\n",
       "    <tr>\n",
       "      <th>3084</th>\n",
       "      <td>1.0</td>\n",
       "      <td>하</td>\n",
       "      <td>XSV</td>\n",
       "      <td>14586.0</td>\n",
       "      <td>0.036785</td>\n",
       "    </tr>\n",
       "    <tr>\n",
       "      <th>3085</th>\n",
       "      <td>2.0</td>\n",
       "      <td>ㅂ니다</td>\n",
       "      <td>EF</td>\n",
       "      <td>14586.0</td>\n",
       "      <td>0.067883</td>\n",
       "    </tr>\n",
       "    <tr>\n",
       "      <th>3086</th>\n",
       "      <td>3.0</td>\n",
       "      <td>.</td>\n",
       "      <td>SF</td>\n",
       "      <td>14595.0</td>\n",
       "      <td>1.000000</td>\n",
       "    </tr>\n",
       "  </tbody>\n",
       "</table>\n",
       "<p>3087 rows × 5 columns</p>\n",
       "</div>"
      ],
      "text/plain": [
       "       id lemma type  position    weight\n",
       "0     0.0    존경  NNG       0.0  0.047732\n",
       "1     1.0     하  XSV       6.0  0.047732\n",
       "2     2.0     는  ETM       9.0  0.066615\n",
       "3     3.0    국민  NNG      13.0  0.120348\n",
       "4     4.0   여러분   NP      20.0  0.059449\n",
       "...   ...   ...  ...       ...       ...\n",
       "3082  7.0     .   SF   14578.0  1.000000\n",
       "3083  0.0    감사  NNG   14580.0  0.061609\n",
       "3084  1.0     하  XSV   14586.0  0.036785\n",
       "3085  2.0   ㅂ니다   EF   14586.0  0.067883\n",
       "3086  3.0     .   SF   14595.0  1.000000\n",
       "\n",
       "[3087 rows x 5 columns]"
      ]
     },
     "execution_count": 17,
     "metadata": {},
     "output_type": "execute_result"
    }
   ],
   "source": [
    "### 형태소에 해당하는 값 가져오기\n",
    "json_data=json.loads(response.data)\n",
    "\n",
    "prn_data=[]\n",
    "\n",
    "for obj in json_data[\"return_object\"][\"sentence\"]:\n",
    "    for dic in obj[\"morp\"]:\n",
    "        prn_data.append(dic)\n",
    "        \n",
    "df1=pd.DataFrame(prn_data)\n",
    "df1"
   ]
  },
  {
   "cell_type": "code",
   "execution_count": null,
   "id": "91ed24f7",
   "metadata": {
    "id": "91ed24f7",
    "outputId": "f422ba55-c422-42c7-fd96-c92e1b273f90",
    "scrolled": false
   },
   "outputs": [
    {
     "data": {
      "text/plain": [
       "[{'id': 0.0, 'text': '존경하는', 'type': '', 'begin': 0.0, 'end': 2.0},\n",
       " {'id': 1.0, 'text': '국민', 'type': '', 'begin': 3.0, 'end': 3.0},\n",
       " {'id': 2.0, 'text': '여러분,', 'type': '', 'begin': 4.0, 'end': 5.0},\n",
       " {'id': 0.0, 'text': '2022년,', 'type': '', 'begin': 0.0, 'end': 2.0},\n",
       " {'id': 1.0, 'text': '새해의', 'type': '', 'begin': 3.0, 'end': 4.0}]"
      ]
     },
     "execution_count": 20,
     "metadata": {},
     "output_type": "execute_result"
    }
   ],
   "source": [
    "### 워드에 해당하는 값 가져오기\n",
    "json_data=json.loads(response.data)\n",
    "\n",
    "prn_data=[]\n",
    "\n",
    "for obj in json_data[\"return_object\"][\"sentence\"]:\n",
    "    for dic in obj[\"word\"]:\n",
    "        prn_data.append(dic)\n",
    "        \n",
    "prn_data[:5]"
   ]
  },
  {
   "cell_type": "code",
   "execution_count": null,
   "id": "028f12aa",
   "metadata": {
    "id": "028f12aa"
   },
   "outputs": [],
   "source": []
  }
 ],
 "metadata": {
  "colab": {
   "name": "5. AI 허브 API_DATA를 이용한  언어처리(언어분석).ipynb",
   "provenance": []
  },
  "kernelspec": {
   "display_name": "Python 3 (ipykernel)",
   "language": "python",
   "name": "python3"
  },
  "language_info": {
   "codemirror_mode": {
    "name": "ipython",
    "version": 3
   },
   "file_extension": ".py",
   "mimetype": "text/x-python",
   "name": "python",
   "nbconvert_exporter": "python",
   "pygments_lexer": "ipython3",
   "version": "3.9.7"
  }
 },
 "nbformat": 4,
 "nbformat_minor": 5
}
