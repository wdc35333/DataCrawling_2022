{
 "cells": [
  {
   "cell_type": "code",
   "execution_count": 1,
   "id": "fe5ad6e8",
   "metadata": {},
   "outputs": [
    {
     "name": "stdout",
     "output_type": "stream",
     "text": [
      "조회 일자 입력: (예:20210101)20210101\n"
     ]
    },
    {
     "data": {
      "text/html": [
       "<div>\n",
       "<style scoped>\n",
       "    .dataframe tbody tr th:only-of-type {\n",
       "        vertical-align: middle;\n",
       "    }\n",
       "\n",
       "    .dataframe tbody tr th {\n",
       "        vertical-align: top;\n",
       "    }\n",
       "\n",
       "    .dataframe thead th {\n",
       "        text-align: right;\n",
       "    }\n",
       "</style>\n",
       "<table border=\"1\" class=\"dataframe\">\n",
       "  <thead>\n",
       "    <tr style=\"text-align: right;\">\n",
       "      <th></th>\n",
       "      <th>사용일자</th>\n",
       "      <th>호선명</th>\n",
       "      <th>역명</th>\n",
       "      <th>승차인원</th>\n",
       "      <th>하차인원</th>\n",
       "    </tr>\n",
       "  </thead>\n",
       "  <tbody>\n",
       "    <tr>\n",
       "      <th>0</th>\n",
       "      <td>20210101</td>\n",
       "      <td>1호선</td>\n",
       "      <td>서울역</td>\n",
       "      <td>9260</td>\n",
       "      <td>9858</td>\n",
       "    </tr>\n",
       "    <tr>\n",
       "      <th>1</th>\n",
       "      <td>20210101</td>\n",
       "      <td>1호선</td>\n",
       "      <td>동묘앞</td>\n",
       "      <td>4153</td>\n",
       "      <td>4491</td>\n",
       "    </tr>\n",
       "  </tbody>\n",
       "</table>\n",
       "</div>"
      ],
      "text/plain": [
       "       사용일자  호선명   역명  승차인원  하차인원\n",
       "0  20210101  1호선  서울역  9260  9858\n",
       "1  20210101  1호선  동묘앞  4153  4491"
      ]
     },
     "execution_count": 1,
     "metadata": {},
     "output_type": "execute_result"
    }
   ],
   "source": [
    "import CardSubwayStatsNew as csn\n",
    "\n",
    "schdt = input(\"조회 일자 입력: (예:20210101)\")\n",
    "df1 = csn.swdataframe(schdt)\n",
    "\n",
    "df1.head(2)"
   ]
  },
  {
   "cell_type": "code",
   "execution_count": 4,
   "id": "d8ca51bd",
   "metadata": {},
   "outputs": [
    {
     "name": "stdout",
     "output_type": "stream",
     "text": [
      "조회 일자 입력: (예:202101)202101\n"
     ]
    },
    {
     "data": {
      "text/html": [
       "<div>\n",
       "<style scoped>\n",
       "    .dataframe tbody tr th:only-of-type {\n",
       "        vertical-align: middle;\n",
       "    }\n",
       "\n",
       "    .dataframe tbody tr th {\n",
       "        vertical-align: top;\n",
       "    }\n",
       "\n",
       "    .dataframe thead th {\n",
       "        text-align: right;\n",
       "    }\n",
       "</style>\n",
       "<table border=\"1\" class=\"dataframe\">\n",
       "  <thead>\n",
       "    <tr style=\"text-align: right;\">\n",
       "      <th></th>\n",
       "      <th>사용월</th>\n",
       "      <th>호선명</th>\n",
       "      <th>지하철역</th>\n",
       "      <th>유임승차인원</th>\n",
       "      <th>무임승차인원</th>\n",
       "      <th>유임하차인원</th>\n",
       "      <th>무임하차인원</th>\n",
       "    </tr>\n",
       "  </thead>\n",
       "  <tbody>\n",
       "    <tr>\n",
       "      <th>0</th>\n",
       "      <td>202101</td>\n",
       "      <td>1호선</td>\n",
       "      <td>신설동</td>\n",
       "      <td>219283</td>\n",
       "      <td>82995</td>\n",
       "      <td>218343</td>\n",
       "      <td>79139</td>\n",
       "    </tr>\n",
       "    <tr>\n",
       "      <th>1</th>\n",
       "      <td>202101</td>\n",
       "      <td>1호선</td>\n",
       "      <td>시청</td>\n",
       "      <td>371942</td>\n",
       "      <td>46231</td>\n",
       "      <td>366139</td>\n",
       "      <td>43433</td>\n",
       "    </tr>\n",
       "    <tr>\n",
       "      <th>2</th>\n",
       "      <td>202101</td>\n",
       "      <td>1호선</td>\n",
       "      <td>청량리(서울시립대입구)</td>\n",
       "      <td>266539</td>\n",
       "      <td>205089</td>\n",
       "      <td>264050</td>\n",
       "      <td>206452</td>\n",
       "    </tr>\n",
       "    <tr>\n",
       "      <th>3</th>\n",
       "      <td>202101</td>\n",
       "      <td>1호선</td>\n",
       "      <td>종각</td>\n",
       "      <td>598363</td>\n",
       "      <td>84544</td>\n",
       "      <td>567563</td>\n",
       "      <td>78565</td>\n",
       "    </tr>\n",
       "    <tr>\n",
       "      <th>4</th>\n",
       "      <td>202101</td>\n",
       "      <td>1호선</td>\n",
       "      <td>동묘앞</td>\n",
       "      <td>98645</td>\n",
       "      <td>113919</td>\n",
       "      <td>105308</td>\n",
       "      <td>115644</td>\n",
       "    </tr>\n",
       "  </tbody>\n",
       "</table>\n",
       "</div>"
      ],
      "text/plain": [
       "      사용월  호선명          지하철역  유임승차인원  무임승차인원  유임하차인원  무임하차인원\n",
       "0  202101  1호선           신설동  219283   82995  218343   79139\n",
       "1  202101  1호선            시청  371942   46231  366139   43433\n",
       "2  202101  1호선  청량리(서울시립대입구)  266539  205089  264050  206452\n",
       "3  202101  1호선            종각  598363   84544  567563   78565\n",
       "4  202101  1호선           동묘앞   98645  113919  105308  115644"
      ]
     },
     "execution_count": 4,
     "metadata": {},
     "output_type": "execute_result"
    }
   ],
   "source": [
    "import CardSubwayPayFree as cpf\n",
    "schdt = input(\"조회 일자 입력: (예:202101)\")\n",
    "df2 = cpf.swdataframe(schdt)\n",
    "\n",
    "df2.head()"
   ]
  },
  {
   "cell_type": "code",
   "execution_count": null,
   "id": "97e71aaa",
   "metadata": {},
   "outputs": [],
   "source": []
  }
 ],
 "metadata": {
  "kernelspec": {
   "display_name": "Python 3 (ipykernel)",
   "language": "python",
   "name": "python3"
  },
  "language_info": {
   "codemirror_mode": {
    "name": "ipython",
    "version": 3
   },
   "file_extension": ".py",
   "mimetype": "text/x-python",
   "name": "python",
   "nbconvert_exporter": "python",
   "pygments_lexer": "ipython3",
   "version": "3.9.7"
  }
 },
 "nbformat": 4,
 "nbformat_minor": 5
}
