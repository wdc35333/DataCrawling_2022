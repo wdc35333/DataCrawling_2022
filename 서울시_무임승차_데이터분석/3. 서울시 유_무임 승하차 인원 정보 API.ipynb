{
 "cells": [
  {
   "cell_type": "code",
   "execution_count": 5,
   "id": "a8d2428b",
   "metadata": {},
   "outputs": [
    {
     "name": "stdout",
     "output_type": "stream",
     "text": [
      "조회일을 입력하세요.(예:202201):202201\n"
     ]
    }
   ],
   "source": [
    "import requests  \n",
    "from bs4 import BeautifulSoup as bs  \n",
    "import pandas as pd\n",
    "\n",
    "def request_url(urldate, endpage=5):   # url 생성 함수\n",
    "    user_key=\"554476647a736a6433367672586d51\"\n",
    "    url=\"http://openapi.seoul.go.kr:8088/\" + user_key\n",
    "    url=url + \"/xml/CardSubwayPayFree/1/\"+ str(endpage) # 출력 데이터 개수\n",
    "    url=url + \"/\" + str(urldate)    # 조회 날짜\n",
    "\n",
    "    subway_html=requests.get(url)  # 생성된 url을 기준으로 요청\n",
    "\n",
    "    if subway_html.status_code != 200: # 데이터를 받아오지 못했다면 종료\n",
    "        exit(\"데이터를 받지 못함\")\n",
    "    \n",
    "    return subway_html\n",
    "\n",
    "def swdataframe(schdate):   # 요청데이터를 이용해 DataFrame으로 제공 함수\n",
    "    subway_html=request_url(schdate)\n",
    "    #print(subway_html.text)\n",
    "    soup=bs(subway_html.text, \"html.parser\")\n",
    "\n",
    "    endpage=soup.find('list_total_count').get_text()\n",
    "\n",
    "    subway_html=request_url(schdate, endpage)\n",
    "    soup=bs(subway_html.text, \"html.parser\")\n",
    "\n",
    "    rows=soup.find_all(\"row\")\n",
    "\n",
    "    sw=[]\n",
    "    for row in rows:\n",
    "        use_dt=row.find('use_mon').get_text()\n",
    "        line_num=row.find('line_num').get_text()\n",
    "        sub_sta=row.find('sub_sta_nm').get_text()\n",
    "        pay_ride=row.find('pay_ride_num').get_text()\n",
    "        free_ride=row.find('free_ride_num').get_text()\n",
    "        pay_alight=row.find('pay_alight_num').get_text()\n",
    "        free_alight=row.find('free_alight_num').get_text()\n",
    "\n",
    "        sw.append([use_dt, line_num, sub_sta, pay_ride, free_ride, pay_alight, free_alight])\n",
    "\n",
    "    swdf=pd.DataFrame(sw, columns=[\"사용월\", \"호선명\", \"지하철역\", \"유임승차인원\", \"무임승차인원\", \"유임하차인원\", \"무임하차인원\"])\n",
    "    return swdf\n",
    "\n",
    "# 현재 위치에서 실행시에만 아래 코드가 실행\n",
    "# 즉 다른 파일에서 호출하면 실행 안됨\n",
    "\n",
    "if __name__ == \"__main__\":  \n",
    "    schdate=input(\"조회일을 입력하세요.(예:202201):\")\n",
    "    df1=swdataframe(schdate)\n",
    "    df1.head()\n"
   ]
  },
  {
   "cell_type": "code",
   "execution_count": null,
   "id": "8c18a579",
   "metadata": {},
   "outputs": [],
   "source": []
  }
 ],
 "metadata": {
  "kernelspec": {
   "display_name": "Python 3 (ipykernel)",
   "language": "python",
   "name": "python3"
  },
  "language_info": {
   "codemirror_mode": {
    "name": "ipython",
    "version": 3
   },
   "file_extension": ".py",
   "mimetype": "text/x-python",
   "name": "python",
   "nbconvert_exporter": "python",
   "pygments_lexer": "ipython3",
   "version": "3.9.7"
  }
 },
 "nbformat": 4,
 "nbformat_minor": 5
}
