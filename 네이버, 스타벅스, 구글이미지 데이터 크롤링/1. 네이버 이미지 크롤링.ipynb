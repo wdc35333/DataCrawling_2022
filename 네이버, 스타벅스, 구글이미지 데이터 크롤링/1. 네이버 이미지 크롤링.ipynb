{
 "cells": [
  {
   "cell_type": "markdown",
   "id": "cc45832c",
   "metadata": {},
   "source": [
    "## 네이버 이미지 크롤링\n",
    "- selenium을 이용해 이미 크롤링\n",
    "- 폴더 생성/기본폴더, 파일명에 따른 다른 이름 저장"
   ]
  },
  {
   "cell_type": "code",
   "execution_count": 2,
   "id": "bd74939f",
   "metadata": {},
   "outputs": [],
   "source": [
    "# 필요한 모듈(라이브러리 연렬)\n",
    "from selenium.webdriver import Chrome\n",
    "from selenium.webdriver.common.by import By\n",
    "from urllib import request    # 이미지 다운로드에 사용\n",
    "from bs4 import BeautifulSoup as bs\n",
    "from tqdm import tqdm\n",
    "import time\n",
    "import os"
   ]
  },
  {
   "cell_type": "markdown",
   "id": "e2d6ed86",
   "metadata": {},
   "source": [
    "#### 준비\n",
    "1. 크롬 드라이브 실행\n",
    "2. 검색어를 이용한 url 생성\n",
    "3. 화면 스크롤 이동을 통한 추가 이미지 생성"
   ]
  },
  {
   "cell_type": "code",
   "execution_count": 3,
   "id": "c46b69cd",
   "metadata": {},
   "outputs": [
    {
     "name": "stdout",
     "output_type": "stream",
     "text": [
      "이미지 검색어 입력: 게임\n",
      "스크롤 다운 횟수 입력(최대:6):6\n"
     ]
    }
   ],
   "source": [
    "browser = Chrome('./chromedriver')\n",
    "time.sleep(1)\n",
    "\n",
    "# 키워드 입력 및 url 생성\n",
    "keyword=input(\"이미지 검색어 입력: \")\n",
    "\n",
    "url=\"https://search.naver.com/search.naver?where=image&sm=tab_jum&query=\"\n",
    "url += keyword  # url = url + keyword\n",
    "\n",
    "# url을 이용한 페이지 이동\n",
    "browser.get(url)\n",
    "\n",
    "#스크로 이동 횟수 정의\n",
    "count_down=int(input(\"스크롤 다운 횟수 입력(최대:6):\"))\n",
    "\n",
    "# 사용자가 요구한 스크롤 다운 횟수 확인(최대 6회)\n",
    "if count_down > 6:\n",
    "    count_down = 6\n",
    "\n",
    "\n",
    "# windows.scrollTo(0, Height) : 스크롤을 아래쪽으로 이동\n",
    "# Height 대신 document.body.scrollHeight를 입력하면 페이지 끝으로 이동\n",
    "\n",
    "for i in range(count_down):\n",
    "    browser.execute_script(\"window.scrollTo(0, document.body.scrollHeight)\")\n",
    "    time.sleep(1)"
   ]
  },
  {
   "cell_type": "markdown",
   "id": "2fd80e34",
   "metadata": {},
   "source": [
    "#### 화면에서 이미지 추출하기\n",
    "1. 드라이브의 소스코드 받아오기\n",
    "2. 이미지가 있는 태그 찾기\n",
    "3. 태그에서 이미지 소스(\"src\") 받아오기\n",
    "4. src 주소를 이용해 이미지 다운로드 하기"
   ]
  },
  {
   "cell_type": "code",
   "execution_count": 4,
   "id": "32425287",
   "metadata": {},
   "outputs": [],
   "source": [
    "# 드라이브 소스코드 가져오기\n",
    "html = browser.page_source\n",
    "soup = bs(html, \"html.parser\")"
   ]
  },
  {
   "cell_type": "markdown",
   "id": "bc98f8a6",
   "metadata": {},
   "source": [
    "#### Image lazy loading\n",
    "- 현재 화면에 필요한 이미지만 불러오는 기능\n",
    "- 구글에서 검색해 보세요"
   ]
  },
  {
   "cell_type": "code",
   "execution_count": 5,
   "id": "84463f55",
   "metadata": {},
   "outputs": [
    {
     "name": "stdout",
     "output_type": "stream",
     "text": [
      "https://search.pstatic.net/common/?src=http%3A%2F%2Fblogfiles.naver.net%2FMjAyMjA0MDhfMTEx%2FMDAxNjQ5NDAxODk4MjM3.7aJsF9YBa7fwnNBN64dmH5hhBS84gn0QEJF-dRBj298g.qbtyYBZXI0rJs2_6dgX2eUPcTm9GDy1vntoeDw8sRQkg.JPEG.zziani42%2FScreenshot%25A3%25DF20220408%25A3%25AD161115%25A3%25DFPenguin_Isle.jpg&type=ofullfill340_600_png\n"
     ]
    }
   ],
   "source": [
    "# 이미지 대표 태그 찾아 tag_img 변수에 저장(tag_img => 리스트형 데이터)\n",
    "tag_img = soup.find_all(\"div\", class_=\"thumb\")\n",
    "\n",
    "img=tag_img[4].find(\"img\", class_=\"_image _listImage\")\n",
    "\n",
    "if img.get(\"data-lazy-src\") == None:\n",
    "    print(img[\"src\"])\n",
    "else:\n",
    "    print(img.get(\"data-lazy-src\"))"
   ]
  },
  {
   "cell_type": "code",
   "execution_count": 6,
   "id": "159fb4ac",
   "metadata": {},
   "outputs": [],
   "source": [
    "# 태그에서 이미지 소스(\"src\") 받아오기\n",
    "tag_src=[]\n",
    "for tag in tag_img:\n",
    "    img=tag.find(\"img\", class_=\"_image _listImage\")\n",
    "    if img.get(\"data-lazy-src\") == None:\n",
    "        tag_src.append(tag.find(\"img\")['src'])\n",
    "    else:\n",
    "        tag_src.append(img.get(\"data-lazy-src\"))\n",
    "        \n",
    "\n",
    "#tag_src=[tag.find(\"img\")['src'] for tag in tag_img]\n",
    "#print(len(tag_src))\n",
    "browser.close()"
   ]
  },
  {
   "cell_type": "code",
   "execution_count": 7,
   "id": "9b608172",
   "metadata": {},
   "outputs": [
    {
     "data": {
      "text/plain": [
       "('./게임.jpg', <http.client.HTTPMessage at 0x7fe0b926e6a0>)"
      ]
     },
     "execution_count": 7,
     "metadata": {},
     "output_type": "execute_result"
    }
   ],
   "source": [
    "# 이미지 src를 이용해 이미지 데이터 다운로드 후 저장하기\n",
    "img_name = \"./\" + keyword + \".jpg\"\n",
    "\n",
    "from urllib import request\n",
    "\n",
    "# 웹상의 이미지를 다운로드후 저장\n",
    "# urllib.request.urlretrieve(대상 src_url, \"저장경로와 파일명\") \n",
    "request.urlretrieve(tag_src[4], img_name) "
   ]
  },
  {
   "cell_type": "markdown",
   "id": "af93e3f7",
   "metadata": {},
   "source": [
    "#### 검색어를 이용해 폴더 생성후 전체 이미지 저장\n",
    "- os.makedirs(\"폴더 경로/생성 폴더명\") => 폴더 생성 명령어\n",
    "- 폴더가 없으면 생성후 저장\n",
    "- 기존에 폴더가 존재하며 기존 폴더이름 뒤에 1, 2, .. 와 같이 번호를 붙여 생성 \n"
   ]
  },
  {
   "cell_type": "code",
   "execution_count": 8,
   "id": "8e5109f7",
   "metadata": {},
   "outputs": [
    {
     "data": {
      "text/plain": [
       "['.DS_Store',\n",
       " 'imgs',\n",
       " '게임.jpg',\n",
       " '2_스타벅스_지역별_지점_분석.ipynb',\n",
       " '3. 구글이미지검색및저장.ipynb',\n",
       " '1. 네이버 이미지 크롤링.ipynb',\n",
       " '.ipynb_checkpoints',\n",
       " 'chromedriver',\n",
       " '2. 스타벅스 지역별 지점 분석.ipynb']"
      ]
     },
     "execution_count": 8,
     "metadata": {},
     "output_type": "execute_result"
    }
   ],
   "source": [
    "# 폴더 생성 실습\n",
    "\n",
    "os.makedirs(\"./imgs\")\n",
    "os.listdir('./')"
   ]
  },
  {
   "cell_type": "code",
   "execution_count": 9,
   "id": "4e6e223a",
   "metadata": {},
   "outputs": [
    {
     "data": {
      "text/plain": [
       "True"
      ]
     },
     "execution_count": 9,
     "metadata": {},
     "output_type": "execute_result"
    }
   ],
   "source": [
    "os.path.exists(\"./\")   # 폴더 존재여부 확인: 있으면 True 반환, 없으면 False 반환"
   ]
  },
  {
   "cell_type": "code",
   "execution_count": 10,
   "id": "9c35c2dc",
   "metadata": {},
   "outputs": [],
   "source": [
    "# 이미지를 저장할 대표 폴더 생성(images)\n",
    "fdir=\"./images\"\n",
    "\n",
    "if os.path.exists(fdir):  # 폴더가 있다면 뒤쪽에 \"/\"만 연결\n",
    "    fdir += \"/\"\n",
    "else:\n",
    "    os.makedirs(fdir)     # 폴더가 없다면 폴더 생성후 뒤쪽에 \"/\"만 연결\n",
    "    fdir += \"/\"\n",
    "\n",
    "# images 폴더에 검색 키워드를 이용해 폴더 생성후 저장\n",
    "# 키워드와 동일한 폴더가 있는 경우 뒤에 1씩 번호를 증가시기면서 폴더명 확인(없으면 생성)\n",
    "\n",
    "if not os.path.exists(fdir + keyword):\n",
    "    os.makedirs(fdir + keyword)     # 폴더가 없다면 폴더 생성후 뒤쪽에 \"/\"만 연결\n",
    "    fdir = fdir + keyword +  \"/\"\n",
    "else:\n",
    "    # 폴더가 있다면 새로운 폴더 생성(번호 증가)\n",
    "    num = 0\n",
    "    while True:\n",
    "        num += 1 #번호 1씩 증가\n",
    "        \n",
    "        #증가된 번호와 기존 폴더명을 연경해서 존재여부 확인\n",
    "        if not os.path.exists(fdir + keyword + str(num)):\n",
    "            # 없으면 폴더 생성후 while 종료\n",
    "            os.makedirs(fdir + keyword + str(num)) \n",
    "            fdir = fdir + keyword + str(num) + \"/\"\n",
    "            break        "
   ]
  },
  {
   "cell_type": "markdown",
   "id": "931093db",
   "metadata": {},
   "source": [
    "이미지 저장\n",
    "- 저장 이미지 이름 뒤에 번호 붙이기"
   ]
  },
  {
   "cell_type": "code",
   "execution_count": 11,
   "id": "e57882a7",
   "metadata": {},
   "outputs": [
    {
     "name": "stderr",
     "output_type": "stream",
     "text": [
      "100%|██████████| 447/447 [00:48<00:00,  9.23it/s]\n"
     ]
    }
   ],
   "source": [
    "num = 1\n",
    "for tag in tqdm(tag_src):\n",
    "    img_name = fdir + keyword + str(num) + \".jpg\"\n",
    "    request.urlretrieve(tag, img_name)\n",
    "    #time.sleep(1)\n",
    "    num += 1"
   ]
  },
  {
   "cell_type": "code",
   "execution_count": 12,
   "id": "ef9eee09",
   "metadata": {},
   "outputs": [
    {
     "data": {
      "text/plain": [
       "'https://search.pstatic.net/common/?src=http%3A%2F%2Fblogfiles.naver.net%2FMjAyMjA0MDhfMTEx%2FMDAxNjQ5NDAxODk4MjM3.7aJsF9YBa7fwnNBN64dmH5hhBS84gn0QEJF-dRBj298g.qbtyYBZXI0rJs2_6dgX2eUPcTm9GDy1vntoeDw8sRQkg.JPEG.zziani42%2FScreenshot%25A3%25DF20220408%25A3%25AD161115%25A3%25DFPenguin_Isle.jpg&type=ofullfill340_600_png'"
      ]
     },
     "execution_count": 12,
     "metadata": {},
     "output_type": "execute_result"
    }
   ],
   "source": [
    "tag_src[4]"
   ]
  },
  {
   "cell_type": "markdown",
   "id": "66d9740c",
   "metadata": {},
   "source": [
    "### [미션] 구글 이미지 크롤링\n",
    "- [기본] 스크롤바를 이용해 검색한 기본 이미지를 검색키워드 폴더 생성후 저장\n",
    "- [추가1] 스크롤바 이동후 [더보기] 버튼이 나오면 클릭후 나타난 모든 이미지 저장\n",
    "- [추가2] PIL 모듈을 이용해 이미지 크기를 250* 250 으로 변경해 저장하시오"
   ]
  },
  {
   "cell_type": "code",
   "execution_count": 13,
   "id": "33a13e55",
   "metadata": {},
   "outputs": [],
   "source": [
    "# 필요한 모듈(라이브러리 연렬)\n",
    "from selenium.webdriver import Chrome\n",
    "from selenium.webdriver.common.by import By\n",
    "from urllib import request    # 이미지 다운로드에 사용\n",
    "from bs4 import BeautifulSoup as bs\n",
    "from tqdm import tqdm\n",
    "import time\n",
    "import os"
   ]
  },
  {
   "cell_type": "code",
   "execution_count": 21,
   "id": "75a39227",
   "metadata": {},
   "outputs": [
    {
     "name": "stdout",
     "output_type": "stream",
     "text": [
      "이미지 검색어 입력: 닥스\n",
      "스크롤 다운 횟수 입력(최대:5):2\n"
     ]
    }
   ],
   "source": [
    "browser = Chrome('./chromedriver')\n",
    "time.sleep(1)\n",
    "\n",
    "# 키워드 입력 및 url 생성\n",
    "keyword=input(\"이미지 검색어 입력: \")\n",
    "\n",
    "url = \"https://www.google.co.kr/search?q=\"\n",
    "url = url + keyword + \"&client=safari&channel=iphone_bm&sxsrf=APq-WBu2v7deEz-U212XbPUR-4skfM_-fQ:1648455357742&source=lnms&tbm=isch&sa=X&ved=2ahUKEwjbwJrgruj2AhVysFYBHe_TALUQ_AUoAXoECAEQAw&biw=1680&bih=970&dpr=2\"\n",
    "\n",
    "\n",
    "# url을 이용한 페이지 이동\n",
    "browser.get(url)\n",
    "\n",
    "#스크로 이동 횟수 정의\n",
    "count_down=int(input(\"스크롤 다운 횟수 입력(최대:5):\"))\n",
    "time.sleep(2)\n",
    "# 사용자가 요구한 스크롤 다운 횟수 확인(최대 5회)\n",
    "if count_down > 5:\n",
    "    count_down = 5\n",
    "\n",
    "\n",
    "# windows.scrollTo(0, Height) : 스크롤을 아래쪽으로 이동\n",
    "# Height 대신 document.body.scrollHeight를 입력하면 페이지 끝으로 이동\n",
    "\n",
    "for i in range(count_down):\n",
    "    browser.execute_script(\"window.scrollTo(0, document.body.scrollHeight)\")\n",
    "    time.sleep(2)\n",
    "    \n",
    "if count_down == 5:\n",
    "    browser.find_element(By.XPATH,'//*[@id=\"islmp\"]/div/div/div/div[1]/div[2]/div[2]/input').click()\n",
    "    time.sleep(2)\n",
    "\n"
   ]
  },
  {
   "cell_type": "code",
   "execution_count": 22,
   "id": "aca501fb",
   "metadata": {},
   "outputs": [
    {
     "name": "stdout",
     "output_type": "stream",
     "text": [
      "data:image/jpeg;base64,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\n"
     ]
    }
   ],
   "source": [
    "# 드라이브 소스코드 가져오기\n",
    "html = browser.page_source\n",
    "soup = bs(html, \"html.parser\")\n",
    "\n",
    "\n",
    "# 이미지 대표 태그 찾아 tag_img 변수에 저장(tag_img => 리스트형 데이터)\n",
    "tag_img = soup.find_all(\"div\", class_=\"bRMDJf islir\")\n",
    "\n",
    "img=tag_img[0].find(\"img\", class_=\"rg_i Q4LuWd\")\n",
    "if img.get(\"data-lazy-src\") == None:\n",
    "    print(img[\"src\"])\n",
    "else:\n",
    "    print(img.get(\"data-lazy-src\"))\n",
    "    \n"
   ]
  },
  {
   "cell_type": "code",
   "execution_count": null,
   "id": "982b9db2",
   "metadata": {},
   "outputs": [],
   "source": []
  }
 ],
 "metadata": {
  "kernelspec": {
   "display_name": "Python 3 (ipykernel)",
   "language": "python",
   "name": "python3"
  },
  "language_info": {
   "codemirror_mode": {
    "name": "ipython",
    "version": 3
   },
   "file_extension": ".py",
   "mimetype": "text/x-python",
   "name": "python",
   "nbconvert_exporter": "python",
   "pygments_lexer": "ipython3",
   "version": "3.9.7"
  }
 },
 "nbformat": 4,
 "nbformat_minor": 5
}
