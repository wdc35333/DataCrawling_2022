{
 "cells": [
  {
   "cell_type": "markdown",
   "id": "02a3fe29",
   "metadata": {},
   "source": [
    "## MySQL 연결 및 테스트"
   ]
  },
  {
   "cell_type": "code",
   "execution_count": 2,
   "id": "f6356356",
   "metadata": {},
   "outputs": [],
   "source": [
    "# SQL 모듈 설치\n",
    "# !pip install pymysql"
   ]
  },
  {
   "cell_type": "markdown",
   "id": "3dc976df",
   "metadata": {},
   "source": [
    "## 파이썬에서 MariaDB 연결 및 종료\n",
    "1. MariaDB 연결: 연결자이름 = pymysql.connect(연결옵션)\n",
    "2. 커서생성: 커서이름 = 연결자이름.cursor()\n",
    "3. SQL문 실행: 커서이름.execute(\"SQL문장\")\n",
    "4. 데이터저장: 연결자이름.commit()\n",
    "5. MariaDB 연결종료: 연결자이름.close()"
   ]
  },
  {
   "cell_type": "markdown",
   "id": "38844393",
   "metadata": {},
   "source": [
    "#### MariaDB 연결 및 테이블 생성"
   ]
  },
  {
   "cell_type": "code",
   "execution_count": 12,
   "id": "6268719f",
   "metadata": {},
   "outputs": [],
   "source": [
    "import pymysql\n",
    "\n",
    "# 연결자 및 커서 생성\n",
    "conn = pymysql.connect(host='127.0.0.1', user = 'root', password = 'Smileboy1!', port = 3306, \n",
    "                       db = 'test', charset = 'utf8')  # 기본 접속 정보\n",
    "cur = conn.cursor() # 커서 생성\n",
    "sql = 'INSERT INTO muser VALUES(4, \"user4\", \"pw123456\", \"톤톤정\", \"010-6974-6974\")'\n",
    "cur.execute(sql)  # 커서를 통해 sql 구문 실행\n",
    "\n",
    "\n",
    "conn.commit()  # 저장\n",
    "conn.close()  # MariaDB 접속 종료"
   ]
  },
  {
   "cell_type": "code",
   "execution_count": 13,
   "id": "164a044f",
   "metadata": {},
   "outputs": [],
   "source": [
    "import pymysql\n",
    "\n",
    "# 연결자 및 커서 생성\n",
    "conn = pymysql.connect(host='127.0.0.1', user = 'root', password = 'Smileboy1!', port = 3306, \n",
    "                       db = 'test', charset = 'utf8')  # 기본 접속 정보\n",
    "cur = conn.cursor() # 커서 생성\n",
    "sql = \"CREATE TABLE IF NOT EXISTS uinfo(id int, username char(12), email char(25), birthYear int)\"\n",
    "\n",
    "\n",
    "cur.execute(sql)  # 커서를 통해 sql 구문 실행\n",
    "\n",
    "\n",
    "conn.commit()  # 최종 저장\n",
    "conn.close()  # 접속 종료"
   ]
  },
  {
   "cell_type": "markdown",
   "id": "7cb00225",
   "metadata": {},
   "source": [
    "#### 데이터 추가"
   ]
  },
  {
   "cell_type": "code",
   "execution_count": 15,
   "id": "e7d2d7d3",
   "metadata": {},
   "outputs": [],
   "source": [
    "import pymysql\n",
    "\n",
    "# 연결자 및 커서 생성\n",
    "conn = pymysql.connect(host='127.0.0.1', user = 'root', password = 'Smileboy1!', port = 3306, \n",
    "                       db = 'test', charset = 'utf8')  # 기본 접속 정보\n",
    "cur = conn.cursor() # 커서 생성\n",
    "sql = \"INSERT INTO uinfo VALUES(2, '홍길동', 'ccc23@korea.kr', 1988)\"\n",
    "\n",
    "\n",
    "cur.execute(sql)  # 커서를 통해 sql 구문 실행\n",
    "\n",
    "\n",
    "conn.commit()  # 최종 저장\n",
    "conn.close()  # 접속 종료"
   ]
  },
  {
   "cell_type": "markdown",
   "id": "955b908d",
   "metadata": {},
   "source": [
    "#### 데이터 조회"
   ]
  },
  {
   "cell_type": "code",
   "execution_count": 16,
   "id": "b6dafa24",
   "metadata": {},
   "outputs": [
    {
     "name": "stdout",
     "output_type": "stream",
     "text": [
      "((3, '박자동', 'aaa123@sa.kr', 2001), (2, '홍길동', 'ccc23@korea.kr', 1988))\n"
     ]
    }
   ],
   "source": [
    "import pymysql\n",
    "\n",
    "# 연결자 및 커서 생성\n",
    "conn = pymysql.connect(host='127.0.0.1', user = 'root', password = 'Smileboy1!', port = 3306, \n",
    "                       db = 'test', charset = 'utf8')  # 기본 접속 정보, host = 'localhost' 로 입력가능\n",
    "cur = conn.cursor() # 커서 생성\n",
    "\n",
    "\n",
    "sql = \"SELECT * FROM uinfo\"\n",
    "\n",
    "cur.execute(sql)  # 커서를 통해 sql 구문 실행\n",
    "result = cur.fetchall()   # sql 구문 실행 결과 가져오기\n",
    "print(result)   # 튜플형 데이터 반환\n"
   ]
  },
  {
   "cell_type": "code",
   "execution_count": 18,
   "id": "61c94f38",
   "metadata": {},
   "outputs": [
    {
     "name": "stdout",
     "output_type": "stream",
     "text": [
      "(3, '박자동', 'aaa123@sa.kr', 2001)\n",
      "(2, '홍길동', 'ccc23@korea.kr', 1988)\n"
     ]
    }
   ],
   "source": [
    "for res in result:\n",
    "    print(res)\n",
    "conn.commit()  # 최종 저장\n",
    "conn.close()  # 접속 종료"
   ]
  },
  {
   "cell_type": "code",
   "execution_count": 19,
   "id": "388114b8",
   "metadata": {},
   "outputs": [
    {
     "data": {
      "text/plain": [
       "((3, '박자동', 'aaa123@sa.kr', 2001), (2, '홍길동', 'ccc23@korea.kr', 1988))"
      ]
     },
     "execution_count": 19,
     "metadata": {},
     "output_type": "execute_result"
    }
   ],
   "source": [
    "result"
   ]
  },
  {
   "cell_type": "markdown",
   "id": "5361365d",
   "metadata": {},
   "source": [
    "#### id와 pw 확인\n",
    "- db: test.muser\n",
    "1. 사용자에게 id/pw 입력 => \n",
    "2. id 확인: True 패스워드 확인/ False: 메세지 전달 후 종료\n",
    "3. id(True) => pw가 True : 데이터 전체 출력 / False: 메세지 전달 후 종료"
   ]
  },
  {
   "cell_type": "code",
   "execution_count": 37,
   "id": "9ff8b98b",
   "metadata": {},
   "outputs": [
    {
     "name": "stdout",
     "output_type": "stream",
     "text": [
      "아이디 입력: user1\n",
      "패스워드 입력: asdf\n",
      "<class 'tuple'>\n",
      "패스워드 오류, 확인 후 다시 시도하세요.\n"
     ]
    }
   ],
   "source": [
    "import pymysql\n",
    "import sys\n",
    "\n",
    "# 연결자 및 커서 생성\n",
    "conn = pymysql.connect(host='127.0.0.1', user = 'root', password = 'Smileboy1!', port = 3306, \n",
    "                       db = 'test', charset = 'utf8')  # 기본 접속 정보, host = 'localhost' 로 입력가능\n",
    "# 커서 생성\n",
    "cur = conn.cursor()\n",
    "\n",
    "# SQL 구문 생성\n",
    "idInput = input('아이디 입력: ')\n",
    "pwInput = input('패스워드 입력: ')\n",
    "\n",
    "SQL = f\"SELECT pw FROM muser where id = '{idInput}'\"\n",
    "\n",
    "# 커서를 통해 sql 구문 실행 및 검색 결과 가져오기\n",
    "\n",
    "cur.execute(SQL)  \n",
    "result = cur.fetchall()   \n",
    "print(type(result))\n",
    "if len(result) >= 1:\n",
    "    # 패스워드 확인\n",
    "    if result[0][0] == pwInput:\n",
    "        SQL = f\"SELECT * FROM muser where id = '{idInput}'\"\n",
    "        cur.execute(SQL)\n",
    "        print(cur.fetchall()[0])\n",
    "    else:\n",
    "        print(\"패스워드 오류, 확인 후 다시 시도하세요.\")\n",
    "        sys.exit\n",
    "else:\n",
    "    print('미등록 아이디입니다.')\n",
    "# print(\"미등록 ID입니다.\")\n",
    "    \n",
    "    "
   ]
  },
  {
   "cell_type": "code",
   "execution_count": null,
   "id": "c3b1d0a3",
   "metadata": {},
   "outputs": [],
   "source": []
  }
 ],
 "metadata": {
  "kernelspec": {
   "display_name": "Python 3 (ipykernel)",
   "language": "python",
   "name": "python3"
  },
  "language_info": {
   "codemirror_mode": {
    "name": "ipython",
    "version": 3
   },
   "file_extension": ".py",
   "mimetype": "text/x-python",
   "name": "python",
   "nbconvert_exporter": "python",
   "pygments_lexer": "ipython3",
   "version": "3.9.7"
  }
 },
 "nbformat": 4,
 "nbformat_minor": 5
}
