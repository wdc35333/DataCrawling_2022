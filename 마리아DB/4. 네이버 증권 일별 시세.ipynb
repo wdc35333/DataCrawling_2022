{
 "cells": [
  {
   "cell_type": "code",
   "execution_count": 1,
   "id": "6716fef9",
   "metadata": {},
   "outputs": [
    {
     "name": "stdout",
     "output_type": "stream",
     "text": [
      "종목코드입력:068270\n"
     ]
    },
    {
     "ename": "TypeError",
     "evalue": "object of type 'NoneType' has no len()",
     "output_type": "error",
     "traceback": [
      "\u001b[0;31m---------------------------------------------------------------------------\u001b[0m",
      "\u001b[0;31mTypeError\u001b[0m                                 Traceback (most recent call last)",
      "Input \u001b[0;32mIn [1]\u001b[0m, in \u001b[0;36m<cell line: 21>\u001b[0;34m()\u001b[0m\n\u001b[1;32m     21\u001b[0m \u001b[38;5;28;01mfor\u001b[39;00m page \u001b[38;5;129;01min\u001b[39;00m \u001b[38;5;28mrange\u001b[39m(\u001b[38;5;241m1\u001b[39m, \u001b[38;5;28mint\u001b[39m(endPage)\u001b[38;5;241m+\u001b[39m\u001b[38;5;241m1\u001b[39m):\n\u001b[1;32m     22\u001b[0m     driver\u001b[38;5;241m.\u001b[39mget(url\u001b[38;5;241m+\u001b[39m\u001b[38;5;28mstr\u001b[39m(page))\n\u001b[0;32m---> 23\u001b[0m     html \u001b[38;5;241m=\u001b[39m \u001b[43mbs\u001b[49m\u001b[43m(\u001b[49m\u001b[43mdriver\u001b[49m\u001b[38;5;241;43m.\u001b[39;49m\u001b[43mpage_source\u001b[49m\u001b[43m,\u001b[49m\u001b[43m \u001b[49m\u001b[38;5;124;43m'\u001b[39;49m\u001b[38;5;124;43mhtml.parser\u001b[39;49m\u001b[38;5;124;43m'\u001b[39;49m\u001b[43m)\u001b[49m\n\u001b[1;32m     24\u001b[0m     soup_tr\u001b[38;5;241m=\u001b[39mhtml\u001b[38;5;241m.\u001b[39mfind_all(\u001b[38;5;124m'\u001b[39m\u001b[38;5;124mtr\u001b[39m\u001b[38;5;124m'\u001b[39m)\n\u001b[1;32m     25\u001b[0m     \u001b[38;5;28;01mfor\u001b[39;00m i \u001b[38;5;129;01min\u001b[39;00m \u001b[38;5;28mrange\u001b[39m(\u001b[38;5;241m2\u001b[39m, \u001b[38;5;241m15\u001b[39m):\n",
      "File \u001b[0;32m~/opt/anaconda3/envs/kdig/lib/python3.9/site-packages/bs4/__init__.py:312\u001b[0m, in \u001b[0;36mBeautifulSoup.__init__\u001b[0;34m(self, markup, features, builder, parse_only, from_encoding, exclude_encodings, element_classes, **kwargs)\u001b[0m\n\u001b[1;32m    310\u001b[0m \u001b[38;5;28;01mif\u001b[39;00m \u001b[38;5;28mhasattr\u001b[39m(markup, \u001b[38;5;124m'\u001b[39m\u001b[38;5;124mread\u001b[39m\u001b[38;5;124m'\u001b[39m):        \u001b[38;5;66;03m# It's a file-type object.\u001b[39;00m\n\u001b[1;32m    311\u001b[0m     markup \u001b[38;5;241m=\u001b[39m markup\u001b[38;5;241m.\u001b[39mread()\n\u001b[0;32m--> 312\u001b[0m \u001b[38;5;28;01melif\u001b[39;00m \u001b[38;5;28;43mlen\u001b[39;49m\u001b[43m(\u001b[49m\u001b[43mmarkup\u001b[49m\u001b[43m)\u001b[49m \u001b[38;5;241m<\u001b[39m\u001b[38;5;241m=\u001b[39m \u001b[38;5;241m256\u001b[39m \u001b[38;5;129;01mand\u001b[39;00m (\n\u001b[1;32m    313\u001b[0m         (\u001b[38;5;28misinstance\u001b[39m(markup, \u001b[38;5;28mbytes\u001b[39m) \u001b[38;5;129;01mand\u001b[39;00m \u001b[38;5;129;01mnot\u001b[39;00m \u001b[38;5;124mb\u001b[39m\u001b[38;5;124m'\u001b[39m\u001b[38;5;124m<\u001b[39m\u001b[38;5;124m'\u001b[39m \u001b[38;5;129;01min\u001b[39;00m markup)\n\u001b[1;32m    314\u001b[0m         \u001b[38;5;129;01mor\u001b[39;00m (\u001b[38;5;28misinstance\u001b[39m(markup, \u001b[38;5;28mstr\u001b[39m) \u001b[38;5;129;01mand\u001b[39;00m \u001b[38;5;129;01mnot\u001b[39;00m \u001b[38;5;124m'\u001b[39m\u001b[38;5;124m<\u001b[39m\u001b[38;5;124m'\u001b[39m \u001b[38;5;129;01min\u001b[39;00m markup)\n\u001b[1;32m    315\u001b[0m ):\n\u001b[1;32m    316\u001b[0m     \u001b[38;5;66;03m# Print out warnings for a couple beginner problems\u001b[39;00m\n\u001b[1;32m    317\u001b[0m     \u001b[38;5;66;03m# involving passing non-markup to Beautiful Soup.\u001b[39;00m\n\u001b[1;32m    318\u001b[0m     \u001b[38;5;66;03m# Beautiful Soup will still parse the input as markup,\u001b[39;00m\n\u001b[1;32m    319\u001b[0m     \u001b[38;5;66;03m# just in case that's what the user really wants.\u001b[39;00m\n\u001b[1;32m    320\u001b[0m     \u001b[38;5;28;01mif\u001b[39;00m (\u001b[38;5;28misinstance\u001b[39m(markup, \u001b[38;5;28mstr\u001b[39m)\n\u001b[1;32m    321\u001b[0m         \u001b[38;5;129;01mand\u001b[39;00m \u001b[38;5;129;01mnot\u001b[39;00m os\u001b[38;5;241m.\u001b[39mpath\u001b[38;5;241m.\u001b[39msupports_unicode_filenames):\n\u001b[1;32m    322\u001b[0m         possible_filename \u001b[38;5;241m=\u001b[39m markup\u001b[38;5;241m.\u001b[39mencode(\u001b[38;5;124m\"\u001b[39m\u001b[38;5;124mutf8\u001b[39m\u001b[38;5;124m\"\u001b[39m)\n",
      "\u001b[0;31mTypeError\u001b[0m: object of type 'NoneType' has no len()"
     ]
    }
   ],
   "source": [
    "import pandas as pd\n",
    "from bs4 import BeautifulSoup as bs\n",
    "from selenium import webdriver\n",
    "import mplfinance as mpf\n",
    "import time\n",
    "\n",
    "timeS=time.time()\n",
    "\n",
    "\n",
    "page=1\n",
    "code=input('종목코드입력:')\n",
    "url='https://finance.naver.com/item/sise_day.nhn?code='+ code +'&page='\n",
    "\n",
    "driver=webdriver.Chrome('../chromedriver')\n",
    "driver.get(url+str(page))\n",
    "html = bs(driver.page_source, 'html.parser')\n",
    "endPage=html.find('td', class_=\"pgRR\").find('a')['href'].split('=')[-1]\n",
    "\n",
    "nav_finance=[]\n",
    "\n",
    "for page in range(1, int(endPage)+1):\n",
    "    driver.get(url+str(page))\n",
    "    html = bs(driver.page_source, 'html.parser')\n",
    "    soup_tr=html.find_all('tr')\n",
    "    for i in range(2, 15):\n",
    "        day_data=[]\n",
    "        soup_td=soup_tr[i].find_all('td')\n",
    "        if len(soup_td) < 7 :\n",
    "            continue\n",
    "        else:\n",
    "            for td_txt in soup_td:\n",
    "                if td_txt.text == u'\\xa0':\n",
    "                    continue\n",
    "                else:\n",
    "                    day_data.append(td_txt.text.replace('.', '-').replace('\\n','').replace('\\t', '').replace(',', ''))\n",
    "                    # day_data.append(re('[가-힣0-9a-zA-Z]+',td_txt.text))\n",
    "\n",
    "        nav_finance.append(day_data)\n",
    "\n",
    "driver.close()\n",
    "\n",
    "df=pd.DataFrame(nav_finance, columns=['날짜','종가',\"전일비\",'시가','고가','저가','거래량'])\n",
    "print(df.info())\n",
    "\n",
    "df=df.dropna()  # None(NaN) 값 제거\n",
    "\n",
    "df['날짜']=pd.to_datetime(df['날짜'])\n",
    "df=df.astype({'종가':'int',\"전일비\":'int','시가':'int','고가':'int','저가':'int','거래량':'int'})\n",
    "\n",
    "print(df.info())\n",
    "print(df.tail())\n",
    "\n",
    "df.to_csv('./셀트리온.csv', index=False)\n",
    "df=df.iloc[:30]\n",
    "\n",
    "df = df.rename(columns={'날짜':'Date', '시가':'Open', '고가':'High', '저가':'Low', '종가':'Close', '거래량':'Volume'})\n",
    "df = df.sort_values(by='Date')\n",
    "df.index = pd.to_datetime(df.Date)\n",
    "df = df[['Open', 'High', 'Low', 'Close', 'Volume']]\n",
    "\n",
    "#mpf.plot(df, title='Celltrion candle chart', type='candle')\n",
    "#mpf.plot(df, title='Celltrion ohlc chart', type='ohlc')\n",
    "\n",
    "kwargs = dict(title='Celltrion customized chart', type='candle',\n",
    "              mav=(2, 4, 6), volume=True, ylabel='ohlc candles')\n",
    "\n",
    "mc = mpf.make_marketcolors(up='r', down='b', inherit=True)\n",
    "s  = mpf.make_mpf_style(marketcolors=mc)\n",
    "mpf.plot(df, **kwargs, style=s)"
   ]
  },
  {
   "cell_type": "code",
   "execution_count": null,
   "id": "c0146280",
   "metadata": {},
   "outputs": [],
   "source": [
    "# !pip install mplfinance"
   ]
  }
 ],
 "metadata": {
  "kernelspec": {
   "display_name": "Python 3 (ipykernel)",
   "language": "python",
   "name": "python3"
  },
  "language_info": {
   "codemirror_mode": {
    "name": "ipython",
    "version": 3
   },
   "file_extension": ".py",
   "mimetype": "text/x-python",
   "name": "python",
   "nbconvert_exporter": "python",
   "pygments_lexer": "ipython3",
   "version": "3.9.7"
  }
 },
 "nbformat": 4,
 "nbformat_minor": 5
}
