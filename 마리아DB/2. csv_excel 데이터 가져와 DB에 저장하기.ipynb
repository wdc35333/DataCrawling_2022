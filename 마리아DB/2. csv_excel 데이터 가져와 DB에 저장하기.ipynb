{
 "cells": [
  {
   "cell_type": "markdown",
   "id": "bed6e057",
   "metadata": {},
   "source": [
    "### 회원정보 가져와 저장하기\n",
    "- 파일: 회원.xlsx"
   ]
  },
  {
   "cell_type": "code",
   "execution_count": 55,
   "id": "1b5f653f",
   "metadata": {},
   "outputs": [],
   "source": [
    "# 필요 모듈 연결\n",
    "import pandas as pd\n",
    "import pymysql as mysql\n",
    "import time\n",
    "import sys"
   ]
  },
  {
   "cell_type": "code",
   "execution_count": 61,
   "id": "7fe0491e",
   "metadata": {},
   "outputs": [],
   "source": [
    "connect = mysql.connect(host = 'localhost', port = 3306, db = 'test',\n",
    "                       user = 'root', password = 'Smileboy1!', autocommit = True)\n",
    "\n",
    "cursor = connect.cursor()\n",
    "\n",
    "# 저장할 데이터 가져오기\n",
    "df = pd.read_excel('./회원.xlsx', sheet_name = '기본정보')\n",
    "df.shape\n",
    "\n",
    "# sql 구문 작성\n",
    "cnt = 0\n",
    "for i in df.index:\n",
    "    sqlnum = \"select num from member where num = '\" + df.loc[i, '관리번호'] + \"'\"\n",
    "    cursor.execute(sqlnum)\n",
    "    if len(cursor.fetchall()) == 0:\n",
    "        sql = \"insert into member values('\" + df.loc[i, \"관리번호\"] + \"',\"    \n",
    "        sql =  sql + \"'\" + df.loc[i, \"회원구분\"] + \"',\"\n",
    "        sql =  sql + \"'\" + df.loc[i, \"이름\"] + \"',\"\n",
    "        sql =  sql + \"'\" + df.loc[i, \"주민등록번호\"] + \"',\"\n",
    "        sql =  sql + \"'\" + df.loc[i, \"직장명\"] + \"',\"\n",
    "        sql =  sql + \"'\" + str(df.loc[i, \"생년월일\"]) + \"',\"\n",
    "        sql =  sql + \"'\" + df.loc[i, \"Tel\"] + \"',\"\n",
    "        sql =  sql + \"'\" + df.loc[i, \"Hp\"] + \"',\"\n",
    "        sql =  sql + \"'\" + str(df.loc[i, \"가입일\"]) + \"')\"\n",
    "        cursor.execute(sql)\n",
    "        cnt += 1\n",
    "        \n",
    "print(f\"데이터 {cnt}개 추가\")\n",
    "\n",
    "connect.commit()\n",
    "connect.close()"
   ]
  },
  {
   "cell_type": "code",
   "execution_count": 65,
   "id": "a7e5350d",
   "metadata": {},
   "outputs": [
    {
     "data": {
      "text/plain": [
       "'1977-02-02'"
      ]
     },
     "execution_count": 65,
     "metadata": {},
     "output_type": "execute_result"
    }
   ],
   "source": [
    "str(df.loc[0, '생년월일'])[:10]\n"
   ]
  },
  {
   "cell_type": "code",
   "execution_count": 67,
   "id": "da330026",
   "metadata": {},
   "outputs": [
    {
     "name": "stdout",
     "output_type": "stream",
     "text": [
      "<class 'pandas.core.frame.DataFrame'>\n",
      "RangeIndex: 8 entries, 0 to 7\n",
      "Data columns (total 9 columns):\n",
      " #   Column  Non-Null Count  Dtype \n",
      "---  ------  --------------  ----- \n",
      " 0   관리번호    8 non-null      object\n",
      " 1   결혼여부    8 non-null      object\n",
      " 2   운전면허증   8 non-null      object\n",
      " 3   취미      8 non-null      object\n",
      " 4   특기(소질)  8 non-null      object\n",
      " 5   관심분야    8 non-null      object\n",
      " 6   본적      8 non-null      object\n",
      " 7   주민등록상   8 non-null      object\n",
      " 8   비고      3 non-null      object\n",
      "dtypes: object(9)\n",
      "memory usage: 704.0+ bytes\n"
     ]
    }
   ],
   "source": [
    "# 회원 파일에서 상세정보 시트 내용 가져오기\n",
    "df = pd.read_excel('./회원.xlsx', sheet_name = '상세정보')\n",
    "df.info()"
   ]
  },
  {
   "cell_type": "code",
   "execution_count": 70,
   "id": "b553b91d",
   "metadata": {},
   "outputs": [
    {
     "data": {
      "text/plain": [
       "0"
      ]
     },
     "execution_count": 70,
     "metadata": {},
     "output_type": "execute_result"
    }
   ],
   "source": [
    "# 비고 열 NaN 값 확인\n",
    "df['비고'].isna().sum()"
   ]
  },
  {
   "cell_type": "code",
   "execution_count": 71,
   "id": "7b1ea1dc",
   "metadata": {},
   "outputs": [
    {
     "data": {
      "text/plain": [
       "0"
      ]
     },
     "execution_count": 71,
     "metadata": {},
     "output_type": "execute_result"
    }
   ],
   "source": [
    "# 비고 열 NaN 값을 \"\"로 변경\n",
    "df = df.fillna(\"\")\n",
    "df['비고'].isna().sum()"
   ]
  },
  {
   "cell_type": "code",
   "execution_count": 110,
   "id": "a6e2fbda",
   "metadata": {},
   "outputs": [
    {
     "name": "stdout",
     "output_type": "stream",
     "text": [
      "한개씩 저장 완료 0.0499119758605957\n",
      "DB 저장완료\n"
     ]
    }
   ],
   "source": [
    "import time\n",
    "timeS = time.time()\n",
    "\n",
    "# test DB 연결\n",
    "connect = mysql.connect(host = 'localhost', port = 3306, db = 'test',\n",
    "                       user = 'root', password = 'Smileboy1!', autocommit = True)\n",
    "\n",
    "cursor = connect.cursor()\n",
    "\n",
    "for i in range(len(df)):\n",
    "    sql = 'insert into meminfo values(%s, %s, %s, %s, %s, %s)'\n",
    "    cursor.execute(sql, (df.iloc[i,0], df.iloc[i,1] , df.iloc[i,4],\n",
    "                         df.iloc[i,5], df.iloc[i,6] , df.iloc[i,8]))\n",
    "    connect.commit()\n",
    "print('한개씩 저장 완료', time.time() - timeS)\n",
    "print('DB 저장완료')\n",
    "\n",
    "connect.commit()\n",
    "connect.close()"
   ]
  },
  {
   "cell_type": "code",
   "execution_count": 111,
   "id": "19bf6585",
   "metadata": {},
   "outputs": [],
   "source": [
    "# 튜플구조의 데이터를 생성해서 한번에 여러개의 데이터를 추가하는 방법\n",
    "timeS = time.time()\n",
    "connect = mysql.connect(host = 'localhost', port = 3306, db = 'test',\n",
    "                       user = 'root', password = 'Smileboy1!', autocommit = True)\n",
    "\n",
    "cursor = connect.cursor()\n",
    "sql = 'delete from meminfo'\n",
    "\n",
    "cursor.execute(sql)\n",
    "connect.commit()\n",
    "connect.close()"
   ]
  },
  {
   "cell_type": "code",
   "execution_count": 112,
   "id": "14469bb0",
   "metadata": {},
   "outputs": [
    {
     "name": "stdout",
     "output_type": "stream",
     "text": [
      "한번에 저장 완료 0.04459500312805176\n",
      "DB저장완료\n"
     ]
    }
   ],
   "source": [
    "# 튜플구조의 데이터를 생성해서 한번에 여러개의 데이터를 추가하는 방법\n",
    "timeS = time.time()\n",
    "connect = mysql.connect(host = 'localhost', port = 3306, db = 'test',\n",
    "                       user = 'root', password = 'Smileboy1!', autocommit = True)\n",
    "cursor = connect.cursor()\n",
    "\n",
    "sql_lst = []\n",
    "for i in range(len(df)):\n",
    "    sql_lst.append((df.iloc[i,0], df.iloc[i,1] , df.iloc[i,4],\n",
    "                         df.iloc[i,5], df.iloc[i,6] , df.iloc[i,8]))\n",
    "    \n",
    "sql = 'insert into meminfo values(%s, %s, %s, %s, %s, %s)'\n",
    "cursor.executemany(sql, tuple(sql_lst))\n",
    "\n",
    "print('한번에 저장 완료', time.time() - timeS)\n",
    "print('DB저장완료')\n",
    "connect.commit()\n",
    "connect.close()"
   ]
  },
  {
   "cell_type": "code",
   "execution_count": null,
   "id": "12ebee68",
   "metadata": {},
   "outputs": [],
   "source": []
  }
 ],
 "metadata": {
  "kernelspec": {
   "display_name": "Python 3 (ipykernel)",
   "language": "python",
   "name": "python3"
  },
  "language_info": {
   "codemirror_mode": {
    "name": "ipython",
    "version": 3
   },
   "file_extension": ".py",
   "mimetype": "text/x-python",
   "name": "python",
   "nbconvert_exporter": "python",
   "pygments_lexer": "ipython3",
   "version": "3.9.7"
  }
 },
 "nbformat": 4,
 "nbformat_minor": 5
}
