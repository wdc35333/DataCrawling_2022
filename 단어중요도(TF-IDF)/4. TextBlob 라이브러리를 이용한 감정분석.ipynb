{
 "cells": [
  {
   "cell_type": "markdown",
   "metadata": {
    "id": "EP_W1Qdo9l2e"
   },
   "source": [
    "### TextBlob 라이브러리\n",
    "- 익숙한 인터페이스를 통해 일반적인 텍스트 처리 작업에 대한 액세스를 제공\n",
    "- TextBlob 객체를 자연어 처리를 수행하는 방법을 학습 한 Python 문자열 인 것처럼 처리 할 수 있다.\n",
    "- 참조: https://textblob.readthedocs.io/en/latest/quickstart.html#translation-and-language-detection"
   ]
  },
  {
   "cell_type": "code",
   "execution_count": 2,
   "metadata": {
    "id": "z3-cXGWt84Ta"
   },
   "outputs": [],
   "source": [
    "from textblob import TextBlob as tb\n",
    "import nltk\n",
    "import pandas as pd\n",
    "import numpy as np"
   ]
  },
  {
   "cell_type": "code",
   "execution_count": 3,
   "metadata": {
    "id": "FuZ953CP-gOm"
   },
   "outputs": [],
   "source": [
    "txt1=tb('맥주가 좋았습니다.')\n",
    "txt2=tb('Beer was good.')"
   ]
  },
  {
   "cell_type": "code",
   "execution_count": 4,
   "metadata": {
    "id": "72tDHtzDNNob"
   },
   "outputs": [
    {
     "name": "stdout",
     "output_type": "stream",
     "text": [
      "Beer was good.\n",
      "ビールはよかったです。\n",
      "맥주는 좋았습니다.\n"
     ]
    }
   ],
   "source": [
    "#### TextBlob를 이용한 언어 번역\n",
    "print(txt1.translate(to='en'))\n",
    "print(txt2.translate(to='ja'))\n",
    "print(txt2.translate(to='ko'))"
   ]
  },
  {
   "cell_type": "code",
   "execution_count": 5,
   "metadata": {
    "id": "20EvzTTnOeeD"
   },
   "outputs": [],
   "source": [
    "#nltk.download()"
   ]
  },
  {
   "cell_type": "markdown",
   "metadata": {},
   "source": [
    "### 텍스트 감정 분류기 만들기\n",
    "- 학습 데이터(train): 문장과 긍정/부정\n",
    "- 학습데이터를 이용해 학습하고 문자의 긍정/부정을 분류"
   ]
  },
  {
   "cell_type": "code",
   "execution_count": 6,
   "metadata": {
    "id": "Y8w97L1QNS47"
   },
   "outputs": [],
   "source": [
    "from textblob.classifiers import NaiveBayesClassifier\n",
    "\n",
    "# 학습 데이터 세트\n",
    "train = [ ('I love this sandwich.', 'pos'), \n",
    "        ('This is an amazing place!', 'pos'), \n",
    "        ('I feel very good about these beers.', 'pos'), \n",
    "        ('This is my best work.', 'pos'), \n",
    "        (\"What an awesome view\", 'pos'), \n",
    "        ('I do not like this restaurant', 'neg'), \n",
    "        ('I am tired of this stuff.', 'neg'), \n",
    "        (\"I can't deal with this\", 'neg'), \n",
    "        ('He is my sworn enemy!', 'neg'), \n",
    "        ('My boss is horrible.', 'neg') ]"
   ]
  },
  {
   "cell_type": "code",
   "execution_count": 7,
   "metadata": {
    "id": "5syIJMz6N93v"
   },
   "outputs": [],
   "source": [
    "## 테스트 세트\n",
    "test = [('The beer was good.', 'pos'),\n",
    "        ('I do not enjoy my job', 'neg'),\n",
    "        (\"I ain't feeling dandy today.\", 'neg'),\n",
    "        (\"I feel amazing!\", 'pos'),\n",
    "        ('Gary is a friend of mine.', 'pos'),\n",
    "        (\"I can't believe I'm doing this.\", 'neg')]"
   ]
  },
  {
   "cell_type": "code",
   "execution_count": 8,
   "metadata": {
    "id": "UCMWPlHrN967"
   },
   "outputs": [
    {
     "data": {
      "text/plain": [
       "<NaiveBayesClassifier trained on 10 instances>"
      ]
     },
     "execution_count": 8,
     "metadata": {},
     "output_type": "execute_result"
    }
   ],
   "source": [
    "### NaiveBayesClassifier 개체에 학습 데이터를 입력하고 긍정(pos)/부정(neg) 모델 생성\n",
    "pos_neg=NaiveBayesClassifier(train)\n",
    "pos_neg"
   ]
  },
  {
   "cell_type": "code",
   "execution_count": 9,
   "metadata": {
    "id": "O87MQBP5N990"
   },
   "outputs": [
    {
     "data": {
      "text/plain": [
       "'neg'"
      ]
     },
     "execution_count": 9,
     "metadata": {},
     "output_type": "execute_result"
    }
   ],
   "source": [
    "pos_neg.classify(\"I ain't feeling dandy today\")"
   ]
  },
  {
   "cell_type": "code",
   "execution_count": 10,
   "metadata": {
    "id": "DMvaW0eWN-Ar"
   },
   "outputs": [
    {
     "data": {
      "text/html": [
       "<div>\n",
       "<style scoped>\n",
       "    .dataframe tbody tr th:only-of-type {\n",
       "        vertical-align: middle;\n",
       "    }\n",
       "\n",
       "    .dataframe tbody tr th {\n",
       "        vertical-align: top;\n",
       "    }\n",
       "\n",
       "    .dataframe thead th {\n",
       "        text-align: right;\n",
       "    }\n",
       "</style>\n",
       "<table border=\"1\" class=\"dataframe\">\n",
       "  <thead>\n",
       "    <tr style=\"text-align: right;\">\n",
       "      <th></th>\n",
       "      <th>예측</th>\n",
       "      <th>정답</th>\n",
       "    </tr>\n",
       "  </thead>\n",
       "  <tbody>\n",
       "    <tr>\n",
       "      <th>0</th>\n",
       "      <td>pos</td>\n",
       "      <td>pos</td>\n",
       "    </tr>\n",
       "    <tr>\n",
       "      <th>1</th>\n",
       "      <td>neg</td>\n",
       "      <td>neg</td>\n",
       "    </tr>\n",
       "    <tr>\n",
       "      <th>2</th>\n",
       "      <td>neg</td>\n",
       "      <td>neg</td>\n",
       "    </tr>\n",
       "    <tr>\n",
       "      <th>3</th>\n",
       "      <td>pos</td>\n",
       "      <td>pos</td>\n",
       "    </tr>\n",
       "    <tr>\n",
       "      <th>4</th>\n",
       "      <td>pos</td>\n",
       "      <td>neg</td>\n",
       "    </tr>\n",
       "    <tr>\n",
       "      <th>5</th>\n",
       "      <td>neg</td>\n",
       "      <td>neg</td>\n",
       "    </tr>\n",
       "  </tbody>\n",
       "</table>\n",
       "</div>"
      ],
      "text/plain": [
       "    예측   정답\n",
       "0  pos  pos\n",
       "1  neg  neg\n",
       "2  neg  neg\n",
       "3  pos  pos\n",
       "4  pos  neg\n",
       "5  neg  neg"
      ]
     },
     "execution_count": 10,
     "metadata": {},
     "output_type": "execute_result"
    }
   ],
   "source": [
    "PosNeg_lst = []\n",
    "\n",
    "for w in test:\n",
    "    clsss = pos_neg.classify(w[0])\n",
    "    PosNeg_lst.append((w[-1], clsss))\n",
    "    \n",
    "pd.DataFrame(PosNeg_lst, columns = ['예측', '정답'])"
   ]
  },
  {
   "cell_type": "code",
   "execution_count": 11,
   "metadata": {
    "id": "WItojRbgN-Fj"
   },
   "outputs": [
    {
     "name": "stdout",
     "output_type": "stream",
     "text": [
      "정확도: 0.8333333333333334\n"
     ]
    }
   ],
   "source": [
    "print(f\"정확도: {5/6}\")"
   ]
  },
  {
   "cell_type": "code",
   "execution_count": 12,
   "metadata": {},
   "outputs": [
    {
     "name": "stdout",
     "output_type": "stream",
     "text": [
      "긍정 정밀도: 1.0\n"
     ]
    }
   ],
   "source": [
    "# 긍정에 대한 정밀도\n",
    "print(f\"긍정 정밀도: {2/2}\")"
   ]
  },
  {
   "cell_type": "code",
   "execution_count": 13,
   "metadata": {},
   "outputs": [
    {
     "name": "stdout",
     "output_type": "stream",
     "text": [
      "긍정 정밀도: 0.75\n"
     ]
    }
   ],
   "source": [
    "# 부정에 대한 정밀도\n",
    "print(f\"긍정 정밀도: {3/4}\")"
   ]
  },
  {
   "cell_type": "code",
   "execution_count": 14,
   "metadata": {},
   "outputs": [
    {
     "name": "stdout",
     "output_type": "stream",
     "text": [
      "neg\n"
     ]
    }
   ],
   "source": [
    "# TextBlob 객체를 사용하여 여러 문장으로 구성된 텍스트도 분류\n",
    "tag2 = tb(\"The beer was amazing. But the hangover was horrible. My boss was not happy.\", classifier = pos_neg)\n",
    "print(tag2.classify())\n"
   ]
  },
  {
   "cell_type": "code",
   "execution_count": 15,
   "metadata": {},
   "outputs": [
    {
     "name": "stdout",
     "output_type": "stream",
     "text": [
      "[Sentence(\"The beer was amazing.\"), Sentence(\"But the hangover was horrible.\"), Sentence(\"My boss was not happy.\")]\n",
      "The beer was amazing. / pos\n",
      "But the hangover was horrible. / neg\n",
      "My boss was not happy. / neg\n"
     ]
    }
   ],
   "source": [
    "## tag2을 분리해서 긍/부정 평가\n",
    "print(tag2.sentences)\n",
    "\n",
    "for sen in tag2.sentences:\n",
    "    print(sen, \"/\", sen.classify())"
   ]
  },
  {
   "cell_type": "code",
   "execution_count": 16,
   "metadata": {},
   "outputs": [
    {
     "name": "stdout",
     "output_type": "stream",
     "text": [
      "0.8333333333333334\n"
     ]
    }
   ],
   "source": [
    "# 테스트 데이터를 이용해 정확도 계산\n",
    "acc = pos_neg.accuracy(test)\n",
    "print(acc)"
   ]
  },
  {
   "cell_type": "code",
   "execution_count": 17,
   "metadata": {},
   "outputs": [
    {
     "name": "stdout",
     "output_type": "stream",
     "text": [
      "Most Informative Features\n",
      "          contains(this) = True              neg : pos    =      2.3 : 1.0\n",
      "          contains(this) = False             pos : neg    =      1.8 : 1.0\n",
      "          contains(This) = False             neg : pos    =      1.6 : 1.0\n",
      "            contains(an) = False             neg : pos    =      1.6 : 1.0\n",
      "             contains(I) = False             pos : neg    =      1.4 : 1.0\n",
      "             contains(I) = True              neg : pos    =      1.4 : 1.0\n",
      "            contains(He) = False             pos : neg    =      1.2 : 1.0\n",
      "            contains(My) = False             pos : neg    =      1.2 : 1.0\n",
      "          contains(What) = False             neg : pos    =      1.2 : 1.0\n",
      "         contains(about) = False             neg : pos    =      1.2 : 1.0\n",
      "None\n"
     ]
    }
   ],
   "source": [
    "# show_informative_features를 실행하여 분류기가 어떤 기준으로 분류하는지 확인\n",
    "print(pos_neg.show_informative_features())"
   ]
  },
  {
   "cell_type": "markdown",
   "metadata": {},
   "source": [
    "### 한글 긍정/부정어 처리"
   ]
  },
  {
   "cell_type": "code",
   "execution_count": 18,
   "metadata": {},
   "outputs": [],
   "source": [
    "from textblob import TextBlob\n",
    "from textblob.classifiers import NaiveBayesClassifier"
   ]
  },
  {
   "cell_type": "code",
   "execution_count": 19,
   "metadata": {},
   "outputs": [],
   "source": [
    "train = [('나는 이 샌드위치를 정말 좋아해.', '긍정'),\n",
    "         ('정말 멋진 곳이에요!', '긍정'),\n",
    "         ('나는 이 맥주들이 아주 좋다고 생각해요.', '긍정'),\n",
    "         ('이것은 나의 최고의 작품입니다.', '긍정'),\n",
    "         (\"정말 멋진 광경이다\", \"긍정\"),\n",
    "         ('난 이 식당 싫어', '부정'),\n",
    "         ('난 이게 지겨워.', '부정'),\n",
    "         (\"이 문제는 처리할 수 없습니다.\", \"부정\"),\n",
    "         ('그는 나의 불구대천의 원수이다.', '부정'),\n",
    "         ('내 상사는 끔찍해.', '부정'),\n",
    "         ('나는 내 꿈을 믿는다', '긍정'),\n",
    "         ('나는 매일 최선을 다하고 있다', '긍정'),\n",
    "         ('나는 있는 그대로의 나를 사랑한다', '긍정'),\n",
    "         ('나는 내 삶을 100% 책임진다', '긍정'),\n",
    "         ('가장 좋은 일은 아직 생기지 않았다', '긍정'),\n",
    "         ('나는 매일 나의 삶에 감사한다', '긍정'),\n",
    "         ('새로나온 휴대폰은 배터리 교체가 되지 않아 불편하다', '부정'),\n",
    "         ('이번에 나온 영화 너무 재밌다. 주말에 또 보고 싶다.', '긍정'),\n",
    "         ('나의 아버지는 이해가 안된다', '부정'),\n",
    "         ('나는 어머니와 있을 때 퉁명해진다', '부정'),\n",
    "         ('나는 어머니와 있을 때 불편할 때가 있다.', '부정'),\n",
    "         ('치킨집에 선결제로 주문했는데 돈은 결제가 되었는데 치킨집에선 주문이 안들어왔다고합니다.', '부정'),\n",
    "         ('지금 현재 네이버 실시간 검색어에 떴고, 여전히 고객센터는 전화연결이 되지않습니다. ', '부정'),\n",
    "         ('이럴거면 요기요처럼 아예 접속도 안되게하던가 결제를 막았어야하는데', '부정'),\n",
    "         ('결제해서 가게에 돈 준 것도 아니고 본인들이 가져가놓고 전화도 안받으면 돈은 어떻게 돌려받습니까?', '부정'),\n",
    "         ('너무 유용하고 편리하네요.. ', '긍정'),\n",
    "         ('처음 구입한다고 쿠폰 받고 이용하니깐 저렴하게 먹을 수 있었고 배달시간도 만족스러워서 좋았습니다.', '긍정'),\n",
    "         ('배달의 민족 강추 합니다. ', '긍정'),\n",
    "         ('자주 이용할께요ㅡㅡㅡ강추 강추!!!', '긍정') ]"
   ]
  },
  {
   "cell_type": "code",
   "execution_count": 20,
   "metadata": {},
   "outputs": [],
   "source": [
    "test = [('맥주가 좋았습니다.', '긍정'),\n",
    "        ('난 내 일을 즐기지 않는다', '부정'),\n",
    "        ('오늘은 기분이 안 좋아요.', '부정'),\n",
    "        ('빠른 배달 좋네요', '긍정'),\n",
    "        ('네드는 나의 친구입니다.', '긍정'),\n",
    "        ('제가 이렇게 하고 있다니 믿을 수가 없어요.', '부정')]"
   ]
  },
  {
   "cell_type": "code",
   "execution_count": 21,
   "metadata": {},
   "outputs": [
    {
     "data": {
      "text/plain": [
       "<NaiveBayesClassifier trained on 29 instances>"
      ]
     },
     "execution_count": 21,
     "metadata": {},
     "output_type": "execute_result"
    }
   ],
   "source": [
    "pos_neg = NaiveBayesClassifier(train)\n",
    "pos_neg"
   ]
  },
  {
   "cell_type": "code",
   "execution_count": 22,
   "metadata": {},
   "outputs": [
    {
     "name": "stdout",
     "output_type": "stream",
     "text": [
      "0.5\n"
     ]
    }
   ],
   "source": [
    "acc = pos_neg.accuracy(test)\n",
    "print(acc)"
   ]
  },
  {
   "cell_type": "markdown",
   "metadata": {},
   "source": [
    "### 배민 앱 사용 후기를 이용한 긍부정 모델 생성"
   ]
  },
  {
   "cell_type": "code",
   "execution_count": 23,
   "metadata": {},
   "outputs": [
    {
     "data": {
      "text/html": [
       "<div>\n",
       "<style scoped>\n",
       "    .dataframe tbody tr th:only-of-type {\n",
       "        vertical-align: middle;\n",
       "    }\n",
       "\n",
       "    .dataframe tbody tr th {\n",
       "        vertical-align: top;\n",
       "    }\n",
       "\n",
       "    .dataframe thead th {\n",
       "        text-align: right;\n",
       "    }\n",
       "</style>\n",
       "<table border=\"1\" class=\"dataframe\">\n",
       "  <thead>\n",
       "    <tr style=\"text-align: right;\">\n",
       "      <th></th>\n",
       "      <th>Reviews</th>\n",
       "      <th>Unnamed: 1</th>\n",
       "    </tr>\n",
       "  </thead>\n",
       "  <tbody>\n",
       "    <tr>\n",
       "      <th>0</th>\n",
       "      <td>어이가없어서말도안나오네요 받지도않은음식을결제하라는게말이되는건가요? 출근도해야하는데 ...</td>\n",
       "      <td>긍정</td>\n",
       "    </tr>\n",
       "    <tr>\n",
       "      <th>1</th>\n",
       "      <td>제 동생 추천으로 주문해본건데 동생말이 틀리지 않았어요. 브랜드 친키보다 제 입맛엔...</td>\n",
       "      <td>긍정</td>\n",
       "    </tr>\n",
       "    <tr>\n",
       "      <th>2</th>\n",
       "      <td>뭐만하면 배달팁 추가...비많이 와서 그러는건 고생하시니 그러려니하는데 배달이 몰려...</td>\n",
       "      <td>긍정</td>\n",
       "    </tr>\n",
       "    <tr>\n",
       "      <th>3</th>\n",
       "      <td>지금사용중인데 배달주문해서 돈은빠져나갔는데 배달주문한곳에전화해서 확인해보니 주문들어...</td>\n",
       "      <td>긍정</td>\n",
       "    </tr>\n",
       "    <tr>\n",
       "      <th>4</th>\n",
       "      <td>써본지는 얼마 안되지만 몇번 배달시켜 먹어본 결과, 편리하고 좋아요^^ 맛있는 맛집...</td>\n",
       "      <td>NaN</td>\n",
       "    </tr>\n",
       "  </tbody>\n",
       "</table>\n",
       "</div>"
      ],
      "text/plain": [
       "                                             Reviews Unnamed: 1\n",
       "0  어이가없어서말도안나오네요 받지도않은음식을결제하라는게말이되는건가요? 출근도해야하는데 ...         긍정\n",
       "1  제 동생 추천으로 주문해본건데 동생말이 틀리지 않았어요. 브랜드 친키보다 제 입맛엔...         긍정\n",
       "2  뭐만하면 배달팁 추가...비많이 와서 그러는건 고생하시니 그러려니하는데 배달이 몰려...         긍정\n",
       "3  지금사용중인데 배달주문해서 돈은빠져나갔는데 배달주문한곳에전화해서 확인해보니 주문들어...         긍정\n",
       "4  써본지는 얼마 안되지만 몇번 배달시켜 먹어본 결과, 편리하고 좋아요^^ 맛있는 맛집...        NaN"
      ]
     },
     "execution_count": 23,
     "metadata": {},
     "output_type": "execute_result"
    }
   ],
   "source": [
    "import pandas as pd\n",
    "from textblob import TextBlob\n",
    "from textblob.classifiers import NaiveBayesClassifier\n",
    "\n",
    "df = pd.read_csv('./data/배민어플후기.csv',encoding = 'cp949')\n",
    "df.head()"
   ]
  },
  {
   "cell_type": "code",
   "execution_count": 24,
   "metadata": {},
   "outputs": [
    {
     "data": {
      "text/html": [
       "<div>\n",
       "<style scoped>\n",
       "    .dataframe tbody tr th:only-of-type {\n",
       "        vertical-align: middle;\n",
       "    }\n",
       "\n",
       "    .dataframe tbody tr th {\n",
       "        vertical-align: top;\n",
       "    }\n",
       "\n",
       "    .dataframe thead th {\n",
       "        text-align: right;\n",
       "    }\n",
       "</style>\n",
       "<table border=\"1\" class=\"dataframe\">\n",
       "  <thead>\n",
       "    <tr style=\"text-align: right;\">\n",
       "      <th></th>\n",
       "      <th>Reviews</th>\n",
       "      <th>pos_neg</th>\n",
       "    </tr>\n",
       "  </thead>\n",
       "  <tbody>\n",
       "    <tr>\n",
       "      <th>0</th>\n",
       "      <td>어이가없어서말도안나오네요 받지도않은음식을결제하라는게말이되는건가요? 출근도해야하는데 ...</td>\n",
       "      <td>긍정</td>\n",
       "    </tr>\n",
       "    <tr>\n",
       "      <th>1</th>\n",
       "      <td>제 동생 추천으로 주문해본건데 동생말이 틀리지 않았어요. 브랜드 친키보다 제 입맛엔...</td>\n",
       "      <td>긍정</td>\n",
       "    </tr>\n",
       "    <tr>\n",
       "      <th>2</th>\n",
       "      <td>뭐만하면 배달팁 추가...비많이 와서 그러는건 고생하시니 그러려니하는데 배달이 몰려...</td>\n",
       "      <td>긍정</td>\n",
       "    </tr>\n",
       "    <tr>\n",
       "      <th>3</th>\n",
       "      <td>지금사용중인데 배달주문해서 돈은빠져나갔는데 배달주문한곳에전화해서 확인해보니 주문들어...</td>\n",
       "      <td>긍정</td>\n",
       "    </tr>\n",
       "    <tr>\n",
       "      <th>4</th>\n",
       "      <td>써본지는 얼마 안되지만 몇번 배달시켜 먹어본 결과, 편리하고 좋아요^^ 맛있는 맛집...</td>\n",
       "      <td>NaN</td>\n",
       "    </tr>\n",
       "  </tbody>\n",
       "</table>\n",
       "</div>"
      ],
      "text/plain": [
       "                                             Reviews pos_neg\n",
       "0  어이가없어서말도안나오네요 받지도않은음식을결제하라는게말이되는건가요? 출근도해야하는데 ...      긍정\n",
       "1  제 동생 추천으로 주문해본건데 동생말이 틀리지 않았어요. 브랜드 친키보다 제 입맛엔...      긍정\n",
       "2  뭐만하면 배달팁 추가...비많이 와서 그러는건 고생하시니 그러려니하는데 배달이 몰려...      긍정\n",
       "3  지금사용중인데 배달주문해서 돈은빠져나갔는데 배달주문한곳에전화해서 확인해보니 주문들어...      긍정\n",
       "4  써본지는 얼마 안되지만 몇번 배달시켜 먹어본 결과, 편리하고 좋아요^^ 맛있는 맛집...     NaN"
      ]
     },
     "execution_count": 24,
     "metadata": {},
     "output_type": "execute_result"
    }
   ],
   "source": [
    "df.columns = [\"Reviews\", \"pos_neg\"]\n",
    "df.head()"
   ]
  },
  {
   "cell_type": "code",
   "execution_count": 25,
   "metadata": {},
   "outputs": [
    {
     "data": {
      "text/plain": [
       "Reviews      0\n",
       "pos_neg    388\n",
       "dtype: int64"
      ]
     },
     "execution_count": 25,
     "metadata": {},
     "output_type": "execute_result"
    }
   ],
   "source": [
    "## NaN 값 확인\n",
    "df.isna().sum()"
   ]
  },
  {
   "cell_type": "code",
   "execution_count": 26,
   "metadata": {},
   "outputs": [
    {
     "data": {
      "text/plain": [
       "(4680, 2)"
      ]
     },
     "execution_count": 26,
     "metadata": {},
     "output_type": "execute_result"
    }
   ],
   "source": [
    "df.shape"
   ]
  },
  {
   "cell_type": "code",
   "execution_count": 27,
   "metadata": {},
   "outputs": [
    {
     "data": {
      "text/html": [
       "<div>\n",
       "<style scoped>\n",
       "    .dataframe tbody tr th:only-of-type {\n",
       "        vertical-align: middle;\n",
       "    }\n",
       "\n",
       "    .dataframe tbody tr th {\n",
       "        vertical-align: top;\n",
       "    }\n",
       "\n",
       "    .dataframe thead th {\n",
       "        text-align: right;\n",
       "    }\n",
       "</style>\n",
       "<table border=\"1\" class=\"dataframe\">\n",
       "  <thead>\n",
       "    <tr style=\"text-align: right;\">\n",
       "      <th></th>\n",
       "      <th>Reviews</th>\n",
       "      <th>pos_neg</th>\n",
       "    </tr>\n",
       "  </thead>\n",
       "  <tbody>\n",
       "    <tr>\n",
       "      <th>4</th>\n",
       "      <td>써본지는 얼마 안되지만 몇번 배달시켜 먹어본 결과, 편리하고 좋아요^^ 맛있는 맛집...</td>\n",
       "      <td>NaN</td>\n",
       "    </tr>\n",
       "    <tr>\n",
       "      <th>6</th>\n",
       "      <td>언제 먹어도 맛있는족발 ,콜라겐 덩어리 ..맛있게 먹고.젊어지고..아미족발 굿 .....</td>\n",
       "      <td>NaN</td>\n",
       "    </tr>\n",
       "    <tr>\n",
       "      <th>34</th>\n",
       "      <td>이벤트가 전부 선착순에 신규유저만 참여가능, 뽑기 등 혜택을 받고 싶어도 못받는 이...</td>\n",
       "      <td>NaN</td>\n",
       "    </tr>\n",
       "    <tr>\n",
       "      <th>35</th>\n",
       "      <td>배달이 빨랐고 , 탕슉도 맛있어요. 탕슉안에 만두가 속이 알차요.\\t\\t\\t\\t\\t...</td>\n",
       "      <td>NaN</td>\n",
       "    </tr>\n",
       "    <tr>\n",
       "      <th>43</th>\n",
       "      <td>괜찮은 어플. 리뷰도 있고, 주문도 쉽고 빠름.배달시킬때마다 배민사용함\\t\\t\\t\\...</td>\n",
       "      <td>NaN</td>\n",
       "    </tr>\n",
       "    <tr>\n",
       "      <th>...</th>\n",
       "      <td>...</td>\n",
       "      <td>...</td>\n",
       "    </tr>\n",
       "    <tr>\n",
       "      <th>4675</th>\n",
       "      <td>아주편리하게 이용하고있습니다</td>\n",
       "      <td>NaN</td>\n",
       "    </tr>\n",
       "    <tr>\n",
       "      <th>4676</th>\n",
       "      <td>매번 이걸로만 시켜먹음</td>\n",
       "      <td>NaN</td>\n",
       "    </tr>\n",
       "    <tr>\n",
       "      <th>4677</th>\n",
       "      <td>대한민국 최고 배달어플</td>\n",
       "      <td>NaN</td>\n",
       "    </tr>\n",
       "    <tr>\n",
       "      <th>4678</th>\n",
       "      <td>쿠폰이벤트해서 정각되자마자 들어갔더니 시스템오류뜨더니 주문이 아예 안되네요</td>\n",
       "      <td>NaN</td>\n",
       "    </tr>\n",
       "    <tr>\n",
       "      <th>4679</th>\n",
       "      <td>별점 한개도 아깝다^^ 만명 실제로 결제확인된건지도 의문이드네 ㅎㅎ..</td>\n",
       "      <td>NaN</td>\n",
       "    </tr>\n",
       "  </tbody>\n",
       "</table>\n",
       "<p>388 rows × 2 columns</p>\n",
       "</div>"
      ],
      "text/plain": [
       "                                                Reviews pos_neg\n",
       "4     써본지는 얼마 안되지만 몇번 배달시켜 먹어본 결과, 편리하고 좋아요^^ 맛있는 맛집...     NaN\n",
       "6     언제 먹어도 맛있는족발 ,콜라겐 덩어리 ..맛있게 먹고.젊어지고..아미족발 굿 .....     NaN\n",
       "34    이벤트가 전부 선착순에 신규유저만 참여가능, 뽑기 등 혜택을 받고 싶어도 못받는 이...     NaN\n",
       "35    배달이 빨랐고 , 탕슉도 맛있어요. 탕슉안에 만두가 속이 알차요.\\t\\t\\t\\t\\t...     NaN\n",
       "43    괜찮은 어플. 리뷰도 있고, 주문도 쉽고 빠름.배달시킬때마다 배민사용함\\t\\t\\t\\...     NaN\n",
       "...                                                 ...     ...\n",
       "4675                                    아주편리하게 이용하고있습니다     NaN\n",
       "4676                                       매번 이걸로만 시켜먹음     NaN\n",
       "4677                                       대한민국 최고 배달어플     NaN\n",
       "4678          쿠폰이벤트해서 정각되자마자 들어갔더니 시스템오류뜨더니 주문이 아예 안되네요     NaN\n",
       "4679            별점 한개도 아깝다^^ 만명 실제로 결제확인된건지도 의문이드네 ㅎㅎ..     NaN\n",
       "\n",
       "[388 rows x 2 columns]"
      ]
     },
     "execution_count": 27,
     "metadata": {},
     "output_type": "execute_result"
    }
   ],
   "source": [
    "df_nan = df[df['pos_neg'].isnull()]\n",
    "df_nan"
   ]
  },
  {
   "cell_type": "code",
   "execution_count": 28,
   "metadata": {},
   "outputs": [
    {
     "data": {
      "text/plain": [
       "Reviews    0\n",
       "pos_neg    0\n",
       "dtype: int64"
      ]
     },
     "execution_count": 28,
     "metadata": {},
     "output_type": "execute_result"
    }
   ],
   "source": [
    "### df에서 NaN 값 제거\n",
    "df = df.dropna()\n",
    "df.isna().sum()"
   ]
  },
  {
   "cell_type": "markdown",
   "metadata": {},
   "source": [
    "### train/test 데이터 생성하기\n",
    "- train: 전체 데이터의 3/4 (75%)\n",
    "- test : 전체 데이터의 1/4 (25%)"
   ]
  },
  {
   "cell_type": "code",
   "execution_count": 29,
   "metadata": {},
   "outputs": [
    {
     "name": "stdout",
     "output_type": "stream",
     "text": [
      "784 3508\n"
     ]
    }
   ],
   "source": [
    "# 긍정/부정 데이터 개수 확인\n",
    "df_pos = df[df[\"pos_neg\"] == \"긍정\"]\n",
    "df_neg = df[df[\"pos_neg\"] == \"부정\"]\n",
    "\n",
    "print(len(df_pos), len(df_neg))"
   ]
  },
  {
   "cell_type": "code",
   "execution_count": 30,
   "metadata": {},
   "outputs": [
    {
     "name": "stdout",
     "output_type": "stream",
     "text": [
      "784 784\n"
     ]
    }
   ],
   "source": [
    "# 긍정과 부정 데이터 개수 동일하게 맞추기\n",
    "\n",
    "df_neg = df_neg.sample(784)\n",
    "print(len(df_pos), len(df_neg))"
   ]
  },
  {
   "cell_type": "code",
   "execution_count": 31,
   "metadata": {},
   "outputs": [
    {
     "name": "stdout",
     "output_type": "stream",
     "text": [
      "train: 588 test: 196\n"
     ]
    }
   ],
   "source": [
    "print(\"train:\", int(784*0.75), \"test:\", 784 - int(784*0.75))"
   ]
  },
  {
   "cell_type": "code",
   "execution_count": 32,
   "metadata": {},
   "outputs": [
    {
     "name": "stdout",
     "output_type": "stream",
     "text": [
      "1178 390\n"
     ]
    }
   ],
   "source": [
    "# train / test 데이터 준비\n",
    "df_train = pd.concat([df_pos[:589], df_neg[:589]])\n",
    "df_test = pd.concat([df_pos[589:], df_neg[589:]])\n",
    "\n",
    "print(len(df_train),len(df_test))"
   ]
  },
  {
   "cell_type": "code",
   "execution_count": 33,
   "metadata": {},
   "outputs": [
    {
     "data": {
      "text/html": [
       "<div>\n",
       "<style scoped>\n",
       "    .dataframe tbody tr th:only-of-type {\n",
       "        vertical-align: middle;\n",
       "    }\n",
       "\n",
       "    .dataframe tbody tr th {\n",
       "        vertical-align: top;\n",
       "    }\n",
       "\n",
       "    .dataframe thead th {\n",
       "        text-align: right;\n",
       "    }\n",
       "</style>\n",
       "<table border=\"1\" class=\"dataframe\">\n",
       "  <thead>\n",
       "    <tr style=\"text-align: right;\">\n",
       "      <th></th>\n",
       "      <th>Reviews</th>\n",
       "      <th>pos_neg</th>\n",
       "    </tr>\n",
       "  </thead>\n",
       "  <tbody>\n",
       "    <tr>\n",
       "      <th>0</th>\n",
       "      <td>12시까지 배달 부탁드렸는데 시간 맞춰서 따끈따끈 키친 배달해주셨네요 짱입니다 ^^</td>\n",
       "      <td>부정</td>\n",
       "    </tr>\n",
       "    <tr>\n",
       "      <th>1</th>\n",
       "      <td>배민은 괜히 배민이 아닌 거 같아요ㅠㅠㅠ넘 맛있는 배민 라이더스 맛집 찾아버렸고~ ...</td>\n",
       "      <td>긍정</td>\n",
       "    </tr>\n",
       "    <tr>\n",
       "      <th>2</th>\n",
       "      <td>편하고 좋아요7!</td>\n",
       "      <td>긍정</td>\n",
       "    </tr>\n",
       "    <tr>\n",
       "      <th>3</th>\n",
       "      <td>앱이 자꾸 튕깁니다. 메뉴 선택하고 결제하러 넘어가기 직전에서(초록색 탭을 클릭하는...</td>\n",
       "      <td>부정</td>\n",
       "    </tr>\n",
       "    <tr>\n",
       "      <th>4</th>\n",
       "      <td>다른 배달앱과 비교해서 나쁘지 않음</td>\n",
       "      <td>부정</td>\n",
       "    </tr>\n",
       "    <tr>\n",
       "      <th>5</th>\n",
       "      <td>배민 쏜다쿠폰보고 탈퇴삭제합니다. 내가 미친색히지.ㅡㅡ</td>\n",
       "      <td>부정</td>\n",
       "    </tr>\n",
       "    <tr>\n",
       "      <th>6</th>\n",
       "      <td>배민으로 시켜먹으면서 제일 큰 금액으로 받아본 쿠폰이 선착순으로 겨우 받은 만원짜리...</td>\n",
       "      <td>부정</td>\n",
       "    </tr>\n",
       "    <tr>\n",
       "      <th>7</th>\n",
       "      <td>유용하게 잘쓰고 있는데요 지난 주문내역을 삭제할수있게 해주세요 때론 지우고싶은 내역...</td>\n",
       "      <td>긍정</td>\n",
       "    </tr>\n",
       "    <tr>\n",
       "      <th>8</th>\n",
       "      <td>빠르고 조아요~~~</td>\n",
       "      <td>긍정</td>\n",
       "    </tr>\n",
       "    <tr>\n",
       "      <th>9</th>\n",
       "      <td>아니 이거 뭐져 쿠폰으로 음식을 시켰는데 돈은 빠져나가고 주문현황에는 아무곳도 안뜨...</td>\n",
       "      <td>부정</td>\n",
       "    </tr>\n",
       "  </tbody>\n",
       "</table>\n",
       "</div>"
      ],
      "text/plain": [
       "                                             Reviews pos_neg\n",
       "0     12시까지 배달 부탁드렸는데 시간 맞춰서 따끈따끈 키친 배달해주셨네요 짱입니다 ^^      부정\n",
       "1  배민은 괜히 배민이 아닌 거 같아요ㅠㅠㅠ넘 맛있는 배민 라이더스 맛집 찾아버렸고~ ...      긍정\n",
       "2                                          편하고 좋아요7!      긍정\n",
       "3  앱이 자꾸 튕깁니다. 메뉴 선택하고 결제하러 넘어가기 직전에서(초록색 탭을 클릭하는...      부정\n",
       "4                                다른 배달앱과 비교해서 나쁘지 않음      부정\n",
       "5                     배민 쏜다쿠폰보고 탈퇴삭제합니다. 내가 미친색히지.ㅡㅡ      부정\n",
       "6  배민으로 시켜먹으면서 제일 큰 금액으로 받아본 쿠폰이 선착순으로 겨우 받은 만원짜리...      부정\n",
       "7  유용하게 잘쓰고 있는데요 지난 주문내역을 삭제할수있게 해주세요 때론 지우고싶은 내역...      긍정\n",
       "8                                         빠르고 조아요~~~      긍정\n",
       "9  아니 이거 뭐져 쿠폰으로 음식을 시켰는데 돈은 빠져나가고 주문현황에는 아무곳도 안뜨...      부정"
      ]
     },
     "execution_count": 33,
     "metadata": {},
     "output_type": "execute_result"
    }
   ],
   "source": [
    "# 데이터 순서를 랜덤하게 만들기\n",
    "df_train = df_train.sample(1178).reset_index(drop = True)\n",
    "df_test = df_test.sample(390).reset_index(drop = True)\n",
    "df_test.head(10)"
   ]
  },
  {
   "cell_type": "code",
   "execution_count": 34,
   "metadata": {},
   "outputs": [],
   "source": [
    "# 튜플 구조로 변경\n",
    "def tup_che(df_t):\n",
    "    tr_te = []\n",
    "    for i in range(len(df_t)):\n",
    "        tr_te.append((df_t.iloc[i, 0], df_t.iloc[i, 1]))\n",
    "    return tr_te\n",
    "\n"
   ]
  },
  {
   "cell_type": "code",
   "execution_count": 35,
   "metadata": {},
   "outputs": [
    {
     "data": {
      "text/plain": [
       "[('잘사용하고있어요 ^^', '부정'),\n",
       " ('첫사용5천원쿠폰 알차게 잘 썼습니다. 주문하기도 편하고 이런저런 이벤트도 타사보다 많네요. 오늘 잘 먹었습니다^^', '긍정'),\n",
       " ('다른 배달 어플보다 쿠폰을 더 자주 많이 주니까 좋아요', '부정'),\n",
       " ('좋아서 잘 쓰고 있어요^^', '부정'),\n",
       " ('쿠폰사논게 있어서 쓰려고 주문하기 하니 계속 오류네요ㅜㅜ 주문하기로 넘어가질 않아요ㅜㅜ', '긍정')]"
      ]
     },
     "execution_count": 35,
     "metadata": {},
     "output_type": "execute_result"
    }
   ],
   "source": [
    "train = tup_che(df_train)\n",
    "test = tup_che(df_test)\n",
    "\n",
    "train[:5]"
   ]
  },
  {
   "cell_type": "code",
   "execution_count": 38,
   "metadata": {},
   "outputs": [
    {
     "name": "stderr",
     "output_type": "stream",
     "text": [
      "[nltk_data] Downloading package punkt to\n",
      "[nltk_data]     /Users/wondongchan/nltk_data...\n",
      "[nltk_data]   Package punkt is already up-to-date!\n"
     ]
    },
    {
     "data": {
      "text/plain": [
       "True"
      ]
     },
     "execution_count": 38,
     "metadata": {},
     "output_type": "execute_result"
    }
   ],
   "source": [
    "import nltk\n",
    "nltk.download('punkt')"
   ]
  },
  {
   "cell_type": "code",
   "execution_count": 39,
   "metadata": {},
   "outputs": [
    {
     "name": "stdout",
     "output_type": "stream",
     "text": [
      "정확도: 0.6743589743589744\n"
     ]
    }
   ],
   "source": [
    "from textblob import TextBlob\n",
    "from textblob.classifiers import NaiveBayesClassifier\n",
    "\n",
    "pos_neg = NaiveBayesClassifier(train)\n",
    "test_acc = pos_neg.accuracy(test)\n",
    "\n",
    "print(f'정확도: {test_acc}')"
   ]
  },
  {
   "cell_type": "code",
   "execution_count": 46,
   "metadata": {},
   "outputs": [
    {
     "data": {
      "text/html": [
       "<div>\n",
       "<style scoped>\n",
       "    .dataframe tbody tr th:only-of-type {\n",
       "        vertical-align: middle;\n",
       "    }\n",
       "\n",
       "    .dataframe tbody tr th {\n",
       "        vertical-align: top;\n",
       "    }\n",
       "\n",
       "    .dataframe thead th {\n",
       "        text-align: right;\n",
       "    }\n",
       "</style>\n",
       "<table border=\"1\" class=\"dataframe\">\n",
       "  <thead>\n",
       "    <tr style=\"text-align: right;\">\n",
       "      <th></th>\n",
       "      <th>Reviews</th>\n",
       "      <th>pos_neg</th>\n",
       "    </tr>\n",
       "  </thead>\n",
       "  <tbody>\n",
       "    <tr>\n",
       "      <th>0</th>\n",
       "      <td>써본지는 얼마 안되지만 몇번 배달시켜 먹어본 결과, 편리하고 좋아요^^ 맛있는 맛집...</td>\n",
       "      <td>NaN</td>\n",
       "    </tr>\n",
       "    <tr>\n",
       "      <th>1</th>\n",
       "      <td>언제 먹어도 맛있는족발 ,콜라겐 덩어리 ..맛있게 먹고.젊어지고..아미족발 굿 .....</td>\n",
       "      <td>NaN</td>\n",
       "    </tr>\n",
       "    <tr>\n",
       "      <th>2</th>\n",
       "      <td>이벤트가 전부 선착순에 신규유저만 참여가능, 뽑기 등 혜택을 받고 싶어도 못받는 이...</td>\n",
       "      <td>NaN</td>\n",
       "    </tr>\n",
       "    <tr>\n",
       "      <th>3</th>\n",
       "      <td>배달이 빨랐고 , 탕슉도 맛있어요. 탕슉안에 만두가 속이 알차요.\\t\\t\\t\\t\\t...</td>\n",
       "      <td>NaN</td>\n",
       "    </tr>\n",
       "    <tr>\n",
       "      <th>4</th>\n",
       "      <td>괜찮은 어플. 리뷰도 있고, 주문도 쉽고 빠름.배달시킬때마다 배민사용함\\t\\t\\t\\...</td>\n",
       "      <td>NaN</td>\n",
       "    </tr>\n",
       "    <tr>\n",
       "      <th>...</th>\n",
       "      <td>...</td>\n",
       "      <td>...</td>\n",
       "    </tr>\n",
       "    <tr>\n",
       "      <th>383</th>\n",
       "      <td>아주편리하게 이용하고있습니다</td>\n",
       "      <td>NaN</td>\n",
       "    </tr>\n",
       "    <tr>\n",
       "      <th>384</th>\n",
       "      <td>매번 이걸로만 시켜먹음</td>\n",
       "      <td>NaN</td>\n",
       "    </tr>\n",
       "    <tr>\n",
       "      <th>385</th>\n",
       "      <td>대한민국 최고 배달어플</td>\n",
       "      <td>NaN</td>\n",
       "    </tr>\n",
       "    <tr>\n",
       "      <th>386</th>\n",
       "      <td>쿠폰이벤트해서 정각되자마자 들어갔더니 시스템오류뜨더니 주문이 아예 안되네요</td>\n",
       "      <td>NaN</td>\n",
       "    </tr>\n",
       "    <tr>\n",
       "      <th>387</th>\n",
       "      <td>별점 한개도 아깝다^^ 만명 실제로 결제확인된건지도 의문이드네 ㅎㅎ..</td>\n",
       "      <td>NaN</td>\n",
       "    </tr>\n",
       "  </tbody>\n",
       "</table>\n",
       "<p>388 rows × 2 columns</p>\n",
       "</div>"
      ],
      "text/plain": [
       "                                               Reviews pos_neg\n",
       "0    써본지는 얼마 안되지만 몇번 배달시켜 먹어본 결과, 편리하고 좋아요^^ 맛있는 맛집...     NaN\n",
       "1    언제 먹어도 맛있는족발 ,콜라겐 덩어리 ..맛있게 먹고.젊어지고..아미족발 굿 .....     NaN\n",
       "2    이벤트가 전부 선착순에 신규유저만 참여가능, 뽑기 등 혜택을 받고 싶어도 못받는 이...     NaN\n",
       "3    배달이 빨랐고 , 탕슉도 맛있어요. 탕슉안에 만두가 속이 알차요.\\t\\t\\t\\t\\t...     NaN\n",
       "4    괜찮은 어플. 리뷰도 있고, 주문도 쉽고 빠름.배달시킬때마다 배민사용함\\t\\t\\t\\...     NaN\n",
       "..                                                 ...     ...\n",
       "383                                    아주편리하게 이용하고있습니다     NaN\n",
       "384                                       매번 이걸로만 시켜먹음     NaN\n",
       "385                                       대한민국 최고 배달어플     NaN\n",
       "386          쿠폰이벤트해서 정각되자마자 들어갔더니 시스템오류뜨더니 주문이 아예 안되네요     NaN\n",
       "387            별점 한개도 아깝다^^ 만명 실제로 결제확인된건지도 의문이드네 ㅎㅎ..     NaN\n",
       "\n",
       "[388 rows x 2 columns]"
      ]
     },
     "execution_count": 46,
     "metadata": {},
     "output_type": "execute_result"
    }
   ],
   "source": [
    "df_nan"
   ]
  },
  {
   "cell_type": "code",
   "execution_count": 43,
   "metadata": {},
   "outputs": [],
   "source": [
    "df_nan = df_nan.reset_index(drop=True)"
   ]
  },
  {
   "cell_type": "code",
   "execution_count": 47,
   "metadata": {},
   "outputs": [
    {
     "data": {
      "text/html": [
       "<div>\n",
       "<style scoped>\n",
       "    .dataframe tbody tr th:only-of-type {\n",
       "        vertical-align: middle;\n",
       "    }\n",
       "\n",
       "    .dataframe tbody tr th {\n",
       "        vertical-align: top;\n",
       "    }\n",
       "\n",
       "    .dataframe thead th {\n",
       "        text-align: right;\n",
       "    }\n",
       "</style>\n",
       "<table border=\"1\" class=\"dataframe\">\n",
       "  <thead>\n",
       "    <tr style=\"text-align: right;\">\n",
       "      <th></th>\n",
       "      <th>Reviews</th>\n",
       "      <th>pos_neg</th>\n",
       "    </tr>\n",
       "  </thead>\n",
       "  <tbody>\n",
       "    <tr>\n",
       "      <th>0</th>\n",
       "      <td>써본지는 얼마 안되지만 몇번 배달시켜 먹어본 결과, 편리하고 좋아요^^ 맛있는 맛집...</td>\n",
       "      <td>NaN</td>\n",
       "    </tr>\n",
       "    <tr>\n",
       "      <th>1</th>\n",
       "      <td>언제 먹어도 맛있는족발 ,콜라겐 덩어리 ..맛있게 먹고.젊어지고..아미족발 굿 .....</td>\n",
       "      <td>NaN</td>\n",
       "    </tr>\n",
       "    <tr>\n",
       "      <th>2</th>\n",
       "      <td>이벤트가 전부 선착순에 신규유저만 참여가능, 뽑기 등 혜택을 받고 싶어도 못받는 이...</td>\n",
       "      <td>NaN</td>\n",
       "    </tr>\n",
       "    <tr>\n",
       "      <th>3</th>\n",
       "      <td>배달이 빨랐고 , 탕슉도 맛있어요. 탕슉안에 만두가 속이 알차요.\\t\\t\\t\\t\\t...</td>\n",
       "      <td>NaN</td>\n",
       "    </tr>\n",
       "    <tr>\n",
       "      <th>4</th>\n",
       "      <td>괜찮은 어플. 리뷰도 있고, 주문도 쉽고 빠름.배달시킬때마다 배민사용함\\t\\t\\t\\...</td>\n",
       "      <td>NaN</td>\n",
       "    </tr>\n",
       "  </tbody>\n",
       "</table>\n",
       "</div>"
      ],
      "text/plain": [
       "                                             Reviews pos_neg\n",
       "0  써본지는 얼마 안되지만 몇번 배달시켜 먹어본 결과, 편리하고 좋아요^^ 맛있는 맛집...     NaN\n",
       "1  언제 먹어도 맛있는족발 ,콜라겐 덩어리 ..맛있게 먹고.젊어지고..아미족발 굿 .....     NaN\n",
       "2  이벤트가 전부 선착순에 신규유저만 참여가능, 뽑기 등 혜택을 받고 싶어도 못받는 이...     NaN\n",
       "3  배달이 빨랐고 , 탕슉도 맛있어요. 탕슉안에 만두가 속이 알차요.\\t\\t\\t\\t\\t...     NaN\n",
       "4  괜찮은 어플. 리뷰도 있고, 주문도 쉽고 빠름.배달시킬때마다 배민사용함\\t\\t\\t\\...     NaN"
      ]
     },
     "execution_count": 47,
     "metadata": {},
     "output_type": "execute_result"
    }
   ],
   "source": [
    "df_nan.head()"
   ]
  },
  {
   "cell_type": "code",
   "execution_count": 53,
   "metadata": {},
   "outputs": [
    {
     "data": {
      "text/plain": [
       "'긍정'"
      ]
     },
     "execution_count": 53,
     "metadata": {},
     "output_type": "execute_result"
    }
   ],
   "source": [
    "pos_neg.classify(df_nan.loc[0, 'Reviews'])"
   ]
  },
  {
   "cell_type": "code",
   "execution_count": 56,
   "metadata": {},
   "outputs": [
    {
     "data": {
      "text/html": [
       "<div>\n",
       "<style scoped>\n",
       "    .dataframe tbody tr th:only-of-type {\n",
       "        vertical-align: middle;\n",
       "    }\n",
       "\n",
       "    .dataframe tbody tr th {\n",
       "        vertical-align: top;\n",
       "    }\n",
       "\n",
       "    .dataframe thead th {\n",
       "        text-align: right;\n",
       "    }\n",
       "</style>\n",
       "<table border=\"1\" class=\"dataframe\">\n",
       "  <thead>\n",
       "    <tr style=\"text-align: right;\">\n",
       "      <th></th>\n",
       "      <th>Reviews</th>\n",
       "      <th>pos_neg</th>\n",
       "    </tr>\n",
       "  </thead>\n",
       "  <tbody>\n",
       "    <tr>\n",
       "      <th>0</th>\n",
       "      <td>써본지는 얼마 안되지만 몇번 배달시켜 먹어본 결과, 편리하고 좋아요^^ 맛있는 맛집...</td>\n",
       "      <td>긍정</td>\n",
       "    </tr>\n",
       "    <tr>\n",
       "      <th>1</th>\n",
       "      <td>언제 먹어도 맛있는족발 ,콜라겐 덩어리 ..맛있게 먹고.젊어지고..아미족발 굿 .....</td>\n",
       "      <td>긍정</td>\n",
       "    </tr>\n",
       "    <tr>\n",
       "      <th>2</th>\n",
       "      <td>이벤트가 전부 선착순에 신규유저만 참여가능, 뽑기 등 혜택을 받고 싶어도 못받는 이...</td>\n",
       "      <td>긍정</td>\n",
       "    </tr>\n",
       "    <tr>\n",
       "      <th>3</th>\n",
       "      <td>배달이 빨랐고 , 탕슉도 맛있어요. 탕슉안에 만두가 속이 알차요.\\t\\t\\t\\t\\t...</td>\n",
       "      <td>긍정</td>\n",
       "    </tr>\n",
       "    <tr>\n",
       "      <th>4</th>\n",
       "      <td>괜찮은 어플. 리뷰도 있고, 주문도 쉽고 빠름.배달시킬때마다 배민사용함\\t\\t\\t\\...</td>\n",
       "      <td>긍정</td>\n",
       "    </tr>\n",
       "    <tr>\n",
       "      <th>...</th>\n",
       "      <td>...</td>\n",
       "      <td>...</td>\n",
       "    </tr>\n",
       "    <tr>\n",
       "      <th>383</th>\n",
       "      <td>아주편리하게 이용하고있습니다</td>\n",
       "      <td>긍정</td>\n",
       "    </tr>\n",
       "    <tr>\n",
       "      <th>384</th>\n",
       "      <td>매번 이걸로만 시켜먹음</td>\n",
       "      <td>긍정</td>\n",
       "    </tr>\n",
       "    <tr>\n",
       "      <th>385</th>\n",
       "      <td>대한민국 최고 배달어플</td>\n",
       "      <td>긍정</td>\n",
       "    </tr>\n",
       "    <tr>\n",
       "      <th>386</th>\n",
       "      <td>쿠폰이벤트해서 정각되자마자 들어갔더니 시스템오류뜨더니 주문이 아예 안되네요</td>\n",
       "      <td>부정</td>\n",
       "    </tr>\n",
       "    <tr>\n",
       "      <th>387</th>\n",
       "      <td>별점 한개도 아깝다^^ 만명 실제로 결제확인된건지도 의문이드네 ㅎㅎ..</td>\n",
       "      <td>긍정</td>\n",
       "    </tr>\n",
       "  </tbody>\n",
       "</table>\n",
       "<p>388 rows × 2 columns</p>\n",
       "</div>"
      ],
      "text/plain": [
       "                                               Reviews pos_neg\n",
       "0    써본지는 얼마 안되지만 몇번 배달시켜 먹어본 결과, 편리하고 좋아요^^ 맛있는 맛집...      긍정\n",
       "1    언제 먹어도 맛있는족발 ,콜라겐 덩어리 ..맛있게 먹고.젊어지고..아미족발 굿 .....      긍정\n",
       "2    이벤트가 전부 선착순에 신규유저만 참여가능, 뽑기 등 혜택을 받고 싶어도 못받는 이...      긍정\n",
       "3    배달이 빨랐고 , 탕슉도 맛있어요. 탕슉안에 만두가 속이 알차요.\\t\\t\\t\\t\\t...      긍정\n",
       "4    괜찮은 어플. 리뷰도 있고, 주문도 쉽고 빠름.배달시킬때마다 배민사용함\\t\\t\\t\\...      긍정\n",
       "..                                                 ...     ...\n",
       "383                                    아주편리하게 이용하고있습니다      긍정\n",
       "384                                       매번 이걸로만 시켜먹음      긍정\n",
       "385                                       대한민국 최고 배달어플      긍정\n",
       "386          쿠폰이벤트해서 정각되자마자 들어갔더니 시스템오류뜨더니 주문이 아예 안되네요      부정\n",
       "387            별점 한개도 아깝다^^ 만명 실제로 결제확인된건지도 의문이드네 ㅎㅎ..      긍정\n",
       "\n",
       "[388 rows x 2 columns]"
      ]
     },
     "execution_count": 56,
     "metadata": {},
     "output_type": "execute_result"
    }
   ],
   "source": [
    "# 데이터 정규식 표현으로 데이터 정리\n",
    "# 긍정/부정 값 pos_neg 필드에 추가\n",
    "\n",
    "import re\n",
    "\n",
    "txt_pos_neg = []\n",
    "\n",
    "for i in df_nan.index:\n",
    "    text = re.sub('[\\t]',\"\",df_nan.loc[i, 'Reviews'])\n",
    "    txt_pos_neg.append(pos_neg.classify(text))\n",
    "\n",
    "df_nan['pos_neg'] = txt_pos_neg\n",
    "df_nan"
   ]
  },
  {
   "cell_type": "code",
   "execution_count": 62,
   "metadata": {},
   "outputs": [
    {
     "data": {
      "text/html": [
       "<div>\n",
       "<style scoped>\n",
       "    .dataframe tbody tr th:only-of-type {\n",
       "        vertical-align: middle;\n",
       "    }\n",
       "\n",
       "    .dataframe tbody tr th {\n",
       "        vertical-align: top;\n",
       "    }\n",
       "\n",
       "    .dataframe thead th {\n",
       "        text-align: right;\n",
       "    }\n",
       "</style>\n",
       "<table border=\"1\" class=\"dataframe\">\n",
       "  <thead>\n",
       "    <tr style=\"text-align: right;\">\n",
       "      <th></th>\n",
       "      <th>pos_neg</th>\n",
       "    </tr>\n",
       "    <tr>\n",
       "      <th>pos_neg</th>\n",
       "      <th></th>\n",
       "    </tr>\n",
       "  </thead>\n",
       "  <tbody>\n",
       "    <tr>\n",
       "      <th>긍정</th>\n",
       "      <td>149</td>\n",
       "    </tr>\n",
       "    <tr>\n",
       "      <th>부정</th>\n",
       "      <td>239</td>\n",
       "    </tr>\n",
       "  </tbody>\n",
       "</table>\n",
       "</div>"
      ],
      "text/plain": [
       "         pos_neg\n",
       "pos_neg         \n",
       "긍정           149\n",
       "부정           239"
      ]
     },
     "execution_count": 62,
     "metadata": {},
     "output_type": "execute_result"
    }
   ],
   "source": [
    "# 배민 어플에 대한 긍부정 평가\n",
    "df_nan.groupby('pos_neg')[[\"pos_neg\"]].count()"
   ]
  },
  {
   "cell_type": "code",
   "execution_count": 37,
   "metadata": {},
   "outputs": [
    {
     "data": {
      "text/plain": [
       "['pos_neg_20220412.pkl']"
      ]
     },
     "execution_count": 37,
     "metadata": {},
     "output_type": "execute_result"
    }
   ],
   "source": [
    "# model save\n",
    "import joblib\n",
    "joblib.dump(pos_neg, 'pos_neg_20220412.pkl')"
   ]
  },
  {
   "cell_type": "code",
   "execution_count": null,
   "metadata": {},
   "outputs": [],
   "source": []
  },
  {
   "cell_type": "code",
   "execution_count": null,
   "metadata": {},
   "outputs": [],
   "source": []
  },
  {
   "cell_type": "code",
   "execution_count": null,
   "metadata": {},
   "outputs": [],
   "source": []
  }
 ],
 "metadata": {
  "colab": {
   "authorship_tag": "ABX9TyNMKVXjN1QAML8DRYk1oqad",
   "collapsed_sections": [],
   "name": "4. TextBlob 라이브러리를 이용한 감정분석.ipynb",
   "private_outputs": true,
   "provenance": []
  },
  "kernelspec": {
   "display_name": "Python 3 (ipykernel)",
   "language": "python",
   "name": "python3"
  },
  "language_info": {
   "codemirror_mode": {
    "name": "ipython",
    "version": 3
   },
   "file_extension": ".py",
   "mimetype": "text/x-python",
   "name": "python",
   "nbconvert_exporter": "python",
   "pygments_lexer": "ipython3",
   "version": "3.9.7"
  }
 },
 "nbformat": 4,
 "nbformat_minor": 1
}
