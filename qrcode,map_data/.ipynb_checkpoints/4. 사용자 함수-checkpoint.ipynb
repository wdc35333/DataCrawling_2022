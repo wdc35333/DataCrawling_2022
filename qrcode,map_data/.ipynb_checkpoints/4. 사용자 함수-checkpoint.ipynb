{
 "cells": [
  {
   "cell_type": "markdown",
   "metadata": {
    "id": "dmnKAbsWi2Rn"
   },
   "source": [
    "### 사용자 함수\n",
    "- 프로그래밍에서 반복적으로 사용하는 코드를 함수로 정의\n",
    "- 파이썬 함수 구조\n",
    "![image.png](data:image/png;base64,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)\n",
    "- 참조: https://wikidocs.net/24"
   ]
  },
  {
   "cell_type": "code",
   "execution_count": 1,
   "metadata": {
    "colab": {
     "base_uri": "https://localhost:8080/"
    },
    "executionInfo": {
     "elapsed": 3,
     "status": "ok",
     "timestamp": 1646894552716,
     "user": {
      "displayName": "dc w",
      "photoUrl": "https://lh3.googleusercontent.com/a/default-user=s64",
      "userId": "02032790542712423852"
     },
     "user_tz": -540
    },
    "id": "BvZaCyxOi3Md",
    "outputId": "dcce53e1-323b-4c73-d9d8-3d0bf1f1f545"
   },
   "outputs": [
    {
     "name": "stdout",
     "output_type": "stream",
     "text": [
      "원동찬님의 나이는 28입니다.\n"
     ]
    }
   ],
   "source": [
    "## 실행문만 있는 함수\n",
    "\n",
    "## 함수 생성\n",
    "def prn_hello(name, age):\n",
    "    print(f'{name}님의 나이는 {age}입니다.')\n",
    "\n",
    "## 함수 호출\n",
    "prn_hello(\"원동찬\", 28)"
   ]
  },
  {
   "cell_type": "code",
   "execution_count": 2,
   "metadata": {
    "colab": {
     "base_uri": "https://localhost:8080/"
    },
    "executionInfo": {
     "elapsed": 287,
     "status": "ok",
     "timestamp": 1646896535835,
     "user": {
      "displayName": "dc w",
      "photoUrl": "https://lh3.googleusercontent.com/a/default-user=s64",
      "userId": "02032790542712423852"
     },
     "user_tz": -540
    },
    "id": "8x66D3mok9X4",
    "outputId": "52c1d140-d0d3-4023-9ace-49a35baed79a"
   },
   "outputs": [
    {
     "name": "stdout",
     "output_type": "stream",
     "text": [
      "함수호출결과: 30\n",
      "함수호출결과: 30\n",
      "함수a: 10, 함수b:20\n"
     ]
    }
   ],
   "source": [
    "## 두 수를 입력받아 더하기를 실행하고 결과를 돌려주는\n",
    "\n",
    "def add(a,b):\n",
    "    tot = a + b\n",
    "    return tot\n",
    "\n",
    "## 함수 호출\n",
    "ptot=add(10,20)\n",
    "print(f'함수호출결과: {ptot}')\n",
    "\n",
    "### 함수에서 여러개의 결과값 전달\n",
    "\n",
    "def add1(a,b):\n",
    "    tot = a + b\n",
    "    return a, b, tot\n",
    "\n",
    "pa,pb,ptot = add1(10,20)\n",
    "print(f\"함수호출결과: {ptot}\")\n",
    "print(f\"함수a: {pa}, 함수b:{pb}\")"
   ]
  },
  {
   "cell_type": "markdown",
   "metadata": {
    "id": "k2zGubmesZIk"
   },
   "source": [
    "### folium 모듈을 이용한 지도 그리기\n",
    "- folium 모듈 설치/연결"
   ]
  },
  {
   "cell_type": "code",
   "execution_count": 3,
   "metadata": {
    "executionInfo": {
     "elapsed": 242,
     "status": "ok",
     "timestamp": 1646898447801,
     "user": {
      "displayName": "dc w",
      "photoUrl": "https://lh3.googleusercontent.com/a/default-user=s64",
      "userId": "02032790542712423852"
     },
     "user_tz": -540
    },
    "id": "d90nbdx9rtVf"
   },
   "outputs": [],
   "source": [
    "import folium\n",
    "\n",
    "map = folium.Map(location=[36.48026343330978, 127.28923349814958], zoom_start = 16)\n",
    "map.save('map_1.html')\n",
    "#map"
   ]
  },
  {
   "cell_type": "code",
   "execution_count": 4,
   "metadata": {
    "executionInfo": {
     "elapsed": 284,
     "status": "ok",
     "timestamp": 1646898450000,
     "user": {
      "displayName": "dc w",
      "photoUrl": "https://lh3.googleusercontent.com/a/default-user=s64",
      "userId": "02032790542712423852"
     },
     "user_tz": -540
    },
    "id": "qjwqy1Jjte_w"
   },
   "outputs": [],
   "source": [
    "# map에 위치 표시하기\n",
    "folium.Marker([36.48026343330978, 127.28923349814958],          # 표식이 출력될 위치\n",
    "              popup=\"세종시청\",                                   # 마우스를 클릭하면 출력할 내용\n",
    "              icon=folium.Icon(color=\"blue\")).add_to(map)\n",
    "map.save('map_1.html')"
   ]
  },
  {
   "cell_type": "code",
   "execution_count": 5,
   "metadata": {
    "id": "DfDrZpR2zh6b"
   },
   "outputs": [],
   "source": [
    "# map에 위치 표시하기\n",
    "folium.Marker([37.503, 127.049],          # 표식이 출력될 위치\n",
    "              popup=\"멀티캠퍼스 선릉\",                                   # 마우스를 클릭하면 출력할 내용\n",
    "              icon=folium.Icon(color=\"blue\")).add_to(map)\n",
    "map.save('map_1.html')"
   ]
  },
  {
   "cell_type": "markdown",
   "metadata": {
    "id": "H1OGdrFY2mI7"
   },
   "source": [
    "#### 관광정보 csv 파일로 맵 그리기"
   ]
  },
  {
   "cell_type": "markdown",
   "metadata": {
    "id": "BSkt_q6P2u_4"
   },
   "source": [
    "1. 관광정보.csv 파일 읽어오기"
   ]
  },
  {
   "cell_type": "code",
   "execution_count": 7,
   "metadata": {
    "colab": {
     "base_uri": "https://localhost:8080/"
    },
    "executionInfo": {
     "elapsed": 246,
     "status": "ok",
     "timestamp": 1646900868170,
     "user": {
      "displayName": "dc w",
      "photoUrl": "https://lh3.googleusercontent.com/a/default-user=s64",
      "userId": "02032790542712423852"
     },
     "user_tz": -540
    },
    "id": "Ix8F6Faw2ZFD",
    "outputId": "48213530-a56f-4635-c8ee-33b1feedcb4b"
   },
   "outputs": [
    {
     "name": "stdout",
     "output_type": "stream",
     "text": [
      "[['0', '가락몰 페스티벌 2019', '서울특별시 송파구 양재대로 932', '02-3435-1000', '2019-10-11', '2019-10-12', '37.4960925880', '127.1109831778'], ['1', '가리왕산 MUSIC FESTIVAL 2020', '강원도 정선군 북평면 중봉길 41-35', '033-560-3016', '2020-08-21', '2020-08-22', '37.4742535268', '128.6097538017'], ['2', '가야문화축제 2020', '경상남도 김해시 가야의길 126', '055-330-3958', '2020-10-29', '2020-11-01', '35.2360687598', '128.8731002475'], ['3', '\"가을 밀양강 오딧세이 \"\"아리랑 환타지! 밀양!\"\" 2019\"', '경상남도 밀양시 중앙로 324 영남루 및 밀양강 야외 공연장 일대', '055-359-4527', '2019-10-18', '2019-10-19', '35.4921350361', '128.7552590901'], ['4', '가을 화담숲 단풍 축제 2019', '경기도 광주시 도척면 도척윗로 278', '031-8026-6666', '2019-10-12', '2019-11-10', '37.3374836915', '127.2922239974'], ['5', '가을맥주페스타 2019', '\"부산광역시 부산진구 서면문화로 32 3', '4층\"', '070-4880-2678', '2019-09-26', '2019-09-29', '35.1599862176', '129.0563669161'], ['6', '가족사랑 걷기대회 2019', '부산광역시 사하구 낙동남로1233번길 1', '\"낙동강문화관 (연락처) 051-292-1042', ' 사하구건강가정지원센터 (연락처) 051-203-4588\"', '2019-09-28', '2019-09-28', '35.1083149990', '128.9474472484'], ['7', '가족사랑 아이스축제 2019', '대구광역시 서구 문화로 122', '053-663-2184', '2019-07-27', '2019-07-27', '35.8736186548', '128.5454780875'], ['8', '가족여행과 함께하는 고성 오션투유 삼포해수욕장 연날리기 축제 2019', '강원도 고성군 죽왕면 삼포리 1-1', '1666-5683', '2019-01-01', '2019-12-31', '38.3128520737', '128.5370623742'], ['9', '\"가좌아트위크 \\'잠시', ' 쉬어가좌\\' 2019\"', '서울특별시 서대문구 증가로10길 28', '02-3140-8028', '2019-10-18', '2019-10-19', '37.5784852121', '126.9238923275']]\n"
     ]
    }
   ],
   "source": [
    "f = open(\"./관광정보.csv\",\"r\")\n",
    "data = f.readlines()    # 전체를 리스트 형식으로 읽어오기(행단위)\n",
    "f.close()   # 관광정보.csv 파일 닫기\n",
    "data_lst = []\n",
    "# print(data[1])  # 관광정보.csv 데이터 위쪽 10개만 출력 \n",
    "for i in range(1,11):\n",
    "    data_lst.append(data[i].replace(\"\\n\",\"\").split(\",\")) # i번째 데이터에서 \"\\n\" 제거 후 \",\"로 나누기\n",
    "print(data_lst)"
   ]
  },
  {
   "cell_type": "code",
   "execution_count": 8,
   "metadata": {
    "executionInfo": {
     "elapsed": 264,
     "status": "ok",
     "timestamp": 1646900875526,
     "user": {
      "displayName": "dc w",
      "photoUrl": "https://lh3.googleusercontent.com/a/default-user=s64",
      "userId": "02032790542712423852"
     },
     "user_tz": -540
    },
    "id": "dpTn3N2n496h"
   },
   "outputs": [],
   "source": [
    "import folium\n",
    "\n",
    "map = folium.Map(location=[36.4804704, 127.289222], zoom_start=10)"
   ]
  },
  {
   "cell_type": "code",
   "execution_count": 9,
   "metadata": {
    "executionInfo": {
     "elapsed": 2,
     "status": "ok",
     "timestamp": 1646900876968,
     "user": {
      "displayName": "dc w",
      "photoUrl": "https://lh3.googleusercontent.com/a/default-user=s64",
      "userId": "02032790542712423852"
     },
     "user_tz": -540
    },
    "id": "kkS-xioT5ZU4"
   },
   "outputs": [],
   "source": [
    "def map_prn(lat, lng, pop):\n",
    "    folium.Marker([lat, lng], popup=\"pop\", icon=folium.Icon(color=\"red\")).add_to(map)\n"
   ]
  },
  {
   "cell_type": "code",
   "execution_count": 11,
   "metadata": {
    "executionInfo": {
     "elapsed": 397,
     "status": "ok",
     "timestamp": 1646900973177,
     "user": {
      "displayName": "dc w",
      "photoUrl": "https://lh3.googleusercontent.com/a/default-user=s64",
      "userId": "02032790542712423852"
     },
     "user_tz": -540
    },
    "id": "LmhnGRZM55GR"
   },
   "outputs": [],
   "source": [
    "for i in range(0,10):\n",
    "    map_prn(float(data_lst[i][-2]), float(data_lst[i][-1]), data_lst[i][1])\n",
    "map.save(\"./관광맵.html\")"
   ]
  },
  {
   "cell_type": "markdown",
   "metadata": {
    "id": "g2B02ElI9xtn"
   },
   "source": [
    "#### [미션] 관광정보에서 상위 열개의 정보 지도에 표시\n",
    "- 제목 또는 주소에 쉼표(\",\")가 포함되면 출력하지 않음"
   ]
  },
  {
   "cell_type": "code",
   "execution_count": 13,
   "metadata": {
    "executionInfo": {
     "elapsed": 272,
     "status": "ok",
     "timestamp": 1646902485037,
     "user": {
      "displayName": "dc w",
      "photoUrl": "https://lh3.googleusercontent.com/a/default-user=s64",
      "userId": "02032790542712423852"
     },
     "user_tz": -540
    },
    "id": "I41lw0-49-SK"
   },
   "outputs": [],
   "source": [
    "f = open(\"./관광정보.csv\",\"r\")\n",
    "data = f.readlines()\n",
    "f.close()\n",
    "\n",
    "data_lst = [data[i].replace(\"\\n\",\"\").split(\",\") for i in range(1,11)]\n",
    "\n",
    "\n",
    "map = folium.Map(location=[36.4804704, 127.289222], zoom_start = 10)\n",
    "#### 데이터 갯수가 8개이면 출력\n",
    "for t in data_lst:\n",
    "    try:\n",
    "        if len(t) == 8:\n",
    "            map_prn(float(t[-2]), float(t[-1],t[1]))\n",
    "    except:\n",
    "        pass\n",
    "map.save(\"./관광맵.html\")"
   ]
  },
  {
   "cell_type": "code",
   "execution_count": null,
   "metadata": {},
   "outputs": [],
   "source": []
  }
 ],
 "metadata": {
  "colab": {
   "authorship_tag": "ABX9TyPACVw1Tw91e0fTFE4kDtuJ",
   "collapsed_sections": [],
   "name": "4. 사용자 함수.ipynb",
   "provenance": []
  },
  "kernelspec": {
   "display_name": "Python 3 (ipykernel)",
   "language": "python",
   "name": "python3"
  },
  "language_info": {
   "codemirror_mode": {
    "name": "ipython",
    "version": 3
   },
   "file_extension": ".py",
   "mimetype": "text/x-python",
   "name": "python",
   "nbconvert_exporter": "python",
   "pygments_lexer": "ipython3",
   "version": "3.9.7"
  }
 },
 "nbformat": 4,
 "nbformat_minor": 1
}
