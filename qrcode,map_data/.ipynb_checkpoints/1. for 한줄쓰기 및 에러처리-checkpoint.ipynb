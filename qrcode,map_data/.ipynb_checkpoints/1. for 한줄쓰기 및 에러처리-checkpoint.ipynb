{
 "cells": [
  {
   "cell_type": "code",
   "execution_count": 1,
   "metadata": {
    "colab": {
     "base_uri": "https://localhost:8080/"
    },
    "executionInfo": {
     "elapsed": 3,
     "status": "ok",
     "timestamp": 1646872687775,
     "user": {
      "displayName": "dc w",
      "photoUrl": "https://lh3.googleusercontent.com/a/default-user=s64",
      "userId": "02032790542712423852"
     },
     "user_tz": -540
    },
    "id": "KqQgSFAzPyDp",
    "outputId": "acf07eff-27e8-47c7-c387-1e6ec7da2117"
   },
   "outputs": [
    {
     "name": "stdout",
     "output_type": "stream",
     "text": [
      "연습\n",
      "연습\n",
      "연습\n",
      "연습\n",
      "연습\n"
     ]
    },
    {
     "data": {
      "text/plain": [
       "['연습', '연습', '연습', '연습', '연습']"
      ]
     },
     "execution_count": 1,
     "metadata": {},
     "output_type": "execute_result"
    }
   ],
   "source": [
    "# \"연습\" 이란 단어를 5번 생성하는 리스트 구조 변수 만들기\n",
    "tmp = []\n",
    "\n",
    "for i in range(5):\n",
    "    print(\"연습\")\n",
    "\n",
    "# 한줄 쓰기\n",
    "[\"연습\" for i in range(5)] \n"
   ]
  },
  {
   "cell_type": "code",
   "execution_count": 15,
   "metadata": {
    "colab": {
     "base_uri": "https://localhost:8080/"
    },
    "executionInfo": {
     "elapsed": 4,
     "status": "ok",
     "timestamp": 1646872855990,
     "user": {
      "displayName": "dc w",
      "photoUrl": "https://lh3.googleusercontent.com/a/default-user=s64",
      "userId": "02032790542712423852"
     },
     "user_tz": -540
    },
    "id": "7L5bzs35QaIj",
    "outputId": "804dd46f-42c9-4492-9a4b-4e4eb3cec217"
   },
   "outputs": [
    {
     "name": "stdout",
     "output_type": "stream",
     "text": [
      "['연습', '연습', '연습', '연습', '연습']\n",
      "['연습0', '연습1', '연습2', '연습3', '연습4']\n"
     ]
    }
   ],
   "source": [
    "tmp1 = []\n",
    "for i in range(5):\n",
    "    tmp1.append(\"연습\")\n",
    "\n",
    "tmp2=[f\"연습{i}\" for i in range(5)]\n",
    "print(tmp1)\n",
    "print(tmp2)"
   ]
  },
  {
   "cell_type": "code",
   "execution_count": 2,
   "metadata": {
    "colab": {
     "base_uri": "https://localhost:8080/"
    },
    "executionInfo": {
     "elapsed": 3,
     "status": "ok",
     "timestamp": 1646873377580,
     "user": {
      "displayName": "dc w",
      "photoUrl": "https://lh3.googleusercontent.com/a/default-user=s64",
      "userId": "02032790542712423852"
     },
     "user_tz": -540
    },
    "id": "nNl7xG7ZRYIY",
    "outputId": "be92aae6-b013-4f92-ddcd-21a9d67a4e73"
   },
   "outputs": [
    {
     "name": "stdout",
     "output_type": "stream",
     "text": [
      "[1, 2, 3, 4, 5, 6, 7, 8, 9, 10]\n",
      "홀수 데이터(기본): [1, 3, 5, 7, 9]\n",
      "홀수 데이터(기본): [1, 3, 5, 7, 9]\n"
     ]
    }
   ],
   "source": [
    "val = list(range(1,11))\n",
    "print(val)\n",
    "\n",
    "## 홀수 데이터만 추출하여 리스트로 출력하기\n",
    "\n",
    "odd1=[]\n",
    "for i in val:\n",
    "    if i%2 == 1:    # A % B : A를 B로 나누고 남은 나머지(나머지값 계산)\n",
    "        odd1.append(i)\n",
    "\n",
    "print(f\"홀수 데이터(기본): {odd1}\")\n",
    "\n",
    "## 한줄쓰기로 표현\n",
    "odd2=[i for i in val if i%2==1]\n",
    "print(f\"홀수 데이터(기본): {odd2}\")"
   ]
  },
  {
   "cell_type": "markdown",
   "metadata": {
    "id": "UJy5WEuYXfvp"
   },
   "source": [
    "#### 이중 for 한줄쓰기\n",
    "- [결과 for 반복문1 for 반복문2]"
   ]
  },
  {
   "cell_type": "code",
   "execution_count": 3,
   "metadata": {
    "colab": {
     "base_uri": "https://localhost:8080/"
    },
    "executionInfo": {
     "elapsed": 259,
     "status": "ok",
     "timestamp": 1646874670479,
     "user": {
      "displayName": "dc w",
      "photoUrl": "https://lh3.googleusercontent.com/a/default-user=s64",
      "userId": "02032790542712423852"
     },
     "user_tz": -540
    },
    "id": "zwsVabrmXqih",
    "outputId": "71cc4bbb-3856-4763-bedc-e5ce6314fecd"
   },
   "outputs": [
    {
     "name": "stdout",
     "output_type": "stream",
     "text": [
      "[[1, 2, 3, 4, 5, 6, 7, 8, 9, 10], [11, 12, 13]]\n"
     ]
    }
   ],
   "source": [
    "val=[val, [11, 12, 13]]\n",
    "print(val)"
   ]
  },
  {
   "cell_type": "code",
   "execution_count": 5,
   "metadata": {
    "colab": {
     "base_uri": "https://localhost:8080/"
    },
    "executionInfo": {
     "elapsed": 4,
     "status": "ok",
     "timestamp": 1646874848080,
     "user": {
      "displayName": "dc w",
      "photoUrl": "https://lh3.googleusercontent.com/a/default-user=s64",
      "userId": "02032790542712423852"
     },
     "user_tz": -540
    },
    "id": "1MGj13pmYd0e",
    "outputId": "e2c97b46-e928-4f99-a2ac-943462c3e111"
   },
   "outputs": [
    {
     "name": "stdout",
     "output_type": "stream",
     "text": [
      "[1, 2, 3, 4, 5, 6, 7, 8, 9, 10, 11, 12, 13]\n",
      "[1, 2, 3, 4, 5, 6, 7, 8, 9, 10, 11, 12, 13]\n"
     ]
    }
   ],
   "source": [
    "val_tmp1=[]\n",
    "for i in val:\n",
    "    for j in i:\n",
    "        val_tmp1.append(j)\n",
    "print(val_tmp1)\n",
    "\n",
    "val_tmp2=[j for i in val for j in i]\n",
    "print(val_tmp2)"
   ]
  },
  {
   "cell_type": "markdown",
   "metadata": {
    "id": "fDvuzmf-ZO9H"
   },
   "source": [
    "#### for문에 if ~ else ~ 구조 한줄쓰기\n",
    "- [True결과 if 조건식 else False결과 for 반복문]"
   ]
  },
  {
   "cell_type": "code",
   "execution_count": 6,
   "metadata": {
    "colab": {
     "base_uri": "https://localhost:8080/"
    },
    "executionInfo": {
     "elapsed": 3,
     "status": "ok",
     "timestamp": 1646875340297,
     "user": {
      "displayName": "dc w",
      "photoUrl": "https://lh3.googleusercontent.com/a/default-user=s64",
      "userId": "02032790542712423852"
     },
     "user_tz": -540
    },
    "id": "mLsOhTB1ZVGw",
    "outputId": "99bbcda8-5f56-4722-f55a-e8f3c395c0be"
   },
   "outputs": [
    {
     "name": "stdout",
     "output_type": "stream",
     "text": [
      "['홀수', '짝수', '홀수', '짝수', '홀수', '짝수', '홀수', '짝수', '홀수', '짝수', '홀수', '짝수', '홀수']\n",
      "['홀수', '짝수', '홀수', '짝수', '홀수', '짝수', '홀수', '짝수', '홀수', '짝수', '홀수', '짝수', '홀수']\n"
     ]
    }
   ],
   "source": [
    "## 리스트 변수에 val의 짝수/홀수 표기\n",
    "\n",
    "tmp1=[]\n",
    "for i in val_tmp1:\n",
    "    if i%2 == 1:\n",
    "        tmp1.append(\"홀수\")\n",
    "    else:\n",
    "        tmp1.append(\"짝수\")\n",
    "print(tmp1)\n",
    "\n",
    "## 한줄쓰기\n",
    "tmp2=[\"홀수\" if i%2 == 1 else \"짝수\" for i in val_tmp1]\n",
    "print(tmp2)"
   ]
  },
  {
   "cell_type": "markdown",
   "metadata": {
    "id": "kbt2JHHIbduB"
   },
   "source": [
    "### [미션]\n",
    "- val1 <= 1~10 까지 정수형 리스트 생성\n",
    "- val2 <= 1~20 까지 홀수값만 가지는 리스트 생성\n",
    "- val = [val1, val2]\n",
    "- tmp1 일반 for [짝수/홀수] 표시\n",
    "- tmp2 한줄쓰기 [짝수/홀수]표시"
   ]
  },
  {
   "cell_type": "code",
   "execution_count": 7,
   "metadata": {
    "colab": {
     "base_uri": "https://localhost:8080/"
    },
    "executionInfo": {
     "elapsed": 269,
     "status": "ok",
     "timestamp": 1646876170741,
     "user": {
      "displayName": "dc w",
      "photoUrl": "https://lh3.googleusercontent.com/a/default-user=s64",
      "userId": "02032790542712423852"
     },
     "user_tz": -540
    },
    "id": "kSGQ2Fa1bube",
    "outputId": "7b753a6f-875e-44c3-9eea-e037b873335b"
   },
   "outputs": [
    {
     "name": "stdout",
     "output_type": "stream",
     "text": [
      "[1, 2, 3, 4, 5, 6, 7, 8, 9, 10]\n",
      "[11, 13, 15, 17, 19]\n",
      "[[1, 2, 3, 4, 5, 6, 7, 8, 9, 10], [11, 13, 15, 17, 19]]\n",
      "['홀수', '짝수', '홀수', '짝수', '홀수', '짝수', '홀수', '짝수', '홀수', '짝수', '홀수', '홀수', '홀수', '홀수', '홀수']\n"
     ]
    }
   ],
   "source": [
    "val1 = [i for i in range(1,11)]\n",
    "print(val1)\n",
    "val2 = list(range(11,20,2))\n",
    "print(val2)\n",
    "val=[val1, val2]\n",
    "print(val)\n",
    "tmp1 = [\"홀수\" if j%2==1 else \"짝수\" for i in val for j in i]\n",
    "print(tmp1)"
   ]
  },
  {
   "cell_type": "markdown",
   "metadata": {
    "id": "eOYvLky8eJud"
   },
   "source": [
    "### 에러처리\n",
    "- try: 정상 ~ except: 에러처리"
   ]
  },
  {
   "cell_type": "code",
   "execution_count": 8,
   "metadata": {
    "colab": {
     "base_uri": "https://localhost:8080/"
    },
    "executionInfo": {
     "elapsed": 3,
     "status": "ok",
     "timestamp": 1646876541839,
     "user": {
      "displayName": "dc w",
      "photoUrl": "https://lh3.googleusercontent.com/a/default-user=s64",
      "userId": "02032790542712423852"
     },
     "user_tz": -540
    },
    "id": "knE9djgreYGl",
    "outputId": "386391a0-e717-4ef8-dfd5-28854efb02a9"
   },
   "outputs": [
    {
     "name": "stdout",
     "output_type": "stream",
     "text": [
      "안녕하세요\n",
      "에러발생\n"
     ]
    }
   ],
   "source": [
    "## try: ~ except: ~ 주의점\n",
    "try:\n",
    "    print(\"안녕하세요\")   #정상 코드\n",
    "    print(aaa)         # 에러 발생 코드\n",
    "    print(\"반갑습니다.\")  # 정상 코드\n",
    "except:\n",
    "    print(\"에러발생\")\n"
   ]
  },
  {
   "cell_type": "code",
   "execution_count": 9,
   "metadata": {
    "colab": {
     "base_uri": "https://localhost:8080/"
    },
    "executionInfo": {
     "elapsed": 284,
     "status": "ok",
     "timestamp": 1646876714373,
     "user": {
      "displayName": "dc w",
      "photoUrl": "https://lh3.googleusercontent.com/a/default-user=s64",
      "userId": "02032790542712423852"
     },
     "user_tz": -540
    },
    "id": "tKD8W1Oaf8cG",
    "outputId": "595252b6-3e39-45a0-e9c6-2436795f00e2"
   },
   "outputs": [
    {
     "name": "stdout",
     "output_type": "stream",
     "text": [
      "에러 무시\n"
     ]
    }
   ],
   "source": [
    "## 기본적인 형식/pass\n",
    "try:\n",
    "    print(aaa)\n",
    "except:\n",
    "    pass  # 넘어가시오\n",
    "\n",
    "print(\"에러 무시\")"
   ]
  },
  {
   "cell_type": "code",
   "execution_count": 10,
   "metadata": {
    "colab": {
     "base_uri": "https://localhost:8080/"
    },
    "executionInfo": {
     "elapsed": 362,
     "status": "ok",
     "timestamp": 1646876856824,
     "user": {
      "displayName": "dc w",
      "photoUrl": "https://lh3.googleusercontent.com/a/default-user=s64",
      "userId": "02032790542712423852"
     },
     "user_tz": -540
    },
    "id": "tWb8z8qufb_A",
    "outputId": "8f1de6c7-05c3-4825-97b8-2af499ec263f"
   },
   "outputs": [
    {
     "name": "stdout",
     "output_type": "stream",
     "text": [
      "에러발생원인: name 'aaa' is not defined\n",
      "=== END ===\n"
     ]
    }
   ],
   "source": [
    "## 에러 발생에 대한 원인을 메세지로 전달(즉, 코드 실행시 멈추지 않고 계속 실행)\n",
    "try:\n",
    "    print(aaa)\n",
    "except Exception as err:\n",
    "    print(f\"에러발생원인: {err}\")\n",
    "\n",
    "print(\"=== END ===\")"
   ]
  },
  {
   "cell_type": "markdown",
   "metadata": {
    "id": "eI_McmYolDEQ"
   },
   "source": [
    "### random 모듈\n",
    "- 파이썬에서 난수를 발생시키는 기본 모듈\n",
    "- \n",
    "- random 함수\n",
    " * random(): 0 ~ 1 사이의 숫자를 임의로 출력\n",
    " * randrange(시작, 종료): 시작부터 종료값 사이의 숫자를 임의로 발생\n",
    " * randint(a, b): a와 b사이의 정수형 숫자 발생 \n",
    " * shuffle(): 스퀀스 데이터의 순서를 임의로 변경해서 출력\n",
    " * choice(): 스퀀스 데이터들 중 하나를 뽑아 출력\n",
    "\n"
   ]
  },
  {
   "cell_type": "code",
   "execution_count": 11,
   "metadata": {
    "colab": {
     "base_uri": "https://localhost:8080/"
    },
    "executionInfo": {
     "elapsed": 371,
     "status": "ok",
     "timestamp": 1646878282346,
     "user": {
      "displayName": "dc w",
      "photoUrl": "https://lh3.googleusercontent.com/a/default-user=s64",
      "userId": "02032790542712423852"
     },
     "user_tz": -540
    },
    "id": "Q7bQOrnXlnz0",
    "outputId": "e68fed2b-d318-40fa-c36d-e17d90f3aa28"
   },
   "outputs": [
    {
     "data": {
      "text/plain": [
       "0.6996762818351275"
      ]
     },
     "execution_count": 11,
     "metadata": {},
     "output_type": "execute_result"
    }
   ],
   "source": [
    "import random\n",
    "\n",
    "random.random()   # 0 ~ 1 사이의 숫자를 임의로 출력"
   ]
  },
  {
   "cell_type": "code",
   "execution_count": 12,
   "metadata": {
    "colab": {
     "base_uri": "https://localhost:8080/"
    },
    "executionInfo": {
     "elapsed": 3,
     "status": "ok",
     "timestamp": 1646878508959,
     "user": {
      "displayName": "dc w",
      "photoUrl": "https://lh3.googleusercontent.com/a/default-user=s64",
      "userId": "02032790542712423852"
     },
     "user_tz": -540
    },
    "id": "Ubl1DJLimE5C",
    "outputId": "fc12bb93-7189-4049-fe5b-51ba5f41a16c"
   },
   "outputs": [
    {
     "name": "stdout",
     "output_type": "stream",
     "text": [
      "10\n",
      "39\n"
     ]
    }
   ],
   "source": [
    "# a에서 b 사이의 임의값 출력\n",
    "print(random.randint(1,46))\n",
    "print(random.randrange(1,102,2))    # step 값 지정 가능"
   ]
  },
  {
   "cell_type": "code",
   "execution_count": 13,
   "metadata": {
    "colab": {
     "base_uri": "https://localhost:8080/"
    },
    "executionInfo": {
     "elapsed": 289,
     "status": "ok",
     "timestamp": 1646878679765,
     "user": {
      "displayName": "dc w",
      "photoUrl": "https://lh3.googleusercontent.com/a/default-user=s64",
      "userId": "02032790542712423852"
     },
     "user_tz": -540
    },
    "id": "86RYGgn3mP6d",
    "outputId": "099cead7-bce4-455e-afaa-f1c60e5a18a5"
   },
   "outputs": [
    {
     "name": "stdout",
     "output_type": "stream",
     "text": [
      "['e', 'a', 'b', 'c', 'd']\n",
      "e\n"
     ]
    }
   ],
   "source": [
    "## 스퀀스 데이터 처리\n",
    "tmp = [\"a\",\"b\",\"c\",\"d\",\"e\"]\n",
    "\n",
    "random.shuffle(tmp)   # 순서 변경하기\n",
    "print(tmp)\n",
    "print(random.choice(tmp))"
   ]
  },
  {
   "cell_type": "code",
   "execution_count": 14,
   "metadata": {
    "colab": {
     "base_uri": "https://localhost:8080/",
     "height": 35
    },
    "executionInfo": {
     "elapsed": 6,
     "status": "ok",
     "timestamp": 1646878751869,
     "user": {
      "displayName": "dc w",
      "photoUrl": "https://lh3.googleusercontent.com/a/default-user=s64",
      "userId": "02032790542712423852"
     },
     "user_tz": -540
    },
    "id": "lWoJt9_XnuH6",
    "outputId": "6464c737-d4cc-449a-a86a-0e0b1eafec49"
   },
   "outputs": [
    {
     "data": {
      "text/plain": [
       "'자장면'"
      ]
     },
     "execution_count": 14,
     "metadata": {},
     "output_type": "execute_result"
    }
   ],
   "source": [
    "메뉴=[\"라면\",\"김밥\",\"자장면\",\"짬뽕\"]\n",
    "\n",
    "random.choice(메뉴)"
   ]
  },
  {
   "cell_type": "code",
   "execution_count": 15,
   "metadata": {
    "colab": {
     "base_uri": "https://localhost:8080/"
    },
    "executionInfo": {
     "elapsed": 3,
     "status": "ok",
     "timestamp": 1646878975225,
     "user": {
      "displayName": "dc w",
      "photoUrl": "https://lh3.googleusercontent.com/a/default-user=s64",
      "userId": "02032790542712423852"
     },
     "user_tz": -540
    },
    "id": "J1V2m9YnogIw",
    "outputId": "2a13daa0-5bf9-4d50-b0dc-f6fae6c797d2"
   },
   "outputs": [
    {
     "data": {
      "text/plain": [
       "[32, 39, 12, 8, 35]"
      ]
     },
     "execution_count": 15,
     "metadata": {},
     "output_type": "execute_result"
    }
   ],
   "source": [
    "num=list(range(1,46))\n",
    "# print(num)\n",
    "random.sample(num, k=5)"
   ]
  },
  {
   "cell_type": "markdown",
   "metadata": {
    "id": "tdm4FkYkpWX7"
   },
   "source": [
    "### 미션 [숫자 맞추기]\n",
    "- 1 에서 100 사이의 임의값 생성\n",
    "- 사용자로부터 1 ~ 100 사이값을 입력 받아서 맞출때 까지\n",
    "- 최초 생성된 숫자와 일치할 때까지 입력\n",
    "- tmp보다 크면 \"다운\" 출력\n",
    "- tmp보다 작으면 \"업\" 출력\n",
    "- tmp와 일치하면 \"축하합니다. 00회 만에 맞췄습니다.\"\n",
    "- 정답을 맞춘 횟수 계산\n",
    "- 만약 문자를 입력시 오류 메시지 출력 후 다시 입력\n",
    "- 메세지 \"에러발생: 숫자 데이터만 입력하세요\""
   ]
  },
  {
   "cell_type": "code",
   "execution_count": 18,
   "metadata": {
    "colab": {
     "base_uri": "https://localhost:8080/"
    },
    "executionInfo": {
     "elapsed": 4857,
     "status": "ok",
     "timestamp": 1646880466781,
     "user": {
      "displayName": "dc w",
      "photoUrl": "https://lh3.googleusercontent.com/a/default-user=s64",
      "userId": "02032790542712423852"
     },
     "user_tz": -540
    },
    "id": "56Ix_xrhpHZ6",
    "outputId": "22e0b0bb-28c1-4e73-a8c2-c8f1d98fd369"
   },
   "outputs": [
    {
     "name": "stdout",
     "output_type": "stream",
     "text": [
      "1~100 사이의 값을 입력하세요:-1\n",
      "업\n",
      "1~100 사이의 값을 입력하세요:askif\n",
      "에러발생: 숫자 데이터만 입력하세요\n",
      "1~100 사이의 값을 입력하세요:50\n",
      "다운\n",
      "1~100 사이의 값을 입력하세요:25\n",
      "업\n",
      "1~100 사이의 값을 입력하세요:36\n",
      "다운\n",
      "1~100 사이의 값을 입력하세요:34\n",
      "다운\n",
      "1~100 사이의 값을 입력하세요:33\n",
      "축하합니다. 6회 만에 맞췄습니다.\n"
     ]
    }
   ],
   "source": [
    "num1=list(range(1,101))\n",
    "tmp = random.choice(num)\n",
    "cnt = 0\n",
    "while True:\n",
    "    try:\n",
    "        num2 = int(input(\"1~100 사이의 값을 입력하세요:\"))\n",
    "        if num2 < tmp:\n",
    "            print(\"업\")\n",
    "            cnt += 1\n",
    "        elif num2 > tmp:\n",
    "            print(\"다운\")\n",
    "            cnt += 1\n",
    "        else:\n",
    "            cnt += 1\n",
    "            print(f\"축하합니다. {cnt}회 만에 맞췄습니다.\")\n",
    "            break     # 반복문을 종료한다.\n",
    "    except:\n",
    "        print(\"에러발생: 숫자 데이터만 입력하세요\")\n",
    "        continue    # 반복문의 시작위치로 돌아간다.\n",
    "  "
   ]
  },
  {
   "cell_type": "code",
   "execution_count": null,
   "metadata": {},
   "outputs": [],
   "source": []
  }
 ],
 "metadata": {
  "colab": {
   "authorship_tag": "ABX9TyMCHO9HjIx3/VvhHqlvROHA",
   "collapsed_sections": [],
   "name": "1. for 한줄쓰기 및 에러처리.ipynb",
   "provenance": []
  },
  "kernelspec": {
   "display_name": "Python 3 (ipykernel)",
   "language": "python",
   "name": "python3"
  },
  "language_info": {
   "codemirror_mode": {
    "name": "ipython",
    "version": 3
   },
   "file_extension": ".py",
   "mimetype": "text/x-python",
   "name": "python",
   "nbconvert_exporter": "python",
   "pygments_lexer": "ipython3",
   "version": "3.9.7"
  }
 },
 "nbformat": 4,
 "nbformat_minor": 1
}
