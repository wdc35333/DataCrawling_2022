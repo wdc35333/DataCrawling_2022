{
 "cells": [
  {
   "cell_type": "markdown",
   "metadata": {
    "id": "ZIdtIb6_WKba"
   },
   "source": [
    "### ▶️메일송수신 이해 \n",
    "- 구글 검색 '메일 송수신' \n",
    "- smtp 프로토콜은 각 이메일 주소 마다 다름\n",
    "    - 구글검색 '네이버 smtp'\n",
    "    - https://help.naver.com/support/contents/contents.help?serviceNo=2342&categoryNo=2288\n",
    "    - 구글검색 '네이트 smtp'\n",
    "    - http://mail3.nate.com/app/mng/noticeview_unauth/?num=345"
   ]
  },
  {
   "cell_type": "code",
   "execution_count": 1,
   "metadata": {
    "executionInfo": {
     "elapsed": 532,
     "status": "ok",
     "timestamp": 1646892923583,
     "user": {
      "displayName": "dc w",
      "photoUrl": "https://lh3.googleusercontent.com/a/default-user=s64",
      "userId": "02032790542712423852"
     },
     "user_tz": -540
    },
    "id": "2XdqS1GBWMRN"
   },
   "outputs": [],
   "source": [
    "## smtplib 모듈 / MIMEText 모듈 연결\n",
    "import smtplib\n",
    "from email.mime.text import MIMEText"
   ]
  },
  {
   "cell_type": "code",
   "execution_count": 2,
   "metadata": {
    "colab": {
     "base_uri": "https://localhost:8080/"
    },
    "executionInfo": {
     "elapsed": 987,
     "status": "ok",
     "timestamp": 1646892978447,
     "user": {
      "displayName": "dc w",
      "photoUrl": "https://lh3.googleusercontent.com/a/default-user=s64",
      "userId": "02032790542712423852"
     },
     "user_tz": -540
    },
    "id": "7prAD3I-Xu1P",
    "outputId": "2a0cb432-4996-4448-b8f4-e123da58fd29"
   },
   "outputs": [
    {
     "name": "stdout",
     "output_type": "stream",
     "text": [
      "Content-Type: text/plain; charset=\"utf-8\"\n",
      "MIME-Version: 1.0\n",
      "Content-Transfer-Encoding: base64\n",
      "Subject: =?utf-8?b?7Jew7Iq1MQ==?=\n",
      "From: wdc860108@naver.com\n",
      "To: wdc35333@gmail.com\n",
      "\n",
      "CuyXsOyKteyaqSDrqZTsnbzsnoXri4jri6QK7JWEIOuGgOqzoOyLtuuLpCDsp4Tsp5wK7Z2Q6rec\n",
      "7Z2Q6recCu2dme2dmSDrqqjrnpjrqqjrnpgg7J6Q6rCI7J6Q6rCICg==\n",
      "\n",
      "메일발송 완료\n"
     ]
    }
   ],
   "source": [
    "## 메일 내용 입력\n",
    "txt = \"\"\"\n",
    "연습용 메일입니다\n",
    "아 놀고싶다 진짜\n",
    "흐규흐규\n",
    "흙흙 모래모래 자갈자갈\n",
    "\"\"\"\n",
    "\n",
    "# 받는 이메일 정보(메일주소)\n",
    "recv_email=\"wdc35333@gmail.com\"   # 보내고자 하는 대상자 메일주소\n",
    "\n",
    "\n",
    "# 보내는 이메일 정보(메일주소, 패스워드)\n",
    "send_email = \"wdc860108@naver.com\"\n",
    "send_pwd = \"Smile3533boy#%##\"\n",
    "\n",
    "smtp_name = \"smtp.naver.com\"    # 메일 보내는 주소의 smtp, 이건 각 사이트에서 검색해야함. 또는 구글 검색\n",
    "smtp_port = 587   #네이버 587인데 네이트에도 가능함, 포트번호도 각 메일 사이트에서 찾아야함.\n",
    "\n",
    "\n",
    "\n",
    "msg = MIMEText(txt)\n",
    "msg['Subject'] =\"연습1\"\n",
    "msg['From'] = send_email\n",
    "msg['To'] = recv_email\n",
    "print(msg.as_string())\n",
    "\n",
    "\n",
    "#\n",
    "s=smtplib.SMTP( smtp_name , smtp_port )\n",
    "s.starttls()\n",
    "\n",
    "s.login( send_email , send_pwd )\n",
    "s.sendmail( send_email, recv_email, msg.as_string() )\n",
    "s.quit()\n",
    "print(\"메일발송 완료\")"
   ]
  }
 ],
 "metadata": {
  "colab": {
   "authorship_tag": "ABX9TyOTconeNYjmcfweW0IgYQbS",
   "collapsed_sections": [],
   "name": "3. 모듈설치 및 for_메일 보내기.ipynb",
   "provenance": []
  },
  "kernelspec": {
   "display_name": "Python 3 (ipykernel)",
   "language": "python",
   "name": "python3"
  },
  "language_info": {
   "codemirror_mode": {
    "name": "ipython",
    "version": 3
   },
   "file_extension": ".py",
   "mimetype": "text/x-python",
   "name": "python",
   "nbconvert_exporter": "python",
   "pygments_lexer": "ipython3",
   "version": "3.9.7"
  }
 },
 "nbformat": 4,
 "nbformat_minor": 1
}
