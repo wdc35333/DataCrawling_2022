{
 "cells": [
  {
   "cell_type": "markdown",
   "metadata": {
    "id": "tlPvHK27A9wK"
   },
   "source": [
    "### QR코드 생성\n",
    "- qrcode 모듈\n",
    "- 설치없이 import 진행\n",
    "- ModuleNotFoundError: No module named 'qrcode'에러 발생\n",
    "- !pip install qrcode 실행하여 설치 후 진행"
   ]
  },
  {
   "cell_type": "code",
   "execution_count": 2,
   "metadata": {
    "colab": {
     "base_uri": "https://localhost:8080/"
    },
    "executionInfo": {
     "elapsed": 4954,
     "status": "ok",
     "timestamp": 1646885583302,
     "user": {
      "displayName": "dc w",
      "photoUrl": "https://lh3.googleusercontent.com/a/default-user=s64",
      "userId": "02032790542712423852"
     },
     "user_tz": -540
    },
    "id": "ZPpPpb40B0-v",
    "outputId": "c17125b1-08e9-46e3-8a10-168e84b6a8ad"
   },
   "outputs": [
    {
     "name": "stdout",
     "output_type": "stream",
     "text": [
      "Collecting qrcode\n",
      "  Downloading qrcode-7.3.1.tar.gz (43 kB)\n",
      "\u001b[K     |████████████████████████████████| 43 kB 5.1 MB/s  eta 0:00:01\n",
      "\u001b[?25hBuilding wheels for collected packages: qrcode\n",
      "  Building wheel for qrcode (setup.py) ... \u001b[?25ldone\n",
      "\u001b[?25h  Created wheel for qrcode: filename=qrcode-7.3.1-py3-none-any.whl size=40402 sha256=937fc72a9463041aa6988593d7823b01e2aedb08435293be26689580dc449605\n",
      "  Stored in directory: /Users/wondongchan/Library/Caches/pip/wheels/93/54/16/55cec87f8d902ed84b94ab8fdb7e89ae1158c06e130bc83b03\n",
      "Successfully built qrcode\n",
      "Installing collected packages: qrcode\n",
      "Successfully installed qrcode-7.3.1\n"
     ]
    }
   ],
   "source": [
    "# !pip install qrcode"
   ]
  },
  {
   "cell_type": "code",
   "execution_count": 3,
   "metadata": {
    "colab": {
     "base_uri": "https://localhost:8080/"
    },
    "executionInfo": {
     "elapsed": 4,
     "status": "ok",
     "timestamp": 1646886111464,
     "user": {
      "displayName": "dc w",
      "photoUrl": "https://lh3.googleusercontent.com/a/default-user=s64",
      "userId": "02032790542712423852"
     },
     "user_tz": -540
    },
    "id": "ciDbYPB2AHzA",
    "outputId": "b9a22149-d80b-43a4-cc27-288f3e4dd29b"
   },
   "outputs": [
    {
     "name": "stdout",
     "output_type": "stream",
     "text": [
      "<class 'qrcode.image.pil.PilImage'>\n",
      "(290, 290)\n"
     ]
    }
   ],
   "source": [
    "import qrcode\n",
    "\n",
    "qr_data=\"www.naver.com\"\n",
    "qr_img=qrcode.make(qr_data)\n",
    "\n",
    "qr_img.save(\"./qr_naver.png\")\n",
    "\n",
    "print(type(qr_img))\n",
    "print(qr_img.size)"
   ]
  },
  {
   "cell_type": "markdown",
   "metadata": {
    "id": "_M08t8eHEeZn"
   },
   "source": [
    "### 파일 읽고/쓰기\n",
    "- 파일객체 = open(\"경로/파일명\", \"파일 열기모드\")\n",
    "- ![image.png](data:image/png;base64,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)"
   ]
  },
  {
   "cell_type": "code",
   "execution_count": 4,
   "metadata": {
    "colab": {
     "base_uri": "https://localhost:8080/"
    },
    "executionInfo": {
     "elapsed": 377,
     "status": "ok",
     "timestamp": 1646886838260,
     "user": {
      "displayName": "dc w",
      "photoUrl": "https://lh3.googleusercontent.com/a/default-user=s64",
      "userId": "02032790542712423852"
     },
     "user_tz": -540
    },
    "id": "FRRNwlW8E_ZZ",
    "outputId": "f4883ce4-5146-41a9-980f-eb8d853a9868"
   },
   "outputs": [
    {
     "name": "stdout",
     "output_type": "stream",
     "text": [
      "<_io.TextIOWrapper name='./QR.txt' mode='r' encoding='UTF-8'>\n"
     ]
    }
   ],
   "source": [
    "## qr_사이트.txt 파일 읽어오기\n",
    "\n",
    "f = open(\"./QR.txt\",\"r\")\n",
    "print(f)\n",
    "f.close()   # 파일 닫기\n",
    "\n",
    "## 구글검색: 인코딩 디코딩\n",
    "## encoding='UTF-8'/ encoding='CP949'"
   ]
  },
  {
   "cell_type": "markdown",
   "metadata": {
    "id": "HlcN-cb_HGRg"
   },
   "source": [
    "### 연결된 파일 읽어오기\n",
    "- read(): 하나의 문자열로 읽어오기\n",
    "- readline(): 한줄단위로 읽어오기\n",
    "- readlines(): 전체를 줄단위로 읽어오기"
   ]
  },
  {
   "cell_type": "code",
   "execution_count": 5,
   "metadata": {
    "colab": {
     "base_uri": "https://localhost:8080/"
    },
    "executionInfo": {
     "elapsed": 265,
     "status": "ok",
     "timestamp": 1646887446625,
     "user": {
      "displayName": "dc w",
      "photoUrl": "https://lh3.googleusercontent.com/a/default-user=s64",
      "userId": "02032790542712423852"
     },
     "user_tz": -540
    },
    "id": "VrvDoN8WFlJP",
    "outputId": "19e41331-d7bb-43f9-f27e-ee6cac3632ab"
   },
   "outputs": [
    {
     "name": "stdout",
     "output_type": "stream",
     "text": [
      "www.naver.com\n",
      "\n",
      "www.google.com\n",
      "\n",
      "www.naver.com\n",
      "\n",
      "www.google.com\n",
      "\n",
      "www.daum.net\n",
      "\n",
      "www.nate.com\n",
      "\n"
     ]
    }
   ],
   "source": [
    "## read()\n",
    "f=open(\"./QR.txt\",\"r\")\n",
    "txt=f.readline()\n",
    "print(txt)\n",
    "txt=f.readline()\n",
    "print(txt)\n",
    "f.close()\n",
    "\n",
    "f=open(\"./QR.txt\",\"r\")\n",
    "while True:\n",
    "    txt=f.readline()\n",
    "    if not txt: break\n",
    "    print(txt)\n",
    "\n",
    "\n",
    "f.close()"
   ]
  },
  {
   "cell_type": "code",
   "execution_count": 6,
   "metadata": {
    "colab": {
     "base_uri": "https://localhost:8080/"
    },
    "executionInfo": {
     "elapsed": 395,
     "status": "ok",
     "timestamp": 1646887723233,
     "user": {
      "displayName": "dc w",
      "photoUrl": "https://lh3.googleusercontent.com/a/default-user=s64",
      "userId": "02032790542712423852"
     },
     "user_tz": -540
    },
    "id": "ejOGEj__JYc0",
    "outputId": "465b81d7-ba5a-46cf-b57c-2c384ac6d1be"
   },
   "outputs": [
    {
     "name": "stdout",
     "output_type": "stream",
     "text": [
      "['www.naver.com\\n', 'www.google.com\\n', 'www.daum.net\\n', 'www.nate.com\\n']\n"
     ]
    }
   ],
   "source": [
    "## readlines()\n",
    "f=open(\"./QR.txt\",\"r\")\n",
    "\n",
    "txt = f.readlines()\n",
    "print(txt)\n",
    "\n",
    "f.close()"
   ]
  },
  {
   "cell_type": "code",
   "execution_count": 8,
   "metadata": {
    "colab": {
     "base_uri": "https://localhost:8080/"
    },
    "executionInfo": {
     "elapsed": 779,
     "status": "ok",
     "timestamp": 1646889426704,
     "user": {
      "displayName": "dc w",
      "photoUrl": "https://lh3.googleusercontent.com/a/default-user=s64",
      "userId": "02032790542712423852"
     },
     "user_tz": -540
    },
    "id": "QN2Cx5hQKFye",
    "outputId": "42258804-3f59-457a-d53c-5e2cfa1668cf"
   },
   "outputs": [
    {
     "name": "stdout",
     "output_type": "stream",
     "text": [
      "작업종료\n"
     ]
    }
   ],
   "source": [
    "## QR.txt 파일 읽어와 각 사이트별 QR코드 생성하기\n",
    "\n",
    "f=open(\"./QR.txt\",\"r\",encoding=\"utf-8\")\n",
    "\n",
    "qr_txt = f.readlines()\n",
    "for url in qr_txt:\n",
    "    new_url= url.replace(\"\\n\",\"\")\n",
    "    qr_img = qrcode.make(url)\n",
    "    qr_img.save(\"./qr_\"+new_url.split(\".\")[1]+\".png\")\n",
    "\n",
    "f.close()\n",
    "\n",
    "print(\"작업종료\")"
   ]
  },
  {
   "cell_type": "code",
   "execution_count": 10,
   "metadata": {
    "colab": {
     "base_uri": "https://localhost:8080/"
    },
    "executionInfo": {
     "elapsed": 262,
     "status": "ok",
     "timestamp": 1646890030251,
     "user": {
      "displayName": "dc w",
      "photoUrl": "https://lh3.googleusercontent.com/a/default-user=s64",
      "userId": "02032790542712423852"
     },
     "user_tz": -540
    },
    "id": "VC8NCwuCRDiK",
    "outputId": "1d622e7f-d694-4bf6-8f64-124a9d9ddab9"
   },
   "outputs": [
    {
     "name": "stdout",
     "output_type": "stream",
     "text": [
      "['안녕하세요.\\n', '파이썬 교육을 받고 있습니다.\\n', '데이터 분석도 교육합니다.\\n']\n"
     ]
    }
   ],
   "source": [
    "## txt 파일 생성 및 기록\n",
    "f = open(\"./write_file.txt\",\"w\")\n",
    "f.write(\"안녕하세요.\\n\")\n",
    "f.write(\"파이썬 교육을 받고 있습니다.\\n\")\n",
    "f.write(\"데이터 분석도 교육합니다.\\n\")\n",
    "\n",
    "f = open(\"./write_file.txt\",\"r\")\n",
    "txt_lst=f.readlines()\n",
    "print(txt_lst)\n",
    "f.close()"
   ]
  },
  {
   "cell_type": "code",
   "execution_count": 11,
   "metadata": {
    "executionInfo": {
     "elapsed": 269,
     "status": "ok",
     "timestamp": 1646890551591,
     "user": {
      "displayName": "dc w",
      "photoUrl": "https://lh3.googleusercontent.com/a/default-user=s64",
      "userId": "02032790542712423852"
     },
     "user_tz": -540
    },
    "id": "XALcKTSGTHOZ"
   },
   "outputs": [],
   "source": [
    "## txt 파일 마지막에 새로운 문장 추가하기\n",
    "\n",
    "f = open(\"./write_file.txt\",\"a\")\n",
    "\n",
    "for i in range(5,11):\n",
    "    txt=\"%d번째 입력입니다(%s).\\n\"%(i,\"추가입력\")\n",
    "    f.write(txt)\n",
    "f.close()\n",
    "\n",
    "f = open(\"./write_file.txt\",\"r\")\n",
    "txt = f.read()\n",
    "\n",
    "f.close()"
   ]
  },
  {
   "cell_type": "code",
   "execution_count": null,
   "metadata": {},
   "outputs": [],
   "source": []
  }
 ],
 "metadata": {
  "colab": {
   "authorship_tag": "ABX9TyMh60cI/0jXMix9edjPqPjD",
   "collapsed_sections": [],
   "name": "2. QR코드 생성 및 파일 읽기.ipynb",
   "provenance": []
  },
  "kernelspec": {
   "display_name": "Python 3 (ipykernel)",
   "language": "python",
   "name": "python3"
  },
  "language_info": {
   "codemirror_mode": {
    "name": "ipython",
    "version": 3
   },
   "file_extension": ".py",
   "mimetype": "text/x-python",
   "name": "python",
   "nbconvert_exporter": "python",
   "pygments_lexer": "ipython3",
   "version": "3.9.7"
  }
 },
 "nbformat": 4,
 "nbformat_minor": 1
}
