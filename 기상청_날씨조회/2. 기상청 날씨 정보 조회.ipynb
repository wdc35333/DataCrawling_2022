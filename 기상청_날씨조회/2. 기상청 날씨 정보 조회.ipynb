{
 "cells": [
  {
   "cell_type": "markdown",
   "id": "7387949b",
   "metadata": {},
   "source": [
    "### 기상청 날씨 조회\n",
    "- 참조:https://data.kma.go.kr/data/grnd/selectAsosRltmList.do?pgmNo=36&tabNo=2"
   ]
  },
  {
   "cell_type": "code",
   "execution_count": 1,
   "id": "44153774",
   "metadata": {},
   "outputs": [],
   "source": [
    "# 필요한 모듈 연결하기\n",
    "\n",
    "from datetime import datetime, timedelta\n",
    "import pandas as pd\n",
    "import requests\n",
    "import json"
   ]
  },
  {
   "cell_type": "markdown",
   "id": "9ac3f873",
   "metadata": {},
   "source": [
    "### 1. 조회를 위한 시작일/종료일 입력\n",
    "[조건]\n",
    "1. 시작일/종료일 입력받기(예: 2022-01-01)\n",
    "2. 입력값이 10자리가 아닌 경우 다시 입력 받기\n",
    "3. \"=\"를 뺀 나머지 입력 데이터가 모두 숫자인지 아닌지 확인\n",
    "4. 종료일은 시작일 이전의 데이터 입력 불가\n",
    "5. 종료일이 오늘 날짜라면 -1일 진행"
   ]
  },
  {
   "cell_type": "code",
   "execution_count": 2,
   "id": "75571c21",
   "metadata": {},
   "outputs": [],
   "source": [
    "# 시작일 입력 함수\n",
    "def startDate():\n",
    "    # while문을 이용해 조건이 만족될때까지 계속 실행\n",
    "    while True:\n",
    "        # 데이터 입력\n",
    "        sDate = input(\"조회 시작일 입력(예:2022-01-01)\")\n",
    "        \n",
    "        if len(sDate) != 10:\n",
    "            print('\"2022-01-01\"와 같이 \"-\"를 포함해 10자리로 입력하세요.')\n",
    "            continue\n",
    "        \n",
    "        # \"=\"를 뺀 나머지 입력 데이터가 모두 숫자인지 아닌지 확인\n",
    "        # 문자 포함시 다시 입력받기\n",
    "        try:\n",
    "            sdt = int(sDate.replace(\"-\", \"\"))\n",
    "            break\n",
    "        except:\n",
    "            print(\"년, 월, 일 자리에 문자가 포함되어 있습니다.\\n다시 입력해주세요.\")\n",
    "            continue\n",
    "            \n",
    "    return sDate\n",
    "\n"
   ]
  },
  {
   "cell_type": "code",
   "execution_count": 3,
   "id": "ac98e77d",
   "metadata": {},
   "outputs": [
    {
     "name": "stdout",
     "output_type": "stream",
     "text": [
      "조회 시작일 입력(예:2022-01-01)2022-01-31\n",
      "2022-01-31\n"
     ]
    }
   ],
   "source": [
    "sdt = startDate()\n",
    "print(sdt)"
   ]
  },
  {
   "cell_type": "markdown",
   "id": "1126938d",
   "metadata": {},
   "source": [
    "### 2. 종료일 입력\n",
    "- 시작일과 종료일은 다른 값으로 입력\n",
    "- 종료일은 시작일 이전의 데이터 입력 불가\n",
    "- 종료일이 오늘 날짜라면 -1일 진행"
   ]
  },
  {
   "cell_type": "code",
   "execution_count": 18,
   "id": "7ce2463b",
   "metadata": {},
   "outputs": [],
   "source": [
    "def endDate():\n",
    "    # while문을 이용해 조건이 만족될때까지 계속 실행\n",
    "    \n",
    "#     sDate = startDate()\n",
    "    while True:\n",
    "        # 데이터 입력\n",
    "        eDate = input(\"종료일 입력(예:2022-01-01)\")\n",
    "        \n",
    "        if len(eDate) != 10:\n",
    "            print('\"2022-01-01\"와 같이 \"-\"를 포함해 10자리로 입력하세요.')\n",
    "            continue\n",
    "        \n",
    "        # \"=\"를 뺀 나머지 입력 데이터가 모두 숫자인지 아닌지 확인\n",
    "        # 문자 포함시 다시 입력받기\n",
    "        # 입력한 종료일이 오늘 날짜인지 확인 => 오늘날짜-1 한 날로 세팅\n",
    "        # 입력한 종료일이 시작일보다 크거나 같은 값인지 확인 => 재입력\n",
    "        try:\n",
    "            edt = int(eDate.replace(\"-\", \"\"))\n",
    "            today = datetime.today()  # 현재 시스템 날짜 가져오기\n",
    "            newDate = today.strftime('%Y%m%d')# 날짜형 => 문자형으로 변경\n",
    "\n",
    "                # 입력데이터가 현재일보다 크거나 같은 데이터인지 확인\n",
    "            if edt >= int(newDate):\n",
    "                # 크거나 같다면 실행 전날로 종료일 변경\n",
    "                eDate = (datetime.today()-timedelta(days = 1)).strftime(\"%Y-%m-%d\")\n",
    "                print('데이터는 당일 이전 자료까지만 제공합니다.',eDate)\n",
    "\n",
    "            if int(sDate.replace(\"-\",\"\")) > edt:\n",
    "                print(\"종료일이 시작일보다 이전 날짜입니다.\\n다시 입력해주세요.\")\n",
    "                continue\n",
    "\n",
    "            break\n",
    "        except:\n",
    "            print(\"년, 월, 일 자리에 문자가 포함되어 있습니다.\\n다시 입력해주세요.\")\n",
    "            continue\n",
    "            \n",
    "    return sDate, eDate\n",
    "\n"
   ]
  },
  {
   "cell_type": "code",
   "execution_count": 12,
   "id": "fd565578",
   "metadata": {},
   "outputs": [
    {
     "name": "stdout",
     "output_type": "stream",
     "text": [
      "20220502 <class 'str'>\n",
      "2022-05-02 00:00:00 <class 'datetime.datetime'>\n",
      "2022-05-01 20:52:21.152788\n"
     ]
    }
   ],
   "source": [
    "dt = datetime.today().strftime(\"%Y%m%d\")\n",
    "print(dt, type(dt))\n",
    "newdt = datetime.strptime(dt[2:], \"%y%m%d\")\n",
    "print(newdt, type(newdt))\n",
    "print(datetime.today()-timedelta(days = 1))\n"
   ]
  },
  {
   "cell_type": "markdown",
   "id": "61ba2508",
   "metadata": {},
   "source": [
    "### 3. 측정 지점 코드 확인\n",
    "- 측정 지점의 이름을 입력하면 해당 지점 출력"
   ]
  },
  {
   "cell_type": "code",
   "execution_count": 13,
   "id": "f4b3e0a4",
   "metadata": {},
   "outputs": [],
   "source": [
    "def getRegCode(inRegName=\"서울\"):\n",
    "    df_regCode = pd.read_csv(\"기상청_지역코드.csv\", encoding = \"cp949\")\n",
    "    regCode = df_regCode[df_regCode['지점명'] == inRegName]  # 원하는 지점명 검색\n",
    "#     display(regCode)\n",
    "    \n",
    "    if len(regCode) == 1:  # 지점명 검색 여부 확인\n",
    "        return (int(regCode['지점'].values))  # 검색 되면 코드 전달\n",
    "    else:\n",
    "        # 검색 자료가 없으면 사용자가 강제 에러 발생\n",
    "        raise Exception(f\"해당 지역명은 없습니다.\\n지역명 확인 후 입력하세요.\\n\\n\")"
   ]
  },
  {
   "cell_type": "markdown",
   "id": "f40a6736",
   "metadata": {},
   "source": [
    "### 4. 날씨데이터 조회 url 만들기\n",
    "- 시작일/종료일을 기준으로 지점명에 해당하는 날씨정보 조회 url 생성"
   ]
  },
  {
   "cell_type": "code",
   "execution_count": 14,
   "id": "002eeab5",
   "metadata": {},
   "outputs": [],
   "source": [
    "# url 생성\n",
    "def getWturl(sDate, eDate, pointID, numRows = 10):\n",
    "    Key = \"rx1J4yPTJLMypgEsmw%2BuyunTeZzwwUbRPrwPUkkYNxyUDpxomPQu1Hjz8vXE%2BzLfrzvFQdKPXqp%2FvonN%2Bc77iA%3D%3D\"\n",
    "    url = \"http://apis.data.go.kr/1360000/AsosDalyInfoService/getWthrDataList?serviceKey=\" + Key\n",
    "    url = url + \"&pageNo=1&dataCd=ASOS&dateCd=DAY&numOfRows=\" + str(numRows)\n",
    "    url = url + \"&dataType=JSON\"\n",
    "    url = url + \"&startDt=\" + str(sDate)\n",
    "    url = url + \"&endDt=\" + str(eDate)\n",
    "    url = url + \"&stnIds=\" + str(pointID)\n",
    "\n",
    "    return url"
   ]
  },
  {
   "cell_type": "markdown",
   "id": "8b15275f",
   "metadata": {},
   "source": [
    "### 5. url을 이용해 실제 데이터 조회 및 DataFrame으로 저장\n",
    "- 1차 조회 후 전체 데이터 개수 확인\n",
    "- 전체 데이터 개수를 이용한 1페이지에 조회 데이터 전체 가져오기\n",
    "- 가져온 데이터에서 필요한 데이터만 DataFrame으로 최종 출력하기"
   ]
  },
  {
   "cell_type": "code",
   "execution_count": 15,
   "id": "215752c2",
   "metadata": {},
   "outputs": [],
   "source": [
    "def getJsonData(url):\n",
    "    soup_json = requests.get(url)\n",
    "    if soup_json.status_code != 200:\n",
    "        exit(f\"데이터를 받지 못했습니다. 에러코드:{soup_json.status_code}\")\n",
    "    json_obj = json.loads(soup_json.text) # json 코드 읽어오기/ 딕셔너리 구조\n",
    "\n",
    "\n",
    "    return json_obj"
   ]
  },
  {
   "cell_type": "code",
   "execution_count": 16,
   "id": "623ebf76",
   "metadata": {},
   "outputs": [],
   "source": [
    "def getDataFrame(sDate, eDate, pointID):\n",
    "    url = getWturl(sDate.replace(\"-\",\"\"), eDate.replace(\"-\",\"\"), pointID)  # 1차 url 생성\n",
    "    json_obj = getJsonData(url) # 1차 데이터 추출\n",
    "\n",
    "    numRows = json_obj[\"response\"][\"body\"][\"totalCount\"]  # 조회데이터 건수\n",
    "\n",
    "    url = getWturl(sDate.replace(\"-\",\"\"), eDate.replace(\"-\",\"\"), pointID, numRows)  # url 생성\n",
    "    json_obj = getJsonData(url)  # 최종 데이터 추출\n",
    "    items = json_obj[\"response\"][\"body\"][\"items\"][\"item\"] # 필요한 item 값만 가져오기\n",
    "    df1 = pd.DataFrame(items) # items(딕셔너리 구조)를 DataFrame으로 변경\n",
    "    \n",
    "    df1 = df1[['stnNm', \"tm\", \"avgTa\", \"minTa\", \"maxTa\", \"sumRn\"]] # 원하는 열만 추출\n",
    "    \n",
    "    return df1"
   ]
  },
  {
   "cell_type": "code",
   "execution_count": 19,
   "id": "6b512d87",
   "metadata": {},
   "outputs": [
    {
     "name": "stdout",
     "output_type": "stream",
     "text": [
      "종료일 입력(예:2022-01-01)2022-03-01\n",
      "년, 월, 일 자리에 문자가 포함되어 있습니다.\n",
      "다시 입력해주세요.\n",
      "종료일 입력(예:2022-01-01)2022-03-01\n",
      "년, 월, 일 자리에 문자가 포함되어 있습니다.\n",
      "다시 입력해주세요.\n",
      "종료일 입력(예:2022-01-01)2022003001\n",
      "데이터는 당일 이전 자료까지만 제공합니다. 2022-05-01\n",
      "년, 월, 일 자리에 문자가 포함되어 있습니다.\n",
      "다시 입력해주세요.\n",
      "종료일 입력(예:2022-01-01)2022-01-01\n",
      "년, 월, 일 자리에 문자가 포함되어 있습니다.\n",
      "다시 입력해주세요.\n",
      "종료일 입력(예:2022-01-01)2022-03-23\n",
      "년, 월, 일 자리에 문자가 포함되어 있습니다.\n",
      "다시 입력해주세요.\n"
     ]
    },
    {
     "ename": "KeyboardInterrupt",
     "evalue": "Interrupted by user",
     "output_type": "error",
     "traceback": [
      "\u001b[0;31m---------------------------------------------------------------------------\u001b[0m",
      "\u001b[0;31mKeyboardInterrupt\u001b[0m                         Traceback (most recent call last)",
      "Input \u001b[0;32mIn [19]\u001b[0m, in \u001b[0;36m<cell line: 1>\u001b[0;34m()\u001b[0m\n\u001b[0;32m----> 1\u001b[0m sDate, eDate \u001b[38;5;241m=\u001b[39m \u001b[43mendDate\u001b[49m\u001b[43m(\u001b[49m\u001b[43m)\u001b[49m \u001b[38;5;66;03m# 시작일/종료일 사용자 입력 입력\u001b[39;00m\n\u001b[1;32m      2\u001b[0m \u001b[38;5;66;03m# sDate = datetime.today() + relativedelta(years = 1, days = -1)\u001b[39;00m\n\u001b[1;32m      3\u001b[0m pointName \u001b[38;5;241m=\u001b[39m \u001b[38;5;28minput\u001b[39m(\u001b[38;5;124m\"\u001b[39m\u001b[38;5;124m지점명 입력:\u001b[39m\u001b[38;5;124m\"\u001b[39m) \u001b[38;5;66;03m# 지점명 입력\u001b[39;00m\n",
      "Input \u001b[0;32mIn [18]\u001b[0m, in \u001b[0;36mendDate\u001b[0;34m()\u001b[0m\n\u001b[1;32m      1\u001b[0m \u001b[38;5;28;01mdef\u001b[39;00m \u001b[38;5;21mendDate\u001b[39m():\n\u001b[1;32m      2\u001b[0m     \u001b[38;5;66;03m# while문을 이용해 조건이 만족될때까지 계속 실행\u001b[39;00m\n\u001b[1;32m      3\u001b[0m     \n\u001b[1;32m      4\u001b[0m \u001b[38;5;66;03m#     sDate = startDate()\u001b[39;00m\n\u001b[1;32m      5\u001b[0m     \u001b[38;5;28;01mwhile\u001b[39;00m \u001b[38;5;28;01mTrue\u001b[39;00m:\n\u001b[1;32m      6\u001b[0m         \u001b[38;5;66;03m# 데이터 입력\u001b[39;00m\n\u001b[0;32m----> 7\u001b[0m         eDate \u001b[38;5;241m=\u001b[39m \u001b[38;5;28;43minput\u001b[39;49m\u001b[43m(\u001b[49m\u001b[38;5;124;43m\"\u001b[39;49m\u001b[38;5;124;43m종료일 입력(예:2022-01-01)\u001b[39;49m\u001b[38;5;124;43m\"\u001b[39;49m\u001b[43m)\u001b[49m\n\u001b[1;32m      9\u001b[0m         \u001b[38;5;28;01mif\u001b[39;00m \u001b[38;5;28mlen\u001b[39m(eDate) \u001b[38;5;241m!=\u001b[39m \u001b[38;5;241m10\u001b[39m:\n\u001b[1;32m     10\u001b[0m             \u001b[38;5;28mprint\u001b[39m(\u001b[38;5;124m'\u001b[39m\u001b[38;5;124m\"\u001b[39m\u001b[38;5;124m2022-01-01\u001b[39m\u001b[38;5;124m\"\u001b[39m\u001b[38;5;124m와 같이 \u001b[39m\u001b[38;5;124m\"\u001b[39m\u001b[38;5;124m-\u001b[39m\u001b[38;5;124m\"\u001b[39m\u001b[38;5;124m를 포함해 10자리로 입력하세요.\u001b[39m\u001b[38;5;124m'\u001b[39m)\n",
      "File \u001b[0;32m~/opt/anaconda3/envs/kdig/lib/python3.9/site-packages/ipykernel/kernelbase.py:1075\u001b[0m, in \u001b[0;36mKernel.raw_input\u001b[0;34m(self, prompt)\u001b[0m\n\u001b[1;32m   1071\u001b[0m \u001b[38;5;28;01mif\u001b[39;00m \u001b[38;5;129;01mnot\u001b[39;00m \u001b[38;5;28mself\u001b[39m\u001b[38;5;241m.\u001b[39m_allow_stdin:\n\u001b[1;32m   1072\u001b[0m     \u001b[38;5;28;01mraise\u001b[39;00m StdinNotImplementedError(\n\u001b[1;32m   1073\u001b[0m         \u001b[38;5;124m\"\u001b[39m\u001b[38;5;124mraw_input was called, but this frontend does not support input requests.\u001b[39m\u001b[38;5;124m\"\u001b[39m\n\u001b[1;32m   1074\u001b[0m     )\n\u001b[0;32m-> 1075\u001b[0m \u001b[38;5;28;01mreturn\u001b[39;00m \u001b[38;5;28;43mself\u001b[39;49m\u001b[38;5;241;43m.\u001b[39;49m\u001b[43m_input_request\u001b[49m\u001b[43m(\u001b[49m\n\u001b[1;32m   1076\u001b[0m \u001b[43m    \u001b[49m\u001b[38;5;28;43mstr\u001b[39;49m\u001b[43m(\u001b[49m\u001b[43mprompt\u001b[49m\u001b[43m)\u001b[49m\u001b[43m,\u001b[49m\n\u001b[1;32m   1077\u001b[0m \u001b[43m    \u001b[49m\u001b[38;5;28;43mself\u001b[39;49m\u001b[38;5;241;43m.\u001b[39;49m\u001b[43m_parent_ident\u001b[49m\u001b[43m[\u001b[49m\u001b[38;5;124;43m\"\u001b[39;49m\u001b[38;5;124;43mshell\u001b[39;49m\u001b[38;5;124;43m\"\u001b[39;49m\u001b[43m]\u001b[49m\u001b[43m,\u001b[49m\n\u001b[1;32m   1078\u001b[0m \u001b[43m    \u001b[49m\u001b[38;5;28;43mself\u001b[39;49m\u001b[38;5;241;43m.\u001b[39;49m\u001b[43mget_parent\u001b[49m\u001b[43m(\u001b[49m\u001b[38;5;124;43m\"\u001b[39;49m\u001b[38;5;124;43mshell\u001b[39;49m\u001b[38;5;124;43m\"\u001b[39;49m\u001b[43m)\u001b[49m\u001b[43m,\u001b[49m\n\u001b[1;32m   1079\u001b[0m \u001b[43m    \u001b[49m\u001b[43mpassword\u001b[49m\u001b[38;5;241;43m=\u001b[39;49m\u001b[38;5;28;43;01mFalse\u001b[39;49;00m\u001b[43m,\u001b[49m\n\u001b[1;32m   1080\u001b[0m \u001b[43m\u001b[49m\u001b[43m)\u001b[49m\n",
      "File \u001b[0;32m~/opt/anaconda3/envs/kdig/lib/python3.9/site-packages/ipykernel/kernelbase.py:1120\u001b[0m, in \u001b[0;36mKernel._input_request\u001b[0;34m(self, prompt, ident, parent, password)\u001b[0m\n\u001b[1;32m   1117\u001b[0m             \u001b[38;5;28;01mbreak\u001b[39;00m\n\u001b[1;32m   1118\u001b[0m \u001b[38;5;28;01mexcept\u001b[39;00m \u001b[38;5;167;01mKeyboardInterrupt\u001b[39;00m:\n\u001b[1;32m   1119\u001b[0m     \u001b[38;5;66;03m# re-raise KeyboardInterrupt, to truncate traceback\u001b[39;00m\n\u001b[0;32m-> 1120\u001b[0m     \u001b[38;5;28;01mraise\u001b[39;00m \u001b[38;5;167;01mKeyboardInterrupt\u001b[39;00m(\u001b[38;5;124m\"\u001b[39m\u001b[38;5;124mInterrupted by user\u001b[39m\u001b[38;5;124m\"\u001b[39m) \u001b[38;5;28;01mfrom\u001b[39;00m \u001b[38;5;28mNone\u001b[39m\n\u001b[1;32m   1121\u001b[0m \u001b[38;5;28;01mexcept\u001b[39;00m \u001b[38;5;167;01mException\u001b[39;00m:\n\u001b[1;32m   1122\u001b[0m     \u001b[38;5;28mself\u001b[39m\u001b[38;5;241m.\u001b[39mlog\u001b[38;5;241m.\u001b[39mwarning(\u001b[38;5;124m\"\u001b[39m\u001b[38;5;124mInvalid Message:\u001b[39m\u001b[38;5;124m\"\u001b[39m, exc_info\u001b[38;5;241m=\u001b[39m\u001b[38;5;28;01mTrue\u001b[39;00m)\n",
      "\u001b[0;31mKeyboardInterrupt\u001b[0m: Interrupted by user"
     ]
    }
   ],
   "source": [
    "sDate, eDate = endDate() # 시작일/종료일 사용자 입력 입력\n",
    "# sDate = datetime.today() + relativedelta(years = 1, days = -1)\n",
    "pointName = input(\"지점명 입력:\") # 지점명 입력\n",
    "pointID = getRegCode(pointName) # 지점명에 의한 지점코드 호출\n",
    "\n",
    "df1 = getDataFrame(sDate, eDate, pointID)\n",
    "df1.info()"
   ]
  },
  {
   "cell_type": "markdown",
   "id": "4d346317",
   "metadata": {},
   "source": [
    "### 6. 시작일을 입력하면 해당일부터 오늘까지 데이터 전체를 조회하기\n",
    "\n",
    "\n",
    "- 기준일 입력 => 해당 일을 기준으로 1월부터 12월까지 데이터 조회"
   ]
  },
  {
   "cell_type": "code",
   "execution_count": 20,
   "id": "d92ceca3",
   "metadata": {},
   "outputs": [
    {
     "name": "stdout",
     "output_type": "stream",
     "text": [
      "DatetimeIndex(['2000-04-01', '2000-05-01', '2000-06-01', '2000-07-01',\n",
      "               '2000-08-01', '2000-09-01', '2000-10-01', '2000-11-01',\n",
      "               '2000-12-01', '2001-01-01',\n",
      "               ...\n",
      "               '2021-08-01', '2021-09-01', '2021-10-01', '2021-11-01',\n",
      "               '2021-12-01', '2022-01-01', '2022-02-01', '2022-03-01',\n",
      "               '2022-04-01', '2022-05-01'],\n",
      "              dtype='datetime64[ns]', length=266, freq='MS')\n",
      "DatetimeIndex(['2000-03-31', '2000-04-30', '2000-05-31', '2000-06-30',\n",
      "               '2000-07-31', '2000-08-31', '2000-09-30', '2000-10-31',\n",
      "               '2000-11-30', '2000-12-31',\n",
      "               ...\n",
      "               '2021-07-31', '2021-08-31', '2021-09-30', '2021-10-31',\n",
      "               '2021-11-30', '2021-12-31', '2022-01-31', '2022-02-28',\n",
      "               '2022-03-31', '2022-04-30'],\n",
      "              dtype='datetime64[ns]', length=266, freq='M')\n",
      "DatetimeIndex(['2000-03-23', '2000-03-24', '2000-03-25', '2000-03-26',\n",
      "               '2000-03-27', '2000-03-28', '2000-03-29', '2000-03-30',\n",
      "               '2000-03-31', '2000-04-01',\n",
      "               ...\n",
      "               '2022-04-23', '2022-04-24', '2022-04-25', '2022-04-26',\n",
      "               '2022-04-27', '2022-04-28', '2022-04-29', '2022-04-30',\n",
      "               '2022-05-01', '2022-05-02'],\n",
      "              dtype='datetime64[ns]', length=8076, freq='D')\n"
     ]
    }
   ],
   "source": [
    "sDate = \"2000-03-01\"\n",
    "\n",
    "sdt = pd.date_range(\"2000-03-23\", datetime.today(), freq = \"MS\")\n",
    "print(sdt)\n",
    "\n",
    "\n",
    "sdt = pd.date_range(\"2000-03-23\", datetime.today(), freq = \"M\")\n",
    "print(sdt)\n",
    "\n",
    "sdt = pd.date_range(\"2000-03-23\", datetime.today(), freq = \"D\")\n",
    "print(sdt)"
   ]
  },
  {
   "cell_type": "code",
   "execution_count": 22,
   "id": "8235c4a5",
   "metadata": {},
   "outputs": [
    {
     "name": "stdout",
     "output_type": "stream",
     "text": [
      "지점명 입력:서울\n"
     ]
    },
    {
     "ename": "FileNotFoundError",
     "evalue": "[Errno 2] No such file or directory: '/Users/wondongchan/Desktop/multi/기상청_지역코드.csv'",
     "output_type": "error",
     "traceback": [
      "\u001b[0;31m---------------------------------------------------------------------------\u001b[0m",
      "\u001b[0;31mFileNotFoundError\u001b[0m                         Traceback (most recent call last)",
      "Input \u001b[0;32mIn [22]\u001b[0m, in \u001b[0;36m<cell line: 2>\u001b[0;34m()\u001b[0m\n\u001b[1;32m      1\u001b[0m pointName \u001b[38;5;241m=\u001b[39m \u001b[38;5;28minput\u001b[39m(\u001b[38;5;124m\"\u001b[39m\u001b[38;5;124m지점명 입력:\u001b[39m\u001b[38;5;124m\"\u001b[39m) \u001b[38;5;66;03m# 지점명 입력\u001b[39;00m\n\u001b[0;32m----> 2\u001b[0m pointID \u001b[38;5;241m=\u001b[39m \u001b[43mgetRegCode\u001b[49m\u001b[43m(\u001b[49m\u001b[43mpointName\u001b[49m\u001b[43m)\u001b[49m \u001b[38;5;66;03m# 지점명에 의한 지점코드 호출\u001b[39;00m\n\u001b[1;32m      4\u001b[0m df1 \u001b[38;5;241m=\u001b[39m getDataFrame(sDate, eDate, pointID)\n\u001b[1;32m      5\u001b[0m df1\u001b[38;5;241m.\u001b[39minfo()\n",
      "Input \u001b[0;32mIn [13]\u001b[0m, in \u001b[0;36mgetRegCode\u001b[0;34m(inRegName)\u001b[0m\n\u001b[1;32m      1\u001b[0m \u001b[38;5;28;01mdef\u001b[39;00m \u001b[38;5;21mgetRegCode\u001b[39m(inRegName\u001b[38;5;241m=\u001b[39m\u001b[38;5;124m\"\u001b[39m\u001b[38;5;124m서울\u001b[39m\u001b[38;5;124m\"\u001b[39m):\n\u001b[0;32m----> 2\u001b[0m     df_regCode \u001b[38;5;241m=\u001b[39m \u001b[43mpd\u001b[49m\u001b[38;5;241;43m.\u001b[39;49m\u001b[43mread_csv\u001b[49m\u001b[43m(\u001b[49m\u001b[38;5;124;43m\"\u001b[39;49m\u001b[38;5;124;43m/Users/wondongchan/Desktop/multi/기상청_지역코드.csv\u001b[39;49m\u001b[38;5;124;43m\"\u001b[39;49m\u001b[43m,\u001b[49m\u001b[43m \u001b[49m\u001b[43mencoding\u001b[49m\u001b[43m \u001b[49m\u001b[38;5;241;43m=\u001b[39;49m\u001b[43m \u001b[49m\u001b[38;5;124;43m\"\u001b[39;49m\u001b[38;5;124;43mcp949\u001b[39;49m\u001b[38;5;124;43m\"\u001b[39;49m\u001b[43m)\u001b[49m\n\u001b[1;32m      3\u001b[0m     regCode \u001b[38;5;241m=\u001b[39m df_regCode[df_regCode[\u001b[38;5;124m'\u001b[39m\u001b[38;5;124m지점명\u001b[39m\u001b[38;5;124m'\u001b[39m] \u001b[38;5;241m==\u001b[39m inRegName]  \u001b[38;5;66;03m# 원하는 지점명 검색\u001b[39;00m\n\u001b[1;32m      4\u001b[0m \u001b[38;5;66;03m#     display(regCode)\u001b[39;00m\n",
      "File \u001b[0;32m~/opt/anaconda3/envs/kdig/lib/python3.9/site-packages/pandas/util/_decorators.py:311\u001b[0m, in \u001b[0;36mdeprecate_nonkeyword_arguments.<locals>.decorate.<locals>.wrapper\u001b[0;34m(*args, **kwargs)\u001b[0m\n\u001b[1;32m    305\u001b[0m \u001b[38;5;28;01mif\u001b[39;00m \u001b[38;5;28mlen\u001b[39m(args) \u001b[38;5;241m>\u001b[39m num_allow_args:\n\u001b[1;32m    306\u001b[0m     warnings\u001b[38;5;241m.\u001b[39mwarn(\n\u001b[1;32m    307\u001b[0m         msg\u001b[38;5;241m.\u001b[39mformat(arguments\u001b[38;5;241m=\u001b[39marguments),\n\u001b[1;32m    308\u001b[0m         \u001b[38;5;167;01mFutureWarning\u001b[39;00m,\n\u001b[1;32m    309\u001b[0m         stacklevel\u001b[38;5;241m=\u001b[39mstacklevel,\n\u001b[1;32m    310\u001b[0m     )\n\u001b[0;32m--> 311\u001b[0m \u001b[38;5;28;01mreturn\u001b[39;00m \u001b[43mfunc\u001b[49m\u001b[43m(\u001b[49m\u001b[38;5;241;43m*\u001b[39;49m\u001b[43margs\u001b[49m\u001b[43m,\u001b[49m\u001b[43m \u001b[49m\u001b[38;5;241;43m*\u001b[39;49m\u001b[38;5;241;43m*\u001b[39;49m\u001b[43mkwargs\u001b[49m\u001b[43m)\u001b[49m\n",
      "File \u001b[0;32m~/opt/anaconda3/envs/kdig/lib/python3.9/site-packages/pandas/io/parsers/readers.py:680\u001b[0m, in \u001b[0;36mread_csv\u001b[0;34m(filepath_or_buffer, sep, delimiter, header, names, index_col, usecols, squeeze, prefix, mangle_dupe_cols, dtype, engine, converters, true_values, false_values, skipinitialspace, skiprows, skipfooter, nrows, na_values, keep_default_na, na_filter, verbose, skip_blank_lines, parse_dates, infer_datetime_format, keep_date_col, date_parser, dayfirst, cache_dates, iterator, chunksize, compression, thousands, decimal, lineterminator, quotechar, quoting, doublequote, escapechar, comment, encoding, encoding_errors, dialect, error_bad_lines, warn_bad_lines, on_bad_lines, delim_whitespace, low_memory, memory_map, float_precision, storage_options)\u001b[0m\n\u001b[1;32m    665\u001b[0m kwds_defaults \u001b[38;5;241m=\u001b[39m _refine_defaults_read(\n\u001b[1;32m    666\u001b[0m     dialect,\n\u001b[1;32m    667\u001b[0m     delimiter,\n\u001b[0;32m   (...)\u001b[0m\n\u001b[1;32m    676\u001b[0m     defaults\u001b[38;5;241m=\u001b[39m{\u001b[38;5;124m\"\u001b[39m\u001b[38;5;124mdelimiter\u001b[39m\u001b[38;5;124m\"\u001b[39m: \u001b[38;5;124m\"\u001b[39m\u001b[38;5;124m,\u001b[39m\u001b[38;5;124m\"\u001b[39m},\n\u001b[1;32m    677\u001b[0m )\n\u001b[1;32m    678\u001b[0m kwds\u001b[38;5;241m.\u001b[39mupdate(kwds_defaults)\n\u001b[0;32m--> 680\u001b[0m \u001b[38;5;28;01mreturn\u001b[39;00m \u001b[43m_read\u001b[49m\u001b[43m(\u001b[49m\u001b[43mfilepath_or_buffer\u001b[49m\u001b[43m,\u001b[49m\u001b[43m \u001b[49m\u001b[43mkwds\u001b[49m\u001b[43m)\u001b[49m\n",
      "File \u001b[0;32m~/opt/anaconda3/envs/kdig/lib/python3.9/site-packages/pandas/io/parsers/readers.py:575\u001b[0m, in \u001b[0;36m_read\u001b[0;34m(filepath_or_buffer, kwds)\u001b[0m\n\u001b[1;32m    572\u001b[0m _validate_names(kwds\u001b[38;5;241m.\u001b[39mget(\u001b[38;5;124m\"\u001b[39m\u001b[38;5;124mnames\u001b[39m\u001b[38;5;124m\"\u001b[39m, \u001b[38;5;28;01mNone\u001b[39;00m))\n\u001b[1;32m    574\u001b[0m \u001b[38;5;66;03m# Create the parser.\u001b[39;00m\n\u001b[0;32m--> 575\u001b[0m parser \u001b[38;5;241m=\u001b[39m \u001b[43mTextFileReader\u001b[49m\u001b[43m(\u001b[49m\u001b[43mfilepath_or_buffer\u001b[49m\u001b[43m,\u001b[49m\u001b[43m \u001b[49m\u001b[38;5;241;43m*\u001b[39;49m\u001b[38;5;241;43m*\u001b[39;49m\u001b[43mkwds\u001b[49m\u001b[43m)\u001b[49m\n\u001b[1;32m    577\u001b[0m \u001b[38;5;28;01mif\u001b[39;00m chunksize \u001b[38;5;129;01mor\u001b[39;00m iterator:\n\u001b[1;32m    578\u001b[0m     \u001b[38;5;28;01mreturn\u001b[39;00m parser\n",
      "File \u001b[0;32m~/opt/anaconda3/envs/kdig/lib/python3.9/site-packages/pandas/io/parsers/readers.py:933\u001b[0m, in \u001b[0;36mTextFileReader.__init__\u001b[0;34m(self, f, engine, **kwds)\u001b[0m\n\u001b[1;32m    930\u001b[0m     \u001b[38;5;28mself\u001b[39m\u001b[38;5;241m.\u001b[39moptions[\u001b[38;5;124m\"\u001b[39m\u001b[38;5;124mhas_index_names\u001b[39m\u001b[38;5;124m\"\u001b[39m] \u001b[38;5;241m=\u001b[39m kwds[\u001b[38;5;124m\"\u001b[39m\u001b[38;5;124mhas_index_names\u001b[39m\u001b[38;5;124m\"\u001b[39m]\n\u001b[1;32m    932\u001b[0m \u001b[38;5;28mself\u001b[39m\u001b[38;5;241m.\u001b[39mhandles: IOHandles \u001b[38;5;241m|\u001b[39m \u001b[38;5;28;01mNone\u001b[39;00m \u001b[38;5;241m=\u001b[39m \u001b[38;5;28;01mNone\u001b[39;00m\n\u001b[0;32m--> 933\u001b[0m \u001b[38;5;28mself\u001b[39m\u001b[38;5;241m.\u001b[39m_engine \u001b[38;5;241m=\u001b[39m \u001b[38;5;28;43mself\u001b[39;49m\u001b[38;5;241;43m.\u001b[39;49m\u001b[43m_make_engine\u001b[49m\u001b[43m(\u001b[49m\u001b[43mf\u001b[49m\u001b[43m,\u001b[49m\u001b[43m \u001b[49m\u001b[38;5;28;43mself\u001b[39;49m\u001b[38;5;241;43m.\u001b[39;49m\u001b[43mengine\u001b[49m\u001b[43m)\u001b[49m\n",
      "File \u001b[0;32m~/opt/anaconda3/envs/kdig/lib/python3.9/site-packages/pandas/io/parsers/readers.py:1217\u001b[0m, in \u001b[0;36mTextFileReader._make_engine\u001b[0;34m(self, f, engine)\u001b[0m\n\u001b[1;32m   1213\u001b[0m     mode \u001b[38;5;241m=\u001b[39m \u001b[38;5;124m\"\u001b[39m\u001b[38;5;124mrb\u001b[39m\u001b[38;5;124m\"\u001b[39m\n\u001b[1;32m   1214\u001b[0m \u001b[38;5;66;03m# error: No overload variant of \"get_handle\" matches argument types\u001b[39;00m\n\u001b[1;32m   1215\u001b[0m \u001b[38;5;66;03m# \"Union[str, PathLike[str], ReadCsvBuffer[bytes], ReadCsvBuffer[str]]\"\u001b[39;00m\n\u001b[1;32m   1216\u001b[0m \u001b[38;5;66;03m# , \"str\", \"bool\", \"Any\", \"Any\", \"Any\", \"Any\", \"Any\"\u001b[39;00m\n\u001b[0;32m-> 1217\u001b[0m \u001b[38;5;28mself\u001b[39m\u001b[38;5;241m.\u001b[39mhandles \u001b[38;5;241m=\u001b[39m \u001b[43mget_handle\u001b[49m\u001b[43m(\u001b[49m\u001b[43m  \u001b[49m\u001b[38;5;66;43;03m# type: ignore[call-overload]\u001b[39;49;00m\n\u001b[1;32m   1218\u001b[0m \u001b[43m    \u001b[49m\u001b[43mf\u001b[49m\u001b[43m,\u001b[49m\n\u001b[1;32m   1219\u001b[0m \u001b[43m    \u001b[49m\u001b[43mmode\u001b[49m\u001b[43m,\u001b[49m\n\u001b[1;32m   1220\u001b[0m \u001b[43m    \u001b[49m\u001b[43mencoding\u001b[49m\u001b[38;5;241;43m=\u001b[39;49m\u001b[38;5;28;43mself\u001b[39;49m\u001b[38;5;241;43m.\u001b[39;49m\u001b[43moptions\u001b[49m\u001b[38;5;241;43m.\u001b[39;49m\u001b[43mget\u001b[49m\u001b[43m(\u001b[49m\u001b[38;5;124;43m\"\u001b[39;49m\u001b[38;5;124;43mencoding\u001b[39;49m\u001b[38;5;124;43m\"\u001b[39;49m\u001b[43m,\u001b[49m\u001b[43m \u001b[49m\u001b[38;5;28;43;01mNone\u001b[39;49;00m\u001b[43m)\u001b[49m\u001b[43m,\u001b[49m\n\u001b[1;32m   1221\u001b[0m \u001b[43m    \u001b[49m\u001b[43mcompression\u001b[49m\u001b[38;5;241;43m=\u001b[39;49m\u001b[38;5;28;43mself\u001b[39;49m\u001b[38;5;241;43m.\u001b[39;49m\u001b[43moptions\u001b[49m\u001b[38;5;241;43m.\u001b[39;49m\u001b[43mget\u001b[49m\u001b[43m(\u001b[49m\u001b[38;5;124;43m\"\u001b[39;49m\u001b[38;5;124;43mcompression\u001b[39;49m\u001b[38;5;124;43m\"\u001b[39;49m\u001b[43m,\u001b[49m\u001b[43m \u001b[49m\u001b[38;5;28;43;01mNone\u001b[39;49;00m\u001b[43m)\u001b[49m\u001b[43m,\u001b[49m\n\u001b[1;32m   1222\u001b[0m \u001b[43m    \u001b[49m\u001b[43mmemory_map\u001b[49m\u001b[38;5;241;43m=\u001b[39;49m\u001b[38;5;28;43mself\u001b[39;49m\u001b[38;5;241;43m.\u001b[39;49m\u001b[43moptions\u001b[49m\u001b[38;5;241;43m.\u001b[39;49m\u001b[43mget\u001b[49m\u001b[43m(\u001b[49m\u001b[38;5;124;43m\"\u001b[39;49m\u001b[38;5;124;43mmemory_map\u001b[39;49m\u001b[38;5;124;43m\"\u001b[39;49m\u001b[43m,\u001b[49m\u001b[43m \u001b[49m\u001b[38;5;28;43;01mFalse\u001b[39;49;00m\u001b[43m)\u001b[49m\u001b[43m,\u001b[49m\n\u001b[1;32m   1223\u001b[0m \u001b[43m    \u001b[49m\u001b[43mis_text\u001b[49m\u001b[38;5;241;43m=\u001b[39;49m\u001b[43mis_text\u001b[49m\u001b[43m,\u001b[49m\n\u001b[1;32m   1224\u001b[0m \u001b[43m    \u001b[49m\u001b[43merrors\u001b[49m\u001b[38;5;241;43m=\u001b[39;49m\u001b[38;5;28;43mself\u001b[39;49m\u001b[38;5;241;43m.\u001b[39;49m\u001b[43moptions\u001b[49m\u001b[38;5;241;43m.\u001b[39;49m\u001b[43mget\u001b[49m\u001b[43m(\u001b[49m\u001b[38;5;124;43m\"\u001b[39;49m\u001b[38;5;124;43mencoding_errors\u001b[39;49m\u001b[38;5;124;43m\"\u001b[39;49m\u001b[43m,\u001b[49m\u001b[43m \u001b[49m\u001b[38;5;124;43m\"\u001b[39;49m\u001b[38;5;124;43mstrict\u001b[39;49m\u001b[38;5;124;43m\"\u001b[39;49m\u001b[43m)\u001b[49m\u001b[43m,\u001b[49m\n\u001b[1;32m   1225\u001b[0m \u001b[43m    \u001b[49m\u001b[43mstorage_options\u001b[49m\u001b[38;5;241;43m=\u001b[39;49m\u001b[38;5;28;43mself\u001b[39;49m\u001b[38;5;241;43m.\u001b[39;49m\u001b[43moptions\u001b[49m\u001b[38;5;241;43m.\u001b[39;49m\u001b[43mget\u001b[49m\u001b[43m(\u001b[49m\u001b[38;5;124;43m\"\u001b[39;49m\u001b[38;5;124;43mstorage_options\u001b[39;49m\u001b[38;5;124;43m\"\u001b[39;49m\u001b[43m,\u001b[49m\u001b[43m \u001b[49m\u001b[38;5;28;43;01mNone\u001b[39;49;00m\u001b[43m)\u001b[49m\u001b[43m,\u001b[49m\n\u001b[1;32m   1226\u001b[0m \u001b[43m\u001b[49m\u001b[43m)\u001b[49m\n\u001b[1;32m   1227\u001b[0m \u001b[38;5;28;01massert\u001b[39;00m \u001b[38;5;28mself\u001b[39m\u001b[38;5;241m.\u001b[39mhandles \u001b[38;5;129;01mis\u001b[39;00m \u001b[38;5;129;01mnot\u001b[39;00m \u001b[38;5;28;01mNone\u001b[39;00m\n\u001b[1;32m   1228\u001b[0m f \u001b[38;5;241m=\u001b[39m \u001b[38;5;28mself\u001b[39m\u001b[38;5;241m.\u001b[39mhandles\u001b[38;5;241m.\u001b[39mhandle\n",
      "File \u001b[0;32m~/opt/anaconda3/envs/kdig/lib/python3.9/site-packages/pandas/io/common.py:789\u001b[0m, in \u001b[0;36mget_handle\u001b[0;34m(path_or_buf, mode, encoding, compression, memory_map, is_text, errors, storage_options)\u001b[0m\n\u001b[1;32m    784\u001b[0m \u001b[38;5;28;01melif\u001b[39;00m \u001b[38;5;28misinstance\u001b[39m(handle, \u001b[38;5;28mstr\u001b[39m):\n\u001b[1;32m    785\u001b[0m     \u001b[38;5;66;03m# Check whether the filename is to be opened in binary mode.\u001b[39;00m\n\u001b[1;32m    786\u001b[0m     \u001b[38;5;66;03m# Binary mode does not support 'encoding' and 'newline'.\u001b[39;00m\n\u001b[1;32m    787\u001b[0m     \u001b[38;5;28;01mif\u001b[39;00m ioargs\u001b[38;5;241m.\u001b[39mencoding \u001b[38;5;129;01mand\u001b[39;00m \u001b[38;5;124m\"\u001b[39m\u001b[38;5;124mb\u001b[39m\u001b[38;5;124m\"\u001b[39m \u001b[38;5;129;01mnot\u001b[39;00m \u001b[38;5;129;01min\u001b[39;00m ioargs\u001b[38;5;241m.\u001b[39mmode:\n\u001b[1;32m    788\u001b[0m         \u001b[38;5;66;03m# Encoding\u001b[39;00m\n\u001b[0;32m--> 789\u001b[0m         handle \u001b[38;5;241m=\u001b[39m \u001b[38;5;28;43mopen\u001b[39;49m\u001b[43m(\u001b[49m\n\u001b[1;32m    790\u001b[0m \u001b[43m            \u001b[49m\u001b[43mhandle\u001b[49m\u001b[43m,\u001b[49m\n\u001b[1;32m    791\u001b[0m \u001b[43m            \u001b[49m\u001b[43mioargs\u001b[49m\u001b[38;5;241;43m.\u001b[39;49m\u001b[43mmode\u001b[49m\u001b[43m,\u001b[49m\n\u001b[1;32m    792\u001b[0m \u001b[43m            \u001b[49m\u001b[43mencoding\u001b[49m\u001b[38;5;241;43m=\u001b[39;49m\u001b[43mioargs\u001b[49m\u001b[38;5;241;43m.\u001b[39;49m\u001b[43mencoding\u001b[49m\u001b[43m,\u001b[49m\n\u001b[1;32m    793\u001b[0m \u001b[43m            \u001b[49m\u001b[43merrors\u001b[49m\u001b[38;5;241;43m=\u001b[39;49m\u001b[43merrors\u001b[49m\u001b[43m,\u001b[49m\n\u001b[1;32m    794\u001b[0m \u001b[43m            \u001b[49m\u001b[43mnewline\u001b[49m\u001b[38;5;241;43m=\u001b[39;49m\u001b[38;5;124;43m\"\u001b[39;49m\u001b[38;5;124;43m\"\u001b[39;49m\u001b[43m,\u001b[49m\n\u001b[1;32m    795\u001b[0m \u001b[43m        \u001b[49m\u001b[43m)\u001b[49m\n\u001b[1;32m    796\u001b[0m     \u001b[38;5;28;01melse\u001b[39;00m:\n\u001b[1;32m    797\u001b[0m         \u001b[38;5;66;03m# Binary mode\u001b[39;00m\n\u001b[1;32m    798\u001b[0m         handle \u001b[38;5;241m=\u001b[39m \u001b[38;5;28mopen\u001b[39m(handle, ioargs\u001b[38;5;241m.\u001b[39mmode)\n",
      "\u001b[0;31mFileNotFoundError\u001b[0m: [Errno 2] No such file or directory: '/Users/wondongchan/Desktop/multi/기상청_지역코드.csv'"
     ]
    }
   ],
   "source": [
    "\n",
    "\n",
    "pointName = input(\"지점명 입력:\") # 지점명 입력\n",
    "pointID = getRegCode(pointName) # 지점명에 의한 지점코드 호출\n",
    "\n",
    "df1 = getDataFrame(sDate, eDate, pointID)\n",
    "df1.info()"
   ]
  },
  {
   "cell_type": "markdown",
   "id": "1ba6cdb3",
   "metadata": {},
   "source": [
    "[미션] 위 코드의 결과를 이용해 날짜를 추출해 하나의 DF로 출력"
   ]
  },
  {
   "cell_type": "code",
   "execution_count": null,
   "id": "7995d9e9",
   "metadata": {},
   "outputs": [],
   "source": [
    "sDate = \"2000-03-30\"\n",
    "\n",
    "date_list = []\n",
    "sdt = int(sDate[:4])   # 입력 데이터에서 4개 출력\n",
    "edt = datetime.today().year   # 오늘 날짜에서 년도만 빼오기\n",
    "print(sdt, edt)\n",
    "cnt = 0\n",
    "\n",
    "for i in range(sdt, edt+1):\n",
    "    if cnt == 0:\n",
    "        date_list.append([sDate, str(i)+\"-12-31\"])\n",
    "        cnt = 1\n",
    "    else:\n",
    "        date_list.append([str(i)+\"-01-01\", str(i)+\"-12-31\"])\n",
    "    \n",
    "print(date_list)\n",
    "        "
   ]
  },
  {
   "cell_type": "code",
   "execution_count": null,
   "id": "dc9b5ce4",
   "metadata": {},
   "outputs": [],
   "source": [
    "pointName = input(\"지점명 입력:\") # 지점명 입력\n",
    "df = pd.DataFrame()\n",
    "\n",
    "for i in date_list:\n",
    "    pointID = getRegCode(pointName) # 지점명에 의한 지점코드 호출\n",
    "    if int(dt[1].replace(\"-\",\"\")) >= int(datetime.today().strftime(\"%Y-%m-%d\")):\n",
    "        edt = (datetime.today() - timedelta(days=1)).strftime(\"%Y-%m-%d\")\n",
    "        df1 = getDataFrame(dt[0], edt, pointID)\n",
    "    else:\n",
    "        df1 = getDataFrame(dt[0], dt[1], pointID)\n",
    "    df = pd.concat([df,df1], ignore_index=True)\n",
    "\n",
    "df.info()"
   ]
  },
  {
   "cell_type": "code",
   "execution_count": null,
   "id": "fe93da99",
   "metadata": {},
   "outputs": [],
   "source": [
    "from dateutil.relativedelta import relativedelta\n",
    "\n",
    "print(datetime.today() + relativedelta(months = 1)) # 월단위 증감\n",
    "print(datetime.today() + relativedelta(years = 1)) # 년단위 증감\n",
    "\n"
   ]
  },
  {
   "cell_type": "code",
   "execution_count": null,
   "id": "7c9830e6",
   "metadata": {},
   "outputs": [],
   "source": []
  }
 ],
 "metadata": {
  "kernelspec": {
   "display_name": "Python 3 (ipykernel)",
   "language": "python",
   "name": "python3"
  },
  "language_info": {
   "codemirror_mode": {
    "name": "ipython",
    "version": 3
   },
   "file_extension": ".py",
   "mimetype": "text/x-python",
   "name": "python",
   "nbconvert_exporter": "python",
   "pygments_lexer": "ipython3",
   "version": "3.9.7"
  }
 },
 "nbformat": 4,
 "nbformat_minor": 5
}
