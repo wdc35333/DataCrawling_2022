{
 "cells": [
  {
   "cell_type": "markdown",
   "id": "3aef3096",
   "metadata": {
    "id": "3aef3096"
   },
   "source": [
    "## 기상청 날씨 조회 \n",
    "- 참조:https://data.kma.go.kr/data/grnd/selectAsosRltmList.do?pgmNo=36&tabNo=2"
   ]
  },
  {
   "cell_type": "code",
   "execution_count": 1,
   "id": "4d683a1e",
   "metadata": {
    "id": "4d683a1e"
   },
   "outputs": [],
   "source": [
    "#필요한 모듈 연결하기\n",
    "\n",
    "from datetime import datetime, timedelta\n",
    "import pandas as pd\n",
    "import requests\n",
    "import json"
   ]
  },
  {
   "cell_type": "markdown",
   "id": "43563ffc",
   "metadata": {
    "id": "43563ffc"
   },
   "source": [
    "### 1. 날짜 입력 확인\n",
    "[조건]\n",
    "- 시작일/종료일 입력받기(예: 2022-01-01)\n",
    "- 입력값이 10자리가 아닌경우 다시 입력 받기\n",
    "- \"-\"를 뺀 나머지 입력 데이터가 모두 숫자인지 아닌지 확인"
   ]
  },
  {
   "cell_type": "code",
   "execution_count": 2,
   "id": "a4ff0692",
   "metadata": {
    "id": "a4ff0692"
   },
   "outputs": [],
   "source": [
    "# 시작일 입력 함수\n",
    "def startDate():\n",
    "    # while문을 이용해 조건이 만족될때까지 계속 실행\n",
    "    while True:\n",
    "        # 데이터 입력\n",
    "        sDate = input(\"조회 시작일 입력(예:2022-01-01)\")\n",
    "        \n",
    "        # 입력값이 10자리가 아닌경우 다시 입력 받기\n",
    "        if len(sDate) != 10:\n",
    "            print('\"2022-01-01\"와 같이 \"-\"를 포함해 10자리로 입력하세요.')\n",
    "            continue\n",
    "            \n",
    "        # \"-\"를 뺀 나머지 입력 데이터가 모두 숫자인지 아닌지 확인\n",
    "        # 문자 포함시 다시 입력받기\n",
    "        try:\n",
    "            sdt=int(sDate.replace(\"-\",\"\"))\n",
    "            break\n",
    "        except:\n",
    "            print(\"년, 월, 일 자리에 문자가 포함되어 있습니다.\\n다시 입력하세요\")\n",
    "            continue\n",
    "            \n",
    "    return sDate\n",
    "    "
   ]
  },
  {
   "cell_type": "markdown",
   "id": "9aa97408",
   "metadata": {
    "id": "9aa97408"
   },
   "source": [
    "### 2. 종료일 입력\n",
    "- 시작일과 동일한 형식으로 입력\n",
    "- 종료일은 시작일 이전의 데이터 입력 불가\n",
    "- 종료일이 오늘 날짜라면 -1일 진행"
   ]
  },
  {
   "cell_type": "code",
   "execution_count": 3,
   "id": "70013c4c",
   "metadata": {
    "id": "70013c4c"
   },
   "outputs": [],
   "source": [
    "# 종료일 입력\n",
    "def endDate():\n",
    "    #sDate=startDate() # 시작일 입력 받기\n",
    "    \n",
    "    # while문을 이용해 조건이 만족될때까지 계속 실행\n",
    "    while True:\n",
    "        # 데이터 입력\n",
    "        eDate = input(\"종료일 입력:(예:2022-01-01)\")\n",
    "        \n",
    "        # 입력값이 10자리가 아닌경우 다시 입력 받기\n",
    "        if len(eDate) != 10:\n",
    "            print('\"2022-01-01\"와 같이 \"-\"를 포함해 10자리로 입력하세요.')\n",
    "            continue\n",
    "            \n",
    "        # \"-\"를 뺀 나머지 입력 데이터가 모두 숫자인지 아닌지 확인\n",
    "        # 문자 포함시 다시 입력받기\n",
    "        # 입력한 종료일이 오늘 날짜인지 확인 => 오늘날짜-1 한 날짜로 세팅\n",
    "        # 입력한 종료일이 시작일보다 큰거나 같은 값인지 확인 => 재입력\n",
    "        try:\n",
    "            edt = int(eDate.replace(\"-\",\"\"))\n",
    "            today = datetime.today()  # 현재 시스템 날짜 가져오기\n",
    "            newDate=today.strftime('%Y%m%d') # 날짜형 => 문자형으로 변경\n",
    "\n",
    "            # 입력데이터가 현재일보다 크거나 같은 데이터인지 확인\n",
    "            if edt >= int(newDate):\n",
    "                # 크거나 같다면 실행 전날로 종료일 변경\n",
    "                eDate=(datetime.today()-timedelta(days=1)).strftime(\"%Y-%m-%d\")\n",
    "                print('데이터는 당일 이전 자료까지만 제공합니다.')\n",
    "\n",
    "            if int(sDate.replace(\"-\", \"\")) > edt:\n",
    "                print('종료일이 시작일 보다 이전 날짜입니다.\\n다시 입력해주세요:')\n",
    "                continue\n",
    "\n",
    "            break\n",
    "            \n",
    "        except:\n",
    "            print(\"년, 월, 일 자리에 문자가 포함되어 있습니다.\\n다시 입력하세요\")\n",
    "            continue\n",
    "            \n",
    "    return sDate, eDate"
   ]
  },
  {
   "cell_type": "markdown",
   "id": "b14144a8",
   "metadata": {
    "id": "b14144a8"
   },
   "source": [
    "### 3. 측정 지점 코드 확인\n",
    "- 측정 지점의 이름을 입력하면 해당 지점 코드 출력"
   ]
  },
  {
   "cell_type": "code",
   "execution_count": 9,
   "id": "b43a3628",
   "metadata": {
    "id": "b43a3628"
   },
   "outputs": [],
   "source": [
    "def getRegCode(inRegName=\"서울\"):\n",
    "    df_regCode = pd.read_csv(\"기상청_지역코드.csv\", encoding = \"cp949\")\n",
    "    regCode = df_regCode[df_regCode['지점명']==inRegName]  # 원하는 지점명 검색\n",
    "    #display(regCode)\n",
    "    if len(regCode) == 1:  # 지점명 검색 여부 확인\n",
    "        # 검색 되면 코드 전달\n",
    "        return int(regCode['지점'].values)\n",
    "    else:\n",
    "        # 검색 자료가 없으면 사용자가 강제 에러 발생\n",
    "        raise Exception(f\"해당 지역명은 없습니다.\\n지역명 확인후 입력하세요.\\n\\n{inRegName}\")"
   ]
  },
  {
   "cell_type": "markdown",
   "id": "8ee133f5",
   "metadata": {
    "id": "8ee133f5"
   },
   "source": [
    "### 4. 날씨데이터 조회 url 만들기\n",
    "- 시작일/종료일을 기준으로 지점명에 해당하는 날씨정보 조회 url 생성"
   ]
  },
  {
   "cell_type": "code",
   "execution_count": 5,
   "id": "2f95105f",
   "metadata": {
    "id": "2f95105f"
   },
   "outputs": [],
   "source": [
    "# url 생성\n",
    "def getWturl(sDate, eDate, pointID, numRows=10):\n",
    "    Key = \"rx1J4yPTJLMypgEsmw%2BuyunTeZzwwUbRPrwPUkkYNxyUDpxomPQu1Hjz8vXE%2BzLfrzvFQdKPXqp%2FvonN%2Bc77iA%3D%3D\"\n",
    "    url = \"http://apis.data.go.kr/1360000/AsosDalyInfoService/getWthrDataList?serviceKey=\" + Key\n",
    "    url = url + \"&pageNo=1&dataCd=ASOS&dateCd=DAY&numOfRows=\" + str(numRows)\n",
    "    url = url + \"&dataType=JSON\" \n",
    "    url = url + \"&startDt=\" + str(sDate)\n",
    "    url = url + \"&endDt=\" + str(eDate)\n",
    "    url = url + \"&stnIds=\" + str(pointID)\n",
    "    #print(url)\n",
    "    \n",
    "    return url"
   ]
  },
  {
   "cell_type": "markdown",
   "id": "35c01ddf",
   "metadata": {
    "id": "35c01ddf"
   },
   "source": [
    "### 5. url을 이용해 실제 데이터 조회 및 DataFrame으로 저장\n",
    "- 1차 조회후 전체 데이터 개수 확인\n",
    "- 전체 데이터 개수를 이용한 1페이지에 조회 데이터 전체 가져오기\n",
    "- 가져온 데이터에서 필요한 데이터만 DataFrame로 최종 출력하기"
   ]
  },
  {
   "cell_type": "code",
   "execution_count": 6,
   "id": "4a03baf7",
   "metadata": {
    "id": "4a03baf7"
   },
   "outputs": [],
   "source": [
    "def getJsonData(url):\n",
    "    soup_json=requests.get(url)\n",
    "    if soup_json.status_code != 200:\n",
    "        exit(f\"데이터를 받지 못했습니다. 에러코드:{soup_json.status_code}\" )\n",
    "    json_obj=json.loads(soup_json.text)  # json 코드 읽어오기/딕셔너리 구조\n",
    "\n",
    "    return json_obj"
   ]
  },
  {
   "cell_type": "code",
   "execution_count": 7,
   "id": "3ef544de",
   "metadata": {
    "id": "3ef544de"
   },
   "outputs": [],
   "source": [
    "def getDataFrame(sDate, eDate, pointID):\n",
    "    url = getWturl(sDate.replace(\"-\",\"\"), eDate.replace(\"-\",\"\"), pointID)  # 1차 url 생성\n",
    "    json_obj = getJsonData(url) # 1차 데이터 추출\n",
    "\n",
    "    numRows = json_obj[\"response\"][\"body\"][\"totalCount\"]  # 조회데이터 건수\n",
    "\n",
    "    url = getWturl(sDate.replace(\"-\",\"\"), eDate.replace(\"-\",\"\"), pointID, numRows)  # url 생성\n",
    "    json_obj = getJsonData(url)  # 최종 데이터 추출\n",
    "    items = json_obj[\"response\"][\"body\"][\"items\"][\"item\"] # 필요한 item 값만 가져오기\n",
    "    df1 = pd.DataFrame(items) # items(딕셔너리 구조)를 DataFrame으로 변경\n",
    "    \n",
    "    df1 = df1[['stnNm', \"tm\", \"avgTa\", \"minTa\", \"maxTa\", \"sumRn\"]] # 원하는 열만 추출\n",
    "    \n",
    "    return df1"
   ]
  },
  {
   "cell_type": "code",
   "execution_count": 10,
   "id": "69b92786",
   "metadata": {
    "collapsed": true,
    "id": "69b92786",
    "outputId": "b88855af-8ce1-479e-ea5b-055dde42b7a7"
   },
   "outputs": [
    {
     "name": "stdout",
     "output_type": "stream",
     "text": [
      "종료일 입력:(예:2022-01-01)2022-01-01\n",
      "년, 월, 일 자리에 문자가 포함되어 있습니다.\n",
      "다시 입력하세요\n",
      "종료일 입력:(예:2022-01-01)2022-03-01\n",
      "년, 월, 일 자리에 문자가 포함되어 있습니다.\n",
      "다시 입력하세요\n",
      "종료일 입력:(예:2022-01-01)2021-03-01\n",
      "년, 월, 일 자리에 문자가 포함되어 있습니다.\n",
      "다시 입력하세요\n",
      "종료일 입력:(예:2022-01-01)2022022022\n",
      "데이터는 당일 이전 자료까지만 제공합니다.\n",
      "년, 월, 일 자리에 문자가 포함되어 있습니다.\n",
      "다시 입력하세요\n",
      "종료일 입력:(예:2022-01-01)023-043-49\n",
      "년, 월, 일 자리에 문자가 포함되어 있습니다.\n",
      "다시 입력하세요\n"
     ]
    },
    {
     "ename": "KeyboardInterrupt",
     "evalue": "Interrupted by user",
     "output_type": "error",
     "traceback": [
      "\u001b[0;31m---------------------------------------------------------------------------\u001b[0m",
      "\u001b[0;31mKeyboardInterrupt\u001b[0m                         Traceback (most recent call last)",
      "Input \u001b[0;32mIn [10]\u001b[0m, in \u001b[0;36m<cell line: 1>\u001b[0;34m()\u001b[0m\n\u001b[0;32m----> 1\u001b[0m sDate, eDate \u001b[38;5;241m=\u001b[39m \u001b[43mendDate\u001b[49m\u001b[43m(\u001b[49m\u001b[43m)\u001b[49m \u001b[38;5;66;03m# 시작일/종료일 사용자 입력 입력\u001b[39;00m\n\u001b[1;32m      2\u001b[0m pointName\u001b[38;5;241m=\u001b[39m\u001b[38;5;28minput\u001b[39m(\u001b[38;5;124m\"\u001b[39m\u001b[38;5;124m지점명 입력:\u001b[39m\u001b[38;5;124m\"\u001b[39m) \u001b[38;5;66;03m# 지점명 입력\u001b[39;00m\n\u001b[1;32m      3\u001b[0m pointID\u001b[38;5;241m=\u001b[39mgetRegCode(pointName)   \u001b[38;5;66;03m# 지점명에 의한 지점 코드 추출\u001b[39;00m\n",
      "Input \u001b[0;32mIn [3]\u001b[0m, in \u001b[0;36mendDate\u001b[0;34m()\u001b[0m\n\u001b[1;32m      2\u001b[0m \u001b[38;5;28;01mdef\u001b[39;00m \u001b[38;5;21mendDate\u001b[39m():\n\u001b[1;32m      3\u001b[0m     \u001b[38;5;66;03m#sDate=startDate() # 시작일 입력 받기\u001b[39;00m\n\u001b[1;32m      4\u001b[0m     \n\u001b[1;32m      5\u001b[0m     \u001b[38;5;66;03m# while문을 이용해 조건이 만족될때까지 계속 실행\u001b[39;00m\n\u001b[1;32m      6\u001b[0m     \u001b[38;5;28;01mwhile\u001b[39;00m \u001b[38;5;28;01mTrue\u001b[39;00m:\n\u001b[1;32m      7\u001b[0m         \u001b[38;5;66;03m# 데이터 입력\u001b[39;00m\n\u001b[0;32m----> 8\u001b[0m         eDate \u001b[38;5;241m=\u001b[39m \u001b[38;5;28;43minput\u001b[39;49m\u001b[43m(\u001b[49m\u001b[38;5;124;43m\"\u001b[39;49m\u001b[38;5;124;43m종료일 입력:(예:2022-01-01)\u001b[39;49m\u001b[38;5;124;43m\"\u001b[39;49m\u001b[43m)\u001b[49m\n\u001b[1;32m     10\u001b[0m         \u001b[38;5;66;03m# 입력값이 10자리가 아닌경우 다시 입력 받기\u001b[39;00m\n\u001b[1;32m     11\u001b[0m         \u001b[38;5;28;01mif\u001b[39;00m \u001b[38;5;28mlen\u001b[39m(eDate) \u001b[38;5;241m!=\u001b[39m \u001b[38;5;241m10\u001b[39m:\n",
      "File \u001b[0;32m~/opt/anaconda3/envs/kdig/lib/python3.9/site-packages/ipykernel/kernelbase.py:1075\u001b[0m, in \u001b[0;36mKernel.raw_input\u001b[0;34m(self, prompt)\u001b[0m\n\u001b[1;32m   1071\u001b[0m \u001b[38;5;28;01mif\u001b[39;00m \u001b[38;5;129;01mnot\u001b[39;00m \u001b[38;5;28mself\u001b[39m\u001b[38;5;241m.\u001b[39m_allow_stdin:\n\u001b[1;32m   1072\u001b[0m     \u001b[38;5;28;01mraise\u001b[39;00m StdinNotImplementedError(\n\u001b[1;32m   1073\u001b[0m         \u001b[38;5;124m\"\u001b[39m\u001b[38;5;124mraw_input was called, but this frontend does not support input requests.\u001b[39m\u001b[38;5;124m\"\u001b[39m\n\u001b[1;32m   1074\u001b[0m     )\n\u001b[0;32m-> 1075\u001b[0m \u001b[38;5;28;01mreturn\u001b[39;00m \u001b[38;5;28;43mself\u001b[39;49m\u001b[38;5;241;43m.\u001b[39;49m\u001b[43m_input_request\u001b[49m\u001b[43m(\u001b[49m\n\u001b[1;32m   1076\u001b[0m \u001b[43m    \u001b[49m\u001b[38;5;28;43mstr\u001b[39;49m\u001b[43m(\u001b[49m\u001b[43mprompt\u001b[49m\u001b[43m)\u001b[49m\u001b[43m,\u001b[49m\n\u001b[1;32m   1077\u001b[0m \u001b[43m    \u001b[49m\u001b[38;5;28;43mself\u001b[39;49m\u001b[38;5;241;43m.\u001b[39;49m\u001b[43m_parent_ident\u001b[49m\u001b[43m[\u001b[49m\u001b[38;5;124;43m\"\u001b[39;49m\u001b[38;5;124;43mshell\u001b[39;49m\u001b[38;5;124;43m\"\u001b[39;49m\u001b[43m]\u001b[49m\u001b[43m,\u001b[49m\n\u001b[1;32m   1078\u001b[0m \u001b[43m    \u001b[49m\u001b[38;5;28;43mself\u001b[39;49m\u001b[38;5;241;43m.\u001b[39;49m\u001b[43mget_parent\u001b[49m\u001b[43m(\u001b[49m\u001b[38;5;124;43m\"\u001b[39;49m\u001b[38;5;124;43mshell\u001b[39;49m\u001b[38;5;124;43m\"\u001b[39;49m\u001b[43m)\u001b[49m\u001b[43m,\u001b[49m\n\u001b[1;32m   1079\u001b[0m \u001b[43m    \u001b[49m\u001b[43mpassword\u001b[49m\u001b[38;5;241;43m=\u001b[39;49m\u001b[38;5;28;43;01mFalse\u001b[39;49;00m\u001b[43m,\u001b[49m\n\u001b[1;32m   1080\u001b[0m \u001b[43m\u001b[49m\u001b[43m)\u001b[49m\n",
      "File \u001b[0;32m~/opt/anaconda3/envs/kdig/lib/python3.9/site-packages/ipykernel/kernelbase.py:1120\u001b[0m, in \u001b[0;36mKernel._input_request\u001b[0;34m(self, prompt, ident, parent, password)\u001b[0m\n\u001b[1;32m   1117\u001b[0m             \u001b[38;5;28;01mbreak\u001b[39;00m\n\u001b[1;32m   1118\u001b[0m \u001b[38;5;28;01mexcept\u001b[39;00m \u001b[38;5;167;01mKeyboardInterrupt\u001b[39;00m:\n\u001b[1;32m   1119\u001b[0m     \u001b[38;5;66;03m# re-raise KeyboardInterrupt, to truncate traceback\u001b[39;00m\n\u001b[0;32m-> 1120\u001b[0m     \u001b[38;5;28;01mraise\u001b[39;00m \u001b[38;5;167;01mKeyboardInterrupt\u001b[39;00m(\u001b[38;5;124m\"\u001b[39m\u001b[38;5;124mInterrupted by user\u001b[39m\u001b[38;5;124m\"\u001b[39m) \u001b[38;5;28;01mfrom\u001b[39;00m \u001b[38;5;28mNone\u001b[39m\n\u001b[1;32m   1121\u001b[0m \u001b[38;5;28;01mexcept\u001b[39;00m \u001b[38;5;167;01mException\u001b[39;00m:\n\u001b[1;32m   1122\u001b[0m     \u001b[38;5;28mself\u001b[39m\u001b[38;5;241m.\u001b[39mlog\u001b[38;5;241m.\u001b[39mwarning(\u001b[38;5;124m\"\u001b[39m\u001b[38;5;124mInvalid Message:\u001b[39m\u001b[38;5;124m\"\u001b[39m, exc_info\u001b[38;5;241m=\u001b[39m\u001b[38;5;28;01mTrue\u001b[39;00m)\n",
      "\u001b[0;31mKeyboardInterrupt\u001b[0m: Interrupted by user"
     ]
    }
   ],
   "source": [
    "sDate, eDate = endDate() # 시작일/종료일 사용자 입력 입력\n",
    "pointName=input(\"지점명 입력:\") # 지점명 입력\n",
    "pointID=getRegCode(pointName)   # 지점명에 의한 지점 코드 추출\n",
    "\n",
    "df1=getDataFrame(sDate, eDate, pointID)\n",
    "df1.info()\n"
   ]
  },
  {
   "cell_type": "code",
   "execution_count": null,
   "id": "ca13c060",
   "metadata": {
    "id": "ca13c060",
    "outputId": "8b1d7948-8e90-4db4-cf47-a283da9b5f19"
   },
   "outputs": [
    {
     "name": "stdout",
     "output_type": "stream",
     "text": [
      "20220323 <class 'str'>\n",
      "2022-03-23 00:00:00 <class 'datetime.datetime'>\n",
      "2022-03-22 13:41:00.393105\n"
     ]
    }
   ],
   "source": [
    "dt=datetime.today().strftime(\"%Y%m%d\")\n",
    "print(dt, type(dt))\n",
    "newdt=datetime.strptime(dt[2:], \"%y%m%d\")\n",
    "print(newdt, type(newdt))\n",
    "print(datetime.today()-timedelta(days=1)) "
   ]
  },
  {
   "cell_type": "code",
   "execution_count": 11,
   "id": "3ffb8e0c",
   "metadata": {
    "id": "3ffb8e0c",
    "outputId": "eabc8803-f9b6-47cc-b77f-e23249cc70c1"
   },
   "outputs": [
    {
     "data": {
      "text/plain": [
       "101"
      ]
     },
     "execution_count": 11,
     "metadata": {},
     "output_type": "execute_result"
    }
   ],
   "source": [
    "getRegCode(\"춘천\")"
   ]
  },
  {
   "cell_type": "code",
   "execution_count": 12,
   "id": "f12c2395",
   "metadata": {
    "id": "f12c2395",
    "outputId": "f16d7d79-589c-4227-c25f-445880b02736"
   },
   "outputs": [
    {
     "data": {
      "text/plain": [
       "datetime.datetime(2022, 5, 9, 21, 1, 20, 960514)"
      ]
     },
     "execution_count": 12,
     "metadata": {},
     "output_type": "execute_result"
    }
   ],
   "source": [
    "# 마이크로초, 밀리초, 초, 분, 시, 일, 주\n",
    "datetime.today()+timedelta(weeks=1)  # 1주 증가"
   ]
  },
  {
   "cell_type": "code",
   "execution_count": null,
   "id": "33972ccd",
   "metadata": {
    "id": "33972ccd"
   },
   "outputs": [],
   "source": []
  },
  {
   "cell_type": "markdown",
   "id": "1ad96fb2",
   "metadata": {
    "id": "1ad96fb2"
   },
   "source": [
    "### 6. 시작일을 입력하면 해당 일부터 오늘까지 데이터 전체를 조회하기\n",
    "- 기준일 입력 => 해당 일을 기준으로 1월부터 12월까지 데이터 조회"
   ]
  },
  {
   "cell_type": "code",
   "execution_count": 13,
   "id": "30171bfd",
   "metadata": {
    "id": "30171bfd",
    "outputId": "b8527021-4110-4b8f-bd4b-e7786ea0dbae"
   },
   "outputs": [
    {
     "name": "stdout",
     "output_type": "stream",
     "text": [
      "2023-05-02 21:01:28.341895\n",
      "2023-05-02 21:01:28.342847\n",
      "DatetimeIndex(['2000-04-01', '2000-05-01', '2000-06-01', '2000-07-01',\n",
      "               '2000-08-01', '2000-09-01', '2000-10-01', '2000-11-01',\n",
      "               '2000-12-01', '2001-01-01',\n",
      "               ...\n",
      "               '2021-08-01', '2021-09-01', '2021-10-01', '2021-11-01',\n",
      "               '2021-12-01', '2022-01-01', '2022-02-01', '2022-03-01',\n",
      "               '2022-04-01', '2022-05-01'],\n",
      "              dtype='datetime64[ns]', length=266, freq='MS')\n",
      "DatetimeIndex(['2000-03-31', '2000-04-30', '2000-05-31', '2000-06-30',\n",
      "               '2000-07-31', '2000-08-31', '2000-09-30', '2000-10-31',\n",
      "               '2000-11-30', '2000-12-31',\n",
      "               ...\n",
      "               '2021-07-31', '2021-08-31', '2021-09-30', '2021-10-31',\n",
      "               '2021-11-30', '2021-12-31', '2022-01-31', '2022-02-28',\n",
      "               '2022-03-31', '2022-04-30'],\n",
      "              dtype='datetime64[ns]', length=266, freq='M')\n",
      "DatetimeIndex(['2000-03-23', '2000-03-24', '2000-03-25', '2000-03-26',\n",
      "               '2000-03-27', '2000-03-28', '2000-03-29', '2000-03-30',\n",
      "               '2000-03-31', '2000-04-01',\n",
      "               ...\n",
      "               '2022-04-23', '2022-04-24', '2022-04-25', '2022-04-26',\n",
      "               '2022-04-27', '2022-04-28', '2022-04-29', '2022-04-30',\n",
      "               '2022-05-01', '2022-05-02'],\n",
      "              dtype='datetime64[ns]', length=8076, freq='D')\n"
     ]
    }
   ],
   "source": [
    "from dateutil.relativedelta import relativedelta\n",
    "\n",
    "print(datetime.today()+relativedelta(months=12)) # 월단위 증감\n",
    "print(datetime.today()+relativedelta(years=1))  # 년단위 증감\n",
    "\n",
    "sDate = \"2000-03-01\"\n",
    "#year=2000/month=03/day=01\n",
    "sdt=pd.date_range(\"2000-03-23\", datetime.today(), freq=\"MS\")\n",
    "print(sdt)\n",
    "sdt=pd.date_range(\"2000-03-23\", datetime.today(), freq=\"M\")\n",
    "print(sdt)\n",
    "sdt=pd.date_range(\"2000-03-23\", datetime.today(), freq=\"D\")\n",
    "print(sdt)"
   ]
  },
  {
   "cell_type": "code",
   "execution_count": 14,
   "id": "376ac7dc",
   "metadata": {
    "id": "376ac7dc",
    "outputId": "7ba9dd51-a7ab-4f04-a85f-e7b79797fea4"
   },
   "outputs": [
    {
     "name": "stdout",
     "output_type": "stream",
     "text": [
      "2000 2022\n",
      "[['2000-03-30', '2000-12-31'], ['2001-01-01', '2001-12-31'], ['2002-01-01', '2002-12-31'], ['2003-01-01', '2003-12-31'], ['2004-01-01', '2004-12-31'], ['2005-01-01', '2005-12-31'], ['2006-01-01', '2006-12-31'], ['2007-01-01', '2007-12-31'], ['2008-01-01', '2008-12-31'], ['2009-01-01', '2009-12-31'], ['2010-01-01', '2010-12-31'], ['2011-01-01', '2011-12-31'], ['2012-01-01', '2012-12-31'], ['2013-01-01', '2013-12-31'], ['2014-01-01', '2014-12-31'], ['2015-01-01', '2015-12-31'], ['2016-01-01', '2016-12-31'], ['2017-01-01', '2017-12-31'], ['2018-01-01', '2018-12-31'], ['2019-01-01', '2019-12-31'], ['2020-01-01', '2020-12-31'], ['2021-01-01', '2021-12-31'], ['2022-01-01', '2022-12-31']]\n"
     ]
    }
   ],
   "source": [
    "sDate=\"2000-03-30\"\n",
    "\n",
    "date_list=[]\n",
    "sdt=int(sDate[:4])  # 입력 데이터에서 4개 출력\n",
    "edt=datetime.today().year  # 오늘날짜에서 년도만 빼오기\n",
    "print(sdt, edt)\n",
    "\n",
    "date_list=[]\n",
    "cnt=0\n",
    "for i in range(sdt, edt+1):\n",
    "    if cnt == 0:\n",
    "        #print(sDate)\n",
    "        #print(str(i)+\"-12-31\")\n",
    "        date_list.append([sDate, str(i)+\"-12-31\"])\n",
    "        cnt=1\n",
    "    else:\n",
    "        #print(str(i)+\"-01-01\")\n",
    "        #print(str(i)+\"-12-31\")\n",
    "        date_list.append([str(i)+\"-01-01\", str(i)+\"-12-31\"])\n",
    "        \n",
    "print(date_list)  \n"
   ]
  },
  {
   "cell_type": "markdown",
   "id": "ef953cb5",
   "metadata": {
    "id": "ef953cb5"
   },
   "source": [
    "[미션] 위 코드의 결과를 이용해 날짜를 추출해 하나의 DF로 출력 "
   ]
  },
  {
   "cell_type": "code",
   "execution_count": 15,
   "id": "9f305e4b",
   "metadata": {
    "id": "9f305e4b",
    "outputId": "bf8b41b9-f9ac-4b0f-c620-f7f8f0f5f06b"
   },
   "outputs": [
    {
     "name": "stdout",
     "output_type": "stream",
     "text": [
      "지점명 입력:서울\n",
      "2022-05-01\n",
      "<class 'pandas.core.frame.DataFrame'>\n",
      "RangeIndex: 8068 entries, 0 to 8067\n",
      "Data columns (total 6 columns):\n",
      " #   Column  Non-Null Count  Dtype \n",
      "---  ------  --------------  ----- \n",
      " 0   stnNm   8068 non-null   object\n",
      " 1   tm      8068 non-null   object\n",
      " 2   avgTa   8068 non-null   object\n",
      " 3   minTa   8068 non-null   object\n",
      " 4   maxTa   8068 non-null   object\n",
      " 5   sumRn   8068 non-null   object\n",
      "dtypes: object(6)\n",
      "memory usage: 378.3+ KB\n"
     ]
    }
   ],
   "source": [
    "pointName=input(\"지점명 입력:\") # 지점명 입력\n",
    "df=pd.DataFrame()\n",
    "for dt in date_list:\n",
    "    pointID=getRegCode(pointName)   # 지점명에 의한 지점 코드 추출\n",
    "    if int(dt[1].replace(\"-\",\"\")) >= int(datetime.today().strftime(\"%Y%m%d\")):\n",
    "        edt=(datetime.today()-timedelta(days=1)).strftime(\"%Y-%m-%d\")\n",
    "        print(edt)\n",
    "        df1=getDataFrame(dt[0], edt, pointID)\n",
    "    else:\n",
    "        df1=getDataFrame(dt[0], dt[1], pointID)\n",
    "    df=pd.concat([df, df1], ignore_index=True)\n",
    "df.info()    "
   ]
  },
  {
   "cell_type": "code",
   "execution_count": null,
   "id": "8c2d71ca",
   "metadata": {
    "id": "8c2d71ca"
   },
   "outputs": [],
   "source": []
  }
 ],
 "metadata": {
  "colab": {
   "name": "2. 기상청날씨정보조회.ipynb",
   "provenance": []
  },
  "kernelspec": {
   "display_name": "Python 3 (ipykernel)",
   "language": "python",
   "name": "python3"
  },
  "language_info": {
   "codemirror_mode": {
    "name": "ipython",
    "version": 3
   },
   "file_extension": ".py",
   "mimetype": "text/x-python",
   "name": "python",
   "nbconvert_exporter": "python",
   "pygments_lexer": "ipython3",
   "version": "3.9.7"
  }
 },
 "nbformat": 4,
 "nbformat_minor": 5
}
