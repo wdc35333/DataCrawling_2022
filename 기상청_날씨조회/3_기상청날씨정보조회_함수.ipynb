{
 "cells": [
  {
   "cell_type": "markdown",
   "id": "3aef3096",
   "metadata": {
    "id": "3aef3096"
   },
   "source": [
    "## 기상청 날씨 조회 \n",
    "- 참조:https://data.kma.go.kr/data/grnd/selectAsosRltmList.do?pgmNo=36&tabNo=2"
   ]
  },
  {
   "cell_type": "code",
   "execution_count": 1,
   "id": "4d683a1e",
   "metadata": {
    "id": "4d683a1e"
   },
   "outputs": [],
   "source": [
    "#필요한 모듈 연결하기\n",
    "\n",
    "from datetime import datetime, timedelta\n",
    "import pandas as pd\n",
    "import requests\n",
    "import json"
   ]
  },
  {
   "cell_type": "markdown",
   "id": "43563ffc",
   "metadata": {
    "id": "43563ffc"
   },
   "source": [
    "### 1. 날짜 입력 확인\n",
    "[조건]\n",
    "- 시작일/종료일 입력받기(예: 2022-01-01)\n",
    "- 입력값이 10자리가 아닌경우 다시 입력 받기\n",
    "- \"-\"를 뺀 나머지 입력 데이터가 모두 숫자인지 아닌지 확인"
   ]
  },
  {
   "cell_type": "code",
   "execution_count": 2,
   "id": "a4ff0692",
   "metadata": {
    "id": "a4ff0692"
   },
   "outputs": [],
   "source": [
    "# 시작일 입력 함수\n",
    "def startDate():\n",
    "    # while문을 이용해 조건이 만족될때까지 계속 실행\n",
    "    while True:\n",
    "        # 데이터 입력\n",
    "        sDate = input(\"조회 시작일 입력(예:2022-01-01)\")\n",
    "        \n",
    "        # 입력값이 10자리가 아닌경우 다시 입력 받기\n",
    "        if len(sDate) != 10:\n",
    "            print('\"2022-01-01\"와 같이 \"-\"를 포함해 10자리로 입력하세요.')\n",
    "            continue\n",
    "            \n",
    "        # \"-\"를 뺀 나머지 입력 데이터가 모두 숫자인지 아닌지 확인\n",
    "        # 문자 포함시 다시 입력받기\n",
    "        try:\n",
    "            sdt=int(sDate.replace(\"-\",\"\"))\n",
    "            break\n",
    "        except:\n",
    "            print(\"년, 월, 일 자리에 문자가 포함되어 있습니다.\\n다시 입력하세요\")\n",
    "            continue\n",
    "            \n",
    "    return sDate\n",
    "    "
   ]
  },
  {
   "cell_type": "markdown",
   "id": "9aa97408",
   "metadata": {
    "id": "9aa97408"
   },
   "source": [
    "### 2. 종료일 입력\n",
    "- 시작일과 동일한 형식으로 입력\n",
    "- 종료일은 시작일 이전의 데이터 입력 불가\n",
    "- 종료일이 오늘 날짜라면 -1일 진행"
   ]
  },
  {
   "cell_type": "code",
   "execution_count": 3,
   "id": "70013c4c",
   "metadata": {
    "id": "70013c4c"
   },
   "outputs": [],
   "source": [
    "# 종료일 입력\n",
    "def endDate():\n",
    "    #sDate=startDate() # 시작일 입력 받기\n",
    "    \n",
    "    # while문을 이용해 조건이 만족될때까지 계속 실행\n",
    "    while True:\n",
    "        # 데이터 입력\n",
    "        eDate = input(\"종료일 입력:(예:2022-01-01)\")\n",
    "        \n",
    "        # 입력값이 10자리가 아닌경우 다시 입력 받기\n",
    "        if len(eDate) != 10:\n",
    "            print('\"2022-01-01\"와 같이 \"-\"를 포함해 10자리로 입력하세요.')\n",
    "            continue\n",
    "            \n",
    "        # \"-\"를 뺀 나머지 입력 데이터가 모두 숫자인지 아닌지 확인\n",
    "        # 문자 포함시 다시 입력받기\n",
    "        # 입력한 종료일이 오늘 날짜인지 확인 => 오늘날짜-1 한 날짜로 세팅\n",
    "        # 입력한 종료일이 시작일보다 큰거나 같은 값인지 확인 => 재입력\n",
    "        try:\n",
    "            edt = int(eDate.replace(\"-\",\"\"))\n",
    "            today = datetime.today()  # 현재 시스템 날짜 가져오기\n",
    "            newDate=today.strftime('%Y%m%d') # 날짜형 => 문자형으로 변경\n",
    "\n",
    "            # 입력데이터가 현재일보다 크거나 같은 데이터인지 확인\n",
    "            if edt >= int(newDate):\n",
    "                # 크거나 같다면 실행 전날로 종료일 변경\n",
    "                eDate=(datetime.today()-timedelta(days=1)).strftime(\"%Y-%m-%d\")\n",
    "                print('데이터는 당일 이전 자료까지만 제공합니다.')\n",
    "\n",
    "            if int(sDate.replace(\"-\", \"\")) > edt:\n",
    "                print('종료일이 시작일 보다 이전 날짜입니다.\\n다시 입력해주세요:')\n",
    "                continue\n",
    "\n",
    "            break\n",
    "            \n",
    "        except:\n",
    "            print(\"년, 월, 일 자리에 문자가 포함되어 있습니다.\\n다시 입력하세요\")\n",
    "            continue\n",
    "            \n",
    "    return sDate, eDate"
   ]
  },
  {
   "cell_type": "markdown",
   "id": "b14144a8",
   "metadata": {
    "id": "b14144a8"
   },
   "source": [
    "### 3. 측정 지점 코드 확인\n",
    "- 측정 지점의 이름을 입력하면 해당 지점 코드 출력"
   ]
  },
  {
   "cell_type": "code",
   "execution_count": 10,
   "id": "b43a3628",
   "metadata": {
    "id": "b43a3628"
   },
   "outputs": [],
   "source": [
    "def getRegCode(inRegName=\"서울\"):\n",
    "    df_regCode = pd.read_csv(\"/Users/wondongchan/Desktop/multi/기상청_지역코드.csv\", encoding=\"cp949\")  # 코랩 기준\n",
    "    #df_regCode = pd.read_csv(\"c:/pydata/기상청_지역코드.csv\", encoding=\"cp949\") # conda 기준\n",
    "    regCode = df_regCode[df_regCode['지점명']==inRegName]  # 원하는 지점명 검색\n",
    "    #display(regCode)\n",
    "    \n",
    "    if len(regCode) == 1:  # 지점명 검색 여부 확인\n",
    "        # 검색 되면 코드 전달\n",
    "        return int(regCode['지점'].values)\n",
    "    else:\n",
    "        # 검색 자료가 없으면 사용자가 강제 에러 발생\n",
    "        raise Exception(f\"해당 지역명은 없습니다.\\n지역명 확인후 입력하세요.\\n\\n{inRegName}\")"
   ]
  },
  {
   "cell_type": "markdown",
   "id": "8ee133f5",
   "metadata": {
    "id": "8ee133f5"
   },
   "source": [
    "### 4. 날씨데이터 조회 url 만들기\n",
    "- 시작일/종료일을 기준으로 지점명에 해당하는 날씨정보 조회 url 생성"
   ]
  },
  {
   "cell_type": "code",
   "execution_count": 11,
   "id": "2f95105f",
   "metadata": {
    "id": "2f95105f"
   },
   "outputs": [],
   "source": [
    "# url 생성\n",
    "def getWturl(sDate, eDate, pointID, numRows=10):\n",
    "    Key = \"rx1J4yPTJLMypgEsmw%2BuyunTeZzwwUbRPrwPUkkYNxyUDpxomPQu1Hjz8vXE%2BzLfrzvFQdKPXqp%2FvonN%2Bc77iA%3D%3D\"\n",
    "    url = \"http://apis.data.go.kr/1360000/AsosDalyInfoService/getWthrDataList?serviceKey=\" + Key\n",
    "    url = url + \"&pageNo=1&dataCd=ASOS&dateCd=DAY&numOfRows=\" + str(numRows)\n",
    "    url = url + \"&dataType=JSON\" \n",
    "    url = url + \"&startDt=\" + str(sDate)\n",
    "    url = url + \"&endDt=\" + str(eDate)\n",
    "    url = url + \"&stnIds=\" + str(pointID)\n",
    "    #print(url)\n",
    "    \n",
    "    return url"
   ]
  },
  {
   "cell_type": "markdown",
   "id": "35c01ddf",
   "metadata": {
    "id": "35c01ddf"
   },
   "source": [
    "### 5. url을 이용해 실제 데이터 조회 및 DataFrame으로 저장\n",
    "- 1차 조회후 전체 데이터 개수 확인\n",
    "- 전체 데이터 개수를 이용한 1페이지에 조회 데이터 전체 가져오기\n",
    "- 가져온 데이터에서 필요한 데이터만 DataFrame로 최종 출력하기"
   ]
  },
  {
   "cell_type": "code",
   "execution_count": 12,
   "id": "4a03baf7",
   "metadata": {
    "id": "4a03baf7"
   },
   "outputs": [],
   "source": [
    "def getJsonData(url):\n",
    "    soup_json=requests.get(url)\n",
    "    if soup_json.status_code != 200:\n",
    "        exit(f\"데이터를 받지 못했습니다. 에러코드:{soup_json.status_code}\" )\n",
    "    json_obj=json.loads(soup_json.text)  # json 코드 읽어오기/딕셔너리 구조\n",
    "\n",
    "    return json_obj"
   ]
  },
  {
   "cell_type": "code",
   "execution_count": 13,
   "id": "3ef544de",
   "metadata": {
    "id": "3ef544de"
   },
   "outputs": [],
   "source": [
    "def getDataFrame(sDate, eDate, pointID):\n",
    "    # 기본 url 생성\n",
    "    url=getWturl(sDate.replace(\"-\",\"\"), eDate.replace(\"-\",\"\"), pointID) # 1차 url 생성\n",
    "    json_obj=getJsonData(url)  # 10개의 데이터 받아오기\n",
    "    numRows=json_obj[\"response\"][\"body\"][\"totalCount\"] # 전체 데이터 조회 건수 가져오기\n",
    "\n",
    "    # 전체 데이터를 가져오기 위한 url 생성\n",
    "    url=getWturl(sDate.replace(\"-\",\"\"), eDate.replace(\"-\",\"\"), pointID, numRows) \n",
    "    json_obj=getJsonData(url)   # 1페이지에 전체 조회 데이터 가져오기\n",
    "\n",
    "    # 데이터 정보를 가지고 있는 \"item\" 값만 가져오기\n",
    "    items=json_obj[\"response\"][\"body\"][\"items\"]['item'] \n",
    "    df1=pd.DataFrame(items)  # items(딕셔너리 구조)를 DataFrame으로 변경\n",
    "    \n",
    "    df1=df1[['stnNm', \"tm\", \"avgTa\", \"minTa\", \"maxTa\", 'sumRn']] # 원하는 열만 추출해 기존 DataFrame에 넣기\n",
    "    \n",
    "    return df1"
   ]
  },
  {
   "cell_type": "markdown",
   "id": "1ad96fb2",
   "metadata": {
    "id": "1ad96fb2"
   },
   "source": [
    "### 6. 시작일을 입력하면 해당 일부터 오늘까지 데이터 전체를 조회하기\n",
    "- 기준일 입력 => 해당 일을 기준으로 1월부터 12월까지 데이터 조회"
   ]
  },
  {
   "cell_type": "code",
   "execution_count": 14,
   "id": "376ac7dc",
   "metadata": {
    "id": "376ac7dc"
   },
   "outputs": [],
   "source": [
    "def getDateList(sDate):    \n",
    "    date_list=[]\n",
    "    sdt=int(sDate[:4])  # 입력 데이터에서 4개 출력(시작년도)\n",
    "    edt=datetime.today().year  # 오늘날짜에서 년도만 빼오기(종료년도)\n",
    "    print(sdt, edt)  # 시작/종료 년도 확인\n",
    "\n",
    "    date_list=[]\n",
    "    cnt=0\n",
    "    for i in range(sdt, edt+1):\n",
    "        if cnt == 0:\n",
    "            #print(sDate)\n",
    "            #print(str(i)+\"-12-31\")\n",
    "            date_list.append([sDate, str(i)+\"-12-31\"])\n",
    "            cnt=1\n",
    "        else:\n",
    "            #print(str(i)+\"-01-01\")\n",
    "            #print(str(i)+\"-12-31\")\n",
    "            date_list.append([str(i)+\"-01-01\", str(i)+\"-12-31\"])\n",
    "            \n",
    "    #print(date_list)  \n",
    "    return date_list"
   ]
  },
  {
   "cell_type": "markdown",
   "id": "ef953cb5",
   "metadata": {
    "id": "ef953cb5"
   },
   "source": [
    "[미션] 위 코드의 결과를 이용해 날짜를 추출해 하나의 DF로 출력 "
   ]
  },
  {
   "cell_type": "code",
   "execution_count": 20,
   "id": "9f305e4b",
   "metadata": {
    "colab": {
     "base_uri": "https://localhost:8080/"
    },
    "id": "9f305e4b",
    "outputId": "6a411e5b-7980-4171-e1b2-5bf1645e713f"
   },
   "outputs": [
    {
     "name": "stdout",
     "output_type": "stream",
     "text": [
      "조회 시작일 입력(예:2022-01-01)2015-01-01\n",
      "지점명 입력:서울\n",
      "2015 2022\n",
      "2022-03-23\n",
      "<class 'pandas.core.frame.DataFrame'>\n",
      "RangeIndex: 2639 entries, 0 to 2638\n",
      "Data columns (total 6 columns):\n",
      " #   Column  Non-Null Count  Dtype \n",
      "---  ------  --------------  ----- \n",
      " 0   stnNm   2639 non-null   object\n",
      " 1   tm      2639 non-null   object\n",
      " 2   avgTa   2639 non-null   object\n",
      " 3   minTa   2639 non-null   object\n",
      " 4   maxTa   2639 non-null   object\n",
      " 5   sumRn   2639 non-null   object\n",
      "dtypes: object(6)\n",
      "memory usage: 123.8+ KB\n"
     ]
    }
   ],
   "source": [
    "if __name__ == \"__main__\":\n",
    "    sDate=startDate()\n",
    "    pointName=input(\"지점명 입력:\") # 지점명 입력\n",
    "    date_list=getDateList(sDate)\n",
    "    df=pd.DataFrame()\n",
    "    for dt in date_list:\n",
    "        pointID=getRegCode(pointName)   # 지점명에 의한 지점 코드 추출\n",
    "        if int(dt[1].replace(\"-\",\"\")) >= int(datetime.today().strftime(\"%Y%m%d\")):\n",
    "            edt=(datetime.today()-timedelta(days=1)).strftime(\"%Y-%m-%d\")\n",
    "            print(edt)\n",
    "            df1=getDataFrame(dt[0], edt, pointID)\n",
    "        else:\n",
    "            df1=getDataFrame(dt[0], dt[1], pointID)\n",
    "        df=pd.concat([df, df1], ignore_index=True)\n",
    "    df.info()    \n",
    "#     df.to_csv(\"./날씨정보.csv\", encoding = \"cp949\", index = False) # 코랩에 저장\n",
    "    df.to_csv(\"/Users/wondongchan/Desktop/multi/날씨정보.csv\", encoding = \"cp949\", index = False) # 콘다에 저장"
   ]
  },
  {
   "cell_type": "code",
   "execution_count": null,
   "id": "f882093b",
   "metadata": {},
   "outputs": [],
   "source": []
  }
 ],
 "metadata": {
  "colab": {
   "collapsed_sections": [],
   "name": "3. 기상청날씨정보조회_함수.ipynb",
   "provenance": []
  },
  "kernelspec": {
   "display_name": "Python 3 (ipykernel)",
   "language": "python",
   "name": "python3"
  },
  "language_info": {
   "codemirror_mode": {
    "name": "ipython",
    "version": 3
   },
   "file_extension": ".py",
   "mimetype": "text/x-python",
   "name": "python",
   "nbconvert_exporter": "python",
   "pygments_lexer": "ipython3",
   "version": "3.9.7"
  }
 },
 "nbformat": 4,
 "nbformat_minor": 5
}
