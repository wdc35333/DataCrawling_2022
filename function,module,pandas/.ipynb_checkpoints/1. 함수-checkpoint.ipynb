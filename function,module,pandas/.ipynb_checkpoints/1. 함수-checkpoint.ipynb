{
 "cells": [
  {
   "cell_type": "markdown",
   "metadata": {
    "id": "B0AlRa9tTquS"
   },
   "source": [
    "## 함수\n",
    "- 함수(function)은 일정한 작업을 수행하는 코드블럭으로 보통 반복적으로 계속 사용되는 코드들을 함수로 정의하여 사용하게 된다.\n",
    "- 기본 구조\n",
    "![image.png](data:image/png;base64,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)"
   ]
  },
  {
   "cell_type": "code",
   "execution_count": 1,
   "metadata": {
    "colab": {
     "base_uri": "https://localhost:8080/"
    },
    "executionInfo": {
     "elapsed": 4,
     "status": "ok",
     "timestamp": 1646958035445,
     "user": {
      "displayName": "dc w",
      "photoUrl": "https://lh3.googleusercontent.com/a/default-user=s64",
      "userId": "02032790542712423852"
     },
     "user_tz": -540
    },
    "id": "75nQ1AXDTx_2",
    "outputId": "a13634c2-a3da-4b44-df7c-849882fd28f1"
   },
   "outputs": [
    {
     "name": "stdout",
     "output_type": "stream",
     "text": [
      "30\n"
     ]
    }
   ],
   "source": [
    "## 함수 예제\n",
    "def add(a, b):  # a, b 두 개의 파라미터를 가지는 함수\n",
    "    tot = a + b\n",
    "    return tot\n",
    "\n",
    "total = add(10, 20)\n",
    "print(total)\n"
   ]
  },
  {
   "cell_type": "code",
   "execution_count": 2,
   "metadata": {
    "colab": {
     "base_uri": "https://localhost:8080/"
    },
    "executionInfo": {
     "elapsed": 3,
     "status": "ok",
     "timestamp": 1646958838693,
     "user": {
      "displayName": "dc w",
      "photoUrl": "https://lh3.googleusercontent.com/a/default-user=s64",
      "userId": "02032790542712423852"
     },
     "user_tz": -540
    },
    "id": "0CRfINMXWTqd",
    "outputId": "4b53fae1-b6f7-443a-e255-ae1354929fae"
   },
   "outputs": [
    {
     "name": "stdout",
     "output_type": "stream",
     "text": [
      "k = 10\n",
      "lst = [1, 2, 5, 0]\n"
     ]
    }
   ],
   "source": [
    "def f(i, mylist):\n",
    "    i = i + 1   # i += 1\n",
    "    mylist.append(0)\n",
    "\n",
    "k = 10\n",
    "lst = [1, 2, 5]\n",
    "\n",
    "f(k, lst)\n",
    "print(f\"k = {k}\\nlst = {lst}\")"
   ]
  },
  {
   "cell_type": "markdown",
   "metadata": {
    "id": "tlbDSEW_Zg2t"
   },
   "source": [
    "- 입력파라미터에 기본값 지정"
   ]
  },
  {
   "cell_type": "code",
   "execution_count": 3,
   "metadata": {
    "colab": {
     "base_uri": "https://localhost:8080/"
    },
    "executionInfo": {
     "elapsed": 3,
     "status": "ok",
     "timestamp": 1646958896626,
     "user": {
      "displayName": "dc w",
      "photoUrl": "https://lh3.googleusercontent.com/a/default-user=s64",
      "userId": "02032790542712423852"
     },
     "user_tz": -540
    },
    "id": "XKWKkhsnZYAc",
    "outputId": "da69c199-21c9-4c1b-c1a4-ebcaf471d8a7"
   },
   "outputs": [
    {
     "name": "stdout",
     "output_type": "stream",
     "text": [
      "200\n"
     ]
    }
   ],
   "source": [
    "def cal(a, b, c):\n",
    "    return a * b * c\n",
    "\n",
    "result = cal(10,20,1)\n",
    "print(result)"
   ]
  },
  {
   "cell_type": "markdown",
   "metadata": {
    "id": "pef4tOo1aZHn"
   },
   "source": [
    "- Named Parameter\n",
    " * 함수 호출시 \"파라미터명 = 파라미터 값\"과 같이 정의"
   ]
  },
  {
   "cell_type": "code",
   "execution_count": 4,
   "metadata": {
    "colab": {
     "base_uri": "https://localhost:8080/"
    },
    "executionInfo": {
     "elapsed": 4,
     "status": "ok",
     "timestamp": 1646959659725,
     "user": {
      "displayName": "dc w",
      "photoUrl": "https://lh3.googleusercontent.com/a/default-user=s64",
      "userId": "02032790542712423852"
     },
     "user_tz": -540
    },
    "id": "MMT2k8AQZa2v",
    "outputId": "d6950eab-5a4e-42e9-876d-c9f03638d18e"
   },
   "outputs": [
    {
     "name": "stdout",
     "output_type": "stream",
     "text": [
      "이름: 서정동, 나이:50, 점수:85\n",
      "이름: 서정동, 나이:50, 점수:85\n"
     ]
    }
   ],
   "source": [
    "def report(name, age, score):\n",
    "    print(f\"이름: {name}, 나이:{age}, 점수:{score}\")\n",
    "\n",
    "report(\"서정동\", 50, 85)\n",
    "report(name = \"서정동\", age = 50, score = 85)"
   ]
  },
  {
   "cell_type": "markdown",
   "metadata": {
    "id": "Vf6QKz1WdPzX"
   },
   "source": [
    "- 가변길이 파라미터(0~N개 만큼 닫을 수 있음)\n",
    " * 파라미터명: *파라미터명"
   ]
  },
  {
   "cell_type": "code",
   "execution_count": 5,
   "metadata": {
    "colab": {
     "base_uri": "https://localhost:8080/"
    },
    "executionInfo": {
     "elapsed": 5,
     "status": "ok",
     "timestamp": 1646959906720,
     "user": {
      "displayName": "dc w",
      "photoUrl": "https://lh3.googleusercontent.com/a/default-user=s64",
      "userId": "02032790542712423852"
     },
     "user_tz": -540
    },
    "id": "nNSf-_m0cgdL",
    "outputId": "ebb02904-542a-4853-b55a-9d36ab0ffc62"
   },
   "outputs": [
    {
     "name": "stdout",
     "output_type": "stream",
     "text": [
      "3\n",
      "37\n"
     ]
    }
   ],
   "source": [
    "def total(*nums):\n",
    "    tot = 0\n",
    "    for n in nums:\n",
    "        tot += n\n",
    "    return tot\n",
    "\n",
    "t = total(1,2)\n",
    "print(t)\n",
    "\n",
    "t = total(1,2,3,5,7,10,9)\n",
    "print(t)"
   ]
  }
 ],
 "metadata": {
  "colab": {
   "authorship_tag": "ABX9TyNZez9ComvQOGEkhmcoSXQt",
   "collapsed_sections": [],
   "name": "1. 함수.ipynb",
   "provenance": []
  },
  "kernelspec": {
   "display_name": "Python 3 (ipykernel)",
   "language": "python",
   "name": "python3"
  },
  "language_info": {
   "codemirror_mode": {
    "name": "ipython",
    "version": 3
   },
   "file_extension": ".py",
   "mimetype": "text/x-python",
   "name": "python",
   "nbconvert_exporter": "python",
   "pygments_lexer": "ipython3",
   "version": "3.9.7"
  }
 },
 "nbformat": 4,
 "nbformat_minor": 1
}
