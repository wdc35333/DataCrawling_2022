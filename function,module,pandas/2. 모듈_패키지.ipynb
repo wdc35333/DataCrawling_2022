{
 "cells": [
  {
   "cell_type": "markdown",
   "metadata": {
    "id": "5Z63uRsGjJFA"
   },
   "source": [
    "### 모듈(Module)\n",
    "- 파이썬 코드를 논리적으로 묶어서 관리하고 사용할 수 있도록 하는 것\n",
    "- 모듈 => 파이썬.py 파일이 하나의 모듈\n",
    "- 기본연결: 연결하는 모듈이 가지고 있는 모든 함수 사용\n",
    "      import 모듈명 [as 별명]\n"
   ]
  },
  {
   "cell_type": "code",
   "execution_count": 1,
   "metadata": {
    "colab": {
     "base_uri": "https://localhost:8080/",
     "height": 143
    },
    "executionInfo": {
     "elapsed": 5,
     "status": "ok",
     "timestamp": 1646961857910,
     "user": {
      "displayName": "dc w",
      "photoUrl": "https://lh3.googleusercontent.com/a/default-user=s64",
      "userId": "02032790542712423852"
     },
     "user_tz": -540
    },
    "id": "x49hJYnnkYGm",
    "outputId": "76b38dc4-3568-467c-e4bd-c416169b005c"
   },
   "outputs": [
    {
     "data": {
      "text/html": [
       "<div>\n",
       "<style scoped>\n",
       "    .dataframe tbody tr th:only-of-type {\n",
       "        vertical-align: middle;\n",
       "    }\n",
       "\n",
       "    .dataframe tbody tr th {\n",
       "        vertical-align: top;\n",
       "    }\n",
       "\n",
       "    .dataframe thead th {\n",
       "        text-align: right;\n",
       "    }\n",
       "</style>\n",
       "<table border=\"1\" class=\"dataframe\">\n",
       "  <thead>\n",
       "    <tr style=\"text-align: right;\">\n",
       "      <th></th>\n",
       "      <th>번호</th>\n",
       "      <th>A</th>\n",
       "      <th>B</th>\n",
       "      <th>C</th>\n",
       "    </tr>\n",
       "  </thead>\n",
       "  <tbody>\n",
       "    <tr>\n",
       "      <th>0</th>\n",
       "      <td>1</td>\n",
       "      <td>10</td>\n",
       "      <td>20</td>\n",
       "      <td>30</td>\n",
       "    </tr>\n",
       "    <tr>\n",
       "      <th>1</th>\n",
       "      <td>2</td>\n",
       "      <td>40</td>\n",
       "      <td>50</td>\n",
       "      <td>60</td>\n",
       "    </tr>\n",
       "    <tr>\n",
       "      <th>2</th>\n",
       "      <td>3</td>\n",
       "      <td>70</td>\n",
       "      <td>80</td>\n",
       "      <td>90</td>\n",
       "    </tr>\n",
       "  </tbody>\n",
       "</table>\n",
       "</div>"
      ],
      "text/plain": [
       "   번호   A   B   C\n",
       "0   1  10  20  30\n",
       "1   2  40  50  60\n",
       "2   3  70  80  90"
      ]
     },
     "execution_count": 1,
     "metadata": {},
     "output_type": "execute_result"
    }
   ],
   "source": [
    "import pandas as pd\n",
    "df = pd.DataFrame([[1,10,20,30],[2,40,50,60],[3,70,80,90]], columns=[\"번호\",\"A\",\"B\",\"C\"])\n",
    "df"
   ]
  },
  {
   "cell_type": "markdown",
   "metadata": {
    "id": "ud1SE73ekXe3"
   },
   "source": [
    "- 하나의 모듈에 여러 함수들이 존재/이중 하나만 불러 사용하는 경우\n",
    "      from 모듈명 import 함수명"
   ]
  },
  {
   "cell_type": "code",
   "execution_count": 2,
   "metadata": {
    "colab": {
     "base_uri": "https://localhost:8080/",
     "height": 143
    },
    "executionInfo": {
     "elapsed": 283,
     "status": "ok",
     "timestamp": 1646961911775,
     "user": {
      "displayName": "dc w",
      "photoUrl": "https://lh3.googleusercontent.com/a/default-user=s64",
      "userId": "02032790542712423852"
     },
     "user_tz": -540
    },
    "id": "Bj07D3P-jEz2",
    "outputId": "48a7a430-fa40-4092-ef8f-ec18c148919f"
   },
   "outputs": [
    {
     "data": {
      "text/html": [
       "<div>\n",
       "<style scoped>\n",
       "    .dataframe tbody tr th:only-of-type {\n",
       "        vertical-align: middle;\n",
       "    }\n",
       "\n",
       "    .dataframe tbody tr th {\n",
       "        vertical-align: top;\n",
       "    }\n",
       "\n",
       "    .dataframe thead th {\n",
       "        text-align: right;\n",
       "    }\n",
       "</style>\n",
       "<table border=\"1\" class=\"dataframe\">\n",
       "  <thead>\n",
       "    <tr style=\"text-align: right;\">\n",
       "      <th></th>\n",
       "      <th>번호</th>\n",
       "      <th>A</th>\n",
       "      <th>B</th>\n",
       "      <th>C</th>\n",
       "    </tr>\n",
       "  </thead>\n",
       "  <tbody>\n",
       "    <tr>\n",
       "      <th>0</th>\n",
       "      <td>1</td>\n",
       "      <td>10</td>\n",
       "      <td>20</td>\n",
       "      <td>30</td>\n",
       "    </tr>\n",
       "    <tr>\n",
       "      <th>1</th>\n",
       "      <td>2</td>\n",
       "      <td>40</td>\n",
       "      <td>50</td>\n",
       "      <td>60</td>\n",
       "    </tr>\n",
       "    <tr>\n",
       "      <th>2</th>\n",
       "      <td>3</td>\n",
       "      <td>70</td>\n",
       "      <td>80</td>\n",
       "      <td>90</td>\n",
       "    </tr>\n",
       "  </tbody>\n",
       "</table>\n",
       "</div>"
      ],
      "text/plain": [
       "   번호   A   B   C\n",
       "0   1  10  20  30\n",
       "1   2  40  50  60\n",
       "2   3  70  80  90"
      ]
     },
     "execution_count": 2,
     "metadata": {},
     "output_type": "execute_result"
    }
   ],
   "source": [
    "from pandas import DataFrame\n",
    "df = DataFrame([[1,10,20,30],[2,40,50,60],[3,70,80,90]], columns=[\"번호\",\"A\",\"B\",\"C\"])\n",
    "df"
   ]
  },
  {
   "cell_type": "markdown",
   "metadata": {
    "id": "ryX1IvzsnI9O"
   },
   "source": [
    "- 연결하는 모듈의 모든 함수를 모듈명 없이 사용\n",
    "        from 모듈명 import *"
   ]
  },
  {
   "cell_type": "code",
   "execution_count": 3,
   "metadata": {
    "colab": {
     "base_uri": "https://localhost:8080/",
     "height": 143
    },
    "executionInfo": {
     "elapsed": 315,
     "status": "ok",
     "timestamp": 1646962456406,
     "user": {
      "displayName": "dc w",
      "photoUrl": "https://lh3.googleusercontent.com/a/default-user=s64",
      "userId": "02032790542712423852"
     },
     "user_tz": -540
    },
    "id": "jBj-BcfMm_EZ",
    "outputId": "d394814c-f3e0-4c5b-d62f-2b1810f678f3"
   },
   "outputs": [
    {
     "data": {
      "text/html": [
       "<div>\n",
       "<style scoped>\n",
       "    .dataframe tbody tr th:only-of-type {\n",
       "        vertical-align: middle;\n",
       "    }\n",
       "\n",
       "    .dataframe tbody tr th {\n",
       "        vertical-align: top;\n",
       "    }\n",
       "\n",
       "    .dataframe thead th {\n",
       "        text-align: right;\n",
       "    }\n",
       "</style>\n",
       "<table border=\"1\" class=\"dataframe\">\n",
       "  <thead>\n",
       "    <tr style=\"text-align: right;\">\n",
       "      <th></th>\n",
       "      <th>번호</th>\n",
       "      <th>A</th>\n",
       "      <th>B</th>\n",
       "      <th>C</th>\n",
       "    </tr>\n",
       "  </thead>\n",
       "  <tbody>\n",
       "    <tr>\n",
       "      <th>0</th>\n",
       "      <td>1</td>\n",
       "      <td>10</td>\n",
       "      <td>20</td>\n",
       "      <td>30</td>\n",
       "    </tr>\n",
       "    <tr>\n",
       "      <th>1</th>\n",
       "      <td>2</td>\n",
       "      <td>40</td>\n",
       "      <td>50</td>\n",
       "      <td>60</td>\n",
       "    </tr>\n",
       "    <tr>\n",
       "      <th>2</th>\n",
       "      <td>3</td>\n",
       "      <td>70</td>\n",
       "      <td>80</td>\n",
       "      <td>90</td>\n",
       "    </tr>\n",
       "  </tbody>\n",
       "</table>\n",
       "</div>"
      ],
      "text/plain": [
       "   번호   A   B   C\n",
       "0   1  10  20  30\n",
       "1   2  40  50  60\n",
       "2   3  70  80  90"
      ]
     },
     "execution_count": 3,
     "metadata": {},
     "output_type": "execute_result"
    }
   ],
   "source": [
    "from pandas import *\n",
    "\n",
    "df = DataFrame([[1,10,20,30], [2,40,50,60],[3,70,80,90]], \n",
    "                  columns=[\"번호\", \"A\", \"B\", \"C\"])\n",
    "df"
   ]
  },
  {
   "cell_type": "markdown",
   "metadata": {
    "id": "lcTAvAOlnMFf"
   },
   "source": [
    "- 사용자가 만든 모듈(사용자함수.py) 사용하기\n",
    " * 사용자 함수 파일 확장자: .py\n",
    " * 코드 실행파일과 같은 폴더(개인pc) 또는 하위폴더(코랩)\n",
    " * 코랩의 경우 작업경로가 실행파일의 위치까지 cd로 이동하는 것이 좋음"
   ]
  },
  {
   "cell_type": "code",
   "execution_count": 5,
   "metadata": {},
   "outputs": [
    {
     "name": "stdout",
     "output_type": "stream",
     "text": [
      "Collecting modules\n",
      "  Downloading modules-1.0.0.tar.gz (525 bytes)\n",
      "Building wheels for collected packages: modules\n",
      "  Building wheel for modules (setup.py) ... \u001b[?25ldone\n",
      "\u001b[?25h  Created wheel for modules: filename=modules-1.0.0-py3-none-any.whl size=1222 sha256=b8a63b0820df7123e9fd1e0101e0d4afd3abece8e3136d2c32cf8faa7523a247\n",
      "  Stored in directory: /Users/wondongchan/Library/Caches/pip/wheels/fd/24/7b/1fd6d730afebf1670fe6f3394ba9d9824025baeac37691aa59\n",
      "Successfully built modules\n",
      "Installing collected packages: modules\n",
      "Successfully installed modules-1.0.0\n"
     ]
    }
   ],
   "source": [
    "# !pip install modules"
   ]
  },
  {
   "cell_type": "code",
   "execution_count": 19,
   "metadata": {
    "colab": {
     "base_uri": "https://localhost:8080/"
    },
    "executionInfo": {
     "elapsed": 4,
     "status": "ok",
     "timestamp": 1646972145265,
     "user": {
      "displayName": "dc w",
      "photoUrl": "https://lh3.googleusercontent.com/a/default-user=s64",
      "userId": "02032790542712423852"
     },
     "user_tz": -540
    },
    "id": "cIEuXXwspEfg",
    "outputId": "6f345d6a-a8df-41df-b6ac-d5ec74122a87"
   },
   "outputs": [
    {
     "data": {
      "text/plain": [
       "30"
      ]
     },
     "execution_count": 19,
     "metadata": {},
     "output_type": "execute_result"
    }
   ],
   "source": [
    "from models import myfun\n",
    "\n",
    "models.myfun.add(10,20)"
   ]
  },
  {
   "cell_type": "code",
   "execution_count": 20,
   "metadata": {
    "colab": {
     "base_uri": "https://localhost:8080/"
    },
    "executionInfo": {
     "elapsed": 11,
     "status": "ok",
     "timestamp": 1646972136240,
     "user": {
      "displayName": "dc w",
      "photoUrl": "https://lh3.googleusercontent.com/a/default-user=s64",
      "userId": "02032790542712423852"
     },
     "user_tz": -540
    },
    "id": "gRbamYW2qAcr",
    "outputId": "a846bc65-5970-440a-8f64-87802b76b311"
   },
   "outputs": [
    {
     "name": "stdout",
     "output_type": "stream",
     "text": [
      "30\n"
     ]
    }
   ],
   "source": [
    "import models.myfun\n",
    "\n",
    "addf=models.myfun.add(10,20)\n",
    "print(addf)"
   ]
  },
  {
   "cell_type": "code",
   "execution_count": 35,
   "metadata": {
    "colab": {
     "base_uri": "https://localhost:8080/"
    },
    "executionInfo": {
     "elapsed": 4,
     "status": "ok",
     "timestamp": 1646972460907,
     "user": {
      "displayName": "dc w",
      "photoUrl": "https://lh3.googleusercontent.com/a/default-user=s64",
      "userId": "02032790542712423852"
     },
     "user_tz": -540
    },
    "id": "EwX-UfMGuYkz",
    "outputId": "cf207444-a401-4bb7-bd65-d26e30acf985"
   },
   "outputs": [
    {
     "name": "stdout",
     "output_type": "stream",
     "text": [
      "[['', '축제명', '주소', '연락처', '시작일', '종료일', '위도', '경도'], ['0', '가락몰 페스티벌 2019', '서울특별시 송파구 양재대로 932', '02-3435-1000', '2019-10-11', '2019-10-12', '37.4960925880', '127.1109831778'], ['1', '가리왕산 MUSIC FESTIVAL 2020', '강원도 정선군 북평면 중봉길 41-35', '033-560-3016', '2020-08-21', '2020-08-22', '37.4742535268', '128.6097538017'], ['2', '가야문화축제 2020', '경상남도 김해시 가야의길 126', '055-330-3958', '2020-10-29', '2020-11-01', '35.2360687598', '128.8731002475'], ['3', '가을 밀양강 오딧세이 \"아리랑 환타지! 밀양!\" 2019', '경상남도 밀양시 중앙로 324 영남루 및 밀양강 야외 공연장 일대', '055-359-4527', '2019-10-18', '2019-10-19', '35.4921350361', '128.7552590901'], ['4', '가을 화담숲 단풍 축제 2019', '경기도 광주시 도척면 도척윗로 278', '031-8026-6666', '2019-10-12', '2019-11-10', '37.3374836915', '127.2922239974'], ['5', '가을맥주페스타 2019', '부산광역시 부산진구 서면문화로 32 3,4층', '070-4880-2678', '2019-09-26', '2019-09-29', '35.1599862176', '129.0563669161'], ['6', '가족사랑 걷기대회 2019', '부산광역시 사하구 낙동남로1233번길 1', '낙동강문화관 (연락처) 051-292-1042, 사하구건강가정지원센터 (연락처) 051-203-4588', '2019-09-28', '2019-09-28', '35.1083149990', '128.9474472484'], ['7', '가족사랑 아이스축제 2019', '대구광역시 서구 문화로 122', '053-663-2184', '2019-07-27', '2019-07-27', '35.8736186548', '128.5454780875'], ['8', '가족여행과 함께하는 고성 오션투유 삼포해수욕장 연날리기 축제 2019', '강원도 고성군 죽왕면 삼포리 1-1', '1666-5683', '2019-01-01', '2019-12-31', '38.3128520737', '128.5370623742'], ['9', \"가좌아트위크 '잠시, 쉬어가좌' 2019\", '서울특별시 서대문구 증가로10길 28', '02-3140-8028', '2019-10-18', '2019-10-19', '37.5784852121', '126.9238923275'], ['10', '가평 자라섬 전국 막걸리 페스티벌 2019', '경기도 가평군 가평읍 달전리 1-1', '02-6080-6177', '2019-09-20', '2019-09-22', '37.8117052413', '127.5309525109'], ['11', '가평씽씽송어축제 2020', '경기도 가평군 가평읍 가평제방길 119', '031-581-6423', '2020-01-04', '2020-02-16', '37.8258616779', '127.5174061076'], ['12', '감물 및 봉숭아 물들이기 체험행사 2020', '제주특별자치도 서귀포시 표선면 민속해안로 631-34', '064-787-4501', '2020-07-24', '2020-08-02', '33.3213162956', '126.8431022619'], ['13', '감악문화축제 2019', '경기도 양주시 남면 감악산로244번길 189', '031-867-5683, 031-8082-7572', '2019-09-08', '2019-09-08', '37.8931800166', '126.9738399010'], ['14', '감악산 해맞이 2020', '경상남도 거창군 신원면', '010-2712-4482', '2020-01-01', '2020-01-01', '35.5953250627', '127.9274012896'], ['15', '갓바위소원성취축제 2019', '경산시 와촌면 대한리 갓바위 공영주차장', '053-851-0022', '2019-08-31', '2019-09-01', '35.9781440703', '128.7573259398'], ['16', '강남페스티벌 가로수길 그래피티 낙서해봐 2019', '서울특별시 강남구 도산대로13길', '02-576-5313', '2019-09-28', '2019-09-28', '37.5186022892', '127.0234738367'], ['17', '강동선사문화축제 2019', '서울특별시 강동구 올림픽로 875', '02-3425-5240', '2019-10-11', '2019-10-13', '37.5606243328', '127.1303240272'], ['18', '강동톡페스티벌 2019', '서울특별시 강동구 상암로 168', '강일 427-4004, 성내 471-0044, 해공 478-9656, 암사 429-0476, 천호 488-7223', '2019-11-02', '2019-11-02', '37.5457151498', '127.1412123500'], ['19', '강릉 관노가면극 2019', '강원도 강릉시 율곡로3139번길 24', '-', '2019-04-13', '2019-11-03', '37.7782679956', '128.8766149376'], ['20', '강릉 단오제 2020', '강원도 강릉시 단오장길 1', '033-641-1593', '2020-06-21', '2020-06-28', '37.7482134974', '128.8950169869'], ['21', '강릉 문화재야행 2020', '강원도 강릉시 임영로131번길 6', '033-823-3213', '2020-09-10', '2020-09-12', '37.7532267491', '128.8920698750'], ['22', '강릉 소금강산채마을 산채푸드페스티벌 2019', '강원도 강릉시 연곡면 소금강길 8', '033-660-3152', '2019-05-25', '2019-05-26', '37.8493286048', '128.7025117835'], ['23', '강릉 커피나무축제 2019', '강원도 강릉시 왕산면 왕산로 2171-19', '033-655-6644, 033-652-5599', '2019-05-30', '2019-06-02', '37.6522391209', '128.7848937448'], ['24', '강릉 하트불꽃크루즈 2020', '강원도 강릉시 주문진읍 해안로 1730', '1522-8905', '2020-01-01', '2020-12-31', '37.8895291758', '128.8285935985'], ['25', '강릉 K-POP콘서트 2019', '강원도 강릉시 종합운동장길 69', '033-640-2018', '2019-10-04', '2019-10-04', '37.7737772578', '128.8976131841'], ['26', '강릉국제영화제(GIFF) 2019', '강원도 강릉시 종합운동장길 84', '033-647-6807', '2019-11-08', '2019-11-14', '37.7716996777', '128.8954273345'], ['27', '강릉빙상스포츠페스티벌 2019', '강원도 강릉시 종합운동장길 32', '070-7791-3165', '2019-08-15', '2019-08-18', '37.7737410517', '128.8925247549'], ['28', '강릉소금강청학제 2019', '강원도 강릉시 연곡면 삼산리 56', '연곡면사무소 033-660-3681~2', '2019-10-12', '2019-10-13', '37.8136133361', '128.7044765951'], ['29', '강북구 근현대사 역사탐방여행 2019', '서울특별시 강북구 화계사길 117', '02-761-2588', '2019-04-13', '2019-10-20', '37.6325109780', '127.0070665450'], ['30', '강북구 산악문화제 2019', '서울특별시 강북구 우이동 186-5', '02-901-6227', '2019-09-21', '2019-09-21', '37.6615103869', '127.0072768111'], ['31', '강우방선생과 함께하는 한국회화의 금자탑, 민화 읽는 법 2019', '광주광역시 북구 하서로 110국립광주박물관', '062-570-7068', '2019-08-28', '2019-08-28', '35.1890917442', '126.8830624113'], ['32', '강원 국제 모터페스타 2019', '강원도 인제군 기린면 상하답로 130', '02-6740-7860', '2019-08-31', '2019-09-01', '38.0012086833', '128.2950634635'], ['33', '강원 산나물한마당축제 2019', '강원도 춘천시 평화로 1', '033-255-5458', '2019-04-26', '2019-04-28', '37.8855029718', '127.7215607554'], ['34', '강원과학기술대축전, 강원 지식재산 페스티벌 2019', '강원도 춘천시 서면 박사로 882', '070-7005-6870', '2019-09-06', '2019-09-07', '37.8951540906', '127.6927991992'], ['35', '강원그린박람회 2019', '강원도 춘천시 평화로 26', '033-260-9320', '2019-06-14', '2019-06-16', '37.8813589518', '127.7184944906'], ['36', '강진 영랑문학제 2019', '전라남도 강진군 강진읍 영랑생가길 15', '영랑기념사업회 061-434-0103', '2019-04-26', '2019-04-27', '34.6420874867', '126.7652585191'], ['37', '강진만 춤추는 갈대축제 2020', '전라남도 강진군 강진읍 남당로 97-111', '061-430-3352', '2020-10-23', '2020-11-01', '34.6201595364', '126.7739666192'], ['38', '강진청자축제 2020', '전라남도 강진군 대구면 청자촌길 33', '061-430-3352', '2020-10-08', '2020-10-13', '34.5075226164', '126.8011114048'], ['39', '강화 문화재 야행 2020', '인천 강화군 강화읍 관청리', '032-930-3515, 032-932-5464', '2020-09-11', '2020-09-12', '37.7487881453', '126.4855748369'], ['40', '강화 빙어축제 2020', '인천광역시 강화군 송해면 전망대로423번길 161', '032-933-3266', '2019-12-21', '2020-02-20', '37.8001841894', '126.4438577810'], ['41', '강화도 빙어, 송어 축제 2020', '인천광역시 강화군 내가면 고비고개로741번길 37-30', '032-933-1366', '2019-12-14', '2020-03-01', '37.7202402100', '126.4136461171'], ['42', '강화도 송어빙어축제 2020', '인천광역시 강화군 양도면 중앙로787번길 8-2', '010-6664-4354, 010-7617-6606', '2019-12-21', '2020-03-01', '37.6984402831', '126.4312173349'], ['43', '강화섬포도축제 2019', '인천광역시 강화군 길상면 초지리 1375-1, 초지대교 앞', '032-930-4140', '2019-09-21', '2019-09-22', '37.6264420922', '126.5307380038'], ['44', '개천절 대제전 2019', '서울특별시 종로구 인왕산로 22', '02-736-6375', '2019-10-03', '2019-10-03', '37.5758807095', '126.9657719166'], ['45', '개화산 해맞이 2020', '서울특별시 강서구 개화동', '02-2600-6455', '2020-01-01', '2020-01-01', '37.5821048853', '126.8047169862'], ['46', '거문도백도 은빛바다축제 2019', '전남 여수시 삼산면 거문리', '1899-2012', '2019-08-02', '2019-08-04', '34.0249238346', '127.3106896352'], ['47', '거제 대구 수산물축제 2019', '경상남도 거제시 장목면 외포5길 34', '055-369-4273', '2019-12-21', '2019-12-22', '34.9396463829', '128.7194799643'], ['48', '거제 바다로세계로 2019', '경상남도 거제시 계룡로11길 26', '055-639-4784', '2019-08-01', '2019-08-04', '34.8829397876', '128.6184763736'], ['49', '거제 어린이 축제 2019', '경상남도 거제시 계룡로11길 26', '055-639-3823', '2019-05-05', '2019-05-05', '34.8829397876', '128.6184763736']]\n"
     ]
    }
   ],
   "source": [
    "from models import runfun\n",
    "rdf = runfun.openfile(\"./관광정보.csv\")\n",
    "print(rdf)"
   ]
  },
  {
   "cell_type": "code",
   "execution_count": 37,
   "metadata": {
    "colab": {
     "base_uri": "https://localhost:8080/"
    },
    "executionInfo": {
     "elapsed": 4,
     "status": "ok",
     "timestamp": 1646972446580,
     "user": {
      "displayName": "dc w",
      "photoUrl": "https://lh3.googleusercontent.com/a/default-user=s64",
      "userId": "02032790542712423852"
     },
     "user_tz": -540
    },
    "id": "qsvPQoVO1TMZ",
    "outputId": "c16188d2-0750-4c8d-f4ed-c6e86f0cf5eb"
   },
   "outputs": [
    {
     "name": "stdout",
     "output_type": "stream",
     "text": [
      "[['', '축제명', '주소', '연락처', '시작일', '종료일', '위도', '경도'], ['0', '가락몰 페스티벌 2019', '서울특별시 송파구 양재대로 932', '02-3435-1000', '2019-10-11', '2019-10-12', '37.4960925880', '127.1109831778'], ['1', '가리왕산 MUSIC FESTIVAL 2020', '강원도 정선군 북평면 중봉길 41-35', '033-560-3016', '2020-08-21', '2020-08-22', '37.4742535268', '128.6097538017'], ['2', '가야문화축제 2020', '경상남도 김해시 가야의길 126', '055-330-3958', '2020-10-29', '2020-11-01', '35.2360687598', '128.8731002475'], ['3', '가을 밀양강 오딧세이 \"아리랑 환타지! 밀양!\" 2019', '경상남도 밀양시 중앙로 324 영남루 및 밀양강 야외 공연장 일대', '055-359-4527', '2019-10-18', '2019-10-19', '35.4921350361', '128.7552590901'], ['4', '가을 화담숲 단풍 축제 2019', '경기도 광주시 도척면 도척윗로 278', '031-8026-6666', '2019-10-12', '2019-11-10', '37.3374836915', '127.2922239974'], ['5', '가을맥주페스타 2019', '부산광역시 부산진구 서면문화로 32 3,4층', '070-4880-2678', '2019-09-26', '2019-09-29', '35.1599862176', '129.0563669161'], ['6', '가족사랑 걷기대회 2019', '부산광역시 사하구 낙동남로1233번길 1', '낙동강문화관 (연락처) 051-292-1042, 사하구건강가정지원센터 (연락처) 051-203-4588', '2019-09-28', '2019-09-28', '35.1083149990', '128.9474472484'], ['7', '가족사랑 아이스축제 2019', '대구광역시 서구 문화로 122', '053-663-2184', '2019-07-27', '2019-07-27', '35.8736186548', '128.5454780875'], ['8', '가족여행과 함께하는 고성 오션투유 삼포해수욕장 연날리기 축제 2019', '강원도 고성군 죽왕면 삼포리 1-1', '1666-5683', '2019-01-01', '2019-12-31', '38.3128520737', '128.5370623742'], ['9', \"가좌아트위크 '잠시, 쉬어가좌' 2019\", '서울특별시 서대문구 증가로10길 28', '02-3140-8028', '2019-10-18', '2019-10-19', '37.5784852121', '126.9238923275'], ['10', '가평 자라섬 전국 막걸리 페스티벌 2019', '경기도 가평군 가평읍 달전리 1-1', '02-6080-6177', '2019-09-20', '2019-09-22', '37.8117052413', '127.5309525109'], ['11', '가평씽씽송어축제 2020', '경기도 가평군 가평읍 가평제방길 119', '031-581-6423', '2020-01-04', '2020-02-16', '37.8258616779', '127.5174061076'], ['12', '감물 및 봉숭아 물들이기 체험행사 2020', '제주특별자치도 서귀포시 표선면 민속해안로 631-34', '064-787-4501', '2020-07-24', '2020-08-02', '33.3213162956', '126.8431022619'], ['13', '감악문화축제 2019', '경기도 양주시 남면 감악산로244번길 189', '031-867-5683, 031-8082-7572', '2019-09-08', '2019-09-08', '37.8931800166', '126.9738399010'], ['14', '감악산 해맞이 2020', '경상남도 거창군 신원면', '010-2712-4482', '2020-01-01', '2020-01-01', '35.5953250627', '127.9274012896'], ['15', '갓바위소원성취축제 2019', '경산시 와촌면 대한리 갓바위 공영주차장', '053-851-0022', '2019-08-31', '2019-09-01', '35.9781440703', '128.7573259398'], ['16', '강남페스티벌 가로수길 그래피티 낙서해봐 2019', '서울특별시 강남구 도산대로13길', '02-576-5313', '2019-09-28', '2019-09-28', '37.5186022892', '127.0234738367'], ['17', '강동선사문화축제 2019', '서울특별시 강동구 올림픽로 875', '02-3425-5240', '2019-10-11', '2019-10-13', '37.5606243328', '127.1303240272'], ['18', '강동톡페스티벌 2019', '서울특별시 강동구 상암로 168', '강일 427-4004, 성내 471-0044, 해공 478-9656, 암사 429-0476, 천호 488-7223', '2019-11-02', '2019-11-02', '37.5457151498', '127.1412123500'], ['19', '강릉 관노가면극 2019', '강원도 강릉시 율곡로3139번길 24', '-', '2019-04-13', '2019-11-03', '37.7782679956', '128.8766149376'], ['20', '강릉 단오제 2020', '강원도 강릉시 단오장길 1', '033-641-1593', '2020-06-21', '2020-06-28', '37.7482134974', '128.8950169869'], ['21', '강릉 문화재야행 2020', '강원도 강릉시 임영로131번길 6', '033-823-3213', '2020-09-10', '2020-09-12', '37.7532267491', '128.8920698750'], ['22', '강릉 소금강산채마을 산채푸드페스티벌 2019', '강원도 강릉시 연곡면 소금강길 8', '033-660-3152', '2019-05-25', '2019-05-26', '37.8493286048', '128.7025117835'], ['23', '강릉 커피나무축제 2019', '강원도 강릉시 왕산면 왕산로 2171-19', '033-655-6644, 033-652-5599', '2019-05-30', '2019-06-02', '37.6522391209', '128.7848937448'], ['24', '강릉 하트불꽃크루즈 2020', '강원도 강릉시 주문진읍 해안로 1730', '1522-8905', '2020-01-01', '2020-12-31', '37.8895291758', '128.8285935985'], ['25', '강릉 K-POP콘서트 2019', '강원도 강릉시 종합운동장길 69', '033-640-2018', '2019-10-04', '2019-10-04', '37.7737772578', '128.8976131841'], ['26', '강릉국제영화제(GIFF) 2019', '강원도 강릉시 종합운동장길 84', '033-647-6807', '2019-11-08', '2019-11-14', '37.7716996777', '128.8954273345'], ['27', '강릉빙상스포츠페스티벌 2019', '강원도 강릉시 종합운동장길 32', '070-7791-3165', '2019-08-15', '2019-08-18', '37.7737410517', '128.8925247549'], ['28', '강릉소금강청학제 2019', '강원도 강릉시 연곡면 삼산리 56', '연곡면사무소 033-660-3681~2', '2019-10-12', '2019-10-13', '37.8136133361', '128.7044765951'], ['29', '강북구 근현대사 역사탐방여행 2019', '서울특별시 강북구 화계사길 117', '02-761-2588', '2019-04-13', '2019-10-20', '37.6325109780', '127.0070665450'], ['30', '강북구 산악문화제 2019', '서울특별시 강북구 우이동 186-5', '02-901-6227', '2019-09-21', '2019-09-21', '37.6615103869', '127.0072768111'], ['31', '강우방선생과 함께하는 한국회화의 금자탑, 민화 읽는 법 2019', '광주광역시 북구 하서로 110국립광주박물관', '062-570-7068', '2019-08-28', '2019-08-28', '35.1890917442', '126.8830624113'], ['32', '강원 국제 모터페스타 2019', '강원도 인제군 기린면 상하답로 130', '02-6740-7860', '2019-08-31', '2019-09-01', '38.0012086833', '128.2950634635'], ['33', '강원 산나물한마당축제 2019', '강원도 춘천시 평화로 1', '033-255-5458', '2019-04-26', '2019-04-28', '37.8855029718', '127.7215607554'], ['34', '강원과학기술대축전, 강원 지식재산 페스티벌 2019', '강원도 춘천시 서면 박사로 882', '070-7005-6870', '2019-09-06', '2019-09-07', '37.8951540906', '127.6927991992'], ['35', '강원그린박람회 2019', '강원도 춘천시 평화로 26', '033-260-9320', '2019-06-14', '2019-06-16', '37.8813589518', '127.7184944906'], ['36', '강진 영랑문학제 2019', '전라남도 강진군 강진읍 영랑생가길 15', '영랑기념사업회 061-434-0103', '2019-04-26', '2019-04-27', '34.6420874867', '126.7652585191'], ['37', '강진만 춤추는 갈대축제 2020', '전라남도 강진군 강진읍 남당로 97-111', '061-430-3352', '2020-10-23', '2020-11-01', '34.6201595364', '126.7739666192'], ['38', '강진청자축제 2020', '전라남도 강진군 대구면 청자촌길 33', '061-430-3352', '2020-10-08', '2020-10-13', '34.5075226164', '126.8011114048'], ['39', '강화 문화재 야행 2020', '인천 강화군 강화읍 관청리', '032-930-3515, 032-932-5464', '2020-09-11', '2020-09-12', '37.7487881453', '126.4855748369'], ['40', '강화 빙어축제 2020', '인천광역시 강화군 송해면 전망대로423번길 161', '032-933-3266', '2019-12-21', '2020-02-20', '37.8001841894', '126.4438577810'], ['41', '강화도 빙어, 송어 축제 2020', '인천광역시 강화군 내가면 고비고개로741번길 37-30', '032-933-1366', '2019-12-14', '2020-03-01', '37.7202402100', '126.4136461171'], ['42', '강화도 송어빙어축제 2020', '인천광역시 강화군 양도면 중앙로787번길 8-2', '010-6664-4354, 010-7617-6606', '2019-12-21', '2020-03-01', '37.6984402831', '126.4312173349'], ['43', '강화섬포도축제 2019', '인천광역시 강화군 길상면 초지리 1375-1, 초지대교 앞', '032-930-4140', '2019-09-21', '2019-09-22', '37.6264420922', '126.5307380038'], ['44', '개천절 대제전 2019', '서울특별시 종로구 인왕산로 22', '02-736-6375', '2019-10-03', '2019-10-03', '37.5758807095', '126.9657719166'], ['45', '개화산 해맞이 2020', '서울특별시 강서구 개화동', '02-2600-6455', '2020-01-01', '2020-01-01', '37.5821048853', '126.8047169862'], ['46', '거문도백도 은빛바다축제 2019', '전남 여수시 삼산면 거문리', '1899-2012', '2019-08-02', '2019-08-04', '34.0249238346', '127.3106896352'], ['47', '거제 대구 수산물축제 2019', '경상남도 거제시 장목면 외포5길 34', '055-369-4273', '2019-12-21', '2019-12-22', '34.9396463829', '128.7194799643'], ['48', '거제 바다로세계로 2019', '경상남도 거제시 계룡로11길 26', '055-639-4784', '2019-08-01', '2019-08-04', '34.8829397876', '128.6184763736'], ['49', '거제 어린이 축제 2019', '경상남도 거제시 계룡로11길 26', '055-639-3823', '2019-05-05', '2019-05-05', '34.8829397876', '128.6184763736']]\n"
     ]
    }
   ],
   "source": [
    "from models import runfun\n",
    "\n",
    "rdf = runfun.openfile(\"./관광정보.csv\")\n",
    "print(rdf)"
   ]
  },
  {
   "cell_type": "markdown",
   "metadata": {
    "id": "usRA2sRWzwqD"
   },
   "source": [
    "### 패키지\n",
    "- 파이썬에서 모듈은 하나의 .py 파일을 가리킴\n",
    "- 패키지는 이러한 모듈들을 모은 컬렉션을 의미\n",
    "![image.png](data:image/png;base64,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)"
   ]
  },
  {
   "cell_type": "markdown",
   "metadata": {
    "id": "GpjGDxHA098G"
   },
   "source": [
    "- import 패키지.모듈\n",
    "- from 패키지.모듈 import 함수명"
   ]
  },
  {
   "cell_type": "code",
   "execution_count": 39,
   "metadata": {
    "colab": {
     "base_uri": "https://localhost:8080/"
    },
    "executionInfo": {
     "elapsed": 5,
     "status": "ok",
     "timestamp": 1646972625977,
     "user": {
      "displayName": "dc w",
      "photoUrl": "https://lh3.googleusercontent.com/a/default-user=s64",
      "userId": "02032790542712423852"
     },
     "user_tz": -540
    },
    "id": "C_xvHyN6KRaU",
    "outputId": "1993634a-e3af-41c8-9065-ae34f829e687"
   },
   "outputs": [
    {
     "name": "stdout",
     "output_type": "stream",
     "text": [
      "[['', '축제명', '주소', '연락처', '시작일', '종료일', '위도', '경도'], ['0', '가락몰 페스티벌 2019', '서울특별시 송파구 양재대로 932', '02-3435-1000', '2019-10-11', '2019-10-12', '37.4960925880', '127.1109831778'], ['1', '가리왕산 MUSIC FESTIVAL 2020', '강원도 정선군 북평면 중봉길 41-35', '033-560-3016', '2020-08-21', '2020-08-22', '37.4742535268', '128.6097538017'], ['2', '가야문화축제 2020', '경상남도 김해시 가야의길 126', '055-330-3958', '2020-10-29', '2020-11-01', '35.2360687598', '128.8731002475'], ['3', '가을 밀양강 오딧세이 \"아리랑 환타지! 밀양!\" 2019', '경상남도 밀양시 중앙로 324 영남루 및 밀양강 야외 공연장 일대', '055-359-4527', '2019-10-18', '2019-10-19', '35.4921350361', '128.7552590901'], ['4', '가을 화담숲 단풍 축제 2019', '경기도 광주시 도척면 도척윗로 278', '031-8026-6666', '2019-10-12', '2019-11-10', '37.3374836915', '127.2922239974'], ['5', '가을맥주페스타 2019', '부산광역시 부산진구 서면문화로 32 3,4층', '070-4880-2678', '2019-09-26', '2019-09-29', '35.1599862176', '129.0563669161'], ['6', '가족사랑 걷기대회 2019', '부산광역시 사하구 낙동남로1233번길 1', '낙동강문화관 (연락처) 051-292-1042, 사하구건강가정지원센터 (연락처) 051-203-4588', '2019-09-28', '2019-09-28', '35.1083149990', '128.9474472484'], ['7', '가족사랑 아이스축제 2019', '대구광역시 서구 문화로 122', '053-663-2184', '2019-07-27', '2019-07-27', '35.8736186548', '128.5454780875'], ['8', '가족여행과 함께하는 고성 오션투유 삼포해수욕장 연날리기 축제 2019', '강원도 고성군 죽왕면 삼포리 1-1', '1666-5683', '2019-01-01', '2019-12-31', '38.3128520737', '128.5370623742'], ['9', \"가좌아트위크 '잠시, 쉬어가좌' 2019\", '서울특별시 서대문구 증가로10길 28', '02-3140-8028', '2019-10-18', '2019-10-19', '37.5784852121', '126.9238923275'], ['10', '가평 자라섬 전국 막걸리 페스티벌 2019', '경기도 가평군 가평읍 달전리 1-1', '02-6080-6177', '2019-09-20', '2019-09-22', '37.8117052413', '127.5309525109'], ['11', '가평씽씽송어축제 2020', '경기도 가평군 가평읍 가평제방길 119', '031-581-6423', '2020-01-04', '2020-02-16', '37.8258616779', '127.5174061076'], ['12', '감물 및 봉숭아 물들이기 체험행사 2020', '제주특별자치도 서귀포시 표선면 민속해안로 631-34', '064-787-4501', '2020-07-24', '2020-08-02', '33.3213162956', '126.8431022619'], ['13', '감악문화축제 2019', '경기도 양주시 남면 감악산로244번길 189', '031-867-5683, 031-8082-7572', '2019-09-08', '2019-09-08', '37.8931800166', '126.9738399010'], ['14', '감악산 해맞이 2020', '경상남도 거창군 신원면', '010-2712-4482', '2020-01-01', '2020-01-01', '35.5953250627', '127.9274012896'], ['15', '갓바위소원성취축제 2019', '경산시 와촌면 대한리 갓바위 공영주차장', '053-851-0022', '2019-08-31', '2019-09-01', '35.9781440703', '128.7573259398'], ['16', '강남페스티벌 가로수길 그래피티 낙서해봐 2019', '서울특별시 강남구 도산대로13길', '02-576-5313', '2019-09-28', '2019-09-28', '37.5186022892', '127.0234738367'], ['17', '강동선사문화축제 2019', '서울특별시 강동구 올림픽로 875', '02-3425-5240', '2019-10-11', '2019-10-13', '37.5606243328', '127.1303240272'], ['18', '강동톡페스티벌 2019', '서울특별시 강동구 상암로 168', '강일 427-4004, 성내 471-0044, 해공 478-9656, 암사 429-0476, 천호 488-7223', '2019-11-02', '2019-11-02', '37.5457151498', '127.1412123500'], ['19', '강릉 관노가면극 2019', '강원도 강릉시 율곡로3139번길 24', '-', '2019-04-13', '2019-11-03', '37.7782679956', '128.8766149376'], ['20', '강릉 단오제 2020', '강원도 강릉시 단오장길 1', '033-641-1593', '2020-06-21', '2020-06-28', '37.7482134974', '128.8950169869'], ['21', '강릉 문화재야행 2020', '강원도 강릉시 임영로131번길 6', '033-823-3213', '2020-09-10', '2020-09-12', '37.7532267491', '128.8920698750'], ['22', '강릉 소금강산채마을 산채푸드페스티벌 2019', '강원도 강릉시 연곡면 소금강길 8', '033-660-3152', '2019-05-25', '2019-05-26', '37.8493286048', '128.7025117835'], ['23', '강릉 커피나무축제 2019', '강원도 강릉시 왕산면 왕산로 2171-19', '033-655-6644, 033-652-5599', '2019-05-30', '2019-06-02', '37.6522391209', '128.7848937448'], ['24', '강릉 하트불꽃크루즈 2020', '강원도 강릉시 주문진읍 해안로 1730', '1522-8905', '2020-01-01', '2020-12-31', '37.8895291758', '128.8285935985'], ['25', '강릉 K-POP콘서트 2019', '강원도 강릉시 종합운동장길 69', '033-640-2018', '2019-10-04', '2019-10-04', '37.7737772578', '128.8976131841'], ['26', '강릉국제영화제(GIFF) 2019', '강원도 강릉시 종합운동장길 84', '033-647-6807', '2019-11-08', '2019-11-14', '37.7716996777', '128.8954273345'], ['27', '강릉빙상스포츠페스티벌 2019', '강원도 강릉시 종합운동장길 32', '070-7791-3165', '2019-08-15', '2019-08-18', '37.7737410517', '128.8925247549'], ['28', '강릉소금강청학제 2019', '강원도 강릉시 연곡면 삼산리 56', '연곡면사무소 033-660-3681~2', '2019-10-12', '2019-10-13', '37.8136133361', '128.7044765951'], ['29', '강북구 근현대사 역사탐방여행 2019', '서울특별시 강북구 화계사길 117', '02-761-2588', '2019-04-13', '2019-10-20', '37.6325109780', '127.0070665450'], ['30', '강북구 산악문화제 2019', '서울특별시 강북구 우이동 186-5', '02-901-6227', '2019-09-21', '2019-09-21', '37.6615103869', '127.0072768111'], ['31', '강우방선생과 함께하는 한국회화의 금자탑, 민화 읽는 법 2019', '광주광역시 북구 하서로 110국립광주박물관', '062-570-7068', '2019-08-28', '2019-08-28', '35.1890917442', '126.8830624113'], ['32', '강원 국제 모터페스타 2019', '강원도 인제군 기린면 상하답로 130', '02-6740-7860', '2019-08-31', '2019-09-01', '38.0012086833', '128.2950634635'], ['33', '강원 산나물한마당축제 2019', '강원도 춘천시 평화로 1', '033-255-5458', '2019-04-26', '2019-04-28', '37.8855029718', '127.7215607554'], ['34', '강원과학기술대축전, 강원 지식재산 페스티벌 2019', '강원도 춘천시 서면 박사로 882', '070-7005-6870', '2019-09-06', '2019-09-07', '37.8951540906', '127.6927991992'], ['35', '강원그린박람회 2019', '강원도 춘천시 평화로 26', '033-260-9320', '2019-06-14', '2019-06-16', '37.8813589518', '127.7184944906'], ['36', '강진 영랑문학제 2019', '전라남도 강진군 강진읍 영랑생가길 15', '영랑기념사업회 061-434-0103', '2019-04-26', '2019-04-27', '34.6420874867', '126.7652585191'], ['37', '강진만 춤추는 갈대축제 2020', '전라남도 강진군 강진읍 남당로 97-111', '061-430-3352', '2020-10-23', '2020-11-01', '34.6201595364', '126.7739666192'], ['38', '강진청자축제 2020', '전라남도 강진군 대구면 청자촌길 33', '061-430-3352', '2020-10-08', '2020-10-13', '34.5075226164', '126.8011114048'], ['39', '강화 문화재 야행 2020', '인천 강화군 강화읍 관청리', '032-930-3515, 032-932-5464', '2020-09-11', '2020-09-12', '37.7487881453', '126.4855748369'], ['40', '강화 빙어축제 2020', '인천광역시 강화군 송해면 전망대로423번길 161', '032-933-3266', '2019-12-21', '2020-02-20', '37.8001841894', '126.4438577810'], ['41', '강화도 빙어, 송어 축제 2020', '인천광역시 강화군 내가면 고비고개로741번길 37-30', '032-933-1366', '2019-12-14', '2020-03-01', '37.7202402100', '126.4136461171'], ['42', '강화도 송어빙어축제 2020', '인천광역시 강화군 양도면 중앙로787번길 8-2', '010-6664-4354, 010-7617-6606', '2019-12-21', '2020-03-01', '37.6984402831', '126.4312173349'], ['43', '강화섬포도축제 2019', '인천광역시 강화군 길상면 초지리 1375-1, 초지대교 앞', '032-930-4140', '2019-09-21', '2019-09-22', '37.6264420922', '126.5307380038'], ['44', '개천절 대제전 2019', '서울특별시 종로구 인왕산로 22', '02-736-6375', '2019-10-03', '2019-10-03', '37.5758807095', '126.9657719166'], ['45', '개화산 해맞이 2020', '서울특별시 강서구 개화동', '02-2600-6455', '2020-01-01', '2020-01-01', '37.5821048853', '126.8047169862'], ['46', '거문도백도 은빛바다축제 2019', '전남 여수시 삼산면 거문리', '1899-2012', '2019-08-02', '2019-08-04', '34.0249238346', '127.3106896352'], ['47', '거제 대구 수산물축제 2019', '경상남도 거제시 장목면 외포5길 34', '055-369-4273', '2019-12-21', '2019-12-22', '34.9396463829', '128.7194799643'], ['48', '거제 바다로세계로 2019', '경상남도 거제시 계룡로11길 26', '055-639-4784', '2019-08-01', '2019-08-04', '34.8829397876', '128.6184763736'], ['49', '거제 어린이 축제 2019', '경상남도 거제시 계룡로11길 26', '055-639-3823', '2019-05-05', '2019-05-05', '34.8829397876', '128.6184763736']]\n"
     ]
    }
   ],
   "source": [
    "import models.myfiles.opencsvfn as ofs\n",
    "\n",
    "rdf = ofs.openfile(\"./관광정보.csv\")\n",
    "print(rdf)"
   ]
  },
  {
   "cell_type": "code",
   "execution_count": 43,
   "metadata": {
    "colab": {
     "base_uri": "https://localhost:8080/"
    },
    "executionInfo": {
     "elapsed": 4,
     "status": "ok",
     "timestamp": 1646972732538,
     "user": {
      "displayName": "dc w",
      "photoUrl": "https://lh3.googleusercontent.com/a/default-user=s64",
      "userId": "02032790542712423852"
     },
     "user_tz": -540
    },
    "id": "dtUEHW7HOHqg",
    "outputId": "efe5b16e-d973-4605-ce99-10596ec8c697"
   },
   "outputs": [
    {
     "name": "stdout",
     "output_type": "stream",
     "text": [
      "[['', '축제명', '주소', '연락처', '시작일', '종료일', '위도', '경도'], ['0', '가락몰 페스티벌 2019', '서울특별시 송파구 양재대로 932', '02-3435-1000', '2019-10-11', '2019-10-12', '37.4960925880', '127.1109831778'], ['1', '가리왕산 MUSIC FESTIVAL 2020', '강원도 정선군 북평면 중봉길 41-35', '033-560-3016', '2020-08-21', '2020-08-22', '37.4742535268', '128.6097538017'], ['2', '가야문화축제 2020', '경상남도 김해시 가야의길 126', '055-330-3958', '2020-10-29', '2020-11-01', '35.2360687598', '128.8731002475'], ['3', '가을 밀양강 오딧세이 \"아리랑 환타지! 밀양!\" 2019', '경상남도 밀양시 중앙로 324 영남루 및 밀양강 야외 공연장 일대', '055-359-4527', '2019-10-18', '2019-10-19', '35.4921350361', '128.7552590901'], ['4', '가을 화담숲 단풍 축제 2019', '경기도 광주시 도척면 도척윗로 278', '031-8026-6666', '2019-10-12', '2019-11-10', '37.3374836915', '127.2922239974'], ['5', '가을맥주페스타 2019', '부산광역시 부산진구 서면문화로 32 3,4층', '070-4880-2678', '2019-09-26', '2019-09-29', '35.1599862176', '129.0563669161'], ['6', '가족사랑 걷기대회 2019', '부산광역시 사하구 낙동남로1233번길 1', '낙동강문화관 (연락처) 051-292-1042, 사하구건강가정지원센터 (연락처) 051-203-4588', '2019-09-28', '2019-09-28', '35.1083149990', '128.9474472484'], ['7', '가족사랑 아이스축제 2019', '대구광역시 서구 문화로 122', '053-663-2184', '2019-07-27', '2019-07-27', '35.8736186548', '128.5454780875'], ['8', '가족여행과 함께하는 고성 오션투유 삼포해수욕장 연날리기 축제 2019', '강원도 고성군 죽왕면 삼포리 1-1', '1666-5683', '2019-01-01', '2019-12-31', '38.3128520737', '128.5370623742'], ['9', \"가좌아트위크 '잠시, 쉬어가좌' 2019\", '서울특별시 서대문구 증가로10길 28', '02-3140-8028', '2019-10-18', '2019-10-19', '37.5784852121', '126.9238923275'], ['10', '가평 자라섬 전국 막걸리 페스티벌 2019', '경기도 가평군 가평읍 달전리 1-1', '02-6080-6177', '2019-09-20', '2019-09-22', '37.8117052413', '127.5309525109'], ['11', '가평씽씽송어축제 2020', '경기도 가평군 가평읍 가평제방길 119', '031-581-6423', '2020-01-04', '2020-02-16', '37.8258616779', '127.5174061076'], ['12', '감물 및 봉숭아 물들이기 체험행사 2020', '제주특별자치도 서귀포시 표선면 민속해안로 631-34', '064-787-4501', '2020-07-24', '2020-08-02', '33.3213162956', '126.8431022619'], ['13', '감악문화축제 2019', '경기도 양주시 남면 감악산로244번길 189', '031-867-5683, 031-8082-7572', '2019-09-08', '2019-09-08', '37.8931800166', '126.9738399010'], ['14', '감악산 해맞이 2020', '경상남도 거창군 신원면', '010-2712-4482', '2020-01-01', '2020-01-01', '35.5953250627', '127.9274012896'], ['15', '갓바위소원성취축제 2019', '경산시 와촌면 대한리 갓바위 공영주차장', '053-851-0022', '2019-08-31', '2019-09-01', '35.9781440703', '128.7573259398'], ['16', '강남페스티벌 가로수길 그래피티 낙서해봐 2019', '서울특별시 강남구 도산대로13길', '02-576-5313', '2019-09-28', '2019-09-28', '37.5186022892', '127.0234738367'], ['17', '강동선사문화축제 2019', '서울특별시 강동구 올림픽로 875', '02-3425-5240', '2019-10-11', '2019-10-13', '37.5606243328', '127.1303240272'], ['18', '강동톡페스티벌 2019', '서울특별시 강동구 상암로 168', '강일 427-4004, 성내 471-0044, 해공 478-9656, 암사 429-0476, 천호 488-7223', '2019-11-02', '2019-11-02', '37.5457151498', '127.1412123500'], ['19', '강릉 관노가면극 2019', '강원도 강릉시 율곡로3139번길 24', '-', '2019-04-13', '2019-11-03', '37.7782679956', '128.8766149376'], ['20', '강릉 단오제 2020', '강원도 강릉시 단오장길 1', '033-641-1593', '2020-06-21', '2020-06-28', '37.7482134974', '128.8950169869'], ['21', '강릉 문화재야행 2020', '강원도 강릉시 임영로131번길 6', '033-823-3213', '2020-09-10', '2020-09-12', '37.7532267491', '128.8920698750'], ['22', '강릉 소금강산채마을 산채푸드페스티벌 2019', '강원도 강릉시 연곡면 소금강길 8', '033-660-3152', '2019-05-25', '2019-05-26', '37.8493286048', '128.7025117835'], ['23', '강릉 커피나무축제 2019', '강원도 강릉시 왕산면 왕산로 2171-19', '033-655-6644, 033-652-5599', '2019-05-30', '2019-06-02', '37.6522391209', '128.7848937448'], ['24', '강릉 하트불꽃크루즈 2020', '강원도 강릉시 주문진읍 해안로 1730', '1522-8905', '2020-01-01', '2020-12-31', '37.8895291758', '128.8285935985'], ['25', '강릉 K-POP콘서트 2019', '강원도 강릉시 종합운동장길 69', '033-640-2018', '2019-10-04', '2019-10-04', '37.7737772578', '128.8976131841'], ['26', '강릉국제영화제(GIFF) 2019', '강원도 강릉시 종합운동장길 84', '033-647-6807', '2019-11-08', '2019-11-14', '37.7716996777', '128.8954273345'], ['27', '강릉빙상스포츠페스티벌 2019', '강원도 강릉시 종합운동장길 32', '070-7791-3165', '2019-08-15', '2019-08-18', '37.7737410517', '128.8925247549'], ['28', '강릉소금강청학제 2019', '강원도 강릉시 연곡면 삼산리 56', '연곡면사무소 033-660-3681~2', '2019-10-12', '2019-10-13', '37.8136133361', '128.7044765951'], ['29', '강북구 근현대사 역사탐방여행 2019', '서울특별시 강북구 화계사길 117', '02-761-2588', '2019-04-13', '2019-10-20', '37.6325109780', '127.0070665450'], ['30', '강북구 산악문화제 2019', '서울특별시 강북구 우이동 186-5', '02-901-6227', '2019-09-21', '2019-09-21', '37.6615103869', '127.0072768111'], ['31', '강우방선생과 함께하는 한국회화의 금자탑, 민화 읽는 법 2019', '광주광역시 북구 하서로 110국립광주박물관', '062-570-7068', '2019-08-28', '2019-08-28', '35.1890917442', '126.8830624113'], ['32', '강원 국제 모터페스타 2019', '강원도 인제군 기린면 상하답로 130', '02-6740-7860', '2019-08-31', '2019-09-01', '38.0012086833', '128.2950634635'], ['33', '강원 산나물한마당축제 2019', '강원도 춘천시 평화로 1', '033-255-5458', '2019-04-26', '2019-04-28', '37.8855029718', '127.7215607554'], ['34', '강원과학기술대축전, 강원 지식재산 페스티벌 2019', '강원도 춘천시 서면 박사로 882', '070-7005-6870', '2019-09-06', '2019-09-07', '37.8951540906', '127.6927991992'], ['35', '강원그린박람회 2019', '강원도 춘천시 평화로 26', '033-260-9320', '2019-06-14', '2019-06-16', '37.8813589518', '127.7184944906'], ['36', '강진 영랑문학제 2019', '전라남도 강진군 강진읍 영랑생가길 15', '영랑기념사업회 061-434-0103', '2019-04-26', '2019-04-27', '34.6420874867', '126.7652585191'], ['37', '강진만 춤추는 갈대축제 2020', '전라남도 강진군 강진읍 남당로 97-111', '061-430-3352', '2020-10-23', '2020-11-01', '34.6201595364', '126.7739666192'], ['38', '강진청자축제 2020', '전라남도 강진군 대구면 청자촌길 33', '061-430-3352', '2020-10-08', '2020-10-13', '34.5075226164', '126.8011114048'], ['39', '강화 문화재 야행 2020', '인천 강화군 강화읍 관청리', '032-930-3515, 032-932-5464', '2020-09-11', '2020-09-12', '37.7487881453', '126.4855748369'], ['40', '강화 빙어축제 2020', '인천광역시 강화군 송해면 전망대로423번길 161', '032-933-3266', '2019-12-21', '2020-02-20', '37.8001841894', '126.4438577810'], ['41', '강화도 빙어, 송어 축제 2020', '인천광역시 강화군 내가면 고비고개로741번길 37-30', '032-933-1366', '2019-12-14', '2020-03-01', '37.7202402100', '126.4136461171'], ['42', '강화도 송어빙어축제 2020', '인천광역시 강화군 양도면 중앙로787번길 8-2', '010-6664-4354, 010-7617-6606', '2019-12-21', '2020-03-01', '37.6984402831', '126.4312173349'], ['43', '강화섬포도축제 2019', '인천광역시 강화군 길상면 초지리 1375-1, 초지대교 앞', '032-930-4140', '2019-09-21', '2019-09-22', '37.6264420922', '126.5307380038'], ['44', '개천절 대제전 2019', '서울특별시 종로구 인왕산로 22', '02-736-6375', '2019-10-03', '2019-10-03', '37.5758807095', '126.9657719166'], ['45', '개화산 해맞이 2020', '서울특별시 강서구 개화동', '02-2600-6455', '2020-01-01', '2020-01-01', '37.5821048853', '126.8047169862'], ['46', '거문도백도 은빛바다축제 2019', '전남 여수시 삼산면 거문리', '1899-2012', '2019-08-02', '2019-08-04', '34.0249238346', '127.3106896352'], ['47', '거제 대구 수산물축제 2019', '경상남도 거제시 장목면 외포5길 34', '055-369-4273', '2019-12-21', '2019-12-22', '34.9396463829', '128.7194799643'], ['48', '거제 바다로세계로 2019', '경상남도 거제시 계룡로11길 26', '055-639-4784', '2019-08-01', '2019-08-04', '34.8829397876', '128.6184763736'], ['49', '거제 어린이 축제 2019', '경상남도 거제시 계룡로11길 26', '055-639-3823', '2019-05-05', '2019-05-05', '34.8829397876', '128.6184763736']]\n"
     ]
    }
   ],
   "source": [
    "from models.myfiles import opencsvfn as ofn\n",
    "\n",
    "rdf = ofn.openfile(\"./관광정보.csv\")\n",
    "print(rdf)"
   ]
  },
  {
   "cell_type": "code",
   "execution_count": 44,
   "metadata": {
    "colab": {
     "base_uri": "https://localhost:8080/",
     "height": 319
    },
    "executionInfo": {
     "elapsed": 4,
     "status": "ok",
     "timestamp": 1646973350039,
     "user": {
      "displayName": "dc w",
      "photoUrl": "https://lh3.googleusercontent.com/a/default-user=s64",
      "userId": "02032790542712423852"
     },
     "user_tz": -540
    },
    "id": "63Gxcr6DPb8-",
    "outputId": "bcedab3f-171c-401d-e6d5-d246fd5c99ec"
   },
   "outputs": [
    {
     "data": {
      "text/html": [
       "<div>\n",
       "<style scoped>\n",
       "    .dataframe tbody tr th:only-of-type {\n",
       "        vertical-align: middle;\n",
       "    }\n",
       "\n",
       "    .dataframe tbody tr th {\n",
       "        vertical-align: top;\n",
       "    }\n",
       "\n",
       "    .dataframe thead th {\n",
       "        text-align: right;\n",
       "    }\n",
       "</style>\n",
       "<table border=\"1\" class=\"dataframe\">\n",
       "  <thead>\n",
       "    <tr style=\"text-align: right;\">\n",
       "      <th></th>\n",
       "      <th>0</th>\n",
       "      <th>1</th>\n",
       "      <th>2</th>\n",
       "      <th>3</th>\n",
       "      <th>4</th>\n",
       "      <th>5</th>\n",
       "      <th>6</th>\n",
       "      <th>7</th>\n",
       "    </tr>\n",
       "  </thead>\n",
       "  <tbody>\n",
       "    <tr>\n",
       "      <th>0</th>\n",
       "      <td></td>\n",
       "      <td>축제명</td>\n",
       "      <td>주소</td>\n",
       "      <td>연락처</td>\n",
       "      <td>시작일</td>\n",
       "      <td>종료일</td>\n",
       "      <td>위도</td>\n",
       "      <td>경도</td>\n",
       "    </tr>\n",
       "    <tr>\n",
       "      <th>1</th>\n",
       "      <td>0</td>\n",
       "      <td>가락몰 페스티벌 2019</td>\n",
       "      <td>서울특별시 송파구 양재대로 932</td>\n",
       "      <td>02-3435-1000</td>\n",
       "      <td>2019-10-11</td>\n",
       "      <td>2019-10-12</td>\n",
       "      <td>37.4960925880</td>\n",
       "      <td>127.1109831778</td>\n",
       "    </tr>\n",
       "    <tr>\n",
       "      <th>2</th>\n",
       "      <td>1</td>\n",
       "      <td>가리왕산 MUSIC FESTIVAL 2020</td>\n",
       "      <td>강원도 정선군 북평면 중봉길 41-35</td>\n",
       "      <td>033-560-3016</td>\n",
       "      <td>2020-08-21</td>\n",
       "      <td>2020-08-22</td>\n",
       "      <td>37.4742535268</td>\n",
       "      <td>128.6097538017</td>\n",
       "    </tr>\n",
       "    <tr>\n",
       "      <th>3</th>\n",
       "      <td>2</td>\n",
       "      <td>가야문화축제 2020</td>\n",
       "      <td>경상남도 김해시 가야의길 126</td>\n",
       "      <td>055-330-3958</td>\n",
       "      <td>2020-10-29</td>\n",
       "      <td>2020-11-01</td>\n",
       "      <td>35.2360687598</td>\n",
       "      <td>128.8731002475</td>\n",
       "    </tr>\n",
       "    <tr>\n",
       "      <th>4</th>\n",
       "      <td>3</td>\n",
       "      <td>가을 밀양강 오딧세이 \"아리랑 환타지! 밀양!\" 2019</td>\n",
       "      <td>경상남도 밀양시 중앙로 324 영남루 및 밀양강 야외 공연장 일대</td>\n",
       "      <td>055-359-4527</td>\n",
       "      <td>2019-10-18</td>\n",
       "      <td>2019-10-19</td>\n",
       "      <td>35.4921350361</td>\n",
       "      <td>128.7552590901</td>\n",
       "    </tr>\n",
       "  </tbody>\n",
       "</table>\n",
       "</div>"
      ],
      "text/plain": [
       "   0                                1                                     2  \\\n",
       "0                                 축제명                                    주소   \n",
       "1  0                    가락몰 페스티벌 2019                    서울특별시 송파구 양재대로 932   \n",
       "2  1         가리왕산 MUSIC FESTIVAL 2020                 강원도 정선군 북평면 중봉길 41-35   \n",
       "3  2                      가야문화축제 2020                     경상남도 김해시 가야의길 126   \n",
       "4  3  가을 밀양강 오딧세이 \"아리랑 환타지! 밀양!\" 2019  경상남도 밀양시 중앙로 324 영남루 및 밀양강 야외 공연장 일대   \n",
       "\n",
       "              3           4           5              6               7  \n",
       "0           연락처         시작일         종료일             위도              경도  \n",
       "1  02-3435-1000  2019-10-11  2019-10-12  37.4960925880  127.1109831778  \n",
       "2  033-560-3016  2020-08-21  2020-08-22  37.4742535268  128.6097538017  \n",
       "3  055-330-3958  2020-10-29  2020-11-01  35.2360687598  128.8731002475  \n",
       "4  055-359-4527  2019-10-18  2019-10-19  35.4921350361  128.7552590901  "
      ]
     },
     "execution_count": 44,
     "metadata": {},
     "output_type": "execute_result"
    }
   ],
   "source": [
    "import csv\n",
    "import pandas as pd\n",
    "f = open(\"./관광정보.csv\",\"r\")   # encoding 기본: utf-8\n",
    "data = list(csv.reader(f))\n",
    "f.close()\n",
    "\n",
    "df1 = pd.DataFrame(data[:5])\n",
    "df1"
   ]
  }
 ],
 "metadata": {
  "colab": {
   "authorship_tag": "ABX9TyOShLDH47nJ4p7S0abuqp2B",
   "collapsed_sections": [],
   "name": "2. 모듈_패키지.ipynb",
   "provenance": []
  },
  "kernelspec": {
   "display_name": "Python 3 (ipykernel)",
   "language": "python",
   "name": "python3"
  },
  "language_info": {
   "codemirror_mode": {
    "name": "ipython",
    "version": 3
   },
   "file_extension": ".py",
   "mimetype": "text/x-python",
   "name": "python",
   "nbconvert_exporter": "python",
   "pygments_lexer": "ipython3",
   "version": "3.9.7"
  }
 },
 "nbformat": 4,
 "nbformat_minor": 1
}
