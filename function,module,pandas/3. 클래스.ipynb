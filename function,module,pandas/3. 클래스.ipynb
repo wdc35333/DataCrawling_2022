{
 "cells": [
  {
   "cell_type": "markdown",
   "metadata": {
    "id": "Mt-8qTA0RMz2"
   },
   "source": [
    "### 클래스란?\n",
    "- 파이썬은 객체지향 프로그래밍을 기본적으로 지원\n",
    "- 클래스 구조\n",
    "      class 클래스명:\n",
    "        cnt = 0 #속성\n",
    "\n",
    "        def __init__(self, a, b): 초기자\n",
    "          *self: 인스턴스 변수\n",
    "          필요작업\n",
    "\n",
    "        def 함수명(): 메소드\n",
    "          실행문\n",
    "          return 값\n"
   ]
  },
  {
   "cell_type": "code",
   "execution_count": 1,
   "metadata": {
    "executionInfo": {
     "elapsed": 260,
     "status": "ok",
     "timestamp": 1646976152765,
     "user": {
      "displayName": "dc w",
      "photoUrl": "https://lh3.googleusercontent.com/a/default-user=s64",
      "userId": "02032790542712423852"
     },
     "user_tz": -540
    },
    "id": "mSmprbDlQ1QF"
   },
   "outputs": [],
   "source": [
    "## 클래스 연습\n",
    "class myClass():\n",
    "  cnt=0   # 클래스 변수\n",
    "\n",
    "  # 초기자\n",
    "  def __init__(self, 가로, 세로):\n",
    "    self.width = 가로\n",
    "    self.height = 세로\n",
    "    myClass.cnt += 1\n",
    "\n",
    "  # 인스턴스 메소드\n",
    "  def calarea(self):\n",
    "    area = self.width * self.height\n",
    "    return area\n",
    "\n",
    "  # 정적 메소드\n",
    "  @staticmethod\n",
    "  def isSquare(recwidth, recheight):\n",
    "    return recwidth == recheight\n",
    "\n",
    "  # 동적 메소드\n",
    "  @classmethod\n",
    "  def printcnt(cls):\n",
    "    print(cls.cnt)\n",
    "\n"
   ]
  },
  {
   "cell_type": "code",
   "execution_count": 2,
   "metadata": {
    "colab": {
     "base_uri": "https://localhost:8080/"
    },
    "executionInfo": {
     "elapsed": 260,
     "status": "ok",
     "timestamp": 1646975757816,
     "user": {
      "displayName": "dc w",
      "photoUrl": "https://lh3.googleusercontent.com/a/default-user=s64",
      "userId": "02032790542712423852"
     },
     "user_tz": -540
    },
    "id": "3Gxl3lduUDbb",
    "outputId": "49bcf970-d144-44cb-85b9-d2d7f0bad086"
   },
   "outputs": [
    {
     "name": "stdout",
     "output_type": "stream",
     "text": [
      "1\n",
      "10\n",
      "20\n",
      "True\n"
     ]
    }
   ],
   "source": [
    "cls = myClass(10, 20)\n",
    "print(cls.cnt)\n",
    "print(cls.width)\n",
    "print(cls.height)\n",
    "\n",
    "square = myClass.isSquare(10, 10)\n",
    "print(square)"
   ]
  },
  {
   "cell_type": "code",
   "execution_count": 3,
   "metadata": {
    "colab": {
     "base_uri": "https://localhost:8080/"
    },
    "executionInfo": {
     "elapsed": 303,
     "status": "ok",
     "timestamp": 1646976029796,
     "user": {
      "displayName": "dc w",
      "photoUrl": "https://lh3.googleusercontent.com/a/default-user=s64",
      "userId": "02032790542712423852"
     },
     "user_tz": -540
    },
    "id": "8fR6NLrOYGec",
    "outputId": "82742ae4-d2f4-4924-c897-288a953c09bb"
   },
   "outputs": [
    {
     "name": "stdout",
     "output_type": "stream",
     "text": [
      "3\n",
      "True\n",
      "3\n",
      "100\n"
     ]
    }
   ],
   "source": [
    "cls1 = myClass(10, 10)\n",
    "cls2 = myClass(10, 20)\n",
    "\n",
    "cls1.printcnt()\n",
    "print(cls1.isSquare(10, 10))\n",
    "cls2.printcnt()\n",
    "\n",
    "area=cls1.calarea()\n",
    "print(area)"
   ]
  },
  {
   "cell_type": "code",
   "execution_count": 4,
   "metadata": {
    "colab": {
     "base_uri": "https://localhost:8080/"
    },
    "executionInfo": {
     "elapsed": 264,
     "status": "ok",
     "timestamp": 1646975812003,
     "user": {
      "displayName": "dc w",
      "photoUrl": "https://lh3.googleusercontent.com/a/default-user=s64",
      "userId": "02032790542712423852"
     },
     "user_tz": -540
    },
    "id": "A4S8KtJoZqjv",
    "outputId": "8ff96b8f-a499-4671-d82c-aa4850dbb7f9"
   },
   "outputs": [
    {
     "name": "stdout",
     "output_type": "stream",
     "text": [
      "10\n",
      "25\n"
     ]
    }
   ],
   "source": [
    "print(cls1.height)\n",
    "cls1.height=25\n",
    "print(cls1.height)"
   ]
  },
  {
   "cell_type": "code",
   "execution_count": 5,
   "metadata": {
    "colab": {
     "base_uri": "https://localhost:8080/"
    },
    "executionInfo": {
     "elapsed": 299,
     "status": "ok",
     "timestamp": 1646976032059,
     "user": {
      "displayName": "dc w",
      "photoUrl": "https://lh3.googleusercontent.com/a/default-user=s64",
      "userId": "02032790542712423852"
     },
     "user_tz": -540
    },
    "id": "wUfJV3SHZ9hA",
    "outputId": "fba77a50-c9a4-4577-a3dc-c180d40c096a"
   },
   "outputs": [
    {
     "name": "stdout",
     "output_type": "stream",
     "text": [
      "3\n",
      "3\n"
     ]
    }
   ],
   "source": [
    "print(myClass.cnt)\n",
    "print(cls1.cnt)"
   ]
  },
  {
   "cell_type": "code",
   "execution_count": 6,
   "metadata": {
    "colab": {
     "base_uri": "https://localhost:8080/"
    },
    "executionInfo": {
     "elapsed": 3,
     "status": "ok",
     "timestamp": 1646976159191,
     "user": {
      "displayName": "dc w",
      "photoUrl": "https://lh3.googleusercontent.com/a/default-user=s64",
      "userId": "02032790542712423852"
     },
     "user_tz": -540
    },
    "id": "M63HGVbKbUEV",
    "outputId": "0a72c3e0-3d1d-48c6-9f3b-eb89b4e46f83"
   },
   "outputs": [
    {
     "name": "stdout",
     "output_type": "stream",
     "text": [
      "4\n",
      "4\n",
      "4\n"
     ]
    }
   ],
   "source": [
    "cls2 = myClass(20,30)\n",
    "print(myClass.cnt)\n",
    "print(cls1.cnt)\n",
    "print(cls2.cnt)"
   ]
  },
  {
   "cell_type": "markdown",
   "metadata": {
    "id": "U0Ztb6pVciGj"
   },
   "source": [
    "### 실습\n",
    "- 클래스 생성\n",
    "* 객체 생성시 입력 받기: 이름/나이/좋아하는 것 => 입력받기\n",
    "* 입력 정보를 이용해 화면에 출력\n"
   ]
  },
  {
   "cell_type": "code",
   "execution_count": 7,
   "metadata": {
    "executionInfo": {
     "elapsed": 2,
     "status": "ok",
     "timestamp": 1646977085893,
     "user": {
      "displayName": "dc w",
      "photoUrl": "https://lh3.googleusercontent.com/a/default-user=s64",
      "userId": "02032790542712423852"
     },
     "user_tz": -540
    },
    "id": "dvZOhuI9dASJ"
   },
   "outputs": [],
   "source": [
    "### class\n",
    "class Student():\n",
    "  def __init__(self, name, age, like):\n",
    "      self.name = name\n",
    "      self.age = age\n",
    "      self.like = like\n",
    "\n",
    "  def stuinfo(self):\n",
    "      print(f\"이름:{self.name}, 나이:{self.age}, 좋아하는 것:{self.like}\")\n",
    "\n"
   ]
  },
  {
   "cell_type": "code",
   "execution_count": 11,
   "metadata": {
    "colab": {
     "base_uri": "https://localhost:8080/"
    },
    "executionInfo": {
     "elapsed": 3,
     "status": "ok",
     "timestamp": 1646977096967,
     "user": {
      "displayName": "dc w",
      "photoUrl": "https://lh3.googleusercontent.com/a/default-user=s64",
      "userId": "02032790542712423852"
     },
     "user_tz": -540
    },
    "id": "Bmy-9DWud3mI",
    "outputId": "0ee773b6-966c-474f-af3b-14c08c5b9374"
   },
   "outputs": [
    {
     "name": "stdout",
     "output_type": "stream",
     "text": [
      "이름:홍길동, 나이:35, 좋아하는 것:축구\n",
      "이름:원동찬, 나이:28, 좋아하는 것:컴퓨터\n"
     ]
    }
   ],
   "source": [
    "홍길동 = Student(\"홍길동\",35,\"축구\")\n",
    "원동찬 = Student(\"원동찬\",28,\"컴퓨터\")\n",
    "홍길동.stuinfo()\n",
    "원동찬.stuinfo()"
   ]
  },
  {
   "cell_type": "code",
   "execution_count": 12,
   "metadata": {
    "colab": {
     "base_uri": "https://localhost:8080/"
    },
    "executionInfo": {
     "elapsed": 265,
     "status": "ok",
     "timestamp": 1646977400011,
     "user": {
      "displayName": "dc w",
      "photoUrl": "https://lh3.googleusercontent.com/a/default-user=s64",
      "userId": "02032790542712423852"
     },
     "user_tz": -540
    },
    "id": "Le1ejuVKfBmM",
    "outputId": "1f3ed015-14c1-4872-a629-4960332b019d"
   },
   "outputs": [],
   "source": [
    "class Student_up(Student):    \n",
    "  def stuinfo(self):          \n",
    "    super().stuinfo()\n",
    "    print(f\"{self.name}님 행복한 하루 되세요.\")\n"
   ]
  },
  {
   "cell_type": "code",
   "execution_count": 13,
   "metadata": {
    "colab": {
     "base_uri": "https://localhost:8080/"
    },
    "executionInfo": {
     "elapsed": 254,
     "status": "ok",
     "timestamp": 1646977421040,
     "user": {
      "displayName": "dc w",
      "photoUrl": "https://lh3.googleusercontent.com/a/default-user=s64",
      "userId": "02032790542712423852"
     },
     "user_tz": -540
    },
    "id": "LKEpGwS9gP-2",
    "outputId": "a57ff344-7c15-47d6-9005-50de2c3fecd2"
   },
   "outputs": [
    {
     "name": "stdout",
     "output_type": "stream",
     "text": [
      "이름:홍길동, 나이:35, 좋아하는 것:축구\n",
      "이름:원동찬, 나이:28, 좋아하는 것:컴퓨터\n",
      "원동찬님 행복한 하루 되세요.\n"
     ]
    }
   ],
   "source": [
    "홍길동 = Student(\"홍길동\",35,\"축구\")  # 부모 클래스 => Student\n",
    "원동찬 = Student_up(\"원동찬\",28,\"컴퓨터\")   # Student에 의해 새로 만들어진 자식 클래스(Student_up)\n",
    "\n",
    "홍길동.stuinfo()\n",
    "원동찬.stuinfo()"
   ]
  },
  {
   "cell_type": "code",
   "execution_count": null,
   "metadata": {},
   "outputs": [],
   "source": []
  }
 ],
 "metadata": {
  "colab": {
   "authorship_tag": "ABX9TyPWymGbfGwAuUuMo6kRP6Mh",
   "collapsed_sections": [],
   "name": "3. 클래스.ipynb",
   "provenance": []
  },
  "kernelspec": {
   "display_name": "Python 3 (ipykernel)",
   "language": "python",
   "name": "python3"
  },
  "language_info": {
   "codemirror_mode": {
    "name": "ipython",
    "version": 3
   },
   "file_extension": ".py",
   "mimetype": "text/x-python",
   "name": "python",
   "nbconvert_exporter": "python",
   "pygments_lexer": "ipython3",
   "version": "3.9.7"
  }
 },
 "nbformat": 4,
 "nbformat_minor": 1
}
