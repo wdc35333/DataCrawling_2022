{
 "cells": [
  {
   "cell_type": "code",
   "execution_count": 3,
   "metadata": {
    "executionInfo": {
     "elapsed": 381,
     "status": "ok",
     "timestamp": 1646964640238,
     "user": {
      "displayName": "dc w",
      "photoUrl": "https://lh3.googleusercontent.com/a/default-user=s64",
      "userId": "02032790542712423852"
     },
     "user_tz": -540
    },
    "id": "1UH-_RnVsaqw"
   },
   "outputs": [],
   "source": [
    "import sys\n",
    "import csv\n",
    "\n",
    "def openfile(fname):\n",
    "    f = open(fname, \"r\")\n",
    "    data = list(csv.reader(f))\n",
    "    f.close()\n",
    "\n",
    "    return data\n",
    "if __name__ == \"__main_\":\n",
    "    rdf = openfile(\"../관광정보.csv\")\n",
    "    cnt = 0\n",
    "    for line in rdf:\n",
    "        cnt += 1\n",
    "        print(line)\n",
    "        if cnt == 10:\n",
    "            break"
   ]
  },
  {
   "cell_type": "code",
   "execution_count": null,
   "metadata": {
    "id": "x1lCqeYktY4d"
   },
   "outputs": [],
   "source": []
  }
 ],
 "metadata": {
  "colab": {
   "authorship_tag": "ABX9TyMZHZlDrk5nPJoUOtnZtRCq",
   "collapsed_sections": [],
   "name": "runfun.ipynb",
   "provenance": []
  },
  "kernelspec": {
   "display_name": "Python 3 (ipykernel)",
   "language": "python",
   "name": "python3"
  },
  "language_info": {
   "codemirror_mode": {
    "name": "ipython",
    "version": 3
   },
   "file_extension": ".py",
   "mimetype": "text/x-python",
   "name": "python",
   "nbconvert_exporter": "python",
   "pygments_lexer": "ipython3",
   "version": "3.9.7"
  }
 },
 "nbformat": 4,
 "nbformat_minor": 1
}
