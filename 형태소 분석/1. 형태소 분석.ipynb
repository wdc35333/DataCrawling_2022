{
 "cells": [
  {
   "cell_type": "markdown",
   "id": "b424bf76",
   "metadata": {},
   "source": [
    "### 형태소 분석 이해\n",
    "- 참조1: https://tinyurl.com/ycbayjyo\n",
    "- 참조2: https://tinyurl.com/y79g39x2  (한글 형태소 라이브러리)"
   ]
  },
  {
   "cell_type": "markdown",
   "id": "bf130cae",
   "metadata": {},
   "source": [
    "#### 영어 형태소 분석\n",
    "- nltk 라이브러리 제공"
   ]
  },
  {
   "cell_type": "code",
   "execution_count": 1,
   "id": "5a5b3635",
   "metadata": {},
   "outputs": [],
   "source": [
    "# !pip install nltk\n"
   ]
  },
  {
   "cell_type": "code",
   "execution_count": 2,
   "id": "c0dbdc67",
   "metadata": {},
   "outputs": [],
   "source": [
    "from nltk.tokenize import RegexpTokenizer\n",
    "from nltk import Text\n",
    "import matplotlib.pyplot as plt"
   ]
  },
  {
   "cell_type": "code",
   "execution_count": 3,
   "id": "411e66a7",
   "metadata": {},
   "outputs": [],
   "source": [
    "text='''\n",
    "n land And now I understand What you tried to say to me How you suffered for yo\n",
    "you suffered for your sanity How you tried to set them free They would not list\n",
    "g hand And now I understand What you tried to say to me How you suffered for yo\n",
    "you suffered for your sanity How you tried to set them free They would not list\n",
    "snow And now I think I know What you tried to say to me How you suffered for yo\n",
    "you suffered for your sanity How you tried to set them free They would not list\n",
    "'''"
   ]
  },
  {
   "cell_type": "code",
   "execution_count": 4,
   "id": "be60b6e2",
   "metadata": {},
   "outputs": [
    {
     "name": "stdout",
     "output_type": "stream",
     "text": [
      "<Text: n land And now I understand What you...>\n",
      "<class 'nltk.text.Text'>\n"
     ]
    }
   ],
   "source": [
    "regTok = RegexpTokenizer(\"[\\w]+\")  # [0-9a-zA-Z], 영문/숫자를 제외한 나머지 글자 제거\n",
    "tokText = Text(regTok.tokenize(text))\n",
    "print(tokText)\n",
    "print(type(tokText))"
   ]
  },
  {
   "cell_type": "code",
   "execution_count": 5,
   "id": "a98bf37d",
   "metadata": {},
   "outputs": [
    {
     "data": {
      "image/png": "[encoded data removed]",
      "text/plain": [
       "<Figure size 720x360 with 1 Axes>"
      ]
     },
     "metadata": {
      "needs_background": "light"
     },
     "output_type": "display_data"
    }
   ],
   "source": [
    "plt.rcParams['figure.figsize'] = (10,5)  # plt의 속성 수정(계속 사용 가능)\n",
    "# plt.figure(figsize=(14,5))\n",
    "plt.title('NLTK Test')\n",
    "tokText.plot()\n",
    "plt.show()"
   ]
  },
  {
   "cell_type": "code",
   "execution_count": 6,
   "id": "8fccf907",
   "metadata": {},
   "outputs": [
    {
     "data": {
      "image/png": "[encoded data removed]",
      "text/plain": [
       "<Figure size 720x360 with 1 Axes>"
      ]
     },
     "metadata": {
      "needs_background": "light"
     },
     "output_type": "display_data"
    }
   ],
   "source": [
    "tokText.dispersion_plot(['you','for','to','free'])"
   ]
  },
  {
   "cell_type": "code",
   "execution_count": 7,
   "id": "4d3e6fa7",
   "metadata": {},
   "outputs": [],
   "source": [
    "# 형태소 구분\n",
    "import nltk\n",
    "from nltk.tag import pos_tag\n",
    "from nltk.tokenize import word_tokenize"
   ]
  },
  {
   "cell_type": "code",
   "execution_count": 8,
   "id": "115e29e7",
   "metadata": {},
   "outputs": [
    {
     "data": {
      "text/plain": [
       "True"
      ]
     },
     "execution_count": 8,
     "metadata": {},
     "output_type": "execute_result"
    }
   ],
   "source": [
    "nltk.download('book',quiet=True)"
   ]
  },
  {
   "cell_type": "code",
   "execution_count": 9,
   "id": "0bf86906",
   "metadata": {},
   "outputs": [
    {
     "name": "stdout",
     "output_type": "stream",
     "text": [
      "*** Introductory Examples for the NLTK Book ***\n",
      "Loading text1, ..., text9 and sent1, ..., sent9\n",
      "Type the name of the text or sentence to view it.\n",
      "Type: 'texts()' or 'sents()' to list the materials.\n",
      "text1: Moby Dick by Herman Melville 1851\n",
      "text2: Sense and Sensibility by Jane Austen 1811\n",
      "text3: The Book of Genesis\n",
      "text4: Inaugural Address Corpus\n",
      "text5: Chat Corpus\n",
      "text6: Monty Python and the Holy Grail\n",
      "text7: Wall Street Journal\n",
      "text8: Personals Corpus\n",
      "text9: The Man Who Was Thursday by G . K . Chesterton 1908\n"
     ]
    }
   ],
   "source": [
    "from nltk.book import *"
   ]
  },
  {
   "cell_type": "code",
   "execution_count": 10,
   "id": "1a50a4e8",
   "metadata": {},
   "outputs": [
    {
     "data": {
      "text/plain": [
       "['austen-emma.txt',\n",
       " 'austen-persuasion.txt',\n",
       " 'austen-sense.txt',\n",
       " 'bible-kjv.txt',\n",
       " 'blake-poems.txt',\n",
       " 'bryant-stories.txt',\n",
       " 'burgess-busterbrown.txt',\n",
       " 'carroll-alice.txt',\n",
       " 'chesterton-ball.txt',\n",
       " 'chesterton-brown.txt',\n",
       " 'chesterton-thursday.txt',\n",
       " 'edgeworth-parents.txt',\n",
       " 'melville-moby_dick.txt',\n",
       " 'milton-paradise.txt',\n",
       " 'shakespeare-caesar.txt',\n",
       " 'shakespeare-hamlet.txt',\n",
       " 'shakespeare-macbeth.txt',\n",
       " 'whitman-leaves.txt']"
      ]
     },
     "execution_count": 10,
     "metadata": {},
     "output_type": "execute_result"
    }
   ],
   "source": [
    "nltk.corpus.gutenberg.fileids()"
   ]
  },
  {
   "cell_type": "code",
   "execution_count": 11,
   "id": "0a5338f5",
   "metadata": {},
   "outputs": [
    {
     "name": "stdout",
     "output_type": "stream",
     "text": [
      "Emma Woodhouse, handsome, clever, and rich, with a comfortable home\n",
      "and happy disposition, seemed to unite some of the best blessings\n",
      "of existence; and had lived nearly twenty-one years in the world\n",
      "with very little to distress or vex her.\n",
      "\n",
      "She was the youngest of the two daughters of a most affectionate,\n",
      "indulgent father; and had, in consequence of her sister's marriage,\n",
      "been mistress of his house from a very early period.  Her mother\n",
      "had died too long ago for her to have more than an indistinct\n",
      "remembrance of her caresses; and her place had been supplied\n",
      "by an excellent woman as governess, who had fallen little short\n",
      "of a mother in affection.\n",
      "\n",
      "Sixteen years had Miss Taylor been in Mr. Woodhouse's family,\n",
      "less as a governess than a friend, very fond of both daughters,\n",
      "but particularly of Emma.  Between _them_ it was more the intimacy\n",
      "of sisters.  Even before Miss Taylor had ceased to hold the nominal\n",
      "office of governess,\n"
     ]
    }
   ],
   "source": [
    "gute_raw = nltk.corpus.gutenberg.raw('austen-emma.txt')\n",
    "print(gute_raw[50:985])"
   ]
  },
  {
   "cell_type": "code",
   "execution_count": 12,
   "id": "110ba55f",
   "metadata": {},
   "outputs": [
    {
     "data": {
      "image/png": "[encoded data removed]",
      "text/plain": [
       "<Figure size 1080x360 with 1 Axes>"
      ]
     },
     "metadata": {
      "needs_background": "light"
     },
     "output_type": "display_data"
    }
   ],
   "source": [
    "plt.figure(figsize=(15,5))\n",
    "regTok = RegexpTokenizer(\"[\\w]+\")  # [0-9a-zA-Z], 영문/숫자를 제외한 나머지 글자 제거\n",
    "tokText = Text(regTok.tokenize(gute_raw[50:985]))\n",
    "\n",
    "plt.title('austen-emma.txt')\n",
    "tokText.plot()\n",
    "plt.show()"
   ]
  },
  {
   "cell_type": "code",
   "execution_count": 13,
   "id": "cb4c65fb",
   "metadata": {},
   "outputs": [
    {
     "name": "stdout",
     "output_type": "stream",
     "text": [
      "935\n"
     ]
    },
    {
     "data": {
      "image/png": "[encoded data removed]",
      "text/plain": [
       "<Figure size 720x360 with 1 Axes>"
      ]
     },
     "metadata": {
      "needs_background": "light"
     },
     "output_type": "display_data"
    }
   ],
   "source": [
    "print(len(gute_raw[50:985]))\n",
    "tokText.dispersion_plot([\"for\",\"and\",\"very\",\"office\"])"
   ]
  },
  {
   "cell_type": "code",
   "execution_count": 14,
   "id": "4f19fd91",
   "metadata": {},
   "outputs": [
    {
     "name": "stdout",
     "output_type": "stream",
     "text": [
      "['Emma', 'Woodhouse', ',', 'handsome', ',', 'clever', ',', 'and', 'rich', ',', 'with', 'a', 'comfortable', 'home', 'and', 'happy', 'disposition', ',', 'seemed', 'to', 'unite', 'some', 'of', 'the', 'best', 'blessings', 'of', 'existence', ';', 'and', 'had', 'lived', 'nearly', 'twenty-one', 'years', 'in', 'the', 'world', 'with', 'very', 'little', 'to', 'distress', 'or', 'vex', 'her', '.', 'She', 'was', 'the', 'youngest', 'of', 'the', 'two', 'daughters', 'of', 'a', 'most', 'affectionate', ',', 'indulgent', 'father', ';', 'and', 'had', ',', 'in', 'consequence', 'of', 'her', 'sister', \"'s\", 'marriage', ',', 'been', 'mistress', 'of', 'his', 'house', 'from', 'a', 'very', 'early', 'period', '.', 'Her', 'mother', 'had', 'died', 'too', 'long', 'ago', 'for', 'her', 'to', 'have', 'more', 'than', 'an', 'indistinct', 'remembrance', 'of', 'her', 'caresses', ';', 'and', 'her', 'place', 'had', 'been', 'supplied', 'by', 'an', 'excellent', 'woman', 'as', 'governess', ',', 'who', 'had', 'fallen', 'little', 'short', 'of', 'a', 'mother', 'in', 'affection', '.', 'Sixteen', 'years', 'had', 'Miss', 'Taylor', 'been', 'in', 'Mr.', 'Woodhouse', \"'s\", 'family', ',', 'less', 'as', 'a', 'governess', 'than', 'a', 'friend', ',', 'very', 'fond', 'of', 'both', 'daughters', ',', 'but', 'particularly', 'of', 'Emma', '.', 'Between', '_them_', 'it', 'was', 'more', 'the', 'intimacy', 'of', 'sisters', '.', 'Even', 'before', 'Miss', 'Taylor', 'had', 'ceased', 'to', 'hold', 'the', 'nominal', 'office', 'of', 'governess', ',']\n"
     ]
    }
   ],
   "source": [
    "text = gute_raw[50:985]\n",
    "print(word_tokenize(text))\n"
   ]
  },
  {
   "cell_type": "code",
   "execution_count": 15,
   "id": "63dda04e",
   "metadata": {},
   "outputs": [
    {
     "data": {
      "text/plain": [
       "[('Emma', 'NNP'),\n",
       " ('Woodhouse', 'NNP'),\n",
       " (',', ','),\n",
       " ('handsome', 'NN'),\n",
       " (',', ','),\n",
       " ('clever', 'NN'),\n",
       " (',', ','),\n",
       " ('and', 'CC'),\n",
       " ('rich', 'JJ'),\n",
       " (',', ','),\n",
       " ('with', 'IN'),\n",
       " ('a', 'DT'),\n",
       " ('comfortable', 'JJ'),\n",
       " ('home', 'NN'),\n",
       " ('and', 'CC'),\n",
       " ('happy', 'JJ'),\n",
       " ('disposition', 'NN'),\n",
       " (',', ','),\n",
       " ('seemed', 'VBD'),\n",
       " ('to', 'TO'),\n",
       " ('unite', 'VB'),\n",
       " ('some', 'DT'),\n",
       " ('of', 'IN'),\n",
       " ('the', 'DT'),\n",
       " ('best', 'JJS'),\n",
       " ('blessings', 'NNS'),\n",
       " ('of', 'IN'),\n",
       " ('existence', 'NN'),\n",
       " (';', ':'),\n",
       " ('and', 'CC'),\n",
       " ('had', 'VBD'),\n",
       " ('lived', 'VBN'),\n",
       " ('nearly', 'RB'),\n",
       " ('twenty-one', 'CD'),\n",
       " ('years', 'NNS'),\n",
       " ('in', 'IN'),\n",
       " ('the', 'DT'),\n",
       " ('world', 'NN'),\n",
       " ('with', 'IN'),\n",
       " ('very', 'RB'),\n",
       " ('little', 'JJ'),\n",
       " ('to', 'TO'),\n",
       " ('distress', 'VB'),\n",
       " ('or', 'CC'),\n",
       " ('vex', 'VB'),\n",
       " ('her', 'PRP'),\n",
       " ('.', '.'),\n",
       " ('She', 'PRP'),\n",
       " ('was', 'VBD'),\n",
       " ('the', 'DT'),\n",
       " ('youngest', 'JJS'),\n",
       " ('of', 'IN'),\n",
       " ('the', 'DT'),\n",
       " ('two', 'CD'),\n",
       " ('daughters', 'NNS'),\n",
       " ('of', 'IN'),\n",
       " ('a', 'DT'),\n",
       " ('most', 'RBS'),\n",
       " ('affectionate', 'JJ'),\n",
       " (',', ','),\n",
       " ('indulgent', 'JJ'),\n",
       " ('father', 'NN'),\n",
       " (';', ':'),\n",
       " ('and', 'CC'),\n",
       " ('had', 'VBD'),\n",
       " (',', ','),\n",
       " ('in', 'IN'),\n",
       " ('consequence', 'NN'),\n",
       " ('of', 'IN'),\n",
       " ('her', 'PRP$'),\n",
       " ('sister', 'NN'),\n",
       " (\"'s\", 'POS'),\n",
       " ('marriage', 'NN'),\n",
       " (',', ','),\n",
       " ('been', 'VBN'),\n",
       " ('mistress', 'NN'),\n",
       " ('of', 'IN'),\n",
       " ('his', 'PRP$'),\n",
       " ('house', 'NN'),\n",
       " ('from', 'IN'),\n",
       " ('a', 'DT'),\n",
       " ('very', 'RB'),\n",
       " ('early', 'JJ'),\n",
       " ('period', 'NN'),\n",
       " ('.', '.'),\n",
       " ('Her', 'PRP$'),\n",
       " ('mother', 'NN'),\n",
       " ('had', 'VBD'),\n",
       " ('died', 'VBN'),\n",
       " ('too', 'RB'),\n",
       " ('long', 'RB'),\n",
       " ('ago', 'RB'),\n",
       " ('for', 'IN'),\n",
       " ('her', 'PRP$'),\n",
       " ('to', 'TO'),\n",
       " ('have', 'VB'),\n",
       " ('more', 'JJR'),\n",
       " ('than', 'IN'),\n",
       " ('an', 'DT'),\n",
       " ('indistinct', 'JJ'),\n",
       " ('remembrance', 'NN'),\n",
       " ('of', 'IN'),\n",
       " ('her', 'PRP$'),\n",
       " ('caresses', 'NNS'),\n",
       " (';', ':'),\n",
       " ('and', 'CC'),\n",
       " ('her', 'PRP$'),\n",
       " ('place', 'NN'),\n",
       " ('had', 'VBD'),\n",
       " ('been', 'VBN'),\n",
       " ('supplied', 'VBN'),\n",
       " ('by', 'IN'),\n",
       " ('an', 'DT'),\n",
       " ('excellent', 'JJ'),\n",
       " ('woman', 'NN'),\n",
       " ('as', 'IN'),\n",
       " ('governess', 'NN'),\n",
       " (',', ','),\n",
       " ('who', 'WP'),\n",
       " ('had', 'VBD'),\n",
       " ('fallen', 'VBN'),\n",
       " ('little', 'JJ'),\n",
       " ('short', 'JJ'),\n",
       " ('of', 'IN'),\n",
       " ('a', 'DT'),\n",
       " ('mother', 'NN'),\n",
       " ('in', 'IN'),\n",
       " ('affection', 'NN'),\n",
       " ('.', '.'),\n",
       " ('Sixteen', 'JJ'),\n",
       " ('years', 'NNS'),\n",
       " ('had', 'VBD'),\n",
       " ('Miss', 'NNP'),\n",
       " ('Taylor', 'NNP'),\n",
       " ('been', 'VBN'),\n",
       " ('in', 'IN'),\n",
       " ('Mr.', 'NNP'),\n",
       " ('Woodhouse', 'NNP'),\n",
       " (\"'s\", 'POS'),\n",
       " ('family', 'NN'),\n",
       " (',', ','),\n",
       " ('less', 'CC'),\n",
       " ('as', 'IN'),\n",
       " ('a', 'DT'),\n",
       " ('governess', 'NN'),\n",
       " ('than', 'IN'),\n",
       " ('a', 'DT'),\n",
       " ('friend', 'NN'),\n",
       " (',', ','),\n",
       " ('very', 'RB'),\n",
       " ('fond', 'NN'),\n",
       " ('of', 'IN'),\n",
       " ('both', 'DT'),\n",
       " ('daughters', 'NNS'),\n",
       " (',', ','),\n",
       " ('but', 'CC'),\n",
       " ('particularly', 'RB'),\n",
       " ('of', 'IN'),\n",
       " ('Emma', 'NNP'),\n",
       " ('.', '.'),\n",
       " ('Between', 'NNP'),\n",
       " ('_them_', 'VBD'),\n",
       " ('it', 'PRP'),\n",
       " ('was', 'VBD'),\n",
       " ('more', 'RBR'),\n",
       " ('the', 'DT'),\n",
       " ('intimacy', 'NN'),\n",
       " ('of', 'IN'),\n",
       " ('sisters', 'NNS'),\n",
       " ('.', '.'),\n",
       " ('Even', 'RB'),\n",
       " ('before', 'IN'),\n",
       " ('Miss', 'NNP'),\n",
       " ('Taylor', 'NNP'),\n",
       " ('had', 'VBD'),\n",
       " ('ceased', 'VBN'),\n",
       " ('to', 'TO'),\n",
       " ('hold', 'VB'),\n",
       " ('the', 'DT'),\n",
       " ('nominal', 'JJ'),\n",
       " ('office', 'NN'),\n",
       " ('of', 'IN'),\n",
       " ('governess', 'NN'),\n",
       " (',', ',')]"
      ]
     },
     "execution_count": 15,
     "metadata": {},
     "output_type": "execute_result"
    }
   ],
   "source": [
    "text = gute_raw[50:985]\n",
    "tag_list = pos_tag(word_tokenize(text))\n",
    "tag_list"
   ]
  },
  {
   "cell_type": "code",
   "execution_count": 16,
   "id": "7c8ff5e3",
   "metadata": {},
   "outputs": [
    {
     "name": "stdout",
     "output_type": "stream",
     "text": [
      "('Emma', 'NNP')\n",
      "Emma\n",
      "NNP\n"
     ]
    }
   ],
   "source": [
    "print(tag_list[0]) # 첫번째 단어와 품사\n",
    "print(tag_list[0][0]) # 단어만 출력\n",
    "print(tag_list[0][1]) # 품사만 출력"
   ]
  },
  {
   "cell_type": "code",
   "execution_count": 17,
   "id": "81ae3bd9",
   "metadata": {},
   "outputs": [
    {
     "name": "stdout",
     "output_type": "stream",
     "text": [
      "['Emma', 'Woodhouse', 'handsome', 'clever', 'home', 'disposition', 'existence', 'world', 'father', 'consequence', 'sister', 'marriage', 'mistress', 'house', 'period', 'mother', 'remembrance', 'place', 'woman', 'governess', 'mother', 'affection', 'Miss', 'Taylor', 'Mr.', 'Woodhouse', 'family', 'governess', 'friend', 'fond', 'Emma', 'Between', 'intimacy', 'Miss', 'Taylor', 'office', 'governess']\n"
     ]
    }
   ],
   "source": [
    "# 품사가 NNP 또는 NN 데이터만 추출\n",
    "\n",
    "nouns_lst = []\n",
    "for t in tag_list:\n",
    "    if t[1] == \"NNP\" or t[1] == \"NN\":\n",
    "        nouns_lst.append(t[0])\n",
    "        \n",
    "print(nouns_lst)"
   ]
  },
  {
   "cell_type": "code",
   "execution_count": 18,
   "id": "357a72bb",
   "metadata": {},
   "outputs": [
    {
     "name": "stdout",
     "output_type": "stream",
     "text": [
      "['Emma', 'Woodhouse', 'handsome', 'clever', 'home', 'disposition', 'existence', 'world', 'father', 'consequence', 'sister', 'marriage', 'mistress', 'house', 'period', 'mother', 'remembrance', 'place', 'woman', 'governess', 'mother', 'affection', 'Miss', 'Taylor', 'Mr.', 'Woodhouse', 'family', 'governess', 'friend', 'fond', 'Emma', 'Between', 'intimacy', 'Miss', 'Taylor', 'office', 'governess']\n"
     ]
    }
   ],
   "source": [
    "# 위 내용을 한줄쓰기로 표현\n",
    "nouns_lst = [t[0] for t in tag_list if t[1] == \"NNP\" or t[1] == \"NN\"]\n",
    "print(nouns_lst)"
   ]
  },
  {
   "cell_type": "code",
   "execution_count": 19,
   "id": "07c8dc73",
   "metadata": {},
   "outputs": [
    {
     "name": "stdout",
     "output_type": "stream",
     "text": [
      "governess    3\n",
      "Emma         2\n",
      "Woodhouse    2\n",
      "Taylor       2\n",
      "Miss         2\n",
      "mother       2\n",
      "existence    1\n",
      "world        1\n",
      "intimacy     1\n",
      "Between      1\n",
      "dtype: int64\n"
     ]
    }
   ],
   "source": [
    "import pandas as pd\n",
    "\n",
    "tokCount = pd.Series(nouns_lst).value_counts()\n",
    "print(tokCount.head(10))"
   ]
  },
  {
   "cell_type": "code",
   "execution_count": 20,
   "id": "76a2d1eb",
   "metadata": {},
   "outputs": [
    {
     "data": {
      "text/html": [
       "<div>\n",
       "<style scoped>\n",
       "    .dataframe tbody tr th:only-of-type {\n",
       "        vertical-align: middle;\n",
       "    }\n",
       "\n",
       "    .dataframe tbody tr th {\n",
       "        vertical-align: top;\n",
       "    }\n",
       "\n",
       "    .dataframe thead th {\n",
       "        text-align: right;\n",
       "    }\n",
       "</style>\n",
       "<table border=\"1\" class=\"dataframe\">\n",
       "  <thead>\n",
       "    <tr style=\"text-align: right;\">\n",
       "      <th></th>\n",
       "      <th>빈도수</th>\n",
       "    </tr>\n",
       "    <tr>\n",
       "      <th>단어</th>\n",
       "      <th></th>\n",
       "    </tr>\n",
       "  </thead>\n",
       "  <tbody>\n",
       "    <tr>\n",
       "      <th>governess</th>\n",
       "      <td>3</td>\n",
       "    </tr>\n",
       "    <tr>\n",
       "      <th>Miss</th>\n",
       "      <td>2</td>\n",
       "    </tr>\n",
       "    <tr>\n",
       "      <th>Emma</th>\n",
       "      <td>2</td>\n",
       "    </tr>\n",
       "    <tr>\n",
       "      <th>Taylor</th>\n",
       "      <td>2</td>\n",
       "    </tr>\n",
       "    <tr>\n",
       "      <th>Woodhouse</th>\n",
       "      <td>2</td>\n",
       "    </tr>\n",
       "    <tr>\n",
       "      <th>mother</th>\n",
       "      <td>2</td>\n",
       "    </tr>\n",
       "    <tr>\n",
       "      <th>office</th>\n",
       "      <td>1</td>\n",
       "    </tr>\n",
       "    <tr>\n",
       "      <th>intimacy</th>\n",
       "      <td>1</td>\n",
       "    </tr>\n",
       "    <tr>\n",
       "      <th>marriage</th>\n",
       "      <td>1</td>\n",
       "    </tr>\n",
       "    <tr>\n",
       "      <th>mistress</th>\n",
       "      <td>1</td>\n",
       "    </tr>\n",
       "  </tbody>\n",
       "</table>\n",
       "</div>"
      ],
      "text/plain": [
       "           빈도수\n",
       "단어            \n",
       "governess    3\n",
       "Miss         2\n",
       "Emma         2\n",
       "Taylor       2\n",
       "Woodhouse    2\n",
       "mother       2\n",
       "office       1\n",
       "intimacy     1\n",
       "marriage     1\n",
       "mistress     1"
      ]
     },
     "execution_count": 20,
     "metadata": {},
     "output_type": "execute_result"
    }
   ],
   "source": [
    "tok_df = pd.DataFrame(nouns_lst, columns=[\"단어\"]) # 1개의 열이 있는 Series 구조 생성\n",
    "tokCount = tok_df.groupby('단어')[['단어']].count() # 데이터 갯수 구하기\n",
    "tokCount.columns = ['빈도수']\n",
    "tokCount.sort_values('빈도수', ascending = False).head(10)"
   ]
  },
  {
   "cell_type": "markdown",
   "id": "68c1c6ac",
   "metadata": {},
   "source": [
    "### 한글 형태소 분석\n",
    "- 자바 머신 설치 및 환경설정 필요\n",
    "- 참조: https://blog.naver.com/sanjeok73/221641497441\n"
   ]
  },
  {
   "cell_type": "code",
   "execution_count": 21,
   "id": "44708fc3",
   "metadata": {},
   "outputs": [
    {
     "data": {
      "text/plain": [
       "'3.9.7 (default, Sep 16 2021, 08:50:36) \\n[Clang 10.0.0 ]'"
      ]
     },
     "execution_count": 21,
     "metadata": {},
     "output_type": "execute_result"
    }
   ],
   "source": [
    "import sys\n",
    "sys.version"
   ]
  },
  {
   "cell_type": "code",
   "execution_count": 22,
   "id": "04a75d01",
   "metadata": {},
   "outputs": [],
   "source": [
    "#!pip3 install JPype1-py3"
   ]
  },
  {
   "cell_type": "code",
   "execution_count": 23,
   "id": "2b9a335c",
   "metadata": {},
   "outputs": [],
   "source": [
    "#!pip3 install konlpy"
   ]
  },
  {
   "cell_type": "code",
   "execution_count": 24,
   "id": "332c458b",
   "metadata": {},
   "outputs": [
    {
     "name": "stdout",
     "output_type": "stream",
     "text": [
      "['안녕', '하세요', '.', '반갑습니다', '.']\n"
     ]
    }
   ],
   "source": [
    "from konlpy.tag import Okt\n",
    "\n",
    "\n",
    "okt = Okt()\n",
    "\n",
    "print(okt.morphs(\"안녕 하세요. 반갑습니다.\"))"
   ]
  }
 ],
 "metadata": {
  "kernelspec": {
   "display_name": "Python 3 (ipykernel)",
   "language": "python",
   "name": "python3"
  },
  "language_info": {
   "codemirror_mode": {
    "name": "ipython",
    "version": 3
   },
   "file_extension": ".py",
   "mimetype": "text/x-python",
   "name": "python",
   "nbconvert_exporter": "python",
   "pygments_lexer": "ipython3",
   "version": "3.9.7"
  }
 },
 "nbformat": 4,
 "nbformat_minor": 5
}
