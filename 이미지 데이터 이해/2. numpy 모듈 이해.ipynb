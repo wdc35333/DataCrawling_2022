{
 "cells": [
  {
   "cell_type": "markdown",
   "id": "7b181a2f",
   "metadata": {},
   "source": [
    "## Numpy 모듈\n",
    "- 과학기술 계산을 위한 라이브러리\n",
    "- 행렬/배열 처리 및 연산\n",
    "- 난수 생성"
   ]
  },
  {
   "cell_type": "code",
   "execution_count": 1,
   "id": "7c2997c7",
   "metadata": {},
   "outputs": [],
   "source": [
    "# 모듈연결\n",
    "import numpy as np  # numpy 모듈은 기본 제공해주는 모듈임"
   ]
  },
  {
   "cell_type": "markdown",
   "id": "5dc3e75f",
   "metadata": {},
   "source": [
    "### 1차원(1D) 배열 구조"
   ]
  },
  {
   "cell_type": "code",
   "execution_count": 2,
   "id": "9bc6eca0",
   "metadata": {},
   "outputs": [
    {
     "name": "stdout",
     "output_type": "stream",
     "text": [
      "<class 'list'>\n",
      "[20, 10, 15, 8, 9, 10]\n"
     ]
    }
   ],
   "source": [
    "listD = [20, 10, 15, 8, 9, 10]\n",
    "print(type(listD))\n",
    "print(listD)"
   ]
  },
  {
   "cell_type": "code",
   "execution_count": 3,
   "id": "16b1ac92",
   "metadata": {
    "scrolled": true
   },
   "outputs": [
    {
     "name": "stdout",
     "output_type": "stream",
     "text": [
      "<class 'numpy.ndarray'>\n",
      "[20 10 15  8  9 10]\n"
     ]
    }
   ],
   "source": [
    "print(type(np.array(listD)))  \n",
    "print(np.array(listD))  # list와 array의 차이: array는 벡터형 데이터이므로 출력시 ,가 출력되지 않는다"
   ]
  },
  {
   "cell_type": "code",
   "execution_count": 4,
   "id": "b6da04ff",
   "metadata": {},
   "outputs": [
    {
     "name": "stdout",
     "output_type": "stream",
     "text": [
      "(6,)\n"
     ]
    }
   ],
   "source": [
    "print(np.array(listD).shape)  # 배열의 차원을 튜플 구조로 표시"
   ]
  },
  {
   "cell_type": "code",
   "execution_count": 5,
   "id": "7c642d8b",
   "metadata": {},
   "outputs": [
    {
     "name": "stdout",
     "output_type": "stream",
     "text": [
      "20 8\n"
     ]
    }
   ],
   "source": [
    "# 1차원 데이터 관리\n",
    "arr = np.array(listD)\n",
    "\n",
    "# 데이터 출력\n",
    "print( arr[0], arr[3])"
   ]
  },
  {
   "cell_type": "code",
   "execution_count": 6,
   "id": "f1426f25",
   "metadata": {},
   "outputs": [
    {
     "name": "stdout",
     "output_type": "stream",
     "text": [
      "[20 22 15  8  9 10]\n"
     ]
    }
   ],
   "source": [
    "# 데이터 수정\n",
    "arr[1] = 22\n",
    "print(arr)"
   ]
  },
  {
   "cell_type": "code",
   "execution_count": 7,
   "id": "0a4a6ded",
   "metadata": {},
   "outputs": [
    {
     "name": "stdout",
     "output_type": "stream",
     "text": [
      "(2, 3)\n",
      "2\n",
      "8\n",
      "6\n",
      "6\n",
      "int64\n",
      "8\n",
      "(24, 8)\n"
     ]
    }
   ],
   "source": [
    "list1 = [[10,20,30],[15,25,35]]\n",
    "arr = np.array(list1)\n",
    "# 정보형태 확인\n",
    "print(arr.shape)\n",
    "\n",
    "# 차원 확인(ndim)\n",
    "print(arr.ndim)\n",
    "\n",
    "# 원소의 크기(itemsize)\n",
    "print(arr.itemsize)\n",
    "\n",
    "# 전체 데이터 갯수(size)\n",
    "print(len(list1[0])+ len(list1[1]))\n",
    "print(arr.size)\n",
    "\n",
    "# 데이터 타입 확인(dtype)\n",
    "print(arr.dtype)\n",
    "\n",
    "# 원소의 크기(itemsize)\n",
    "print(arr.itemsize)\n",
    "\n",
    "# 원소와 하나의 행의 크기(strides)\n",
    "print(arr.strides)"
   ]
  },
  {
   "cell_type": "markdown",
   "id": "acb23d2e",
   "metadata": {},
   "source": [
    "### ndarray 생성\n",
    "- 기본적으로 vectorization과 broadcasting을 지원\n",
    "- list, tuple 등의 시퀀스 자료형으로 구성할 수 있으며 내부 요소의 자료형은 모두 동일한 타입으로만 가질 수 있다.\n",
    "- 자료의 크기도 고정되어 있음"
   ]
  },
  {
   "cell_type": "code",
   "execution_count": 8,
   "id": "689007b5",
   "metadata": {},
   "outputs": [
    {
     "name": "stdout",
     "output_type": "stream",
     "text": [
      "[1. 2. 3.]\n",
      "float64\n",
      "(3,)\n"
     ]
    }
   ],
   "source": [
    "arr = np.array((1, 2, 3.))\n",
    "print(arr)\n",
    "print(arr.dtype)\n",
    "print(arr.shape)"
   ]
  },
  {
   "cell_type": "code",
   "execution_count": 9,
   "id": "6a205d34",
   "metadata": {},
   "outputs": [
    {
     "name": "stdout",
     "output_type": "stream",
     "text": [
      "[[1. 2. 3.]\n",
      " [1. 2. 3.]]\n",
      "float64\n",
      "(2, 3)\n"
     ]
    }
   ],
   "source": [
    "arr = np.array(((1, 2, 3.),(1, 2, 3.)))\n",
    "print(arr)\n",
    "print(arr.dtype)\n",
    "print(arr.shape)"
   ]
  },
  {
   "cell_type": "code",
   "execution_count": 10,
   "id": "b788ebb1",
   "metadata": {},
   "outputs": [
    {
     "name": "stdout",
     "output_type": "stream",
     "text": [
      "[[['1' '2' '3.0']\n",
      "  ['10' '20' '30']]\n",
      "\n",
      " [['1' '2' '3.0']\n",
      "  ['10' '20' '30']]\n",
      "\n",
      " [['1' '33' '25']\n",
      "  ['15.0' '22.0' '35']]]\n",
      "<U32\n",
      "(3, 2, 3)\n"
     ]
    }
   ],
   "source": [
    "arr = np.array([[(1, 2, 3.), (10, 20, \"30\")],\n",
    "                [(1, 2, 3.), (10, 20, \"30\")],\n",
    "              [(1, 33, 25), (15., 22.0, 35)]])\n",
    "print(arr)\n",
    "print(arr.dtype)\n",
    "print(arr.shape) # 1차원:(m, ) / 2차원:(m, n) / 3차원:(m, n, q)\n"
   ]
  },
  {
   "cell_type": "code",
   "execution_count": 11,
   "id": "9e0ddfd5",
   "metadata": {},
   "outputs": [
    {
     "name": "stdout",
     "output_type": "stream",
     "text": [
      "[1. 2. 3.]\n",
      "float64\n",
      "(3,)\n"
     ]
    }
   ],
   "source": [
    "arr = np.array((1,2,3), dtype = 'float64')\n",
    "\n",
    "print(arr)\n",
    "print(arr.dtype)\n",
    "print(arr.shape)"
   ]
  },
  {
   "cell_type": "code",
   "execution_count": 12,
   "id": "5281abd1",
   "metadata": {},
   "outputs": [
    {
     "name": "stdout",
     "output_type": "stream",
     "text": [
      "[10. 20. 30. 10. 20. 30. 10. 20. 30.]\n"
     ]
    }
   ],
   "source": [
    "# 새로운 데이터를 받아와 순차적으로 array 만들기\n",
    "arr = np.array([])\n",
    "\n",
    "for i in range(3):\n",
    "    arr = np.append(arr,[10, 20, 30])\n",
    "    \n",
    "print(arr)"
   ]
  },
  {
   "cell_type": "code",
   "execution_count": 13,
   "id": "dc70817b",
   "metadata": {},
   "outputs": [
    {
     "data": {
      "text/plain": [
       "array([ 0,  1,  2,  3,  4,  5,  6,  7,  8,  9, 10, 11, 12, 13, 14])"
      ]
     },
     "execution_count": 13,
     "metadata": {},
     "output_type": "execute_result"
    }
   ],
   "source": [
    "# np.arange 순차적인 배열값 만들기\n",
    "arr = np.arange(15)\n",
    "arr"
   ]
  },
  {
   "cell_type": "code",
   "execution_count": 14,
   "id": "e83a7235",
   "metadata": {},
   "outputs": [
    {
     "name": "stdout",
     "output_type": "stream",
     "text": [
      "[[ 0  1  2  3  4  5]\n",
      " [ 6  7  8  9 10 11]\n",
      " [12 13 14 15 16 17]] \n",
      "\n",
      "[[ 0  1  2  3  4  5  6  7  8]\n",
      " [ 9 10 11 12 13 14 15 16 17]] \n",
      "\n",
      "[[ 0  1  2  3  4  5  6  7  8]\n",
      " [ 9 10 11 12 13 14 15 16 17]] \n",
      "\n",
      "[[ 0  1  2  3  4  5  6  7  8]\n",
      " [ 9 10 11 12 13 14 15 16 17]] \n",
      "\n",
      "[ 0  1  2  3  4  5  6  7  8  9 10 11 12 13 14 15 16 17] \n",
      "\n"
     ]
    }
   ],
   "source": [
    "# reshape로 차원 조정하기\n",
    "arr = np.arange(18).reshape(3, 6)  # reshape(3, 6)의 숫자의 곱은 array(18)의 숫자와 일치\n",
    "print(arr, \"\\n\")\n",
    "\n",
    "arr1 = arr.reshape(2,9) # (3, 6)의 구조를 (2, 9)로 변경\n",
    "print(arr1, \"\\n\")\n",
    "\n",
    "arr1 = arr.reshape(2,-1) # 행을 기준으로 열 원소를 자동으로 계산\n",
    "print(arr1, \"\\n\")\n",
    "\n",
    "arr1 = arr.reshape(-1,9) # 원소의 갯수를 기준으로 행의 갯수 자동 계산\n",
    "print(arr1, \"\\n\")\n",
    "\n",
    "arr1 = arr.reshape(-1)  # 1차원 구조로 변경\n",
    "print(arr1, \"\\n\")"
   ]
  },
  {
   "cell_type": "code",
   "execution_count": 15,
   "id": "acaa8639",
   "metadata": {},
   "outputs": [
    {
     "name": "stdout",
     "output_type": "stream",
     "text": [
      "[[ 0  1  2  3  4  5]\n",
      " [ 6  7  8  9 10 11]\n",
      " [12 13 14 15 16 17]]\n",
      "전체 데이터 합계: 153\n",
      "열 기준 데이터 합계: [18 21 24 27 30 33]\n",
      "행 기준 데이터 합계: [15 51 87]\n"
     ]
    }
   ],
   "source": [
    "# 배열 계산(합계)\n",
    "print(arr)\n",
    "print(\"전체 데이터 합계:\", np.sum(arr))\n",
    "print(\"열 기준 데이터 합계:\", np.sum(arr, axis=0))\n",
    "print(\"행 기준 데이터 합계:\", np.sum(arr, axis=1))"
   ]
  },
  {
   "cell_type": "code",
   "execution_count": 16,
   "id": "0b34673c",
   "metadata": {},
   "outputs": [
    {
     "name": "stdout",
     "output_type": "stream",
     "text": [
      "더하기: [ 6  8 10 12]\n",
      "빼기: [-4 -4 -4 -4]\n",
      "곱하기: [ 5 12 21 32]\n",
      "나누기: [0.2        0.33333333 0.42857143 0.5       ]\n"
     ]
    }
   ],
   "source": [
    "# array간 사칙연산\n",
    "arr1 = np.array([1, 2, 3, 4])\n",
    "arr2 = np.array([5, 6, 7, 8])\n",
    "\n",
    "# 더하기\n",
    "print(\"더하기:\",arr1 + arr2)\n",
    "\n",
    "# 빼기\n",
    "print(\"빼기:\",arr1 - arr2)\n",
    "\n",
    "# 곱하기\n",
    "print(\"곱하기:\",arr1 * arr2)\n",
    "\n",
    "# 나누기\n",
    "print(\"나누기:\",arr1 / arr2)"
   ]
  },
  {
   "cell_type": "code",
   "execution_count": 17,
   "id": "67c6fffa",
   "metadata": {},
   "outputs": [
    {
     "name": "stdout",
     "output_type": "stream",
     "text": [
      "(1, 6) (3, 1)\n",
      "더하기: [[ 6  7  8  9 10 11]\n",
      " [ 4  5  6  7  8  9]\n",
      " [ 4  5  6  7  8  9]]\n"
     ]
    }
   ],
   "source": [
    "# array간 사칙연산\n",
    "arr1 = np.array([1, 2, 3, 4, 5, 6]).reshape(1, -1)\n",
    "arr2 = np.array([5, 3, 3]).reshape(-1, 1)\n",
    "\n",
    "print(arr1.shape, arr2.shape)\n",
    "\n",
    "# 더하기\n",
    "print(\"더하기:\", arr1 + arr2)"
   ]
  },
  {
   "cell_type": "markdown",
   "id": "c8ce8728",
   "metadata": {},
   "source": [
    "### 배열에 대한 인덱싱/합치기"
   ]
  },
  {
   "cell_type": "code",
   "execution_count": 18,
   "id": "7c830f8e",
   "metadata": {},
   "outputs": [
    {
     "data": {
      "text/plain": [
       "array([ 0,  2,  4,  6,  8, 10, 12, 14, 16, 18])"
      ]
     },
     "execution_count": 18,
     "metadata": {},
     "output_type": "execute_result"
    }
   ],
   "source": [
    "arr = np.arange(0, 20, 2)\n",
    "arr"
   ]
  },
  {
   "cell_type": "code",
   "execution_count": 19,
   "id": "ba8675cd",
   "metadata": {},
   "outputs": [
    {
     "name": "stdout",
     "output_type": "stream",
     "text": [
      "0\n",
      "[ 0  6 10]\n",
      "[4 6 8]\n"
     ]
    }
   ],
   "source": [
    "# 요소 인덱싱\n",
    "print(arr[0])\n",
    "print(arr[[0, 3, 5]])\n",
    "print(arr[2:5])"
   ]
  },
  {
   "cell_type": "code",
   "execution_count": 20,
   "id": "7b8a1dae",
   "metadata": {},
   "outputs": [
    {
     "name": "stdout",
     "output_type": "stream",
     "text": [
      "[False False False False False  True  True  True  True  True]\n",
      "[10 12 14 16 18]\n"
     ]
    }
   ],
   "source": [
    "## True/False로 구성된 boolean 배열 기준 출력\n",
    "print(arr >= 10)\n",
    "print(arr[arr >= 10])"
   ]
  },
  {
   "cell_type": "code",
   "execution_count": 21,
   "id": "25b9bbc0",
   "metadata": {},
   "outputs": [
    {
     "name": "stdout",
     "output_type": "stream",
     "text": [
      "[ 0  2  4  0  8 10 12 14 16  0]\n",
      "(array([1, 2, 4, 5, 6, 7, 8]),)\n"
     ]
    }
   ],
   "source": [
    "## 0이 아닌 값만 출력\n",
    "arr[[3, -1]] = 0\n",
    "print(arr)\n",
    "print(np.nonzero(arr))"
   ]
  },
  {
   "cell_type": "code",
   "execution_count": 22,
   "id": "b8af4207",
   "metadata": {},
   "outputs": [
    {
     "name": "stdout",
     "output_type": "stream",
     "text": [
      "[[ 0  2  4  0  8]\n",
      " [10 12 14 16  0]] \n",
      "\n",
      "[12 14 16]\n",
      "[[ 2  4  0]\n",
      " [12 14 16]]\n"
     ]
    }
   ],
   "source": [
    "arr = arr.reshape(2, -1)\n",
    "print(arr, \"\\n\")\n",
    "print(arr[1, 1:4]) # 행이 1이면서 열이 1~3까지\n",
    "print(arr[:, 1:4])"
   ]
  },
  {
   "cell_type": "code",
   "execution_count": 23,
   "id": "6d4025c3",
   "metadata": {},
   "outputs": [
    {
     "name": "stdout",
     "output_type": "stream",
     "text": [
      "2 2\n",
      "[[1 2]\n",
      " [3 4]] \n",
      " [[5 6]] \n",
      "\n",
      "[[1 2]\n",
      " [3 4]\n",
      " [5 6]] \n",
      "\n",
      "[[1 2 5]\n",
      " [3 4 6]] \n",
      "\n",
      "[[1 2 5]\n",
      " [3 4 6]] \n",
      "\n"
     ]
    }
   ],
   "source": [
    "# array 합치기\n",
    "arr1 = np.arange(1, 5).reshape(2, -1)\n",
    "arr2 = np.array([5,6]).reshape(1,2)  # arr2 = np.array([5,6])\n",
    "\n",
    "print(arr1.ndim,arr2.ndim)\n",
    "\n",
    "print(arr1, \"\\n\", arr2, \"\\n\")\n",
    "print(np.concatenate((arr1, arr2), axis=0),\"\\n\")\n",
    "print(np.concatenate((arr1, arr2.T), axis=1),\"\\n\")\n",
    "print(np.concatenate((arr1, arr2.reshape(2, -1)), axis=1),\"\\n\")"
   ]
  },
  {
   "cell_type": "code",
   "execution_count": 24,
   "id": "7ac98134",
   "metadata": {},
   "outputs": [
    {
     "data": {
      "text/plain": [
       "array([[5],\n",
       "       [6]])"
      ]
     },
     "execution_count": 24,
     "metadata": {},
     "output_type": "execute_result"
    }
   ],
   "source": [
    "arr2.T"
   ]
  },
  {
   "cell_type": "markdown",
   "id": "f735ebf3",
   "metadata": {},
   "source": [
    "#### numpy 입출력\n",
    "- np.save(file, arr) => array 1개를 파일로 저장(바이너리)\n",
    "- np.savez(file, arr1, arr2) => 복수 배열을 파일로 저장(바이너리)\n",
    "- np.load(file) => 배열형식으로 저장된 데이터 불러오기\n",
    "- np.savetxt() => 텍스트 형식으로 배열값 저장\n",
    "- np.loadtxt() => 텍스트 형식으로 저장된 배열값 불러오기"
   ]
  },
  {
   "cell_type": "code",
   "execution_count": 25,
   "id": "290ff753",
   "metadata": {},
   "outputs": [],
   "source": [
    "def pprint(arr):\n",
    "    print(f'type:{type(arr)}')\n",
    "    print(f'shape:{arr.shape}, ndim:{arr.ndim}, dtype:{arr.dtype}')\n",
    "    print(f'array data: \\n{arr}')"
   ]
  },
  {
   "cell_type": "code",
   "execution_count": 26,
   "id": "21157919",
   "metadata": {},
   "outputs": [
    {
     "name": "stdout",
     "output_type": "stream",
     "text": [
      "type:<class 'numpy.ndarray'>\n",
      "shape:(2, 3), ndim:2, dtype:int64\n",
      "array data: \n",
      "[[5 0 8]\n",
      " [0 5 1]]\n",
      "type:<class 'numpy.ndarray'>\n",
      "shape:(2, 3), ndim:2, dtype:int64\n",
      "array data: \n",
      "[[1 2 6]\n",
      " [5 1 0]]\n"
     ]
    }
   ],
   "source": [
    "# np.random.randint(시작값, 종료값, 갯수)\n",
    "x = np.random.randint(0, 10, (2, 3))\n",
    "y = np.random.randint(0, 10, (2, 3))\n",
    "\n",
    "pprint(x)\n",
    "pprint(y)"
   ]
  },
  {
   "cell_type": "code",
   "execution_count": 27,
   "id": "4c6b5131",
   "metadata": {},
   "outputs": [],
   "source": [
    "# 1개의 배열 저장\n",
    "np.save(\"./data/arr1\", x)"
   ]
  },
  {
   "cell_type": "code",
   "execution_count": 28,
   "id": "eb2711d6",
   "metadata": {},
   "outputs": [],
   "source": [
    "# x, y 두 개의 배열 저장\n",
    "np.savez(\"./data/arr_all\", x, y)"
   ]
  },
  {
   "cell_type": "code",
   "execution_count": 29,
   "id": "00a08a4e",
   "metadata": {},
   "outputs": [
    {
     "name": "stdout",
     "output_type": "stream",
     "text": [
      "type:<class 'numpy.ndarray'>\n",
      "shape:(2, 3), ndim:2, dtype:int64\n",
      "array data: \n",
      "[[5 0 8]\n",
      " [0 5 1]]\n"
     ]
    }
   ],
   "source": [
    "# .npy 파일 읽어오기\n",
    "np_file = np.load(\"./data/arr1.npy\")\n",
    "\n",
    "pprint(np_file)"
   ]
  },
  {
   "cell_type": "code",
   "execution_count": 30,
   "id": "57500470",
   "metadata": {},
   "outputs": [
    {
     "name": "stdout",
     "output_type": "stream",
     "text": [
      "['arr_0', 'arr_1']\n",
      "type:<class 'numpy.ndarray'>\n",
      "shape:(2, 3), ndim:2, dtype:int64\n",
      "array data: \n",
      "[[5 0 8]\n",
      " [0 5 1]]\n",
      "type:<class 'numpy.ndarray'>\n",
      "shape:(2, 3), ndim:2, dtype:int64\n",
      "array data: \n",
      "[[1 2 6]\n",
      " [5 1 0]]\n"
     ]
    }
   ],
   "source": [
    "# .npz파일 읽어오기\n",
    "npz_file = np.load(\"./data/arr_all.npz\")\n",
    "\n",
    "print(npz_file.files)\n",
    "\n",
    "pprint(npz_file[\"arr_0\"])\n",
    "pprint(npz_file['arr_1'])"
   ]
  },
  {
   "cell_type": "code",
   "execution_count": 31,
   "id": "c541e405",
   "metadata": {},
   "outputs": [
    {
     "data": {
      "text/plain": [
       "['arr_0', 'arr_1']"
      ]
     },
     "execution_count": 31,
     "metadata": {},
     "output_type": "execute_result"
    }
   ],
   "source": [
    "npz_file.files"
   ]
  },
  {
   "cell_type": "code",
   "execution_count": 32,
   "id": "56068e11",
   "metadata": {},
   "outputs": [],
   "source": [
    "# x 배열을 텍스트형으로 저장\n",
    "# np.savetxt(\"./data/x_arr.csv\", x, delimiter=',', fmt=\"%.18e\")\n",
    "np.savetxt(\"./data/x_arr.csv\", x, delimiter=',', fmt=\"%d\")"
   ]
  },
  {
   "cell_type": "code",
   "execution_count": 33,
   "id": "8d53d97e",
   "metadata": {},
   "outputs": [
    {
     "name": "stdout",
     "output_type": "stream",
     "text": [
      "[[5. 0. 8.]\n",
      " [0. 5. 1.]]\n"
     ]
    }
   ],
   "source": [
    "# 텍스트 배열값 읽어오기\n",
    "txt_arr = np.loadtxt('./data/x_arr.csv', delimiter=',')\n",
    "print(txt_arr)"
   ]
  },
  {
   "cell_type": "markdown",
   "id": "81b2a150",
   "metadata": {},
   "source": [
    "### 이미지 가져와 배열 형식으로 저장/읽어오기"
   ]
  },
  {
   "cell_type": "code",
   "execution_count": 34,
   "id": "8a20add8",
   "metadata": {},
   "outputs": [],
   "source": [
    "import cv2\n",
    "import os\n",
    "import numpy as np\n",
    "import matplotlib.pyplot as plt\n",
    "%matplotlib inline"
   ]
  },
  {
   "cell_type": "code",
   "execution_count": 35,
   "id": "aa2acde2",
   "metadata": {},
   "outputs": [],
   "source": [
    "# 이미지 폴더 정의\n",
    "fdirs=['ants', 'bees']\n",
    "\n",
    "# 이미지에 대한 픽셀정보(X)와 레이블정보(Y) 저장\n",
    "X = []\n",
    "y = []\n",
    "\n",
    "# 이미지 읽어와 배열로 저장하기\n",
    "\n",
    "for inx, fdir  in enumerate(fdirs):\n",
    "    files = os.listdir(fdir)\n",
    "\n",
    "    for f in files:\n",
    "        # 이미지 읽어오기        \n",
    "        img = cv2.imread(fdir + \"/\" + f, 0)\n",
    "        # 이미지 사이트 변경하기\n",
    "        img = cv2.resize(img, (64, 64))\n",
    "        # 이미지 ndarray로 변경하기\n",
    "        img = np.array(img).reshape(-1).tolist()\n",
    "        # X 리스트에 이미지 데이터 추가\n",
    "        X.append(img)\n",
    "\n",
    "        # y 레이블 데이터 추가(0 = ants / 1 = bees)\n",
    "        y.append(inx)"
   ]
  },
  {
   "cell_type": "code",
   "execution_count": 36,
   "id": "3f755323",
   "metadata": {},
   "outputs": [
    {
     "data": {
      "image/png": "[encoded data removed]",
      "text/plain": [
       "<Figure size 432x288 with 1 Axes>"
      ]
     },
     "metadata": {
      "needs_background": "light"
     },
     "output_type": "display_data"
    }
   ],
   "source": [
    "# 저장한 이미지 1개 꺼내와 출력하기\n",
    "plt.imshow(np.array(X[75]).reshape(64, 64), cmap='gray')\n",
    "plt.show()"
   ]
  },
  {
   "cell_type": "markdown",
   "id": "142dd41c",
   "metadata": {},
   "source": [
    "## 배열 이미지 저장하기"
   ]
  },
  {
   "cell_type": "code",
   "execution_count": 37,
   "id": "bfc964d9",
   "metadata": {},
   "outputs": [
    {
     "name": "stdout",
     "output_type": "stream",
     "text": [
      "type:<class 'numpy.ndarray'>\n",
      "shape:(157, 4096), ndim:2, dtype:int64\n",
      "array data: \n",
      "[[143 134 129 ...  36  38  36]\n",
      " [ 83  84  76 ... 113 106  94]\n",
      " [ 39  38  37 ...  41  36  33]\n",
      " ...\n",
      " [255 255 255 ... 255 255 255]\n",
      " [122 144 134 ...  58  69  58]\n",
      " [126 130 125 ...  42  44  79]]\n",
      "type:<class 'numpy.ndarray'>\n",
      "shape:(157,), ndim:1, dtype:int64\n",
      "array data: \n",
      "[0 0 0 0 0 0 0 0 0 0 0 0 0 0 0 0 0 0 0 0 0 0 0 0 0 0 0 0 0 0 0 0 0 0 0 0 0\n",
      " 0 0 0 0 0 0 0 0 0 0 0 0 0 0 0 0 0 0 0 0 0 0 0 0 0 0 0 0 0 0 0 0 0 0 0 0 0\n",
      " 0 1 1 1 1 1 1 1 1 1 1 1 1 1 1 1 1 1 1 1 1 1 1 1 1 1 1 1 1 1 1 1 1 1 1 1 1\n",
      " 1 1 1 1 1 1 1 1 1 1 1 1 1 1 1 1 1 1 1 1 1 1 1 1 1 1 1 1 1 1 1 1 1 1 1 1 1\n",
      " 1 1 1 1 1 1 1 1 1]\n",
      "type:<class 'numpy.ndarray'>\n",
      "shape:(157, 4097), ndim:2, dtype:int64\n",
      "array data: \n",
      "[[143 134 129 ...  38  36   0]\n",
      " [ 83  84  76 ... 106  94   0]\n",
      " [ 39  38  37 ...  36  33   0]\n",
      " ...\n",
      " [255 255 255 ... 255 255   1]\n",
      " [122 144 134 ...  69  58   1]\n",
      " [126 130 125 ...  44  79   1]]\n"
     ]
    }
   ],
   "source": [
    "# 이미지 정보를 배열 구조로 변경하고 데이터 구조 확인\n",
    "X = np.array(X)\n",
    "y = np.array(y)\n",
    "\n",
    "pprint(X)\n",
    "pprint(y)\n",
    "\n",
    "# 이미지 픽셀 정보와 레이블 정보를 하나로 만들기\n",
    "Xy = np.concatenate((X, y.reshape(157, -1)), axis=1)\n",
    "pprint(Xy)\n",
    "\n",
    "np.save(\"ant_bee_img\", Xy)"
   ]
  },
  {
   "cell_type": "code",
   "execution_count": 38,
   "id": "10d7f2b8",
   "metadata": {},
   "outputs": [
    {
     "name": "stdout",
     "output_type": "stream",
     "text": [
      "type:<class 'numpy.ndarray'>\n",
      "shape:(157, 4096), ndim:2, dtype:int64\n",
      "array data: \n",
      "[[143 134 129 ...  36  38  36]\n",
      " [ 83  84  76 ... 113 106  94]\n",
      " [ 39  38  37 ...  41  36  33]\n",
      " ...\n",
      " [255 255 255 ... 255 255 255]\n",
      " [122 144 134 ...  58  69  58]\n",
      " [126 130 125 ...  42  44  79]]\n",
      "type:<class 'numpy.ndarray'>\n",
      "shape:(157,), ndim:1, dtype:int64\n",
      "array data: \n",
      "[0 0 0 0 0 0 0 0 0 0 0 0 0 0 0 0 0 0 0 0 0 0 0 0 0 0 0 0 0 0 0 0 0 0 0 0 0\n",
      " 0 0 0 0 0 0 0 0 0 0 0 0 0 0 0 0 0 0 0 0 0 0 0 0 0 0 0 0 0 0 0 0 0 0 0 0 0\n",
      " 0 1 1 1 1 1 1 1 1 1 1 1 1 1 1 1 1 1 1 1 1 1 1 1 1 1 1 1 1 1 1 1 1 1 1 1 1\n",
      " 1 1 1 1 1 1 1 1 1 1 1 1 1 1 1 1 1 1 1 1 1 1 1 1 1 1 1 1 1 1 1 1 1 1 1 1 1\n",
      " 1 1 1 1 1 1 1 1 1]\n"
     ]
    }
   ],
   "source": [
    "# 배열을 각각의 배열로 저장하기\n",
    "pprint(X)\n",
    "pprint(y)\n",
    "\n",
    "np.savez('ant_bee_arr', X, y)"
   ]
  }
 ],
 "metadata": {
  "kernelspec": {
   "display_name": "Python 3 (ipykernel)",
   "language": "python",
   "name": "python3"
  },
  "language_info": {
   "codemirror_mode": {
    "name": "ipython",
    "version": 3
   },
   "file_extension": ".py",
   "mimetype": "text/x-python",
   "name": "python",
   "nbconvert_exporter": "python",
   "pygments_lexer": "ipython3",
   "version": "3.9.7"
  }
 },
 "nbformat": 4,
 "nbformat_minor": 5
}
