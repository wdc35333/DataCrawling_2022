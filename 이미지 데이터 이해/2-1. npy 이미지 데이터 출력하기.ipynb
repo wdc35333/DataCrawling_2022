{
 "cells": [
  {
   "cell_type": "code",
   "execution_count": 1,
   "id": "924428a3",
   "metadata": {},
   "outputs": [],
   "source": [
    "import cv2\n",
    "import os\n",
    "import numpy as np\n",
    "import matplotlib.pyplot as plt\n",
    "%matplotlib inline"
   ]
  },
  {
   "cell_type": "code",
   "execution_count": 2,
   "id": "70a230d9",
   "metadata": {},
   "outputs": [],
   "source": [
    "def pprint(arr):\n",
    "    print(f'type:{type(arr)}')\n",
    "    print(f'shape:{arr.shape}, ndim:{arr.ndim}, dtype:{arr.dtype}')\n",
    "    print(f'array data: \\n{arr}')"
   ]
  },
  {
   "cell_type": "code",
   "execution_count": 3,
   "id": "81f77319",
   "metadata": {},
   "outputs": [
    {
     "name": "stdout",
     "output_type": "stream",
     "text": [
      "type:<class 'numpy.ndarray'>\n",
      "shape:(157, 4097), ndim:2, dtype:int64\n",
      "array data: \n",
      "[[143 134 129 ...  38  36   0]\n",
      " [ 83  84  76 ... 106  94   0]\n",
      " [ 39  38  37 ...  36  33   0]\n",
      " ...\n",
      " [255 255 255 ... 255 255   1]\n",
      " [122 144 134 ...  69  58   1]\n",
      " [126 130 125 ...  44  79   1]]\n"
     ]
    }
   ],
   "source": [
    "# npy 이미지 데이터 읽어오기\n",
    "\n",
    "imgs = np.load(\"ant_bee_img.npy\")\n",
    "pprint(imgs)"
   ]
  },
  {
   "cell_type": "code",
   "execution_count": 4,
   "id": "6aaf3324",
   "metadata": {},
   "outputs": [
    {
     "name": "stdout",
     "output_type": "stream",
     "text": [
      "type:<class 'numpy.ndarray'>\n",
      "shape:(64, 64), ndim:2, dtype:int64\n",
      "array data: \n",
      "[[143 134 129 ... 128 108 138]\n",
      " [139 135 143 ... 123 116 155]\n",
      " [122 131 132 ... 115 150 161]\n",
      " ...\n",
      " [ 90  94 100 ...  41  41  39]\n",
      " [ 95  90 103 ...  41  40  37]\n",
      " [ 89  95  97 ...  36  38  36]]\n",
      "\n",
      "type:<class 'numpy.int64'>\n",
      "shape:(), ndim:0, dtype:int64\n",
      "array data: \n",
      "0\n"
     ]
    }
   ],
   "source": [
    "# index 값을 이용해 이미지 출력\n",
    "X = imgs[0][:-1]\n",
    "y = imgs[0][-1]\n",
    "\n",
    "pprint(X.reshape(64, 64))\n",
    "print()\n",
    "pprint(y)"
   ]
  },
  {
   "cell_type": "code",
   "execution_count": 5,
   "id": "a88f286e",
   "metadata": {},
   "outputs": [
    {
     "data": {
      "image/png": "[encoded data removed]",
      "text/plain": [
       "<Figure size 432x288 with 1 Axes>"
      ]
     },
     "metadata": {
      "needs_background": "light"
     },
     "output_type": "display_data"
    },
    {
     "name": "stdout",
     "output_type": "stream",
     "text": [
      "ant 이미지\n"
     ]
    }
   ],
   "source": [
    "plt.imshow(X.reshape(64, 64), cmap='gray')\n",
    "plt.show()\n",
    "\n",
    "if y == 0:\n",
    "    print('ant 이미지')\n",
    "elif y == 1:\n",
    "    print('bee 이미지')\n",
    "else:\n",
    "    print(\"확인 불가\")"
   ]
  },
  {
   "cell_type": "markdown",
   "id": "f23243c7",
   "metadata": {},
   "source": [
    "npz 이미지 처리"
   ]
  },
  {
   "cell_type": "code",
   "execution_count": 6,
   "id": "75530230",
   "metadata": {},
   "outputs": [
    {
     "data": {
      "text/plain": [
       "['arr_0', 'arr_1']"
      ]
     },
     "execution_count": 6,
     "metadata": {},
     "output_type": "execute_result"
    }
   ],
   "source": [
    "imgs = np.load(\"ant_bee_arr.npz\")\n",
    "imgs.files"
   ]
  },
  {
   "cell_type": "code",
   "execution_count": 7,
   "id": "63d2a61e",
   "metadata": {},
   "outputs": [
    {
     "name": "stdout",
     "output_type": "stream",
     "text": [
      "type:<class 'numpy.ndarray'>\n",
      "shape:(157, 4096), ndim:2, dtype:int64\n",
      "array data: \n",
      "[[143 134 129 ...  36  38  36]\n",
      " [ 83  84  76 ... 113 106  94]\n",
      " [ 39  38  37 ...  41  36  33]\n",
      " ...\n",
      " [255 255 255 ... 255 255 255]\n",
      " [122 144 134 ...  58  69  58]\n",
      " [126 130 125 ...  42  44  79]]\n",
      "type:<class 'numpy.ndarray'>\n",
      "shape:(157,), ndim:1, dtype:int64\n",
      "array data: \n",
      "[0 0 0 0 0 0 0 0 0 0 0 0 0 0 0 0 0 0 0 0 0 0 0 0 0 0 0 0 0 0 0 0 0 0 0 0 0\n",
      " 0 0 0 0 0 0 0 0 0 0 0 0 0 0 0 0 0 0 0 0 0 0 0 0 0 0 0 0 0 0 0 0 0 0 0 0 0\n",
      " 0 1 1 1 1 1 1 1 1 1 1 1 1 1 1 1 1 1 1 1 1 1 1 1 1 1 1 1 1 1 1 1 1 1 1 1 1\n",
      " 1 1 1 1 1 1 1 1 1 1 1 1 1 1 1 1 1 1 1 1 1 1 1 1 1 1 1 1 1 1 1 1 1 1 1 1 1\n",
      " 1 1 1 1 1 1 1 1 1]\n",
      "None\n"
     ]
    }
   ],
   "source": [
    "pprint(imgs['arr_0'])\n",
    "print(pprint(imgs['arr_1']))"
   ]
  },
  {
   "cell_type": "code",
   "execution_count": 8,
   "id": "6a66c782",
   "metadata": {},
   "outputs": [
    {
     "name": "stdout",
     "output_type": "stream",
     "text": [
      "type:<class 'numpy.ndarray'>\n",
      "shape:(64, 64), ndim:2, dtype:int64\n",
      "array data: \n",
      "[[126 130 125 ...  78  71  80]\n",
      " [112 145 130 ...  80  56  80]\n",
      " [109 150 135 ...  89  66  77]\n",
      " ...\n",
      " [ 50  56  61 ...  60  64  42]\n",
      " [ 48  55  61 ...  48  56  58]\n",
      " [ 45  52  59 ...  42  44  79]]\n",
      "type:<class 'numpy.ndarray'>\n",
      "shape:(157,), ndim:1, dtype:int64\n",
      "array data: \n",
      "[0 0 0 0 0 0 0 0 0 0 0 0 0 0 0 0 0 0 0 0 0 0 0 0 0 0 0 0 0 0 0 0 0 0 0 0 0\n",
      " 0 0 0 0 0 0 0 0 0 0 0 0 0 0 0 0 0 0 0 0 0 0 0 0 0 0 0 0 0 0 0 0 0 0 0 0 0\n",
      " 0 1 1 1 1 1 1 1 1 1 1 1 1 1 1 1 1 1 1 1 1 1 1 1 1 1 1 1 1 1 1 1 1 1 1 1 1\n",
      " 1 1 1 1 1 1 1 1 1 1 1 1 1 1 1 1 1 1 1 1 1 1 1 1 1 1 1 1 1 1 1 1 1 1 1 1 1\n",
      " 1 1 1 1 1 1 1 1 1]\n"
     ]
    }
   ],
   "source": [
    "# 픽셀 정보 이미지\n",
    "X = imgs['arr_0']\n",
    "X_0 = X[-1].reshape(64, 64)\n",
    "\n",
    "# 레이블 정보\n",
    "y = imgs['arr_1']\n",
    "\n",
    "pprint(X_0)\n",
    "pprint(y)"
   ]
  },
  {
   "cell_type": "code",
   "execution_count": 9,
   "id": "61e32b27",
   "metadata": {},
   "outputs": [],
   "source": [
    "X_2 = X.reshape(157, 64, 64)"
   ]
  },
  {
   "cell_type": "code",
   "execution_count": 10,
   "id": "3908f77c",
   "metadata": {},
   "outputs": [
    {
     "data": {
      "text/plain": [
       "array([[126, 130, 125, ...,  78,  71,  80],\n",
       "       [112, 145, 130, ...,  80,  56,  80],\n",
       "       [109, 150, 135, ...,  89,  66,  77],\n",
       "       ...,\n",
       "       [ 50,  56,  61, ...,  60,  64,  42],\n",
       "       [ 48,  55,  61, ...,  48,  56,  58],\n",
       "       [ 45,  52,  59, ...,  42,  44,  79]])"
      ]
     },
     "execution_count": 10,
     "metadata": {},
     "output_type": "execute_result"
    }
   ],
   "source": [
    "X_2[-1]"
   ]
  },
  {
   "cell_type": "code",
   "execution_count": 11,
   "id": "5febee49",
   "metadata": {},
   "outputs": [
    {
     "name": "stdout",
     "output_type": "stream",
     "text": [
      "벌 이미지\n"
     ]
    },
    {
     "data": {
      "image/png": "[encoded data removed]",
      "text/plain": [
       "<Figure size 432x288 with 1 Axes>"
      ]
     },
     "metadata": {
      "needs_background": "light"
     },
     "output_type": "display_data"
    },
    {
     "data": {
      "image/png": "[encoded data removed]",
      "text/plain": [
       "<Figure size 432x288 with 1 Axes>"
      ]
     },
     "metadata": {
      "needs_background": "light"
     },
     "output_type": "display_data"
    }
   ],
   "source": [
    "from matplotlib import cm\n",
    "# 이미지 레이블 출력\n",
    "\n",
    "if y[-1] == 0:print('개미 이미지')\n",
    "elif y[-1] == 1:print('벌 이미지')\n",
    "else: print('이미지 확인 불가')\n",
    "    \n",
    "# 첫번째 이미지 출력\n",
    "plt.imshow(X_0, cmap = 'gray')\n",
    "plt.show()\n",
    "\n",
    "plt.imshow(X_2[-1], cmap = 'gray')\n",
    "plt.show()"
   ]
  },
  {
   "cell_type": "code",
   "execution_count": null,
   "id": "a57a562f",
   "metadata": {},
   "outputs": [],
   "source": []
  }
 ],
 "metadata": {
  "kernelspec": {
   "display_name": "Python 3 (ipykernel)",
   "language": "python",
   "name": "python3"
  },
  "language_info": {
   "codemirror_mode": {
    "name": "ipython",
    "version": 3
   },
   "file_extension": ".py",
   "mimetype": "text/x-python",
   "name": "python",
   "nbconvert_exporter": "python",
   "pygments_lexer": "ipython3",
   "version": "3.9.7"
  }
 },
 "nbformat": 4,
 "nbformat_minor": 5
}
