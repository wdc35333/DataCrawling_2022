{
 "cells": [
  {
   "cell_type": "markdown",
   "metadata": {
    "id": "yYmdy--ULwMf"
   },
   "source": [
    "##### OS 모듈\n",
    "- 정의한 폴더에 있는 파일 및 하위 폴더 정보 가져오기"
   ]
  },
  {
   "cell_type": "code",
   "execution_count": 2,
   "metadata": {
    "colab": {
     "base_uri": "https://localhost:8080/"
    },
    "executionInfo": {
     "elapsed": 386,
     "status": "ok",
     "timestamp": 1646706166267,
     "user": {
      "displayName": "dc w",
      "photoUrl": "https://lh3.googleusercontent.com/a/default-user=s64",
      "userId": "02032790542712423852"
     },
     "user_tz": -540
    },
    "id": "SbeGFexwL9z2",
    "outputId": "c9420daf-7f6f-4d8d-a19e-d14838a37648"
   },
   "outputs": [
    {
     "name": "stdout",
     "output_type": "stream",
     "text": [
      "['dog5_300.jpg', 'dog10.jpg', 'dog5.jpg', 'dog4.jpg', 'dog10_300.jpg', 'dog6.jpg', 'dog7.jpg', 'dog3.jpg', 'dog2.jpg', 'dog4_300.jpg', 'dog1.jpg', 'cat1.jpg', 'cat2.jpg', 'dog6_300.jpg', 'cat3.jpg', 'dog7_300.jpg', 'cat6.jpg', 'cat4.jpg', 'cat5.jpg', 'dog2_300.jpg', 'dog3_300.jpg', 'dog1_300.jpg', 'dog8_300.jpg', 'dog9_300.jpg', 'dog9.jpg', 'dog8.jpg']\n"
     ]
    }
   ],
   "source": [
    "# os 모듈 연결\n",
    "import os\n",
    "\n",
    "# print(os.listdir(\"./images\"))\n",
    "fnames=os.listdir(\"./images/\")\n",
    "print(fnames)"
   ]
  },
  {
   "cell_type": "code",
   "execution_count": 5,
   "metadata": {
    "colab": {
     "base_uri": "https://localhost:8080/"
    },
    "executionInfo": {
     "elapsed": 819,
     "status": "ok",
     "timestamp": 1646707214589,
     "user": {
      "displayName": "dc w",
      "photoUrl": "https://lh3.googleusercontent.com/a/default-user=s64",
      "userId": "02032790542712423852"
     },
     "user_tz": -540
    },
    "id": "swj8CrlwRbhU",
    "outputId": "8dc05109-de8b-44e6-e3ec-6de30343d738"
   },
   "outputs": [
    {
     "name": "stdout",
     "output_type": "stream",
     "text": [
      "[['dog5_300.jpg', 300, 300], ['dog10.jpg', 599, 400], ['dog5.jpg', 564, 400], ['dog4.jpg', 356, 400], ['dog10_300.jpg', 300, 300], ['dog6.jpg', 533, 400], ['dog7.jpg', 537, 400], ['dog3.jpg', 433, 400], ['dog2.jpg', 584, 400], ['dog4_300.jpg', 300, 300], ['dog1.jpg', 377, 400], ['cat1.jpg', 683, 512], ['cat2.jpg', 650, 433], ['dog6_300.jpg', 300, 300], ['cat3.jpg', 819, 512], ['dog7_300.jpg', 300, 300], ['cat6.jpg', 600, 375], ['cat4.jpg', 500, 321], ['cat5.jpg', 683, 512], ['dog2_300.jpg', 300, 300], ['dog3_300.jpg', 300, 300], ['dog1_300.jpg', 300, 300], ['dog8_300.jpg', 300, 300], ['dog9_300.jpg', 300, 300], ['dog9.jpg', 510, 400], ['dog8.jpg', 533, 400]]\n",
      "=== END ===\n"
     ]
    }
   ],
   "source": [
    "# 데이터 읽어와 정보 저장하기\n",
    "from PIL import Image\n",
    "\n",
    "imgInfo=[] # 파일 정보 저장 리스트 변수 생성\n",
    "\n",
    "for fname in fnames:\n",
    "    tmp = Image.open(\"./images/\"+fname)\n",
    "    tmpsize=tmp.size    # 이미지 사이즈 튜플 형식으로 저장\n",
    "    # 파일 정보 변수에 저장\n",
    "    imgInfo.append([fname, tmpsize[0], tmpsize[1]])\n",
    "\n",
    "    # 강아지/고양이 폴더에 저장/ 강아지_300*300, 고양이_250*250\n",
    "    if fname[:3] == \"dog\":\n",
    "        tmpResize=tmp.resize((300,300))\n",
    "    else:\n",
    "        tmpResize=tmp.resize((250,250))\n",
    "\n",
    "    # 변경 이미지 저장\n",
    "    tmpResize.save(\"./\"+fname[:3]+\"/\"+fname)\n",
    "\n",
    "print(imgInfo)\n",
    "print(\"=== END ===\")"
   ]
  },
  {
   "cell_type": "markdown",
   "metadata": {
    "id": "rhe_IlrVskgO"
   },
   "source": [
    "###[미션]\n",
    "- 리스트형 데이터에서 고유값 찾기\n",
    "- 데이터: indata=[\"사과\", \"배\", \"사과\", \"바나나\", \"귤\", \"바나나\", \"사과\", \"배\", \"바나나\",\"메론\"]\n",
    "- 주어진 데이터에서 고유값을 찾아 리스트형으로 출력하세요"
   ]
  },
  {
   "cell_type": "code",
   "execution_count": 6,
   "metadata": {
    "colab": {
     "base_uri": "https://localhost:8080/"
    },
    "executionInfo": {
     "elapsed": 317,
     "status": "ok",
     "timestamp": 1646714179187,
     "user": {
      "displayName": "dc w",
      "photoUrl": "https://lh3.googleusercontent.com/a/default-user=s64",
      "userId": "02032790542712423852"
     },
     "user_tz": -540
    },
    "id": "LcmEvE9nsmMI",
    "outputId": "bbc61691-a19e-40e7-fce1-d0fbd0ba7d24"
   },
   "outputs": [
    {
     "name": "stdout",
     "output_type": "stream",
     "text": [
      "['사과', '배', '바나나', '귤', '메론']\n"
     ]
    }
   ],
   "source": [
    "indata=[\"사과\", \"배\", \"사과\", \"바나나\", \"귤\", \"바나나\", \"사과\", \"배\", \"바나나\", \"메론\"]\n",
    "\n",
    "prnlst=[]\n",
    "\n",
    "for fn in indata:\n",
    "  if len(prnlst)==0:\n",
    "    prnlst.append(fn)\n",
    "  else:\n",
    "    cnt=0\n",
    "    for i in range(len(prnlst)):\n",
    "      if fn == prnlst[i]:\n",
    "        cnt = cnt + 1   # cnt += 1\n",
    "    if cnt ==0:\n",
    "      prnlst.append(fn)\n",
    "print(prnlst)"
   ]
  },
  {
   "cell_type": "markdown",
   "metadata": {
    "id": "BEEiwcc-1Ywt"
   },
   "source": [
    "연산자 in, not in\n",
    "  - a in 데이터 : a가 데이터에 포함되어 있으면 True, 없으면 False\n",
    "  - a not in 데이터: r가 데이터에 없으면 True, False"
   ]
  },
  {
   "cell_type": "code",
   "execution_count": 7,
   "metadata": {
    "colab": {
     "base_uri": "https://localhost:8080/"
    },
    "executionInfo": {
     "elapsed": 286,
     "status": "ok",
     "timestamp": 1646714602129,
     "user": {
      "displayName": "dc w",
      "photoUrl": "https://lh3.googleusercontent.com/a/default-user=s64",
      "userId": "02032790542712423852"
     },
     "user_tz": -540
    },
    "id": "piyK0XKj0tJQ",
    "outputId": "96d53a36-c276-4911-c42d-d58be15d900a"
   },
   "outputs": [
    {
     "name": "stdout",
     "output_type": "stream",
     "text": [
      "['사과', '배', '바나나', '귤', '메론']\n"
     ]
    }
   ],
   "source": [
    "indata=[\"사과\", \"배\", \"사과\", \"바나나\", \"귤\", \"바나나\", \"사과\", \"배\", \"바나나\", \"메론\"]\n",
    "\n",
    "prnlst=[]\n",
    "\n",
    "for fn in indata:\n",
    "  if len(prnlst)==0:\n",
    "    prnlst.append(fn)\n",
    "  else:\n",
    "    if fn not in prnlst:\n",
    "      prnlst.append(fn)\n",
    "\n",
    "print(prnlst)"
   ]
  },
  {
   "cell_type": "markdown",
   "metadata": {
    "id": "K7pgeRZI7Un5"
   },
   "source": [
    "### Text 파일에서 사용자가 입력한 단어의 갯수 구하기\n",
    "- count() 함수 사용 금지\n",
    "- for와 if를 이용해 count()함수와 동일한 결과 출력"
   ]
  },
  {
   "cell_type": "markdown",
   "metadata": {
    "id": "qaeET4It8CuS"
   },
   "source": [
    "## \"길\"이라는 단어 갯수 구하기"
   ]
  },
  {
   "cell_type": "code",
   "execution_count": 8,
   "metadata": {
    "colab": {
     "base_uri": "https://localhost:8080/"
    },
    "executionInfo": {
     "elapsed": 294,
     "status": "ok",
     "timestamp": 1646716612417,
     "user": {
      "displayName": "dc w",
      "photoUrl": "https://lh3.googleusercontent.com/a/default-user=s64",
      "userId": "02032790542712423852"
     },
     "user_tz": -540
    },
    "id": "DthR19Fd7dtk",
    "outputId": "8b84b653-5dd5-485e-9741-93b25c36a020"
   },
   "outputs": [
    {
     "name": "stdout",
     "output_type": "stream",
     "text": [
      "3\n"
     ]
    }
   ],
   "source": [
    "text1=\"여러분이 그 여정의 주인공입니다. 여러분이 가는 길이 대학의 역사가 되고 여러분이 개척하는 길이 대한민국의 길이 될 것입니다.\"\n",
    "\n",
    "cnt = 0\n",
    "# newData=input(\"텍스트를 입력하세요.: \")\n",
    "for i in range(len(text1)):\n",
    "  if text1[i] == \"길\":\n",
    "    cnt +=1\n",
    "print(cnt)\n",
    "\n",
    "\n"
   ]
  },
  {
   "cell_type": "code",
   "execution_count": 12,
   "metadata": {
    "colab": {
     "base_uri": "https://localhost:8080/"
    },
    "executionInfo": {
     "elapsed": 3839,
     "status": "ok",
     "timestamp": 1646717229694,
     "user": {
      "displayName": "dc w",
      "photoUrl": "https://lh3.googleusercontent.com/a/default-user=s64",
      "userId": "02032790542712423852"
     },
     "user_tz": -540
    },
    "id": "rHm8k5WF9cCK",
    "outputId": "bda0f7bd-bc66-4a4e-c6db-f037f8d89021"
   },
   "outputs": [
    {
     "name": "stdout",
     "output_type": "stream",
     "text": [
      "텍스트를 입력하세요.: 여러분\n",
      "3\n"
     ]
    }
   ],
   "source": [
    "newData=input(\"텍스트를 입력하세요.: \")\n",
    "cnt = 0\n",
    "\n",
    "for i in range(len(text1)):\n",
    "  if newData in text1[i :  i + len(newData)]:\n",
    "    cnt +=1\n",
    "print(cnt)"
   ]
  },
  {
   "cell_type": "code",
   "execution_count": 13,
   "metadata": {
    "colab": {
     "base_uri": "https://localhost:8080/"
    },
    "executionInfo": {
     "elapsed": 317,
     "status": "ok",
     "timestamp": 1646719003005,
     "user": {
      "displayName": "dc w",
      "photoUrl": "https://lh3.googleusercontent.com/a/default-user=s64",
      "userId": "02032790542712423852"
     },
     "user_tz": -540
    },
    "id": "NPXyiFAcB_nJ",
    "outputId": "760a26da-5606-4997-cd11-eea2a962152a"
   },
   "outputs": [
    {
     "name": "stdout",
     "output_type": "stream",
     "text": [
      "['여러분이', '그', '여정의', '주인공입니다.', '여러분이', '가는', '길이', '대학의', '역사가', '되고', '여러분이', '개척하는', '길이', '대한민국의', '길이', '될', '것입니다.']\n"
     ]
    }
   ],
   "source": [
    "splitData = []\n",
    "cnt = 0\n",
    "for i in range(len(text1)):\n",
    "  \n",
    "  if text1[i] == \" \":\n",
    "    splitData.append(text1[i-cnt:i])\n",
    "    cnt = 0\n",
    "  elif i == len(text1)-1:\n",
    "    splitData.append(text1[i-cnt:i+1])\n",
    "  else:\n",
    "    cnt+=1\n",
    "\n",
    "print(splitData)\n"
   ]
  },
  {
   "cell_type": "markdown",
   "metadata": {
    "id": "5ersEVgxEEeP"
   },
   "source": [
    "### 제어문(if문)\n",
    "- 참조: "
   ]
  },
  {
   "cell_type": "markdown",
   "metadata": {
    "id": "8Lmy4tGCELIJ"
   },
   "source": [
    "#### if 구조\n",
    "- 형식1\n",
    "\n",
    "  if 조건문:\n",
    "      수행할 문장1\n",
    "      수행할 문장2\n",
    "      수행할 문장3\n",
    "- 형식2\n",
    "\n",
    "  if 조건식1:\n",
    "      실행문1\n",
    "  elif 조건식2:\n",
    "      실행문2\n",
    "  else:\n",
    "      실행문3"
   ]
  },
  {
   "cell_type": "code",
   "execution_count": 14,
   "metadata": {
    "colab": {
     "base_uri": "https://localhost:8080/"
    },
    "executionInfo": {
     "elapsed": 18589,
     "status": "ok",
     "timestamp": 1646704415518,
     "user": {
      "displayName": "dc w",
      "photoUrl": "https://lh3.googleusercontent.com/a/default-user=s64",
      "userId": "02032790542712423852"
     },
     "user_tz": -540
    },
    "id": "IaQVyhqjEkD1",
    "outputId": "3fff9862-cd68-444d-d475-af1373dc4f83"
   },
   "outputs": [
    {
     "name": "stdout",
     "output_type": "stream",
     "text": [
      "숫자를 입력하세요.: 10\n",
      "입력값 10는 0보다 큰 값입니다.\n",
      "=== END ===\n"
     ]
    }
   ],
   "source": [
    "# 형식1\n",
    "# 사용자가 입력한 데이터가 0 보다 크면 큰 값으로 출력\n",
    "# input()함수: 사용자로부터 데이터를 입력받을때 사용하는 함수/입력값은 모두 문자형 자료\n",
    "\n",
    "inData=input(\"숫자를 입력하세요.: \")\n",
    "# print(type(inData))   # 입력받은 inData의 데이터 형식 확인\n",
    "\n",
    "if int(inData) > 0:\n",
    "  print(f\"입력값 {inData}는 0보다 큰 값입니다.\")\n",
    "\n",
    "print(\"=== END ===\")\n"
   ]
  },
  {
   "cell_type": "code",
   "execution_count": 15,
   "metadata": {
    "colab": {
     "base_uri": "https://localhost:8080/"
    },
    "executionInfo": {
     "elapsed": 2346,
     "status": "ok",
     "timestamp": 1646704417859,
     "user": {
      "displayName": "dc w",
      "photoUrl": "https://lh3.googleusercontent.com/a/default-user=s64",
      "userId": "02032790542712423852"
     },
     "user_tz": -540
    },
    "id": "yMkIqEhNG32g",
    "outputId": "2c916dac-bad8-4669-ed69-4c79c4ac8e3d"
   },
   "outputs": [
    {
     "name": "stdout",
     "output_type": "stream",
     "text": [
      "숫자를 입력하세요.: 15\n",
      "입력값 15는 0보다 큰 값입니다.\n",
      "=== END ===\n"
     ]
    }
   ],
   "source": [
    "# 형식3\n",
    "# 사용자가 입력한 데이터가 0 보다 크면 큰 값으로 출력\n",
    "# 0보다 작다면 작은 값으로 출력\n",
    "\n",
    "inData=int(input(\"숫자를 입력하세요.: \"))\n",
    "# print(type(inData))   # 입력받은 inData의 데이터 형식 확인\n",
    "\n",
    "if inData > 0:\n",
    "  print(f\"입력값 {inData}는 0보다 큰 값입니다.\")\n",
    "elif inData < 0:\n",
    "  print(f\"입력값 {inData}는 0보다 작은 값입니다.\")\n",
    "print(\"=== END ===\")\n"
   ]
  },
  {
   "cell_type": "code",
   "execution_count": 16,
   "metadata": {
    "colab": {
     "base_uri": "https://localhost:8080/"
    },
    "executionInfo": {
     "elapsed": 2775,
     "status": "ok",
     "timestamp": 1646704420628,
     "user": {
      "displayName": "dc w",
      "photoUrl": "https://lh3.googleusercontent.com/a/default-user=s64",
      "userId": "02032790542712423852"
     },
     "user_tz": -540
    },
    "id": "QIPQZKRAJPWW",
    "outputId": "e05f7b28-e353-4dd4-fa1e-61e93ed3e201"
   },
   "outputs": [
    {
     "name": "stdout",
     "output_type": "stream",
     "text": [
      "숫자를 입력하세요.: 0\n",
      "입력값 0는 0과 동일한 값입니다.\n",
      "=== END ===\n"
     ]
    }
   ],
   "source": [
    "# 형식2\n",
    "# 사용자가 입력한 데이터가 0 보다 크면 큰 값으로 출력\n",
    "# 0보다 작다면 작은 값으로 출력\n",
    "# 0과 같다면 0과 동일한 값으로 출력\n",
    "\n",
    "inData=int(input(\"숫자를 입력하세요.: \"))\n",
    "# print(type(inData))   # 입력받은 inData의 데이터 형식 확인-1\n",
    "\n",
    "\n",
    "if inData > 0:\n",
    "  print(f\"입력값 {inData}는 0보다 큰 값입니다.\")\n",
    "elif inData < 0:\n",
    "  print(f\"입력값 {inData}는 0보다 작은 값입니다.\")\n",
    "else:\n",
    "  print(f\"입력값 {inData}는 0과 동일한 값입니다.\")\n",
    "  \n",
    "print(\"=== END ===\")\n"
   ]
  },
  {
   "cell_type": "code",
   "execution_count": null,
   "metadata": {},
   "outputs": [],
   "source": []
  }
 ],
 "metadata": {
  "colab": {
   "authorship_tag": "ABX9TyMNyuOeCmUJY4kCiuUf+szB",
   "collapsed_sections": [],
   "mount_file_id": "1VScG3nkYlzO1VFtvu-umdfM6e1qkg-Mx",
   "name": "1. 문법-if문.ipynb",
   "provenance": []
  },
  "kernelspec": {
   "display_name": "Python 3 (ipykernel)",
   "language": "python",
   "name": "python3"
  },
  "language_info": {
   "codemirror_mode": {
    "name": "ipython",
    "version": 3
   },
   "file_extension": ".py",
   "mimetype": "text/x-python",
   "name": "python",
   "nbconvert_exporter": "python",
   "pygments_lexer": "ipython3",
   "version": "3.9.7"
  }
 },
 "nbformat": 4,
 "nbformat_minor": 1
}
