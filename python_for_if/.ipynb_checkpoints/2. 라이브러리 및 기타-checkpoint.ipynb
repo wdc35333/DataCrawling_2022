{
 "cells": [
  {
   "cell_type": "markdown",
   "metadata": {
    "id": "Cc5-3h_eNEAt"
   },
   "source": [
    "time 모듈\n",
    "- 참조 https://wikidocs.net/33#time\n",
    "- timp.time(): 현재 시간을 실수 형태로 출력\n",
    "- time.localtime(): 년, 월, 일, 시, 분, 초 로 출력\n"
   ]
  },
  {
   "cell_type": "code",
   "execution_count": 5,
   "metadata": {
    "colab": {
     "base_uri": "https://localhost:8080/"
    },
    "executionInfo": {
     "elapsed": 100510,
     "status": "ok",
     "timestamp": 1646721640537,
     "user": {
      "displayName": "dc w",
      "photoUrl": "https://lh3.googleusercontent.com/a/default-user=s64",
      "userId": "02032790542712423852"
     },
     "user_tz": -540
    },
    "id": "Ht7CWmVZN1HO",
    "outputId": "6bc10f8d-b114-45eb-eb97-e9d691e43c1d"
   },
   "outputs": [
    {
     "name": "stdout",
     "output_type": "stream",
     "text": [
      "1651484888.3881888\n",
      "time.struct_time(tm_year=2022, tm_mon=5, tm_mday=2, tm_hour=18, tm_min=48, tm_sec=8, tm_wday=0, tm_yday=122, tm_isdst=0)\n",
      "05/02/22\n",
      "1013\n",
      "10.012244939804077\n"
     ]
    }
   ],
   "source": [
    "import time\n",
    "\n",
    "stime=time.time()   # 코드 실행 시작시간 입력\n",
    "\n",
    "print(time.time())\n",
    "print(time.localtime())\n",
    "print(time.strftime(\"%x\",time.localtime(time.time())))\n",
    "\n",
    "tot = 0\n",
    "for i in range(10):    \n",
    "    time.sleep(1)         # 1초 대기\n",
    "    tot += tot + i\n",
    "\n",
    "print(tot)\n",
    "\n",
    "print(time.time() - stime)    # 코드 종료 시간 - 시작시간 / 코드 실행 시간"
   ]
  },
  {
   "cell_type": "markdown",
   "metadata": {
    "id": "SVVOqrR3RhvH"
   },
   "source": [
    "os 모듈\n",
    "- os.listdir(\"디렉토리 경로\"): 디렉토리 경로의 파일 및 하위 폴더명 가져오기\n",
    "- os.mkdir(\"경로/폴더명\") : 경로 및에 하위 폴더를 생성\n",
    "- os.getcwd(): 현재 위치한 디렉토리 경로 반환"
   ]
  },
  {
   "cell_type": "code",
   "execution_count": 6,
   "metadata": {
    "colab": {
     "base_uri": "https://localhost:8080/"
    },
    "executionInfo": {
     "elapsed": 366,
     "status": "ok",
     "timestamp": 1646722487956,
     "user": {
      "displayName": "dc w",
      "photoUrl": "https://lh3.googleusercontent.com/a/default-user=s64",
      "userId": "02032790542712423852"
     },
     "user_tz": -540
    },
    "id": "uLG6KJXtSRBf",
    "outputId": "d052ea82-c316-4192-f0e2-6984568b33aa"
   },
   "outputs": [
    {
     "name": "stdout",
     "output_type": "stream",
     "text": [
      "/Users/wondongchan/Desktop/multi/DataCrawling/python_for_if\n"
     ]
    }
   ],
   "source": [
    "import os\n",
    "\n",
    "dir_path=os.getcwd()\n",
    "print(dir_path)"
   ]
  },
  {
   "cell_type": "code",
   "execution_count": 7,
   "metadata": {
    "colab": {
     "base_uri": "https://localhost:8080/"
    },
    "executionInfo": {
     "elapsed": 393,
     "status": "ok",
     "timestamp": 1646722493601,
     "user": {
      "displayName": "dc w",
      "photoUrl": "https://lh3.googleusercontent.com/a/default-user=s64",
      "userId": "02032790542712423852"
     },
     "user_tz": -540
    },
    "id": "DT-A9j4ITZDC",
    "outputId": "af8a25ba-3a77-4cba-93ca-4ba1e452aaaa"
   },
   "outputs": [
    {
     "name": "stdout",
     "output_type": "stream",
     "text": [
      "['cat', '4. 한글자음모음분리 해결방법.ipynb', '.DS_Store', 'dog', '3. for_if 미션.ipynb', 'images', '.ipynb_checkpoints', '1. 문법-if문.ipynb', '2. 라이브러리 및 기타.ipynb']\n"
     ]
    }
   ],
   "source": [
    "print(os.listdir())"
   ]
  },
  {
   "cell_type": "markdown",
   "metadata": {
    "id": "Z1m4JIKLVN3M"
   },
   "source": [
    "폴더 생성하기\n",
    "- 조건: 폴더 생성시 기존에 폴더가 존재하면 뒤에 숫자를 1씩 증가하면서 새로운 폴더로 생성"
   ]
  },
  {
   "cell_type": "code",
   "execution_count": 8,
   "metadata": {
    "colab": {
     "base_uri": "https://localhost:8080/"
    },
    "executionInfo": {
     "elapsed": 2,
     "status": "ok",
     "timestamp": 1646724028721,
     "user": {
      "displayName": "dc w",
      "photoUrl": "https://lh3.googleusercontent.com/a/default-user=s64",
      "userId": "02032790542712423852"
     },
     "user_tz": -540
    },
    "id": "KDSw0E53Zas9",
    "outputId": "717f8353-db7d-4f79-dacf-b338014041c2"
   },
   "outputs": [
    {
     "name": "stdout",
     "output_type": "stream",
     "text": [
      "['cat', '4. 한글자음모음분리 해결방법.ipynb', '.DS_Store', 'dog', '3. for_if 미션.ipynb', 'images', '.ipynb_checkpoints', '1. 문법-if문.ipynb', '2. 라이브러리 및 기타.ipynb', 'data_mk']\n"
     ]
    }
   ],
   "source": [
    "# 폴더 생성하기\n",
    "folder_name=\"data_mk\"\n",
    "fnames=os.listdir(os.getcwd()+\"\") # 폴더에 있는 파일 및 하위폴더 가져오기\n",
    "cnt=0\n",
    "\n",
    "while True:\n",
    "    if folder_name in fnames:   # 폴더명이 존재하는지 확인\n",
    "        cnt += 1  # 번호 증가\n",
    "        folder_name=folder_name[:7]+str(cnt)    # 기본 폴더명에 번호 연결\n",
    "    else:\n",
    "        os.mkdir(os.getcwd()+'/'+folder_name)  # 폴더명으로 새로운 폴더 생성\n",
    "        break   # 반복문 강제 종료\n",
    "\n",
    "print(os.listdir(os.getcwd()+\"/\"))"
   ]
  },
  {
   "cell_type": "markdown",
   "metadata": {
    "id": "1Cz4BdjyV0wM"
   },
   "source": [
    "while문\n",
    "- 무한 반복문: 조건식이 True이면 계속해서 실행\n"
   ]
  },
  {
   "cell_type": "markdown",
   "metadata": {
    "id": "qsPSNyNga0Q3"
   },
   "source": [
    "### [미션]\n",
    "1. images 폴더에서 파일 가져오기\n",
    "2. cat 파일은 cat 폴더 생성 후 복사\n",
    "3. dog 파일은 dog 폴더 생성 후 복사\n",
    "4. 폴더가 없을 경우 생성/ 있을 경우 해당 폴더에 저장\n",
    "5. 파일 저장시 동일한 이름이 있는 경우 뒤에 번호 붙이기"
   ]
  },
  {
   "cell_type": "code",
   "execution_count": 17,
   "metadata": {
    "colab": {
     "base_uri": "https://localhost:8080/",
     "height": 357
    },
    "executionInfo": {
     "elapsed": 97123,
     "status": "error",
     "timestamp": 1646726087012,
     "user": {
      "displayName": "dc w",
      "photoUrl": "https://lh3.googleusercontent.com/a/default-user=s64",
      "userId": "02032790542712423852"
     },
     "user_tz": -540
    },
    "id": "OcjSPl_8bk7j",
    "outputId": "3dadcfa6-74ce-4af6-fa51-247935f56e44"
   },
   "outputs": [
    {
     "ename": "KeyboardInterrupt",
     "evalue": "",
     "output_type": "error",
     "traceback": [
      "\u001b[0;31m---------------------------------------------------------------------------\u001b[0m",
      "\u001b[0;31mKeyboardInterrupt\u001b[0m                         Traceback (most recent call last)",
      "Input \u001b[0;32mIn [17]\u001b[0m, in \u001b[0;36m<cell line: 22>\u001b[0;34m()\u001b[0m\n\u001b[1;32m     21\u001b[0m \u001b[38;5;28;01mwhile\u001b[39;00m \u001b[38;5;28;01mTrue\u001b[39;00m:\n\u001b[1;32m     22\u001b[0m     \u001b[38;5;28;01mfor\u001b[39;00m filename \u001b[38;5;129;01min\u001b[39;00m filenames:\n\u001b[0;32m---> 23\u001b[0m         tmp \u001b[38;5;241m=\u001b[39m \u001b[43mImage\u001b[49m\u001b[38;5;241;43m.\u001b[39;49m\u001b[43mopen\u001b[49m\u001b[43m(\u001b[49m\u001b[38;5;124;43m\"\u001b[39;49m\u001b[38;5;124;43m./images/\u001b[39;49m\u001b[38;5;124;43m\"\u001b[39;49m\u001b[38;5;241;43m+\u001b[39;49m\u001b[43mfilename\u001b[49m\u001b[43m)\u001b[49m\n\u001b[1;32m     24\u001b[0m     \u001b[38;5;28;01mif\u001b[39;00m filename \u001b[38;5;129;01min\u001b[39;00m filenames:   \u001b[38;5;66;03m# 파일명이 존재하는지 확인\u001b[39;00m\n\u001b[1;32m     25\u001b[0m         cnt \u001b[38;5;241m+\u001b[39m\u001b[38;5;241m=\u001b[39m \u001b[38;5;241m1\u001b[39m  \u001b[38;5;66;03m# 번호 증가\u001b[39;00m\n",
      "File \u001b[0;32m~/opt/anaconda3/envs/kdig/lib/python3.9/site-packages/PIL/Image.py:2957\u001b[0m, in \u001b[0;36mopen\u001b[0;34m(fp, mode, formats)\u001b[0m\n\u001b[1;32m   2954\u001b[0m     exclusive_fp \u001b[38;5;241m=\u001b[39m \u001b[38;5;28;01mTrue\u001b[39;00m\n\u001b[1;32m   2956\u001b[0m \u001b[38;5;28;01mtry\u001b[39;00m:\n\u001b[0;32m-> 2957\u001b[0m     \u001b[43mfp\u001b[49m\u001b[38;5;241;43m.\u001b[39;49m\u001b[43mseek\u001b[49m\u001b[43m(\u001b[49m\u001b[38;5;241;43m0\u001b[39;49m\u001b[43m)\u001b[49m\n\u001b[1;32m   2958\u001b[0m \u001b[38;5;28;01mexcept\u001b[39;00m (\u001b[38;5;167;01mAttributeError\u001b[39;00m, io\u001b[38;5;241m.\u001b[39mUnsupportedOperation):\n\u001b[1;32m   2959\u001b[0m     fp \u001b[38;5;241m=\u001b[39m io\u001b[38;5;241m.\u001b[39mBytesIO(fp\u001b[38;5;241m.\u001b[39mread())\n",
      "\u001b[0;31mKeyboardInterrupt\u001b[0m: "
     ]
    }
   ],
   "source": [
    "from PIL import Image\n",
    "\n",
    "filenames=os.listdir(\"./images/\")\n",
    "folder_name_cat=\"cat\"\n",
    "folder_name_dog=\"dog\"\n",
    "fnames=os.listdir(os.getcwd()+\"/\") # 폴더에 있는 파일 및 하위폴더 가져오기\n",
    "cnt=0\n",
    "while True:\n",
    "    if folder_name_cat in fnames:   # 폴더명이 존재하는지 확인\n",
    "        break\n",
    "    else:\n",
    "        os.mkdir(os.getcwd()+\"/\"+folder_name_cat)  # 폴더명으로 새로운 폴더 생성\n",
    "        break   # 반복문 강제 종료\n",
    "while True:\n",
    "    if folder_name_dog in fnames:   # 폴더명이 존재하는지 확인\n",
    "        break\n",
    "    else:\n",
    "        os.mkdir(os.getcwd()+\"/\"+folder_name_dog)  # 폴더명으로 새로운 폴더 생성\n",
    "        break   # 반복문 강제 종료\n",
    "\n",
    "while True:\n",
    "    for filename in filenames:\n",
    "        tmp = Image.open(\"./images/\"+filename)\n",
    "    if filename in filenames:   # 파일명이 존재하는지 확인\n",
    "        cnt += 1  # 번호 증가\n",
    "        filename=filename[:3]+str(cnt)    # 기본 파일명에 번호 연결\n",
    "    else:\n",
    "        tmp.save(\"./\"+filename[:3]+\"/\"+filename)  # 파일명으로 새로운 파일 생성\n",
    "        break   # 반복문 강제 종료\n",
    "\n",
    "print(\"=== END ===\")\n",
    "\n",
    "print(os.listdir(os.getcwd()+\"/\"))"
   ]
  }
 ],
 "metadata": {
  "colab": {
   "authorship_tag": "ABX9TyPG+fGdlPP92GKEdYkcnb6Y",
   "collapsed_sections": [],
   "name": "2. 라이브러리 및 기타.ipynb",
   "provenance": []
  },
  "kernelspec": {
   "display_name": "Python 3 (ipykernel)",
   "language": "python",
   "name": "python3"
  },
  "language_info": {
   "codemirror_mode": {
    "name": "ipython",
    "version": 3
   },
   "file_extension": ".py",
   "mimetype": "text/x-python",
   "name": "python",
   "nbconvert_exporter": "python",
   "pygments_lexer": "ipython3",
   "version": "3.9.7"
  }
 },
 "nbformat": 4,
 "nbformat_minor": 1
}
