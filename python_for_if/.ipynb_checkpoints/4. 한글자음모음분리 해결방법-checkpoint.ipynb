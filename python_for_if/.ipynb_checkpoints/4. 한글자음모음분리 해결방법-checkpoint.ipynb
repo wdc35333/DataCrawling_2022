{
 "cells": [
  {
   "cell_type": "markdown",
   "metadata": {
    "id": "qcow5C_CPWMq"
   },
   "source": [
    "### 코랩(리눅스)에서 한글 파일명이 자음과 모음으로 분리되는 현상 해결방법\n",
    "from unicodedata import normalize\n",
    "\n",
    "![image.png](data:image/png;base64,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)"
   ]
  },
  {
   "cell_type": "code",
   "execution_count": 1,
   "metadata": {
    "executionInfo": {
     "elapsed": 393,
     "status": "ok",
     "timestamp": 1646871890583,
     "user": {
      "displayName": "dc w",
      "photoUrl": "https://lh3.googleusercontent.com/a/default-user=s64",
      "userId": "02032790542712423852"
     },
     "user_tz": -540
    },
    "id": "3dB8K2J2NVUT"
   },
   "outputs": [],
   "source": [
    "# os 모듈 연결\n",
    "from unicodedata import normalize\n",
    "import os\n",
    "\n",
    "fnames=os.listdir(\"./images/\")"
   ]
  },
  {
   "cell_type": "code",
   "execution_count": 2,
   "metadata": {
    "colab": {
     "base_uri": "https://localhost:8080/"
    },
    "executionInfo": {
     "elapsed": 221,
     "status": "ok",
     "timestamp": 1646872026577,
     "user": {
      "displayName": "dc w",
      "photoUrl": "https://lh3.googleusercontent.com/a/default-user=s64",
      "userId": "02032790542712423852"
     },
     "user_tz": -540
    },
    "id": "cgpj7vNsNsWc",
    "outputId": "82d650b2-2616-4152-9dfd-416f8c377397"
   },
   "outputs": [
    {
     "name": "stdout",
     "output_type": "stream",
     "text": [
      "dog\n",
      "dog\n"
     ]
    }
   ],
   "source": [
    "print(fnames[0][:3])\n",
    "print(normalize('NFC', fnames[0][:3]))"
   ]
  },
  {
   "cell_type": "code",
   "execution_count": 3,
   "metadata": {
    "colab": {
     "base_uri": "https://localhost:8080/"
    },
    "executionInfo": {
     "elapsed": 236,
     "status": "ok",
     "timestamp": 1646872242743,
     "user": {
      "displayName": "dc w",
      "photoUrl": "https://lh3.googleusercontent.com/a/default-user=s64",
      "userId": "02032790542712423852"
     },
     "user_tz": -540
    },
    "id": "Dhg3iIuoONqy",
    "outputId": "d45e4512-be32-475e-df67-719b5c19cf5d"
   },
   "outputs": [
    {
     "name": "stdout",
     "output_type": "stream",
     "text": [
      "['dog5_300.jpg', 'dog10.jpg', 'dog5.jpg', 'dog4.jpg', 'dog10_300.jpg', 'dog6.jpg', 'dog7.jpg', 'dog3.jpg', 'dog2.jpg', 'dog4_300.jpg', 'dog1.jpg', 'cat1.jpg', 'cat2.jpg', 'dog6_300.jpg', 'cat3.jpg', 'dog7_300.jpg', 'cat6.jpg', 'cat4.jpg', 'cat5.jpg', 'dog2_300.jpg', 'dog3_300.jpg', 'dog1_300.jpg', 'dog8_300.jpg', 'dog9_300.jpg', 'dog9.jpg', 'dog8.jpg']\n"
     ]
    }
   ],
   "source": [
    "from unicodedata import normalize\n",
    "import os\n",
    "\n",
    "fnames=os.listdir(\"./images/\")\n",
    "new_fnames=[]\n",
    "\n",
    "for fname in fnames:\n",
    "    new_fnames.append(normalize('NFC', fname))\n",
    "\n",
    "print(new_fnames)"
   ]
  },
  {
   "cell_type": "code",
   "execution_count": 4,
   "metadata": {
    "colab": {
     "base_uri": "https://localhost:8080/"
    },
    "executionInfo": {
     "elapsed": 11,
     "status": "ok",
     "timestamp": 1646872245116,
     "user": {
      "displayName": "dc w",
      "photoUrl": "https://lh3.googleusercontent.com/a/default-user=s64",
      "userId": "02032790542712423852"
     },
     "user_tz": -540
    },
    "id": "GkG2uU0YPCfR",
    "outputId": "669d9daf-b558-4b65-a56a-68cf906a9f42"
   },
   "outputs": [
    {
     "name": "stdout",
     "output_type": "stream",
     "text": [
      "dog\n"
     ]
    }
   ],
   "source": [
    "print(new_fnames[0][:3])"
   ]
  },
  {
   "cell_type": "code",
   "execution_count": 6,
   "metadata": {
    "colab": {
     "base_uri": "https://localhost:8080/",
     "height": 623
    },
    "executionInfo": {
     "elapsed": 4889,
     "status": "ok",
     "timestamp": 1646872269209,
     "user": {
      "displayName": "dc w",
      "photoUrl": "https://lh3.googleusercontent.com/a/default-user=s64",
      "userId": "02032790542712423852"
     },
     "user_tz": -540
    },
    "id": "tEzEXLv1PC_U",
    "outputId": "b16e9e68-13e2-4d32-dc8b-f09d16f2b147"
   },
   "outputs": [
    {
     "name": "stdout",
     "output_type": "stream",
     "text": [
      "[['dog5_300.jpg', 300, 300], ['dog10.jpg', 599, 400], ['dog5.jpg', 564, 400], ['dog4.jpg', 356, 400], ['dog10_300.jpg', 300, 300], ['dog6.jpg', 533, 400], ['dog7.jpg', 537, 400], ['dog3.jpg', 433, 400], ['dog2.jpg', 584, 400], ['dog4_300.jpg', 300, 300], ['dog1.jpg', 377, 400], ['cat1.jpg', 683, 512], ['cat2.jpg', 650, 433], ['dog6_300.jpg', 300, 300], ['cat3.jpg', 819, 512], ['dog7_300.jpg', 300, 300], ['cat6.jpg', 600, 375], ['cat4.jpg', 500, 321], ['cat5.jpg', 683, 512], ['dog2_300.jpg', 300, 300], ['dog3_300.jpg', 300, 300], ['dog1_300.jpg', 300, 300], ['dog8_300.jpg', 300, 300], ['dog9_300.jpg', 300, 300], ['dog9.jpg', 510, 400], ['dog8.jpg', 533, 400]]\n",
      "\n",
      "=== END ===\n"
     ]
    },
    {
     "data": {
      "text/html": [
       "<div>\n",
       "<style scoped>\n",
       "    .dataframe tbody tr th:only-of-type {\n",
       "        vertical-align: middle;\n",
       "    }\n",
       "\n",
       "    .dataframe tbody tr th {\n",
       "        vertical-align: top;\n",
       "    }\n",
       "\n",
       "    .dataframe thead th {\n",
       "        text-align: right;\n",
       "    }\n",
       "</style>\n",
       "<table border=\"1\" class=\"dataframe\">\n",
       "  <thead>\n",
       "    <tr style=\"text-align: right;\">\n",
       "      <th></th>\n",
       "      <th>파일명</th>\n",
       "      <th>가로</th>\n",
       "      <th>세로</th>\n",
       "    </tr>\n",
       "  </thead>\n",
       "  <tbody>\n",
       "    <tr>\n",
       "      <th>0</th>\n",
       "      <td>dog5_300.jpg</td>\n",
       "      <td>300</td>\n",
       "      <td>300</td>\n",
       "    </tr>\n",
       "    <tr>\n",
       "      <th>1</th>\n",
       "      <td>dog10.jpg</td>\n",
       "      <td>599</td>\n",
       "      <td>400</td>\n",
       "    </tr>\n",
       "    <tr>\n",
       "      <th>2</th>\n",
       "      <td>dog5.jpg</td>\n",
       "      <td>564</td>\n",
       "      <td>400</td>\n",
       "    </tr>\n",
       "    <tr>\n",
       "      <th>3</th>\n",
       "      <td>dog4.jpg</td>\n",
       "      <td>356</td>\n",
       "      <td>400</td>\n",
       "    </tr>\n",
       "    <tr>\n",
       "      <th>4</th>\n",
       "      <td>dog10_300.jpg</td>\n",
       "      <td>300</td>\n",
       "      <td>300</td>\n",
       "    </tr>\n",
       "    <tr>\n",
       "      <th>5</th>\n",
       "      <td>dog6.jpg</td>\n",
       "      <td>533</td>\n",
       "      <td>400</td>\n",
       "    </tr>\n",
       "    <tr>\n",
       "      <th>6</th>\n",
       "      <td>dog7.jpg</td>\n",
       "      <td>537</td>\n",
       "      <td>400</td>\n",
       "    </tr>\n",
       "    <tr>\n",
       "      <th>7</th>\n",
       "      <td>dog3.jpg</td>\n",
       "      <td>433</td>\n",
       "      <td>400</td>\n",
       "    </tr>\n",
       "    <tr>\n",
       "      <th>8</th>\n",
       "      <td>dog2.jpg</td>\n",
       "      <td>584</td>\n",
       "      <td>400</td>\n",
       "    </tr>\n",
       "    <tr>\n",
       "      <th>9</th>\n",
       "      <td>dog4_300.jpg</td>\n",
       "      <td>300</td>\n",
       "      <td>300</td>\n",
       "    </tr>\n",
       "    <tr>\n",
       "      <th>10</th>\n",
       "      <td>dog1.jpg</td>\n",
       "      <td>377</td>\n",
       "      <td>400</td>\n",
       "    </tr>\n",
       "    <tr>\n",
       "      <th>11</th>\n",
       "      <td>cat1.jpg</td>\n",
       "      <td>683</td>\n",
       "      <td>512</td>\n",
       "    </tr>\n",
       "    <tr>\n",
       "      <th>12</th>\n",
       "      <td>cat2.jpg</td>\n",
       "      <td>650</td>\n",
       "      <td>433</td>\n",
       "    </tr>\n",
       "    <tr>\n",
       "      <th>13</th>\n",
       "      <td>dog6_300.jpg</td>\n",
       "      <td>300</td>\n",
       "      <td>300</td>\n",
       "    </tr>\n",
       "    <tr>\n",
       "      <th>14</th>\n",
       "      <td>cat3.jpg</td>\n",
       "      <td>819</td>\n",
       "      <td>512</td>\n",
       "    </tr>\n",
       "    <tr>\n",
       "      <th>15</th>\n",
       "      <td>dog7_300.jpg</td>\n",
       "      <td>300</td>\n",
       "      <td>300</td>\n",
       "    </tr>\n",
       "    <tr>\n",
       "      <th>16</th>\n",
       "      <td>cat6.jpg</td>\n",
       "      <td>600</td>\n",
       "      <td>375</td>\n",
       "    </tr>\n",
       "    <tr>\n",
       "      <th>17</th>\n",
       "      <td>cat4.jpg</td>\n",
       "      <td>500</td>\n",
       "      <td>321</td>\n",
       "    </tr>\n",
       "    <tr>\n",
       "      <th>18</th>\n",
       "      <td>cat5.jpg</td>\n",
       "      <td>683</td>\n",
       "      <td>512</td>\n",
       "    </tr>\n",
       "    <tr>\n",
       "      <th>19</th>\n",
       "      <td>dog2_300.jpg</td>\n",
       "      <td>300</td>\n",
       "      <td>300</td>\n",
       "    </tr>\n",
       "    <tr>\n",
       "      <th>20</th>\n",
       "      <td>dog3_300.jpg</td>\n",
       "      <td>300</td>\n",
       "      <td>300</td>\n",
       "    </tr>\n",
       "    <tr>\n",
       "      <th>21</th>\n",
       "      <td>dog1_300.jpg</td>\n",
       "      <td>300</td>\n",
       "      <td>300</td>\n",
       "    </tr>\n",
       "    <tr>\n",
       "      <th>22</th>\n",
       "      <td>dog8_300.jpg</td>\n",
       "      <td>300</td>\n",
       "      <td>300</td>\n",
       "    </tr>\n",
       "    <tr>\n",
       "      <th>23</th>\n",
       "      <td>dog9_300.jpg</td>\n",
       "      <td>300</td>\n",
       "      <td>300</td>\n",
       "    </tr>\n",
       "    <tr>\n",
       "      <th>24</th>\n",
       "      <td>dog9.jpg</td>\n",
       "      <td>510</td>\n",
       "      <td>400</td>\n",
       "    </tr>\n",
       "    <tr>\n",
       "      <th>25</th>\n",
       "      <td>dog8.jpg</td>\n",
       "      <td>533</td>\n",
       "      <td>400</td>\n",
       "    </tr>\n",
       "  </tbody>\n",
       "</table>\n",
       "</div>"
      ],
      "text/plain": [
       "              파일명   가로   세로\n",
       "0    dog5_300.jpg  300  300\n",
       "1       dog10.jpg  599  400\n",
       "2        dog5.jpg  564  400\n",
       "3        dog4.jpg  356  400\n",
       "4   dog10_300.jpg  300  300\n",
       "5        dog6.jpg  533  400\n",
       "6        dog7.jpg  537  400\n",
       "7        dog3.jpg  433  400\n",
       "8        dog2.jpg  584  400\n",
       "9    dog4_300.jpg  300  300\n",
       "10       dog1.jpg  377  400\n",
       "11       cat1.jpg  683  512\n",
       "12       cat2.jpg  650  433\n",
       "13   dog6_300.jpg  300  300\n",
       "14       cat3.jpg  819  512\n",
       "15   dog7_300.jpg  300  300\n",
       "16       cat6.jpg  600  375\n",
       "17       cat4.jpg  500  321\n",
       "18       cat5.jpg  683  512\n",
       "19   dog2_300.jpg  300  300\n",
       "20   dog3_300.jpg  300  300\n",
       "21   dog1_300.jpg  300  300\n",
       "22   dog8_300.jpg  300  300\n",
       "23   dog9_300.jpg  300  300\n",
       "24       dog9.jpg  510  400\n",
       "25       dog8.jpg  533  400"
      ]
     },
     "execution_count": 6,
     "metadata": {},
     "output_type": "execute_result"
    }
   ],
   "source": [
    "# 데이터 읽어와 정보 저장하기\n",
    "from PIL import Image\n",
    "import pandas as pd\n",
    "\n",
    "imgInfo=[]  # 파일 정보 저장 리스트 변수 생성\n",
    "\n",
    "for fname in new_fnames:\n",
    "    tmp=Image.open(\"./images/\"+fname)\n",
    "    tmpsize=tmp.size   # 이미지 사이즈 튜플 형식으로 저장\n",
    "    # 파일정보 변수에 저장\n",
    "    imgInfo.append([fname, tmpsize[0], tmpsize[1]])\n",
    "\n",
    "    # 강아지/고양이 사이즈 변경(강아지_300*300, 고양이_250*250)\n",
    "    if fname[:3] == \"강아지\":\n",
    "        tmpResize=tmp.resize((300,300))\n",
    "    else:\n",
    "        tmpResize=tmp.resize((250,250))\n",
    "\n",
    "    # 변경 이미지 저장\n",
    "    tmpResize.save(\"./\"+fname[:3]+\"/\"+fname) \n",
    "\n",
    "print(imgInfo)\n",
    "print()\n",
    "print(\"=== END ===\")\n",
    "\n",
    "df1=pd.DataFrame(imgInfo, columns=[\"파일명\", \"가로\", \"세로\"])\n",
    "df1\n"
   ]
  },
  {
   "cell_type": "code",
   "execution_count": null,
   "metadata": {
    "id": "82vkXn0YPFdI"
   },
   "outputs": [],
   "source": []
  },
  {
   "cell_type": "code",
   "execution_count": null,
   "metadata": {},
   "outputs": [],
   "source": []
  }
 ],
 "metadata": {
  "colab": {
   "authorship_tag": "ABX9TyPC9SXlu9+ORuxfApKysb7S",
   "collapsed_sections": [],
   "name": "4. 한글자음모음분리 해결방법.ipynb",
   "provenance": []
  },
  "kernelspec": {
   "display_name": "Python 3 (ipykernel)",
   "language": "python",
   "name": "python3"
  },
  "language_info": {
   "codemirror_mode": {
    "name": "ipython",
    "version": 3
   },
   "file_extension": ".py",
   "mimetype": "text/x-python",
   "name": "python",
   "nbconvert_exporter": "python",
   "pygments_lexer": "ipython3",
   "version": "3.9.7"
  }
 },
 "nbformat": 4,
 "nbformat_minor": 1
}
