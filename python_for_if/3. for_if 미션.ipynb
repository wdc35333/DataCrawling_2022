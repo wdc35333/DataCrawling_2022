{
 "cells": [
  {
   "cell_type": "code",
   "execution_count": 1,
   "metadata": {
    "colab": {
     "base_uri": "https://localhost:8080/"
    },
    "executionInfo": {
     "elapsed": 4,
     "status": "ok",
     "timestamp": 1646726699043,
     "user": {
      "displayName": "dc w",
      "photoUrl": "https://lh3.googleusercontent.com/a/default-user=s64",
      "userId": "02032790542712423852"
     },
     "user_tz": -540
    },
    "id": "W046EF5EjAwx",
    "outputId": "0020cd6d-b362-4533-f8d7-a98d0280b8f1"
   },
   "outputs": [
    {
     "name": "stdout",
     "output_type": "stream",
     "text": [
      "95.0\n"
     ]
    }
   ],
   "source": [
    "#########################################\n",
    "####### 미션 if함수와 for\n",
    "####### 점수중에 90이상의 자료만 합과 평균을 출력\n",
    "#########################################\n",
    "a=[70, 60, 55, 75, 95, 90, 80, 80, 85, 100]\n",
    "total=0\n",
    "cnt=0\n",
    "for i in range(len(a)):\n",
    "    if a[i] >= 90:\n",
    "        total += a[i]\n",
    "        cnt+=1\n",
    "print(total/cnt)\n",
    "\n"
   ]
  },
  {
   "cell_type": "code",
   "execution_count": 3,
   "metadata": {
    "colab": {
     "base_uri": "https://localhost:8080/"
    },
    "executionInfo": {
     "elapsed": 396,
     "status": "ok",
     "timestamp": 1646728435189,
     "user": {
      "displayName": "dc w",
      "photoUrl": "https://lh3.googleusercontent.com/a/default-user=s64",
      "userId": "02032790542712423852"
     },
     "user_tz": -540
    },
    "id": "FDQr5-HSjISV",
    "outputId": "fbba0e44-2718-4dad-9f43-ed26b212df7c"
   },
   "outputs": [
    {
     "name": "stdout",
     "output_type": "stream",
     "text": [
      "429\n",
      "790\n",
      "488\n"
     ]
    }
   ],
   "source": [
    "#########################################\n",
    "####### 미션: 이중for\n",
    "####### data[0], data[1], data[2]의 총합 출력\n",
    "#########################################\n",
    "data=[[80,40,14,15,45,47,45,45,78,20],\n",
    "[70, 60, 55, 75, 95, 90, 80, 80, 85, 100],\n",
    "[20,28,40,70,70,20,20,70,70,80]]\n",
    "\n",
    "\n",
    "for i in range(len(data)):\n",
    "    sum = 0\n",
    "    for j in data[i]:\n",
    "        sum+=j\n",
    "    print(sum)\n",
    "\n",
    "\n",
    "\n",
    "\n"
   ]
  },
  {
   "cell_type": "code",
   "execution_count": 5,
   "metadata": {
    "colab": {
     "base_uri": "https://localhost:8080/"
    },
    "executionInfo": {
     "elapsed": 402,
     "status": "ok",
     "timestamp": 1646729386780,
     "user": {
      "displayName": "dc w",
      "photoUrl": "https://lh3.googleusercontent.com/a/default-user=s64",
      "userId": "02032790542712423852"
     },
     "user_tz": -540
    },
    "id": "WJKU0bbkjJoo",
    "outputId": "871782ea-8559-42b8-8726-3f4b98ec35d3"
   },
   "outputs": [
    {
     "name": "stdout",
     "output_type": "stream",
     "text": [
      "data[0]의 최소값 = 14\n",
      "data[1]의 최소값 = 55\n",
      "data[2]의 최소값 = 20\n",
      "전체 최소값 = 14\n",
      "data[0]의 최대값 = 80\n",
      "data[1]의 최대값 = 100\n",
      "data[2]의 최대값 = 80\n",
      "전체 최대값 = 100\n"
     ]
    }
   ],
   "source": [
    "#########################################\n",
    "####### 미션: 이중for\n",
    "####### data[0], data[1], data[2]의 각각의 최대값/최소값 출력\n",
    "####### 전체 최대값/최소값 출력\n",
    "#########################################\n",
    "data=[[80,40,14,15,45,47,45,45,78,20],\n",
    "[70, 60, 55, 75, 95, 90, 80, 80, 85, 100],\n",
    "[20,28,40,70,70,20,20,70,70,80]]\n",
    "total_min = 100\n",
    "total_max = 0\n",
    "for i in range(len(data)):\n",
    "    min = 100\n",
    "  \n",
    "    for j in data[i]:\n",
    "        if j <= min:\n",
    "            min = j\n",
    "    print(f\"data[{i}]의 최소값 = {min}\")\n",
    "    if min <= total_min:\n",
    "        total_min = min\n",
    "print(f\"전체 최소값 = {total_min}\")\n",
    "for i in range(len(data)):\n",
    "    max = 0\n",
    "    for j in data[i]:\n",
    "        if j >= max:\n",
    "            max = j\n",
    "    print(f\"data[{i}]의 최대값 = {max}\")  \n",
    "    if max >= total_max:\n",
    "        total_max = max\n",
    "print(f\"전체 최대값 = {total_max}\")\n",
    "  \n"
   ]
  },
  {
   "cell_type": "code",
   "execution_count": 6,
   "metadata": {
    "colab": {
     "base_uri": "https://localhost:8080/"
    },
    "executionInfo": {
     "elapsed": 2,
     "status": "ok",
     "timestamp": 1646730246477,
     "user": {
      "displayName": "dc w",
      "photoUrl": "https://lh3.googleusercontent.com/a/default-user=s64",
      "userId": "02032790542712423852"
     },
     "user_tz": -540
    },
    "id": "57E0BMy9jK5I",
    "outputId": "7f633dec-24f8-45fe-e81d-0abccdc8983e"
   },
   "outputs": [
    {
     "name": "stdout",
     "output_type": "stream",
     "text": [
      "노트북\n",
      "모니터\n",
      "키보드\n",
      "['노트북', '모니터', '키보드']\n"
     ]
    }
   ],
   "source": [
    "#########################################\n",
    "####### 미션\n",
    "######  구글검색, 파이썬 문자 split\n",
    "#########################################\n",
    "\n",
    "# 아래의 문자열을 txt append에 '/' 단위로 구별하여서 추가\n",
    "# print해서 확인 txt[0]=> 노트북,  txt[1]=>모니터,  txt[2]=>키보드가 됨\n",
    "pumMok='노트북/모니터/키보드'\n",
    "txt = []\n",
    "word = \"\"\n",
    "for c in pumMok:\n",
    "    if c == \"/\":\n",
    "        txt.append(word)\n",
    "        word = \"\"\n",
    "    else:\n",
    "        word = word + c\n",
    "txt.append(word)\n",
    "print(txt[0])\n",
    "print(txt[1])\n",
    "print(txt[2])\n",
    "print(txt)"
   ]
  },
  {
   "cell_type": "code",
   "execution_count": 7,
   "metadata": {
    "id": "xdspJB9IjMku"
   },
   "outputs": [],
   "source": [
    "#########################################\n",
    "####### 미션\n",
    "######  for를 이용하여 문자열을 나누고 txt에 append\n",
    "#########################################\n",
    "\n",
    "# '/'를 기준으로 나눔\n",
    "# txt 의 최종결과는\n",
    "# 노트북,모니터,키보드,키보드,볼펜,사인펜,노트,usb,형광펜\n",
    "\n",
    "pumMok=['노트북/모니터/키보드',\n",
    "        '키보드/볼펜',\n",
    "        '사인펜/노트/usb/형광펜']"
   ]
  },
  {
   "cell_type": "code",
   "execution_count": 8,
   "metadata": {
    "id": "klDmC-sUjOL5"
   },
   "outputs": [],
   "source": [
    "#########################################\n",
    "####### 미션\n",
    "######  for를 이용하여 문자열을 나누고 txt에 append\n",
    "#########################################\n",
    "\n",
    "# 아래내용은 이중 for로 작업해야함.\n",
    "# 최종결과물은\n",
    "# txt=['노트북,모니터,키보드,키보드,볼펜,사인펜,노트',\n",
    "#      '키보드,전자칠판,스케치북,노트북']\n",
    "\n",
    "pumMok=[['노트북/모니터/키보드','키보드/볼펜','사인펜/노트'],\n",
    "        ['키보드/전자칠판','스케치북/노트북']]"
   ]
  }
 ],
 "metadata": {
  "colab": {
   "authorship_tag": "ABX9TyOhtIicScIjdQ6uGo5OlHoS",
   "collapsed_sections": [],
   "name": "3. for_if 미션.ipynb",
   "provenance": []
  },
  "kernelspec": {
   "display_name": "Python 3 (ipykernel)",
   "language": "python",
   "name": "python3"
  },
  "language_info": {
   "codemirror_mode": {
    "name": "ipython",
    "version": 3
   },
   "file_extension": ".py",
   "mimetype": "text/x-python",
   "name": "python",
   "nbconvert_exporter": "python",
   "pygments_lexer": "ipython3",
   "version": "3.9.7"
  }
 },
 "nbformat": 4,
 "nbformat_minor": 1
}
